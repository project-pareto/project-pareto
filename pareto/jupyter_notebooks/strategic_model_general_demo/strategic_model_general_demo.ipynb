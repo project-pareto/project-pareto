{
 "cells": [
  {
   "cell_type": "markdown",
   "id": "748f43ad",
   "metadata": {},
   "source": [
    "# PARETO - Strategic Model Demo\n",
    "The purpose of this Jupyter notebook is to provide a demonstration of PARETO's strategic model. This demo will show how to use PARETO's Python coding interface. If you prefer a graphical interface, you can download the PARETO GUI [here](https://www.project-pareto.org/software/)."
   ]
  },
  {
   "attachments": {},
   "cell_type": "markdown",
   "id": "d2a6851f",
   "metadata": {},
   "source": [
    "## Introduction\n",
    "This demo is based on PARETO's strategic toy case study. Relevant links:\n",
    "- [Strategic model documentation](https://pareto.readthedocs.io/en/latest/model_library/strategic_water_management/index.html)\n",
    "- [Documentation of PARETO case studies](https://pareto.readthedocs.io/en/latest/case_studies/index.html)\n",
    "\n",
    "The strategic toy case study features a very small produced water network. This network is smaller than most realistic produced water networks, but the small size of this example makes it useful for testing, debugging, demonstrations, etc. Below is a schematic image of the strategic toy network:\n",
    "\n",
    "![Strategic toy case study network](strategic_toy_network.png)\n",
    "\n",
    "Please note that the strategic toy case study data is arbitrary, but meant to be representative of a real produced water network. We will now proceed with demonstrating all of the steps that are needed to set up and solve an instance of PARETO's strategic model.\n",
    "\n",
    "The rest of this demonstration will proceed in six steps:\n",
    "1. [Import needed files and libraries](#import)\n",
    "2. [Set up the set list and parameter list](#set_list_and_parameter_list)\n",
    "3. [Load data into Python](#load_data)\n",
    "4. [Build the Pyomo model](#build)\n",
    "5. [Solve the model](#solve)\n",
    "6. [Analyze results](#analyze)"
   ]
  },
  {
   "attachments": {},
   "cell_type": "markdown",
   "id": "3e0f7b56",
   "metadata": {},
   "source": [
    "## <a id='import'></a>Step 1: Import needed files and libraries\n",
    "To begin, ensure that you are working in a development environment where PARETO is installed. For example, if you followed the PARETO [installation instructions](https://pareto.readthedocs.io/en/latest/getting_started/index.html) to create a conda environment called `pareto-env`, then make sure that environment is active by running `conda activate pareto-env`.\n",
    "\n",
    "The first thing we do in Python is import all necessary modules and functions:"
   ]
  },
  {
   "cell_type": "code",
   "execution_count": 1,
   "id": "1a3eced9",
   "metadata": {},
   "outputs": [],
   "source": [
    "#####################################################################################################\n",
    "# PARETO was produced under the DOE Produced Water Application for Beneficial Reuse Environmental\n",
    "# Impact and Treatment Optimization (PARETO), and is copyright (c) 2021-2023 by the software owners:\n",
    "# The Regents of the University of California, through Lawrence Berkeley National Laboratory, et al.\n",
    "# All rights reserved.\n",
    "#\n",
    "# NOTICE. This Software was developed under funding from the U.S. Department of Energy and the U.S.\n",
    "# Government consequently retains certain rights. As such, the U.S. Government has been granted for\n",
    "# itself and others acting on its behalf a paid-up, nonexclusive, irrevocable, worldwide license in\n",
    "# the Software to reproduce, distribute copies to the public, prepare derivative works, and perform\n",
    "# publicly and display publicly, and to permit others to do so.\n",
    "#####################################################################################################\n",
    "\n",
    "from pareto.strategic_water_management.strategic_produced_water_optimization import (\n",
    "    WaterQuality,\n",
    "    create_model,\n",
    "    Objectives,\n",
    "    solve_model,\n",
    "    PipelineCost,\n",
    "    PipelineCapacity,\n",
    ")\n",
    "from pareto.utilities.get_data import get_data\n",
    "from pareto.utilities.results import (\n",
    "    plot_bars,\n",
    "    plot_sankey,\n",
    "    generate_report,\n",
    "    PrintValues,\n",
    "    OutputUnits,\n",
    "    is_feasible,\n",
    "    nostdout,\n",
    ")\n",
    "from importlib import resources"
   ]
  },
  {
   "attachments": {},
   "cell_type": "markdown",
   "id": "7a465614",
   "metadata": {},
   "source": [
    "## <a id='set_list_and_parameter_list'></a>Step 2: Set up the set list and parameter list\n",
    "The data defining the produced water network is stored in an Excel workbook (often referred to as the \"input file\"). Some of the tabs in the input file define index sets for the model, whereas other tabs contain the parameter data that will used to build the model.\n",
    "\n",
    "A rather large amount of data must be provided by the user. We will not attempt to summarize all of the data input requirements here, but we refer the reader to the [strategic model documentation](https://pareto.readthedocs.io/en/latest/model_library/strategic_water_management/index.html) to learn more. You can also download several example input files from GitHub [here](https://github.com/project-pareto/project-pareto/tree/main/pareto/case_studies). Note that `strategic_toy_case_study.xlsx` is the input file which will be used in this demo."
   ]
  },
  {
   "cell_type": "code",
   "execution_count": 2,
   "id": "212241c1",
   "metadata": {},
   "outputs": [],
   "source": [
    "# Each entry in set_list corresponds to a tab in the Excel input file that\n",
    "# defines an index set.\n",
    "set_list = [\n",
    "    \"ProductionPads\", \"CompletionsPads\", \"SWDSites\", \"FreshwaterSources\", \"StorageSites\",\n",
    "    \"TreatmentSites\", \"ReuseOptions\", \"NetworkNodes\", \"PipelineDiameters\", \"StorageCapacities\",\n",
    "    \"InjectionCapacities\", \"TreatmentCapacities\", \"TreatmentTechnologies\",\n",
    "]\n",
    "# Each entry in parameter_list also corresponds to a tab in the Excel input\n",
    "# file, but these tabs have parameter data.\n",
    "parameter_list = [\n",
    "    \"Units\", \"PNA\", \"CNA\", \"CCA\", \"NNA\", \"NCA\", \"NKA\", \"NRA\", \"NSA\", \"FCA\", \"RCA\", \"RNA\",\n",
    "    \"RSA\", \"SCA\", \"SNA\", \"PCT\", \"PKT\", \"FCT\", \"CST\", \"CCT\", \"CKT\", \"CompletionsPadOutsideSystem\",\n",
    "    \"DesalinationTechnologies\", \"DesalinationSites\", \"TruckingTime\", \"CompletionsDemand\",\n",
    "    \"PadRates\", \"FlowbackRates\", \"NodeCapacities\", \"InitialPipelineCapacity\",\n",
    "    \"InitialDisposalCapacity\", \"InitialTreatmentCapacity\", \"FreshwaterSourcingAvailability\",\n",
    "    \"PadOffloadingCapacity\", \"CompletionsPadStorage\", \"DisposalOperationalCost\",\n",
    "    \"TreatmentOperationalCost\", \"ReuseOperationalCost\", \"PipelineOperationalCost\",\n",
    "    \"FreshSourcingCost\", \"TruckingHourlyCost\", \"PipelineDiameterValues\",\n",
    "    \"DisposalCapacityIncrements\", \"InitialStorageCapacity\", \"StorageCapacityIncrements\",\n",
    "    \"TreatmentCapacityIncrements\", \"TreatmentEfficiency\", \"RemovalEfficiency\",\n",
    "    \"DisposalExpansionCost\", \"StorageExpansionCost\", \"TreatmentExpansionCost\",\n",
    "    \"PipelineCapexDistanceBased\", \"PipelineCapexCapacityBased\", \"PipelineCapacityIncrements\",\n",
    "    \"PipelineExpansionDistance\", \"Hydraulics\", \"Economics\", \"PadWaterQuality\",\n",
    "    \"StorageInitialWaterQuality\", \"PadStorageInitialWaterQuality\", \"DisposalOperatingCapacity\",\n",
    "]"
   ]
  },
  {
   "attachments": {},
   "cell_type": "markdown",
   "id": "a8c0f427",
   "metadata": {},
   "source": [
    "## <a id='load_data'></a>Step 3: Load data into Python\n",
    "PARETO's `get_data` utility function ([documentation](https://pareto.readthedocs.io/en/latest/utilities/Get_Data.html#get-data-get-data)) called below reads the data from the input file into the `df_sets` and `df_parameters` variables. The variables `df_sets` and `df_parameters` which are returned are dictionaries where the keys are the strings from `set_list` and `parameter_list`, respectively, and the values are either dictionaries or Pandas dataframe objects containing the data read from the corresponding workbook tab."
   ]
  },
  {
   "cell_type": "code",
   "execution_count": 3,
   "id": "532d2bf2",
   "metadata": {},
   "outputs": [],
   "source": [
    "# Load data from Excel input file into Python\n",
    "with resources.path(\n",
    "    \"pareto.case_studies\",\n",
    "    \"strategic_toy_case_study.xlsx\",\n",
    ") as fpath:\n",
    "    [df_sets, df_parameters] = get_data(fpath, set_list, parameter_list)"
   ]
  },
  {
   "cell_type": "markdown",
   "id": "714e6966",
   "metadata": {},
   "source": [
    "### Step 3.1 (optional): Display input data\n",
    "A simple way to view the input data is to print members from `df_sets` and `df_parameters`:"
   ]
  },
  {
   "cell_type": "code",
   "execution_count": 4,
   "id": "d5512dff",
   "metadata": {},
   "outputs": [
    {
     "name": "stdout",
     "output_type": "stream",
     "text": [
      "------- Production pads -------\n",
      "<class 'pandas.core.series.Series'>\n",
      "0    PP01\n",
      "1    PP02\n",
      "2    PP03\n",
      "3    PP04\n",
      "Name: List of all Production Pad Identifiers [-], dtype: string\n",
      "\n",
      "------- Completions demand -------\n",
      "<class 'dict'>\n",
      "{('CP01', 'T01'): 0.0, ('CP01', 'T02'): 45000.0, ('CP01', 'T03'): 50000.0, ('CP01', 'T04'): 50000.0, ('CP01', 'T05'): 50000.0, ('CP01', 'T06'): 50000.0, ('CP01', 'T07'): 50000.0, ('CP01', 'T08'): 50000.0, ('CP01', 'T09'): 50000.0, ('CP01', 'T10'): 50000.0, ('CP01', 'T11'): 37142.857142857145, ('CP01', 'T12'): 0.0, ('CP01', 'T13'): 0.0, ('CP01', 'T14'): 0.0, ('CP01', 'T15'): 0.0, ('CP01', 'T16'): 0.0, ('CP01', 'T17'): 0.0, ('CP01', 'T18'): 0.0, ('CP01', 'T19'): 0.0, ('CP01', 'T20'): 0.0, ('CP01', 'T21'): 0.0, ('CP01', 'T22'): 0.0, ('CP01', 'T23'): 0.0, ('CP01', 'T24'): 0.0, ('CP01', 'T25'): 0.0, ('CP01', 'T26'): 0.0, ('CP01', 'T27'): 0.0, ('CP01', 'T28'): 0.0, ('CP01', 'T29'): 0.0, ('CP01', 'T30'): 0.0, ('CP01', 'T31'): 0.0, ('CP01', 'T32'): 0.0, ('CP01', 'T33'): 0.0, ('CP01', 'T34'): 0.0, ('CP01', 'T35'): 0.0, ('CP01', 'T36'): 0.0, ('CP01', 'T37'): 0.0, ('CP01', 'T38'): 0.0, ('CP01', 'T39'): 0.0, ('CP01', 'T40'): 0.0, ('CP01', 'T41'): 0.0, ('CP01', 'T42'): 0.0, ('CP01', 'T43'): 0.0, ('CP01', 'T44'): 0.0, ('CP01', 'T45'): 10714.285714285714, ('CP01', 'T46'): 45714.28571428572, ('CP01', 'T47'): 45714.28571428572, ('CP01', 'T48'): 45714.28571428572, ('CP01', 'T49'): 45714.28571428572, ('CP01', 'T50'): 45714.28571428572, ('CP01', 'T51'): 22857.14285714286, ('CP01', 'T52'): 11428.57142857143}\n",
      "\n",
      "------- Desalination technologies -------\n",
      "<class 'dict'>\n",
      "{'CB': 0, 'CB-EV': 0, 'MVC': 1, 'MD': 1, 'OARO': 1}\n"
     ]
    }
   ],
   "source": [
    "print(\"------- Production pads -------\")\n",
    "print(type(df_sets[\"ProductionPads\"]))\n",
    "print(df_sets[\"ProductionPads\"])\n",
    "\n",
    "print(\"\\n------- Completions demand -------\")\n",
    "print(type(df_parameters[\"CompletionsDemand\"]))\n",
    "print(df_parameters[\"CompletionsDemand\"])\n",
    "\n",
    "print(\"\\n------- Desalination technologies -------\")\n",
    "print(type(df_parameters[\"DesalinationTechnologies\"]))\n",
    "print(df_parameters[\"DesalinationTechnologies\"])"
   ]
  },
  {
   "cell_type": "markdown",
   "id": "7b0bd94d",
   "metadata": {},
   "source": [
    "PARETO's `plot_bars` function ([documentation](https://pareto.readthedocs.io/en/latest/utilities/Results.html#plot-bars)) can be used to create bar charts. If the plotted variable is indexed by time, then a dynamic, animated chart is created:"
   ]
  },
  {
   "cell_type": "code",
   "execution_count": 5,
   "id": "e9f3f975",
   "metadata": {},
   "outputs": [
    {
     "data": {
      "application/vnd.plotly.v1+json": {
       "config": {
        "linkText": "Export to plot.ly",
        "plotlyServerURL": "https://plot.ly",
        "showLink": false
       },
       "data": [
        {
         "alignmentgroup": "True",
         "hovertemplate": "Production Pad=%{x}<br>Time=T1<br>Production Forecast (Bbl/Day)=%{y}<extra></extra>",
         "legendgroup": "PP01",
         "marker": {
          "color": "#636efa",
          "pattern": {
           "shape": ""
          }
         },
         "name": "PP01",
         "offsetgroup": "PP01",
         "orientation": "v",
         "showlegend": true,
         "textposition": "auto",
         "type": "bar",
         "x": [
          "PP01"
         ],
         "xaxis": "x",
         "y": [
          5000
         ],
         "yaxis": "y"
        },
        {
         "alignmentgroup": "True",
         "hovertemplate": "Production Pad=%{x}<br>Time=T1<br>Production Forecast (Bbl/Day)=%{y}<extra></extra>",
         "legendgroup": "PP02",
         "marker": {
          "color": "#EF553B",
          "pattern": {
           "shape": ""
          }
         },
         "name": "PP02",
         "offsetgroup": "PP02",
         "orientation": "v",
         "showlegend": true,
         "textposition": "auto",
         "type": "bar",
         "x": [
          "PP02"
         ],
         "xaxis": "x",
         "y": [
          13000
         ],
         "yaxis": "y"
        },
        {
         "alignmentgroup": "True",
         "hovertemplate": "Production Pad=%{x}<br>Time=T1<br>Production Forecast (Bbl/Day)=%{y}<extra></extra>",
         "legendgroup": "PP03",
         "marker": {
          "color": "#00cc96",
          "pattern": {
           "shape": ""
          }
         },
         "name": "PP03",
         "offsetgroup": "PP03",
         "orientation": "v",
         "showlegend": true,
         "textposition": "auto",
         "type": "bar",
         "x": [
          "PP03"
         ],
         "xaxis": "x",
         "y": [
          8000
         ],
         "yaxis": "y"
        },
        {
         "alignmentgroup": "True",
         "hovertemplate": "Production Pad=%{x}<br>Time=T1<br>Production Forecast (Bbl/Day)=%{y}<extra></extra>",
         "legendgroup": "PP04",
         "marker": {
          "color": "#ab63fa",
          "pattern": {
           "shape": ""
          }
         },
         "name": "PP04",
         "offsetgroup": "PP04",
         "orientation": "v",
         "showlegend": true,
         "textposition": "auto",
         "type": "bar",
         "x": [
          "PP04"
         ],
         "xaxis": "x",
         "y": [
          2000
         ],
         "yaxis": "y"
        }
       ],
       "frames": [
        {
         "data": [
          {
           "alignmentgroup": "True",
           "hovertemplate": "Production Pad=%{x}<br>Time=T1<br>Production Forecast (Bbl/Day)=%{y}<extra></extra>",
           "legendgroup": "PP01",
           "marker": {
            "color": "#636efa",
            "pattern": {
             "shape": ""
            }
           },
           "name": "PP01",
           "offsetgroup": "PP01",
           "orientation": "v",
           "showlegend": true,
           "textposition": "auto",
           "type": "bar",
           "x": [
            "PP01"
           ],
           "xaxis": "x",
           "y": [
            5000
           ],
           "yaxis": "y"
          },
          {
           "alignmentgroup": "True",
           "hovertemplate": "Production Pad=%{x}<br>Time=T1<br>Production Forecast (Bbl/Day)=%{y}<extra></extra>",
           "legendgroup": "PP02",
           "marker": {
            "color": "#EF553B",
            "pattern": {
             "shape": ""
            }
           },
           "name": "PP02",
           "offsetgroup": "PP02",
           "orientation": "v",
           "showlegend": true,
           "textposition": "auto",
           "type": "bar",
           "x": [
            "PP02"
           ],
           "xaxis": "x",
           "y": [
            13000
           ],
           "yaxis": "y"
          },
          {
           "alignmentgroup": "True",
           "hovertemplate": "Production Pad=%{x}<br>Time=T1<br>Production Forecast (Bbl/Day)=%{y}<extra></extra>",
           "legendgroup": "PP03",
           "marker": {
            "color": "#00cc96",
            "pattern": {
             "shape": ""
            }
           },
           "name": "PP03",
           "offsetgroup": "PP03",
           "orientation": "v",
           "showlegend": true,
           "textposition": "auto",
           "type": "bar",
           "x": [
            "PP03"
           ],
           "xaxis": "x",
           "y": [
            8000
           ],
           "yaxis": "y"
          },
          {
           "alignmentgroup": "True",
           "hovertemplate": "Production Pad=%{x}<br>Time=T1<br>Production Forecast (Bbl/Day)=%{y}<extra></extra>",
           "legendgroup": "PP04",
           "marker": {
            "color": "#ab63fa",
            "pattern": {
             "shape": ""
            }
           },
           "name": "PP04",
           "offsetgroup": "PP04",
           "orientation": "v",
           "showlegend": true,
           "textposition": "auto",
           "type": "bar",
           "x": [
            "PP04"
           ],
           "xaxis": "x",
           "y": [
            2000
           ],
           "yaxis": "y"
          }
         ],
         "name": "T1"
        },
        {
         "data": [
          {
           "alignmentgroup": "True",
           "hovertemplate": "Production Pad=%{x}<br>Time=T2<br>Production Forecast (Bbl/Day)=%{y}<extra></extra>",
           "legendgroup": "PP01",
           "marker": {
            "color": "#636efa",
            "pattern": {
             "shape": ""
            }
           },
           "name": "PP01",
           "offsetgroup": "PP01",
           "orientation": "v",
           "showlegend": true,
           "textposition": "auto",
           "type": "bar",
           "x": [
            "PP01"
           ],
           "xaxis": "x",
           "y": [
            4323
           ],
           "yaxis": "y"
          },
          {
           "alignmentgroup": "True",
           "hovertemplate": "Production Pad=%{x}<br>Time=T2<br>Production Forecast (Bbl/Day)=%{y}<extra></extra>",
           "legendgroup": "PP02",
           "marker": {
            "color": "#EF553B",
            "pattern": {
             "shape": ""
            }
           },
           "name": "PP02",
           "offsetgroup": "PP02",
           "orientation": "v",
           "showlegend": true,
           "textposition": "auto",
           "type": "bar",
           "x": [
            "PP02"
           ],
           "xaxis": "x",
           "y": [
            10200
           ],
           "yaxis": "y"
          },
          {
           "alignmentgroup": "True",
           "hovertemplate": "Production Pad=%{x}<br>Time=T2<br>Production Forecast (Bbl/Day)=%{y}<extra></extra>",
           "legendgroup": "PP03",
           "marker": {
            "color": "#00cc96",
            "pattern": {
             "shape": ""
            }
           },
           "name": "PP03",
           "offsetgroup": "PP03",
           "orientation": "v",
           "showlegend": true,
           "textposition": "auto",
           "type": "bar",
           "x": [
            "PP03"
           ],
           "xaxis": "x",
           "y": [
            6727
           ],
           "yaxis": "y"
          },
          {
           "alignmentgroup": "True",
           "hovertemplate": "Production Pad=%{x}<br>Time=T2<br>Production Forecast (Bbl/Day)=%{y}<extra></extra>",
           "legendgroup": "PP04",
           "marker": {
            "color": "#ab63fa",
            "pattern": {
             "shape": ""
            }
           },
           "name": "PP04",
           "offsetgroup": "PP04",
           "orientation": "v",
           "showlegend": true,
           "textposition": "auto",
           "type": "bar",
           "x": [
            "PP04"
           ],
           "xaxis": "x",
           "y": [
            1972
           ],
           "yaxis": "y"
          }
         ],
         "name": "T2"
        },
        {
         "data": [
          {
           "alignmentgroup": "True",
           "hovertemplate": "Production Pad=%{x}<br>Time=T3<br>Production Forecast (Bbl/Day)=%{y}<extra></extra>",
           "legendgroup": "PP01",
           "marker": {
            "color": "#636efa",
            "pattern": {
             "shape": ""
            }
           },
           "name": "PP01",
           "offsetgroup": "PP01",
           "orientation": "v",
           "showlegend": true,
           "textposition": "auto",
           "type": "bar",
           "x": [
            "PP01"
           ],
           "xaxis": "x",
           "y": [
            3970
           ],
           "yaxis": "y"
          },
          {
           "alignmentgroup": "True",
           "hovertemplate": "Production Pad=%{x}<br>Time=T3<br>Production Forecast (Bbl/Day)=%{y}<extra></extra>",
           "legendgroup": "PP02",
           "marker": {
            "color": "#EF553B",
            "pattern": {
             "shape": ""
            }
           },
           "name": "PP02",
           "offsetgroup": "PP02",
           "orientation": "v",
           "showlegend": true,
           "textposition": "auto",
           "type": "bar",
           "x": [
            "PP02"
           ],
           "xaxis": "x",
           "y": [
            8850
           ],
           "yaxis": "y"
          },
          {
           "alignmentgroup": "True",
           "hovertemplate": "Production Pad=%{x}<br>Time=T3<br>Production Forecast (Bbl/Day)=%{y}<extra></extra>",
           "legendgroup": "PP03",
           "marker": {
            "color": "#00cc96",
            "pattern": {
             "shape": ""
            }
           },
           "name": "PP03",
           "offsetgroup": "PP03",
           "orientation": "v",
           "showlegend": true,
           "textposition": "auto",
           "type": "bar",
           "x": [
            "PP03"
           ],
           "xaxis": "x",
           "y": [
            6079
           ],
           "yaxis": "y"
          },
          {
           "alignmentgroup": "True",
           "hovertemplate": "Production Pad=%{x}<br>Time=T3<br>Production Forecast (Bbl/Day)=%{y}<extra></extra>",
           "legendgroup": "PP04",
           "marker": {
            "color": "#ab63fa",
            "pattern": {
             "shape": ""
            }
           },
           "name": "PP04",
           "offsetgroup": "PP04",
           "orientation": "v",
           "showlegend": true,
           "textposition": "auto",
           "type": "bar",
           "x": [
            "PP04"
           ],
           "xaxis": "x",
           "y": [
            1957
           ],
           "yaxis": "y"
          }
         ],
         "name": "T3"
        },
        {
         "data": [
          {
           "alignmentgroup": "True",
           "hovertemplate": "Production Pad=%{x}<br>Time=T4<br>Production Forecast (Bbl/Day)=%{y}<extra></extra>",
           "legendgroup": "PP01",
           "marker": {
            "color": "#636efa",
            "pattern": {
             "shape": ""
            }
           },
           "name": "PP01",
           "offsetgroup": "PP01",
           "orientation": "v",
           "showlegend": true,
           "textposition": "auto",
           "type": "bar",
           "x": [
            "PP01"
           ],
           "xaxis": "x",
           "y": [
            3737
           ],
           "yaxis": "y"
          },
          {
           "alignmentgroup": "True",
           "hovertemplate": "Production Pad=%{x}<br>Time=T4<br>Production Forecast (Bbl/Day)=%{y}<extra></extra>",
           "legendgroup": "PP02",
           "marker": {
            "color": "#EF553B",
            "pattern": {
             "shape": ""
            }
           },
           "name": "PP02",
           "offsetgroup": "PP02",
           "orientation": "v",
           "showlegend": true,
           "textposition": "auto",
           "type": "bar",
           "x": [
            "PP02"
           ],
           "xaxis": "x",
           "y": [
            8002
           ],
           "yaxis": "y"
          },
          {
           "alignmentgroup": "True",
           "hovertemplate": "Production Pad=%{x}<br>Time=T4<br>Production Forecast (Bbl/Day)=%{y}<extra></extra>",
           "legendgroup": "PP03",
           "marker": {
            "color": "#00cc96",
            "pattern": {
             "shape": ""
            }
           },
           "name": "PP03",
           "offsetgroup": "PP03",
           "orientation": "v",
           "showlegend": true,
           "textposition": "auto",
           "type": "bar",
           "x": [
            "PP03"
           ],
           "xaxis": "x",
           "y": [
            5657
           ],
           "yaxis": "y"
          },
          {
           "alignmentgroup": "True",
           "hovertemplate": "Production Pad=%{x}<br>Time=T4<br>Production Forecast (Bbl/Day)=%{y}<extra></extra>",
           "legendgroup": "PP04",
           "marker": {
            "color": "#ab63fa",
            "pattern": {
             "shape": ""
            }
           },
           "name": "PP04",
           "offsetgroup": "PP04",
           "orientation": "v",
           "showlegend": true,
           "textposition": "auto",
           "type": "bar",
           "x": [
            "PP04"
           ],
           "xaxis": "x",
           "y": [
            1945
           ],
           "yaxis": "y"
          }
         ],
         "name": "T4"
        },
        {
         "data": [
          {
           "alignmentgroup": "True",
           "hovertemplate": "Production Pad=%{x}<br>Time=T5<br>Production Forecast (Bbl/Day)=%{y}<extra></extra>",
           "legendgroup": "PP01",
           "marker": {
            "color": "#636efa",
            "pattern": {
             "shape": ""
            }
           },
           "name": "PP01",
           "offsetgroup": "PP01",
           "orientation": "v",
           "showlegend": true,
           "textposition": "auto",
           "type": "bar",
           "x": [
            "PP01"
           ],
           "xaxis": "x",
           "y": [
            3566
           ],
           "yaxis": "y"
          },
          {
           "alignmentgroup": "True",
           "hovertemplate": "Production Pad=%{x}<br>Time=T5<br>Production Forecast (Bbl/Day)=%{y}<extra></extra>",
           "legendgroup": "PP02",
           "marker": {
            "color": "#EF553B",
            "pattern": {
             "shape": ""
            }
           },
           "name": "PP02",
           "offsetgroup": "PP02",
           "orientation": "v",
           "showlegend": true,
           "textposition": "auto",
           "type": "bar",
           "x": [
            "PP02"
           ],
           "xaxis": "x",
           "y": [
            7401
           ],
           "yaxis": "y"
          },
          {
           "alignmentgroup": "True",
           "hovertemplate": "Production Pad=%{x}<br>Time=T5<br>Production Forecast (Bbl/Day)=%{y}<extra></extra>",
           "legendgroup": "PP03",
           "marker": {
            "color": "#00cc96",
            "pattern": {
             "shape": ""
            }
           },
           "name": "PP03",
           "offsetgroup": "PP03",
           "orientation": "v",
           "showlegend": true,
           "textposition": "auto",
           "type": "bar",
           "x": [
            "PP03"
           ],
           "xaxis": "x",
           "y": [
            5350
           ],
           "yaxis": "y"
          },
          {
           "alignmentgroup": "True",
           "hovertemplate": "Production Pad=%{x}<br>Time=T5<br>Production Forecast (Bbl/Day)=%{y}<extra></extra>",
           "legendgroup": "PP04",
           "marker": {
            "color": "#ab63fa",
            "pattern": {
             "shape": ""
            }
           },
           "name": "PP04",
           "offsetgroup": "PP04",
           "orientation": "v",
           "showlegend": true,
           "textposition": "auto",
           "type": "bar",
           "x": [
            "PP04"
           ],
           "xaxis": "x",
           "y": [
            1937
           ],
           "yaxis": "y"
          }
         ],
         "name": "T5"
        },
        {
         "data": [
          {
           "alignmentgroup": "True",
           "hovertemplate": "Production Pad=%{x}<br>Time=T6<br>Production Forecast (Bbl/Day)=%{y}<extra></extra>",
           "legendgroup": "PP01",
           "marker": {
            "color": "#636efa",
            "pattern": {
             "shape": ""
            }
           },
           "name": "PP01",
           "offsetgroup": "PP01",
           "orientation": "v",
           "showlegend": true,
           "textposition": "auto",
           "type": "bar",
           "x": [
            "PP01"
           ],
           "xaxis": "x",
           "y": [
            3432
           ],
           "yaxis": "y"
          },
          {
           "alignmentgroup": "True",
           "hovertemplate": "Production Pad=%{x}<br>Time=T6<br>Production Forecast (Bbl/Day)=%{y}<extra></extra>",
           "legendgroup": "PP02",
           "marker": {
            "color": "#EF553B",
            "pattern": {
             "shape": ""
            }
           },
           "name": "PP02",
           "offsetgroup": "PP02",
           "orientation": "v",
           "showlegend": true,
           "textposition": "auto",
           "type": "bar",
           "x": [
            "PP02"
           ],
           "xaxis": "x",
           "y": [
            6944
           ],
           "yaxis": "y"
          },
          {
           "alignmentgroup": "True",
           "hovertemplate": "Production Pad=%{x}<br>Time=T6<br>Production Forecast (Bbl/Day)=%{y}<extra></extra>",
           "legendgroup": "PP03",
           "marker": {
            "color": "#00cc96",
            "pattern": {
             "shape": ""
            }
           },
           "name": "PP03",
           "offsetgroup": "PP03",
           "orientation": "v",
           "showlegend": true,
           "textposition": "auto",
           "type": "bar",
           "x": [
            "PP03"
           ],
           "xaxis": "x",
           "y": [
            5112
           ],
           "yaxis": "y"
          },
          {
           "alignmentgroup": "True",
           "hovertemplate": "Production Pad=%{x}<br>Time=T6<br>Production Forecast (Bbl/Day)=%{y}<extra></extra>",
           "legendgroup": "PP04",
           "marker": {
            "color": "#ab63fa",
            "pattern": {
             "shape": ""
            }
           },
           "name": "PP04",
           "offsetgroup": "PP04",
           "orientation": "v",
           "showlegend": true,
           "textposition": "auto",
           "type": "bar",
           "x": [
            "PP04"
           ],
           "xaxis": "x",
           "y": [
            1930
           ],
           "yaxis": "y"
          }
         ],
         "name": "T6"
        },
        {
         "data": [
          {
           "alignmentgroup": "True",
           "hovertemplate": "Production Pad=%{x}<br>Time=T7<br>Production Forecast (Bbl/Day)=%{y}<extra></extra>",
           "legendgroup": "PP01",
           "marker": {
            "color": "#636efa",
            "pattern": {
             "shape": ""
            }
           },
           "name": "PP01",
           "offsetgroup": "PP01",
           "orientation": "v",
           "showlegend": true,
           "textposition": "auto",
           "type": "bar",
           "x": [
            "PP01"
           ],
           "xaxis": "x",
           "y": [
            3323
           ],
           "yaxis": "y"
          },
          {
           "alignmentgroup": "True",
           "hovertemplate": "Production Pad=%{x}<br>Time=T7<br>Production Forecast (Bbl/Day)=%{y}<extra></extra>",
           "legendgroup": "PP02",
           "marker": {
            "color": "#EF553B",
            "pattern": {
             "shape": ""
            }
           },
           "name": "PP02",
           "offsetgroup": "PP02",
           "orientation": "v",
           "showlegend": true,
           "textposition": "auto",
           "type": "bar",
           "x": [
            "PP02"
           ],
           "xaxis": "x",
           "y": [
            6579
           ],
           "yaxis": "y"
          },
          {
           "alignmentgroup": "True",
           "hovertemplate": "Production Pad=%{x}<br>Time=T7<br>Production Forecast (Bbl/Day)=%{y}<extra></extra>",
           "legendgroup": "PP03",
           "marker": {
            "color": "#00cc96",
            "pattern": {
             "shape": ""
            }
           },
           "name": "PP03",
           "offsetgroup": "PP03",
           "orientation": "v",
           "showlegend": true,
           "textposition": "auto",
           "type": "bar",
           "x": [
            "PP03"
           ],
           "xaxis": "x",
           "y": [
            4918
           ],
           "yaxis": "y"
          },
          {
           "alignmentgroup": "True",
           "hovertemplate": "Production Pad=%{x}<br>Time=T7<br>Production Forecast (Bbl/Day)=%{y}<extra></extra>",
           "legendgroup": "PP04",
           "marker": {
            "color": "#ab63fa",
            "pattern": {
             "shape": ""
            }
           },
           "name": "PP04",
           "offsetgroup": "PP04",
           "orientation": "v",
           "showlegend": true,
           "textposition": "auto",
           "type": "bar",
           "x": [
            "PP04"
           ],
           "xaxis": "x",
           "y": [
            1924
           ],
           "yaxis": "y"
          }
         ],
         "name": "T7"
        },
        {
         "data": [
          {
           "alignmentgroup": "True",
           "hovertemplate": "Production Pad=%{x}<br>Time=T8<br>Production Forecast (Bbl/Day)=%{y}<extra></extra>",
           "legendgroup": "PP01",
           "marker": {
            "color": "#636efa",
            "pattern": {
             "shape": ""
            }
           },
           "name": "PP01",
           "offsetgroup": "PP01",
           "orientation": "v",
           "showlegend": true,
           "textposition": "auto",
           "type": "bar",
           "x": [
            "PP01"
           ],
           "xaxis": "x",
           "y": [
            3231
           ],
           "yaxis": "y"
          },
          {
           "alignmentgroup": "True",
           "hovertemplate": "Production Pad=%{x}<br>Time=T8<br>Production Forecast (Bbl/Day)=%{y}<extra></extra>",
           "legendgroup": "PP02",
           "marker": {
            "color": "#EF553B",
            "pattern": {
             "shape": ""
            }
           },
           "name": "PP02",
           "offsetgroup": "PP02",
           "orientation": "v",
           "showlegend": true,
           "textposition": "auto",
           "type": "bar",
           "x": [
            "PP02"
           ],
           "xaxis": "x",
           "y": [
            6279
           ],
           "yaxis": "y"
          },
          {
           "alignmentgroup": "True",
           "hovertemplate": "Production Pad=%{x}<br>Time=T8<br>Production Forecast (Bbl/Day)=%{y}<extra></extra>",
           "legendgroup": "PP03",
           "marker": {
            "color": "#00cc96",
            "pattern": {
             "shape": ""
            }
           },
           "name": "PP03",
           "offsetgroup": "PP03",
           "orientation": "v",
           "showlegend": true,
           "textposition": "auto",
           "type": "bar",
           "x": [
            "PP03"
           ],
           "xaxis": "x",
           "y": [
            4757
           ],
           "yaxis": "y"
          },
          {
           "alignmentgroup": "True",
           "hovertemplate": "Production Pad=%{x}<br>Time=T8<br>Production Forecast (Bbl/Day)=%{y}<extra></extra>",
           "legendgroup": "PP04",
           "marker": {
            "color": "#ab63fa",
            "pattern": {
             "shape": ""
            }
           },
           "name": "PP04",
           "offsetgroup": "PP04",
           "orientation": "v",
           "showlegend": true,
           "textposition": "auto",
           "type": "bar",
           "x": [
            "PP04"
           ],
           "xaxis": "x",
           "y": [
            1919
           ],
           "yaxis": "y"
          }
         ],
         "name": "T8"
        },
        {
         "data": [
          {
           "alignmentgroup": "True",
           "hovertemplate": "Production Pad=%{x}<br>Time=T9<br>Production Forecast (Bbl/Day)=%{y}<extra></extra>",
           "legendgroup": "PP01",
           "marker": {
            "color": "#636efa",
            "pattern": {
             "shape": ""
            }
           },
           "name": "PP01",
           "offsetgroup": "PP01",
           "orientation": "v",
           "showlegend": true,
           "textposition": "auto",
           "type": "bar",
           "x": [
            "PP01"
           ],
           "xaxis": "x",
           "y": [
            3152
           ],
           "yaxis": "y"
          },
          {
           "alignmentgroup": "True",
           "hovertemplate": "Production Pad=%{x}<br>Time=T9<br>Production Forecast (Bbl/Day)=%{y}<extra></extra>",
           "legendgroup": "PP02",
           "marker": {
            "color": "#EF553B",
            "pattern": {
             "shape": ""
            }
           },
           "name": "PP02",
           "offsetgroup": "PP02",
           "orientation": "v",
           "showlegend": true,
           "textposition": "auto",
           "type": "bar",
           "x": [
            "PP02"
           ],
           "xaxis": "x",
           "y": [
            6025
           ],
           "yaxis": "y"
          },
          {
           "alignmentgroup": "True",
           "hovertemplate": "Production Pad=%{x}<br>Time=T9<br>Production Forecast (Bbl/Day)=%{y}<extra></extra>",
           "legendgroup": "PP03",
           "marker": {
            "color": "#00cc96",
            "pattern": {
             "shape": ""
            }
           },
           "name": "PP03",
           "offsetgroup": "PP03",
           "orientation": "v",
           "showlegend": true,
           "textposition": "auto",
           "type": "bar",
           "x": [
            "PP03"
           ],
           "xaxis": "x",
           "y": [
            4619
           ],
           "yaxis": "y"
          },
          {
           "alignmentgroup": "True",
           "hovertemplate": "Production Pad=%{x}<br>Time=T9<br>Production Forecast (Bbl/Day)=%{y}<extra></extra>",
           "legendgroup": "PP04",
           "marker": {
            "color": "#ab63fa",
            "pattern": {
             "shape": ""
            }
           },
           "name": "PP04",
           "offsetgroup": "PP04",
           "orientation": "v",
           "showlegend": true,
           "textposition": "auto",
           "type": "bar",
           "x": [
            "PP04"
           ],
           "xaxis": "x",
           "y": [
            1914
           ],
           "yaxis": "y"
          }
         ],
         "name": "T9"
        },
        {
         "data": [
          {
           "alignmentgroup": "True",
           "hovertemplate": "Production Pad=%{x}<br>Time=T10<br>Production Forecast (Bbl/Day)=%{y}<extra></extra>",
           "legendgroup": "PP01",
           "marker": {
            "color": "#636efa",
            "pattern": {
             "shape": ""
            }
           },
           "name": "PP01",
           "offsetgroup": "PP01",
           "orientation": "v",
           "showlegend": true,
           "textposition": "auto",
           "type": "bar",
           "x": [
            "PP01"
           ],
           "xaxis": "x",
           "y": [
            3083
           ],
           "yaxis": "y"
          },
          {
           "alignmentgroup": "True",
           "hovertemplate": "Production Pad=%{x}<br>Time=T10<br>Production Forecast (Bbl/Day)=%{y}<extra></extra>",
           "legendgroup": "PP02",
           "marker": {
            "color": "#EF553B",
            "pattern": {
             "shape": ""
            }
           },
           "name": "PP02",
           "offsetgroup": "PP02",
           "orientation": "v",
           "showlegend": true,
           "textposition": "auto",
           "type": "bar",
           "x": [
            "PP02"
           ],
           "xaxis": "x",
           "y": [
            5807
           ],
           "yaxis": "y"
          },
          {
           "alignmentgroup": "True",
           "hovertemplate": "Production Pad=%{x}<br>Time=T10<br>Production Forecast (Bbl/Day)=%{y}<extra></extra>",
           "legendgroup": "PP03",
           "marker": {
            "color": "#00cc96",
            "pattern": {
             "shape": ""
            }
           },
           "name": "PP03",
           "offsetgroup": "PP03",
           "orientation": "v",
           "showlegend": true,
           "textposition": "auto",
           "type": "bar",
           "x": [
            "PP03"
           ],
           "xaxis": "x",
           "y": [
            4499
           ],
           "yaxis": "y"
          },
          {
           "alignmentgroup": "True",
           "hovertemplate": "Production Pad=%{x}<br>Time=T10<br>Production Forecast (Bbl/Day)=%{y}<extra></extra>",
           "legendgroup": "PP04",
           "marker": {
            "color": "#ab63fa",
            "pattern": {
             "shape": ""
            }
           },
           "name": "PP04",
           "offsetgroup": "PP04",
           "orientation": "v",
           "showlegend": true,
           "textposition": "auto",
           "type": "bar",
           "x": [
            "PP04"
           ],
           "xaxis": "x",
           "y": [
            1910
           ],
           "yaxis": "y"
          }
         ],
         "name": "T10"
        },
        {
         "data": [
          {
           "alignmentgroup": "True",
           "hovertemplate": "Production Pad=%{x}<br>Time=T11<br>Production Forecast (Bbl/Day)=%{y}<extra></extra>",
           "legendgroup": "PP01",
           "marker": {
            "color": "#636efa",
            "pattern": {
             "shape": ""
            }
           },
           "name": "PP01",
           "offsetgroup": "PP01",
           "orientation": "v",
           "showlegend": true,
           "textposition": "auto",
           "type": "bar",
           "x": [
            "PP01"
           ],
           "xaxis": "x",
           "y": [
            3022
           ],
           "yaxis": "y"
          },
          {
           "alignmentgroup": "True",
           "hovertemplate": "Production Pad=%{x}<br>Time=T11<br>Production Forecast (Bbl/Day)=%{y}<extra></extra>",
           "legendgroup": "PP02",
           "marker": {
            "color": "#EF553B",
            "pattern": {
             "shape": ""
            }
           },
           "name": "PP02",
           "offsetgroup": "PP02",
           "orientation": "v",
           "showlegend": true,
           "textposition": "auto",
           "type": "bar",
           "x": [
            "PP02"
           ],
           "xaxis": "x",
           "y": [
            5616
           ],
           "yaxis": "y"
          },
          {
           "alignmentgroup": "True",
           "hovertemplate": "Production Pad=%{x}<br>Time=T11<br>Production Forecast (Bbl/Day)=%{y}<extra></extra>",
           "legendgroup": "PP03",
           "marker": {
            "color": "#00cc96",
            "pattern": {
             "shape": ""
            }
           },
           "name": "PP03",
           "offsetgroup": "PP03",
           "orientation": "v",
           "showlegend": true,
           "textposition": "auto",
           "type": "bar",
           "x": [
            "PP03"
           ],
           "xaxis": "x",
           "y": [
            4393
           ],
           "yaxis": "y"
          },
          {
           "alignmentgroup": "True",
           "hovertemplate": "Production Pad=%{x}<br>Time=T11<br>Production Forecast (Bbl/Day)=%{y}<extra></extra>",
           "legendgroup": "PP04",
           "marker": {
            "color": "#ab63fa",
            "pattern": {
             "shape": ""
            }
           },
           "name": "PP04",
           "offsetgroup": "PP04",
           "orientation": "v",
           "showlegend": true,
           "textposition": "auto",
           "type": "bar",
           "x": [
            "PP04"
           ],
           "xaxis": "x",
           "y": [
            1906
           ],
           "yaxis": "y"
          }
         ],
         "name": "T11"
        },
        {
         "data": [
          {
           "alignmentgroup": "True",
           "hovertemplate": "Production Pad=%{x}<br>Time=T12<br>Production Forecast (Bbl/Day)=%{y}<extra></extra>",
           "legendgroup": "PP01",
           "marker": {
            "color": "#636efa",
            "pattern": {
             "shape": ""
            }
           },
           "name": "PP01",
           "offsetgroup": "PP01",
           "orientation": "v",
           "showlegend": true,
           "textposition": "auto",
           "type": "bar",
           "x": [
            "PP01"
           ],
           "xaxis": "x",
           "y": [
            2967
           ],
           "yaxis": "y"
          },
          {
           "alignmentgroup": "True",
           "hovertemplate": "Production Pad=%{x}<br>Time=T12<br>Production Forecast (Bbl/Day)=%{y}<extra></extra>",
           "legendgroup": "PP02",
           "marker": {
            "color": "#EF553B",
            "pattern": {
             "shape": ""
            }
           },
           "name": "PP02",
           "offsetgroup": "PP02",
           "orientation": "v",
           "showlegend": true,
           "textposition": "auto",
           "type": "bar",
           "x": [
            "PP02"
           ],
           "xaxis": "x",
           "y": [
            5448
           ],
           "yaxis": "y"
          },
          {
           "alignmentgroup": "True",
           "hovertemplate": "Production Pad=%{x}<br>Time=T12<br>Production Forecast (Bbl/Day)=%{y}<extra></extra>",
           "legendgroup": "PP03",
           "marker": {
            "color": "#00cc96",
            "pattern": {
             "shape": ""
            }
           },
           "name": "PP03",
           "offsetgroup": "PP03",
           "orientation": "v",
           "showlegend": true,
           "textposition": "auto",
           "type": "bar",
           "x": [
            "PP03"
           ],
           "xaxis": "x",
           "y": [
            4298
           ],
           "yaxis": "y"
          },
          {
           "alignmentgroup": "True",
           "hovertemplate": "Production Pad=%{x}<br>Time=T12<br>Production Forecast (Bbl/Day)=%{y}<extra></extra>",
           "legendgroup": "PP04",
           "marker": {
            "color": "#ab63fa",
            "pattern": {
             "shape": ""
            }
           },
           "name": "PP04",
           "offsetgroup": "PP04",
           "orientation": "v",
           "showlegend": true,
           "textposition": "auto",
           "type": "bar",
           "x": [
            "PP04"
           ],
           "xaxis": "x",
           "y": [
            1903
           ],
           "yaxis": "y"
          }
         ],
         "name": "T12"
        },
        {
         "data": [
          {
           "alignmentgroup": "True",
           "hovertemplate": "Production Pad=%{x}<br>Time=T13<br>Production Forecast (Bbl/Day)=%{y}<extra></extra>",
           "legendgroup": "PP01",
           "marker": {
            "color": "#636efa",
            "pattern": {
             "shape": ""
            }
           },
           "name": "PP01",
           "offsetgroup": "PP01",
           "orientation": "v",
           "showlegend": true,
           "textposition": "auto",
           "type": "bar",
           "x": [
            "PP01"
           ],
           "xaxis": "x",
           "y": [
            2918
           ],
           "yaxis": "y"
          },
          {
           "alignmentgroup": "True",
           "hovertemplate": "Production Pad=%{x}<br>Time=T13<br>Production Forecast (Bbl/Day)=%{y}<extra></extra>",
           "legendgroup": "PP02",
           "marker": {
            "color": "#EF553B",
            "pattern": {
             "shape": ""
            }
           },
           "name": "PP02",
           "offsetgroup": "PP02",
           "orientation": "v",
           "showlegend": true,
           "textposition": "auto",
           "type": "bar",
           "x": [
            "PP02"
           ],
           "xaxis": "x",
           "y": [
            5297
           ],
           "yaxis": "y"
          },
          {
           "alignmentgroup": "True",
           "hovertemplate": "Production Pad=%{x}<br>Time=T13<br>Production Forecast (Bbl/Day)=%{y}<extra></extra>",
           "legendgroup": "PP03",
           "marker": {
            "color": "#00cc96",
            "pattern": {
             "shape": ""
            }
           },
           "name": "PP03",
           "offsetgroup": "PP03",
           "orientation": "v",
           "showlegend": true,
           "textposition": "auto",
           "type": "bar",
           "x": [
            "PP03"
           ],
           "xaxis": "x",
           "y": [
            4213
           ],
           "yaxis": "y"
          },
          {
           "alignmentgroup": "True",
           "hovertemplate": "Production Pad=%{x}<br>Time=T13<br>Production Forecast (Bbl/Day)=%{y}<extra></extra>",
           "legendgroup": "PP04",
           "marker": {
            "color": "#ab63fa",
            "pattern": {
             "shape": ""
            }
           },
           "name": "PP04",
           "offsetgroup": "PP04",
           "orientation": "v",
           "showlegend": true,
           "textposition": "auto",
           "type": "bar",
           "x": [
            "PP04"
           ],
           "xaxis": "x",
           "y": [
            1900
           ],
           "yaxis": "y"
          }
         ],
         "name": "T13"
        },
        {
         "data": [
          {
           "alignmentgroup": "True",
           "hovertemplate": "Production Pad=%{x}<br>Time=T14<br>Production Forecast (Bbl/Day)=%{y}<extra></extra>",
           "legendgroup": "PP01",
           "marker": {
            "color": "#636efa",
            "pattern": {
             "shape": ""
            }
           },
           "name": "PP01",
           "offsetgroup": "PP01",
           "orientation": "v",
           "showlegend": true,
           "textposition": "auto",
           "type": "bar",
           "x": [
            "PP01"
           ],
           "xaxis": "x",
           "y": [
            2873
           ],
           "yaxis": "y"
          },
          {
           "alignmentgroup": "True",
           "hovertemplate": "Production Pad=%{x}<br>Time=T14<br>Production Forecast (Bbl/Day)=%{y}<extra></extra>",
           "legendgroup": "PP02",
           "marker": {
            "color": "#EF553B",
            "pattern": {
             "shape": ""
            }
           },
           "name": "PP02",
           "offsetgroup": "PP02",
           "orientation": "v",
           "showlegend": true,
           "textposition": "auto",
           "type": "bar",
           "x": [
            "PP02"
           ],
           "xaxis": "x",
           "y": [
            5162
           ],
           "yaxis": "y"
          },
          {
           "alignmentgroup": "True",
           "hovertemplate": "Production Pad=%{x}<br>Time=T14<br>Production Forecast (Bbl/Day)=%{y}<extra></extra>",
           "legendgroup": "PP03",
           "marker": {
            "color": "#00cc96",
            "pattern": {
             "shape": ""
            }
           },
           "name": "PP03",
           "offsetgroup": "PP03",
           "orientation": "v",
           "showlegend": true,
           "textposition": "auto",
           "type": "bar",
           "x": [
            "PP03"
           ],
           "xaxis": "x",
           "y": [
            4136
           ],
           "yaxis": "y"
          },
          {
           "alignmentgroup": "True",
           "hovertemplate": "Production Pad=%{x}<br>Time=T14<br>Production Forecast (Bbl/Day)=%{y}<extra></extra>",
           "legendgroup": "PP04",
           "marker": {
            "color": "#ab63fa",
            "pattern": {
             "shape": ""
            }
           },
           "name": "PP04",
           "offsetgroup": "PP04",
           "orientation": "v",
           "showlegend": true,
           "textposition": "auto",
           "type": "bar",
           "x": [
            "PP04"
           ],
           "xaxis": "x",
           "y": [
            1897
           ],
           "yaxis": "y"
          }
         ],
         "name": "T14"
        },
        {
         "data": [
          {
           "alignmentgroup": "True",
           "hovertemplate": "Production Pad=%{x}<br>Time=T15<br>Production Forecast (Bbl/Day)=%{y}<extra></extra>",
           "legendgroup": "PP01",
           "marker": {
            "color": "#636efa",
            "pattern": {
             "shape": ""
            }
           },
           "name": "PP01",
           "offsetgroup": "PP01",
           "orientation": "v",
           "showlegend": true,
           "textposition": "auto",
           "type": "bar",
           "x": [
            "PP01"
           ],
           "xaxis": "x",
           "y": [
            2831
           ],
           "yaxis": "y"
          },
          {
           "alignmentgroup": "True",
           "hovertemplate": "Production Pad=%{x}<br>Time=T15<br>Production Forecast (Bbl/Day)=%{y}<extra></extra>",
           "legendgroup": "PP02",
           "marker": {
            "color": "#EF553B",
            "pattern": {
             "shape": ""
            }
           },
           "name": "PP02",
           "offsetgroup": "PP02",
           "orientation": "v",
           "showlegend": true,
           "textposition": "auto",
           "type": "bar",
           "x": [
            "PP02"
           ],
           "xaxis": "x",
           "y": [
            5039
           ],
           "yaxis": "y"
          },
          {
           "alignmentgroup": "True",
           "hovertemplate": "Production Pad=%{x}<br>Time=T15<br>Production Forecast (Bbl/Day)=%{y}<extra></extra>",
           "legendgroup": "PP03",
           "marker": {
            "color": "#00cc96",
            "pattern": {
             "shape": ""
            }
           },
           "name": "PP03",
           "offsetgroup": "PP03",
           "orientation": "v",
           "showlegend": true,
           "textposition": "auto",
           "type": "bar",
           "x": [
            "PP03"
           ],
           "xaxis": "x",
           "y": [
            4065
           ],
           "yaxis": "y"
          },
          {
           "alignmentgroup": "True",
           "hovertemplate": "Production Pad=%{x}<br>Time=T15<br>Production Forecast (Bbl/Day)=%{y}<extra></extra>",
           "legendgroup": "PP04",
           "marker": {
            "color": "#ab63fa",
            "pattern": {
             "shape": ""
            }
           },
           "name": "PP04",
           "offsetgroup": "PP04",
           "orientation": "v",
           "showlegend": true,
           "textposition": "auto",
           "type": "bar",
           "x": [
            "PP04"
           ],
           "xaxis": "x",
           "y": [
            1895
           ],
           "yaxis": "y"
          }
         ],
         "name": "T15"
        },
        {
         "data": [
          {
           "alignmentgroup": "True",
           "hovertemplate": "Production Pad=%{x}<br>Time=T16<br>Production Forecast (Bbl/Day)=%{y}<extra></extra>",
           "legendgroup": "PP01",
           "marker": {
            "color": "#636efa",
            "pattern": {
             "shape": ""
            }
           },
           "name": "PP01",
           "offsetgroup": "PP01",
           "orientation": "v",
           "showlegend": true,
           "textposition": "auto",
           "type": "bar",
           "x": [
            "PP01"
           ],
           "xaxis": "x",
           "y": [
            2793
           ],
           "yaxis": "y"
          },
          {
           "alignmentgroup": "True",
           "hovertemplate": "Production Pad=%{x}<br>Time=T16<br>Production Forecast (Bbl/Day)=%{y}<extra></extra>",
           "legendgroup": "PP02",
           "marker": {
            "color": "#EF553B",
            "pattern": {
             "shape": ""
            }
           },
           "name": "PP02",
           "offsetgroup": "PP02",
           "orientation": "v",
           "showlegend": true,
           "textposition": "auto",
           "type": "bar",
           "x": [
            "PP02"
           ],
           "xaxis": "x",
           "y": [
            4926
           ],
           "yaxis": "y"
          },
          {
           "alignmentgroup": "True",
           "hovertemplate": "Production Pad=%{x}<br>Time=T16<br>Production Forecast (Bbl/Day)=%{y}<extra></extra>",
           "legendgroup": "PP03",
           "marker": {
            "color": "#00cc96",
            "pattern": {
             "shape": ""
            }
           },
           "name": "PP03",
           "offsetgroup": "PP03",
           "orientation": "v",
           "showlegend": true,
           "textposition": "auto",
           "type": "bar",
           "x": [
            "PP03"
           ],
           "xaxis": "x",
           "y": [
            4000
           ],
           "yaxis": "y"
          },
          {
           "alignmentgroup": "True",
           "hovertemplate": "Production Pad=%{x}<br>Time=T16<br>Production Forecast (Bbl/Day)=%{y}<extra></extra>",
           "legendgroup": "PP04",
           "marker": {
            "color": "#ab63fa",
            "pattern": {
             "shape": ""
            }
           },
           "name": "PP04",
           "offsetgroup": "PP04",
           "orientation": "v",
           "showlegend": true,
           "textposition": "auto",
           "type": "bar",
           "x": [
            "PP04"
           ],
           "xaxis": "x",
           "y": [
            1892
           ],
           "yaxis": "y"
          }
         ],
         "name": "T16"
        },
        {
         "data": [
          {
           "alignmentgroup": "True",
           "hovertemplate": "Production Pad=%{x}<br>Time=T17<br>Production Forecast (Bbl/Day)=%{y}<extra></extra>",
           "legendgroup": "PP01",
           "marker": {
            "color": "#636efa",
            "pattern": {
             "shape": ""
            }
           },
           "name": "PP01",
           "offsetgroup": "PP01",
           "orientation": "v",
           "showlegend": true,
           "textposition": "auto",
           "type": "bar",
           "x": [
            "PP01"
           ],
           "xaxis": "x",
           "y": [
            2758
           ],
           "yaxis": "y"
          },
          {
           "alignmentgroup": "True",
           "hovertemplate": "Production Pad=%{x}<br>Time=T17<br>Production Forecast (Bbl/Day)=%{y}<extra></extra>",
           "legendgroup": "PP02",
           "marker": {
            "color": "#EF553B",
            "pattern": {
             "shape": ""
            }
           },
           "name": "PP02",
           "offsetgroup": "PP02",
           "orientation": "v",
           "showlegend": true,
           "textposition": "auto",
           "type": "bar",
           "x": [
            "PP02"
           ],
           "xaxis": "x",
           "y": [
            4823
           ],
           "yaxis": "y"
          },
          {
           "alignmentgroup": "True",
           "hovertemplate": "Production Pad=%{x}<br>Time=T17<br>Production Forecast (Bbl/Day)=%{y}<extra></extra>",
           "legendgroup": "PP03",
           "marker": {
            "color": "#00cc96",
            "pattern": {
             "shape": ""
            }
           },
           "name": "PP03",
           "offsetgroup": "PP03",
           "orientation": "v",
           "showlegend": true,
           "textposition": "auto",
           "type": "bar",
           "x": [
            "PP03"
           ],
           "xaxis": "x",
           "y": [
            3940
           ],
           "yaxis": "y"
          },
          {
           "alignmentgroup": "True",
           "hovertemplate": "Production Pad=%{x}<br>Time=T17<br>Production Forecast (Bbl/Day)=%{y}<extra></extra>",
           "legendgroup": "PP04",
           "marker": {
            "color": "#ab63fa",
            "pattern": {
             "shape": ""
            }
           },
           "name": "PP04",
           "offsetgroup": "PP04",
           "orientation": "v",
           "showlegend": true,
           "textposition": "auto",
           "type": "bar",
           "x": [
            "PP04"
           ],
           "xaxis": "x",
           "y": [
            1890
           ],
           "yaxis": "y"
          }
         ],
         "name": "T17"
        },
        {
         "data": [
          {
           "alignmentgroup": "True",
           "hovertemplate": "Production Pad=%{x}<br>Time=T18<br>Production Forecast (Bbl/Day)=%{y}<extra></extra>",
           "legendgroup": "PP01",
           "marker": {
            "color": "#636efa",
            "pattern": {
             "shape": ""
            }
           },
           "name": "PP01",
           "offsetgroup": "PP01",
           "orientation": "v",
           "showlegend": true,
           "textposition": "auto",
           "type": "bar",
           "x": [
            "PP01"
           ],
           "xaxis": "x",
           "y": [
            2725
           ],
           "yaxis": "y"
          },
          {
           "alignmentgroup": "True",
           "hovertemplate": "Production Pad=%{x}<br>Time=T18<br>Production Forecast (Bbl/Day)=%{y}<extra></extra>",
           "legendgroup": "PP02",
           "marker": {
            "color": "#EF553B",
            "pattern": {
             "shape": ""
            }
           },
           "name": "PP02",
           "offsetgroup": "PP02",
           "orientation": "v",
           "showlegend": true,
           "textposition": "auto",
           "type": "bar",
           "x": [
            "PP02"
           ],
           "xaxis": "x",
           "y": [
            4727
           ],
           "yaxis": "y"
          },
          {
           "alignmentgroup": "True",
           "hovertemplate": "Production Pad=%{x}<br>Time=T18<br>Production Forecast (Bbl/Day)=%{y}<extra></extra>",
           "legendgroup": "PP03",
           "marker": {
            "color": "#00cc96",
            "pattern": {
             "shape": ""
            }
           },
           "name": "PP03",
           "offsetgroup": "PP03",
           "orientation": "v",
           "showlegend": true,
           "textposition": "auto",
           "type": "bar",
           "x": [
            "PP03"
           ],
           "xaxis": "x",
           "y": [
            3884
           ],
           "yaxis": "y"
          },
          {
           "alignmentgroup": "True",
           "hovertemplate": "Production Pad=%{x}<br>Time=T18<br>Production Forecast (Bbl/Day)=%{y}<extra></extra>",
           "legendgroup": "PP04",
           "marker": {
            "color": "#ab63fa",
            "pattern": {
             "shape": ""
            }
           },
           "name": "PP04",
           "offsetgroup": "PP04",
           "orientation": "v",
           "showlegend": true,
           "textposition": "auto",
           "type": "bar",
           "x": [
            "PP04"
           ],
           "xaxis": "x",
           "y": [
            1888
           ],
           "yaxis": "y"
          }
         ],
         "name": "T18"
        },
        {
         "data": [
          {
           "alignmentgroup": "True",
           "hovertemplate": "Production Pad=%{x}<br>Time=T19<br>Production Forecast (Bbl/Day)=%{y}<extra></extra>",
           "legendgroup": "PP01",
           "marker": {
            "color": "#636efa",
            "pattern": {
             "shape": ""
            }
           },
           "name": "PP01",
           "offsetgroup": "PP01",
           "orientation": "v",
           "showlegend": true,
           "textposition": "auto",
           "type": "bar",
           "x": [
            "PP01"
           ],
           "xaxis": "x",
           "y": [
            2694
           ],
           "yaxis": "y"
          },
          {
           "alignmentgroup": "True",
           "hovertemplate": "Production Pad=%{x}<br>Time=T19<br>Production Forecast (Bbl/Day)=%{y}<extra></extra>",
           "legendgroup": "PP02",
           "marker": {
            "color": "#EF553B",
            "pattern": {
             "shape": ""
            }
           },
           "name": "PP02",
           "offsetgroup": "PP02",
           "orientation": "v",
           "showlegend": true,
           "textposition": "auto",
           "type": "bar",
           "x": [
            "PP02"
           ],
           "xaxis": "x",
           "y": [
            4639
           ],
           "yaxis": "y"
          },
          {
           "alignmentgroup": "True",
           "hovertemplate": "Production Pad=%{x}<br>Time=T19<br>Production Forecast (Bbl/Day)=%{y}<extra></extra>",
           "legendgroup": "PP03",
           "marker": {
            "color": "#00cc96",
            "pattern": {
             "shape": ""
            }
           },
           "name": "PP03",
           "offsetgroup": "PP03",
           "orientation": "v",
           "showlegend": true,
           "textposition": "auto",
           "type": "bar",
           "x": [
            "PP03"
           ],
           "xaxis": "x",
           "y": [
            3832
           ],
           "yaxis": "y"
          },
          {
           "alignmentgroup": "True",
           "hovertemplate": "Production Pad=%{x}<br>Time=T19<br>Production Forecast (Bbl/Day)=%{y}<extra></extra>",
           "legendgroup": "PP04",
           "marker": {
            "color": "#ab63fa",
            "pattern": {
             "shape": ""
            }
           },
           "name": "PP04",
           "offsetgroup": "PP04",
           "orientation": "v",
           "showlegend": true,
           "textposition": "auto",
           "type": "bar",
           "x": [
            "PP04"
           ],
           "xaxis": "x",
           "y": [
            1886
           ],
           "yaxis": "y"
          }
         ],
         "name": "T19"
        },
        {
         "data": [
          {
           "alignmentgroup": "True",
           "hovertemplate": "Production Pad=%{x}<br>Time=T20<br>Production Forecast (Bbl/Day)=%{y}<extra></extra>",
           "legendgroup": "PP01",
           "marker": {
            "color": "#636efa",
            "pattern": {
             "shape": ""
            }
           },
           "name": "PP01",
           "offsetgroup": "PP01",
           "orientation": "v",
           "showlegend": true,
           "textposition": "auto",
           "type": "bar",
           "x": [
            "PP01"
           ],
           "xaxis": "x",
           "y": [
            2665
           ],
           "yaxis": "y"
          },
          {
           "alignmentgroup": "True",
           "hovertemplate": "Production Pad=%{x}<br>Time=T20<br>Production Forecast (Bbl/Day)=%{y}<extra></extra>",
           "legendgroup": "PP02",
           "marker": {
            "color": "#EF553B",
            "pattern": {
             "shape": ""
            }
           },
           "name": "PP02",
           "offsetgroup": "PP02",
           "orientation": "v",
           "showlegend": true,
           "textposition": "auto",
           "type": "bar",
           "x": [
            "PP02"
           ],
           "xaxis": "x",
           "y": [
            4556
           ],
           "yaxis": "y"
          },
          {
           "alignmentgroup": "True",
           "hovertemplate": "Production Pad=%{x}<br>Time=T20<br>Production Forecast (Bbl/Day)=%{y}<extra></extra>",
           "legendgroup": "PP03",
           "marker": {
            "color": "#00cc96",
            "pattern": {
             "shape": ""
            }
           },
           "name": "PP03",
           "offsetgroup": "PP03",
           "orientation": "v",
           "showlegend": true,
           "textposition": "auto",
           "type": "bar",
           "x": [
            "PP03"
           ],
           "xaxis": "x",
           "y": [
            3783
           ],
           "yaxis": "y"
          },
          {
           "alignmentgroup": "True",
           "hovertemplate": "Production Pad=%{x}<br>Time=T20<br>Production Forecast (Bbl/Day)=%{y}<extra></extra>",
           "legendgroup": "PP04",
           "marker": {
            "color": "#ab63fa",
            "pattern": {
             "shape": ""
            }
           },
           "name": "PP04",
           "offsetgroup": "PP04",
           "orientation": "v",
           "showlegend": true,
           "textposition": "auto",
           "type": "bar",
           "x": [
            "PP04"
           ],
           "xaxis": "x",
           "y": [
            1884
           ],
           "yaxis": "y"
          }
         ],
         "name": "T20"
        },
        {
         "data": [
          {
           "alignmentgroup": "True",
           "hovertemplate": "Production Pad=%{x}<br>Time=T21<br>Production Forecast (Bbl/Day)=%{y}<extra></extra>",
           "legendgroup": "PP01",
           "marker": {
            "color": "#636efa",
            "pattern": {
             "shape": ""
            }
           },
           "name": "PP01",
           "offsetgroup": "PP01",
           "orientation": "v",
           "showlegend": true,
           "textposition": "auto",
           "type": "bar",
           "x": [
            "PP01"
           ],
           "xaxis": "x",
           "y": [
            2638
           ],
           "yaxis": "y"
          },
          {
           "alignmentgroup": "True",
           "hovertemplate": "Production Pad=%{x}<br>Time=T21<br>Production Forecast (Bbl/Day)=%{y}<extra></extra>",
           "legendgroup": "PP02",
           "marker": {
            "color": "#EF553B",
            "pattern": {
             "shape": ""
            }
           },
           "name": "PP02",
           "offsetgroup": "PP02",
           "orientation": "v",
           "showlegend": true,
           "textposition": "auto",
           "type": "bar",
           "x": [
            "PP02"
           ],
           "xaxis": "x",
           "y": [
            4479
           ],
           "yaxis": "y"
          },
          {
           "alignmentgroup": "True",
           "hovertemplate": "Production Pad=%{x}<br>Time=T21<br>Production Forecast (Bbl/Day)=%{y}<extra></extra>",
           "legendgroup": "PP03",
           "marker": {
            "color": "#00cc96",
            "pattern": {
             "shape": ""
            }
           },
           "name": "PP03",
           "offsetgroup": "PP03",
           "orientation": "v",
           "showlegend": true,
           "textposition": "auto",
           "type": "bar",
           "x": [
            "PP03"
           ],
           "xaxis": "x",
           "y": [
            3737
           ],
           "yaxis": "y"
          },
          {
           "alignmentgroup": "True",
           "hovertemplate": "Production Pad=%{x}<br>Time=T21<br>Production Forecast (Bbl/Day)=%{y}<extra></extra>",
           "legendgroup": "PP04",
           "marker": {
            "color": "#ab63fa",
            "pattern": {
             "shape": ""
            }
           },
           "name": "PP04",
           "offsetgroup": "PP04",
           "orientation": "v",
           "showlegend": true,
           "textposition": "auto",
           "type": "bar",
           "x": [
            "PP04"
           ],
           "xaxis": "x",
           "y": [
            1882
           ],
           "yaxis": "y"
          }
         ],
         "name": "T21"
        },
        {
         "data": [
          {
           "alignmentgroup": "True",
           "hovertemplate": "Production Pad=%{x}<br>Time=T22<br>Production Forecast (Bbl/Day)=%{y}<extra></extra>",
           "legendgroup": "PP01",
           "marker": {
            "color": "#636efa",
            "pattern": {
             "shape": ""
            }
           },
           "name": "PP01",
           "offsetgroup": "PP01",
           "orientation": "v",
           "showlegend": true,
           "textposition": "auto",
           "type": "bar",
           "x": [
            "PP01"
           ],
           "xaxis": "x",
           "y": [
            2613
           ],
           "yaxis": "y"
          },
          {
           "alignmentgroup": "True",
           "hovertemplate": "Production Pad=%{x}<br>Time=T22<br>Production Forecast (Bbl/Day)=%{y}<extra></extra>",
           "legendgroup": "PP02",
           "marker": {
            "color": "#EF553B",
            "pattern": {
             "shape": ""
            }
           },
           "name": "PP02",
           "offsetgroup": "PP02",
           "orientation": "v",
           "showlegend": true,
           "textposition": "auto",
           "type": "bar",
           "x": [
            "PP02"
           ],
           "xaxis": "x",
           "y": [
            4407
           ],
           "yaxis": "y"
          },
          {
           "alignmentgroup": "True",
           "hovertemplate": "Production Pad=%{x}<br>Time=T22<br>Production Forecast (Bbl/Day)=%{y}<extra></extra>",
           "legendgroup": "PP03",
           "marker": {
            "color": "#00cc96",
            "pattern": {
             "shape": ""
            }
           },
           "name": "PP03",
           "offsetgroup": "PP03",
           "orientation": "v",
           "showlegend": true,
           "textposition": "auto",
           "type": "bar",
           "x": [
            "PP03"
           ],
           "xaxis": "x",
           "y": [
            3694
           ],
           "yaxis": "y"
          },
          {
           "alignmentgroup": "True",
           "hovertemplate": "Production Pad=%{x}<br>Time=T22<br>Production Forecast (Bbl/Day)=%{y}<extra></extra>",
           "legendgroup": "PP04",
           "marker": {
            "color": "#ab63fa",
            "pattern": {
             "shape": ""
            }
           },
           "name": "PP04",
           "offsetgroup": "PP04",
           "orientation": "v",
           "showlegend": true,
           "textposition": "auto",
           "type": "bar",
           "x": [
            "PP04"
           ],
           "xaxis": "x",
           "y": [
            1880
           ],
           "yaxis": "y"
          }
         ],
         "name": "T22"
        },
        {
         "data": [
          {
           "alignmentgroup": "True",
           "hovertemplate": "Production Pad=%{x}<br>Time=T23<br>Production Forecast (Bbl/Day)=%{y}<extra></extra>",
           "legendgroup": "PP01",
           "marker": {
            "color": "#636efa",
            "pattern": {
             "shape": ""
            }
           },
           "name": "PP01",
           "offsetgroup": "PP01",
           "orientation": "v",
           "showlegend": true,
           "textposition": "auto",
           "type": "bar",
           "x": [
            "PP01"
           ],
           "xaxis": "x",
           "y": [
            2588
           ],
           "yaxis": "y"
          },
          {
           "alignmentgroup": "True",
           "hovertemplate": "Production Pad=%{x}<br>Time=T23<br>Production Forecast (Bbl/Day)=%{y}<extra></extra>",
           "legendgroup": "PP02",
           "marker": {
            "color": "#EF553B",
            "pattern": {
             "shape": ""
            }
           },
           "name": "PP02",
           "offsetgroup": "PP02",
           "orientation": "v",
           "showlegend": true,
           "textposition": "auto",
           "type": "bar",
           "x": [
            "PP02"
           ],
           "xaxis": "x",
           "y": [
            4338
           ],
           "yaxis": "y"
          },
          {
           "alignmentgroup": "True",
           "hovertemplate": "Production Pad=%{x}<br>Time=T23<br>Production Forecast (Bbl/Day)=%{y}<extra></extra>",
           "legendgroup": "PP03",
           "marker": {
            "color": "#00cc96",
            "pattern": {
             "shape": ""
            }
           },
           "name": "PP03",
           "offsetgroup": "PP03",
           "orientation": "v",
           "showlegend": true,
           "textposition": "auto",
           "type": "bar",
           "x": [
            "PP03"
           ],
           "xaxis": "x",
           "y": [
            3653
           ],
           "yaxis": "y"
          },
          {
           "alignmentgroup": "True",
           "hovertemplate": "Production Pad=%{x}<br>Time=T23<br>Production Forecast (Bbl/Day)=%{y}<extra></extra>",
           "legendgroup": "PP04",
           "marker": {
            "color": "#ab63fa",
            "pattern": {
             "shape": ""
            }
           },
           "name": "PP04",
           "offsetgroup": "PP04",
           "orientation": "v",
           "showlegend": true,
           "textposition": "auto",
           "type": "bar",
           "x": [
            "PP04"
           ],
           "xaxis": "x",
           "y": [
            1878
           ],
           "yaxis": "y"
          }
         ],
         "name": "T23"
        },
        {
         "data": [
          {
           "alignmentgroup": "True",
           "hovertemplate": "Production Pad=%{x}<br>Time=T24<br>Production Forecast (Bbl/Day)=%{y}<extra></extra>",
           "legendgroup": "PP01",
           "marker": {
            "color": "#636efa",
            "pattern": {
             "shape": ""
            }
           },
           "name": "PP01",
           "offsetgroup": "PP01",
           "orientation": "v",
           "showlegend": true,
           "textposition": "auto",
           "type": "bar",
           "x": [
            "PP01"
           ],
           "xaxis": "x",
           "y": [
            2565
           ],
           "yaxis": "y"
          },
          {
           "alignmentgroup": "True",
           "hovertemplate": "Production Pad=%{x}<br>Time=T24<br>Production Forecast (Bbl/Day)=%{y}<extra></extra>",
           "legendgroup": "PP02",
           "marker": {
            "color": "#EF553B",
            "pattern": {
             "shape": ""
            }
           },
           "name": "PP02",
           "offsetgroup": "PP02",
           "orientation": "v",
           "showlegend": true,
           "textposition": "auto",
           "type": "bar",
           "x": [
            "PP02"
           ],
           "xaxis": "x",
           "y": [
            4274
           ],
           "yaxis": "y"
          },
          {
           "alignmentgroup": "True",
           "hovertemplate": "Production Pad=%{x}<br>Time=T24<br>Production Forecast (Bbl/Day)=%{y}<extra></extra>",
           "legendgroup": "PP03",
           "marker": {
            "color": "#00cc96",
            "pattern": {
             "shape": ""
            }
           },
           "name": "PP03",
           "offsetgroup": "PP03",
           "orientation": "v",
           "showlegend": true,
           "textposition": "auto",
           "type": "bar",
           "x": [
            "PP03"
           ],
           "xaxis": "x",
           "y": [
            3614
           ],
           "yaxis": "y"
          },
          {
           "alignmentgroup": "True",
           "hovertemplate": "Production Pad=%{x}<br>Time=T24<br>Production Forecast (Bbl/Day)=%{y}<extra></extra>",
           "legendgroup": "PP04",
           "marker": {
            "color": "#ab63fa",
            "pattern": {
             "shape": ""
            }
           },
           "name": "PP04",
           "offsetgroup": "PP04",
           "orientation": "v",
           "showlegend": true,
           "textposition": "auto",
           "type": "bar",
           "x": [
            "PP04"
           ],
           "xaxis": "x",
           "y": [
            1877
           ],
           "yaxis": "y"
          }
         ],
         "name": "T24"
        },
        {
         "data": [
          {
           "alignmentgroup": "True",
           "hovertemplate": "Production Pad=%{x}<br>Time=T25<br>Production Forecast (Bbl/Day)=%{y}<extra></extra>",
           "legendgroup": "PP01",
           "marker": {
            "color": "#636efa",
            "pattern": {
             "shape": ""
            }
           },
           "name": "PP01",
           "offsetgroup": "PP01",
           "orientation": "v",
           "showlegend": true,
           "textposition": "auto",
           "type": "bar",
           "x": [
            "PP01"
           ],
           "xaxis": "x",
           "y": [
            2543
           ],
           "yaxis": "y"
          },
          {
           "alignmentgroup": "True",
           "hovertemplate": "Production Pad=%{x}<br>Time=T25<br>Production Forecast (Bbl/Day)=%{y}<extra></extra>",
           "legendgroup": "PP02",
           "marker": {
            "color": "#EF553B",
            "pattern": {
             "shape": ""
            }
           },
           "name": "PP02",
           "offsetgroup": "PP02",
           "orientation": "v",
           "showlegend": true,
           "textposition": "auto",
           "type": "bar",
           "x": [
            "PP02"
           ],
           "xaxis": "x",
           "y": [
            4214
           ],
           "yaxis": "y"
          },
          {
           "alignmentgroup": "True",
           "hovertemplate": "Production Pad=%{x}<br>Time=T25<br>Production Forecast (Bbl/Day)=%{y}<extra></extra>",
           "legendgroup": "PP03",
           "marker": {
            "color": "#00cc96",
            "pattern": {
             "shape": ""
            }
           },
           "name": "PP03",
           "offsetgroup": "PP03",
           "orientation": "v",
           "showlegend": true,
           "textposition": "auto",
           "type": "bar",
           "x": [
            "PP03"
           ],
           "xaxis": "x",
           "y": [
            3578
           ],
           "yaxis": "y"
          },
          {
           "alignmentgroup": "True",
           "hovertemplate": "Production Pad=%{x}<br>Time=T25<br>Production Forecast (Bbl/Day)=%{y}<extra></extra>",
           "legendgroup": "PP04",
           "marker": {
            "color": "#ab63fa",
            "pattern": {
             "shape": ""
            }
           },
           "name": "PP04",
           "offsetgroup": "PP04",
           "orientation": "v",
           "showlegend": true,
           "textposition": "auto",
           "type": "bar",
           "x": [
            "PP04"
           ],
           "xaxis": "x",
           "y": [
            1875
           ],
           "yaxis": "y"
          }
         ],
         "name": "T25"
        },
        {
         "data": [
          {
           "alignmentgroup": "True",
           "hovertemplate": "Production Pad=%{x}<br>Time=T26<br>Production Forecast (Bbl/Day)=%{y}<extra></extra>",
           "legendgroup": "PP01",
           "marker": {
            "color": "#636efa",
            "pattern": {
             "shape": ""
            }
           },
           "name": "PP01",
           "offsetgroup": "PP01",
           "orientation": "v",
           "showlegend": true,
           "textposition": "auto",
           "type": "bar",
           "x": [
            "PP01"
           ],
           "xaxis": "x",
           "y": [
            2522
           ],
           "yaxis": "y"
          },
          {
           "alignmentgroup": "True",
           "hovertemplate": "Production Pad=%{x}<br>Time=T26<br>Production Forecast (Bbl/Day)=%{y}<extra></extra>",
           "legendgroup": "PP02",
           "marker": {
            "color": "#EF553B",
            "pattern": {
             "shape": ""
            }
           },
           "name": "PP02",
           "offsetgroup": "PP02",
           "orientation": "v",
           "showlegend": true,
           "textposition": "auto",
           "type": "bar",
           "x": [
            "PP02"
           ],
           "xaxis": "x",
           "y": [
            4156
           ],
           "yaxis": "y"
          },
          {
           "alignmentgroup": "True",
           "hovertemplate": "Production Pad=%{x}<br>Time=T26<br>Production Forecast (Bbl/Day)=%{y}<extra></extra>",
           "legendgroup": "PP03",
           "marker": {
            "color": "#00cc96",
            "pattern": {
             "shape": ""
            }
           },
           "name": "PP03",
           "offsetgroup": "PP03",
           "orientation": "v",
           "showlegend": true,
           "textposition": "auto",
           "type": "bar",
           "x": [
            "PP03"
           ],
           "xaxis": "x",
           "y": [
            3543
           ],
           "yaxis": "y"
          },
          {
           "alignmentgroup": "True",
           "hovertemplate": "Production Pad=%{x}<br>Time=T26<br>Production Forecast (Bbl/Day)=%{y}<extra></extra>",
           "legendgroup": "PP04",
           "marker": {
            "color": "#ab63fa",
            "pattern": {
             "shape": ""
            }
           },
           "name": "PP04",
           "offsetgroup": "PP04",
           "orientation": "v",
           "showlegend": true,
           "textposition": "auto",
           "type": "bar",
           "x": [
            "PP04"
           ],
           "xaxis": "x",
           "y": [
            1874
           ],
           "yaxis": "y"
          }
         ],
         "name": "T26"
        },
        {
         "data": [
          {
           "alignmentgroup": "True",
           "hovertemplate": "Production Pad=%{x}<br>Time=T27<br>Production Forecast (Bbl/Day)=%{y}<extra></extra>",
           "legendgroup": "PP01",
           "marker": {
            "color": "#636efa",
            "pattern": {
             "shape": ""
            }
           },
           "name": "PP01",
           "offsetgroup": "PP01",
           "orientation": "v",
           "showlegend": true,
           "textposition": "auto",
           "type": "bar",
           "x": [
            "PP01"
           ],
           "xaxis": "x",
           "y": [
            2503
           ],
           "yaxis": "y"
          },
          {
           "alignmentgroup": "True",
           "hovertemplate": "Production Pad=%{x}<br>Time=T27<br>Production Forecast (Bbl/Day)=%{y}<extra></extra>",
           "legendgroup": "PP02",
           "marker": {
            "color": "#EF553B",
            "pattern": {
             "shape": ""
            }
           },
           "name": "PP02",
           "offsetgroup": "PP02",
           "orientation": "v",
           "showlegend": true,
           "textposition": "auto",
           "type": "bar",
           "x": [
            "PP02"
           ],
           "xaxis": "x",
           "y": [
            4102
           ],
           "yaxis": "y"
          },
          {
           "alignmentgroup": "True",
           "hovertemplate": "Production Pad=%{x}<br>Time=T27<br>Production Forecast (Bbl/Day)=%{y}<extra></extra>",
           "legendgroup": "PP03",
           "marker": {
            "color": "#00cc96",
            "pattern": {
             "shape": ""
            }
           },
           "name": "PP03",
           "offsetgroup": "PP03",
           "orientation": "v",
           "showlegend": true,
           "textposition": "auto",
           "type": "bar",
           "x": [
            "PP03"
           ],
           "xaxis": "x",
           "y": [
            3510
           ],
           "yaxis": "y"
          },
          {
           "alignmentgroup": "True",
           "hovertemplate": "Production Pad=%{x}<br>Time=T27<br>Production Forecast (Bbl/Day)=%{y}<extra></extra>",
           "legendgroup": "PP04",
           "marker": {
            "color": "#ab63fa",
            "pattern": {
             "shape": ""
            }
           },
           "name": "PP04",
           "offsetgroup": "PP04",
           "orientation": "v",
           "showlegend": true,
           "textposition": "auto",
           "type": "bar",
           "x": [
            "PP04"
           ],
           "xaxis": "x",
           "y": [
            1872
           ],
           "yaxis": "y"
          }
         ],
         "name": "T27"
        },
        {
         "data": [
          {
           "alignmentgroup": "True",
           "hovertemplate": "Production Pad=%{x}<br>Time=T28<br>Production Forecast (Bbl/Day)=%{y}<extra></extra>",
           "legendgroup": "PP01",
           "marker": {
            "color": "#636efa",
            "pattern": {
             "shape": ""
            }
           },
           "name": "PP01",
           "offsetgroup": "PP01",
           "orientation": "v",
           "showlegend": true,
           "textposition": "auto",
           "type": "bar",
           "x": [
            "PP01"
           ],
           "xaxis": "x",
           "y": [
            2484
           ],
           "yaxis": "y"
          },
          {
           "alignmentgroup": "True",
           "hovertemplate": "Production Pad=%{x}<br>Time=T28<br>Production Forecast (Bbl/Day)=%{y}<extra></extra>",
           "legendgroup": "PP02",
           "marker": {
            "color": "#EF553B",
            "pattern": {
             "shape": ""
            }
           },
           "name": "PP02",
           "offsetgroup": "PP02",
           "orientation": "v",
           "showlegend": true,
           "textposition": "auto",
           "type": "bar",
           "x": [
            "PP02"
           ],
           "xaxis": "x",
           "y": [
            4050
           ],
           "yaxis": "y"
          },
          {
           "alignmentgroup": "True",
           "hovertemplate": "Production Pad=%{x}<br>Time=T28<br>Production Forecast (Bbl/Day)=%{y}<extra></extra>",
           "legendgroup": "PP03",
           "marker": {
            "color": "#00cc96",
            "pattern": {
             "shape": ""
            }
           },
           "name": "PP03",
           "offsetgroup": "PP03",
           "orientation": "v",
           "showlegend": true,
           "textposition": "auto",
           "type": "bar",
           "x": [
            "PP03"
           ],
           "xaxis": "x",
           "y": [
            3478
           ],
           "yaxis": "y"
          },
          {
           "alignmentgroup": "True",
           "hovertemplate": "Production Pad=%{x}<br>Time=T28<br>Production Forecast (Bbl/Day)=%{y}<extra></extra>",
           "legendgroup": "PP04",
           "marker": {
            "color": "#ab63fa",
            "pattern": {
             "shape": ""
            }
           },
           "name": "PP04",
           "offsetgroup": "PP04",
           "orientation": "v",
           "showlegend": true,
           "textposition": "auto",
           "type": "bar",
           "x": [
            "PP04"
           ],
           "xaxis": "x",
           "y": [
            1871
           ],
           "yaxis": "y"
          }
         ],
         "name": "T28"
        },
        {
         "data": [
          {
           "alignmentgroup": "True",
           "hovertemplate": "Production Pad=%{x}<br>Time=T29<br>Production Forecast (Bbl/Day)=%{y}<extra></extra>",
           "legendgroup": "PP01",
           "marker": {
            "color": "#636efa",
            "pattern": {
             "shape": ""
            }
           },
           "name": "PP01",
           "offsetgroup": "PP01",
           "orientation": "v",
           "showlegend": true,
           "textposition": "auto",
           "type": "bar",
           "x": [
            "PP01"
           ],
           "xaxis": "x",
           "y": [
            2465
           ],
           "yaxis": "y"
          },
          {
           "alignmentgroup": "True",
           "hovertemplate": "Production Pad=%{x}<br>Time=T29<br>Production Forecast (Bbl/Day)=%{y}<extra></extra>",
           "legendgroup": "PP02",
           "marker": {
            "color": "#EF553B",
            "pattern": {
             "shape": ""
            }
           },
           "name": "PP02",
           "offsetgroup": "PP02",
           "orientation": "v",
           "showlegend": true,
           "textposition": "auto",
           "type": "bar",
           "x": [
            "PP02"
           ],
           "xaxis": "x",
           "y": [
            4000
           ],
           "yaxis": "y"
          },
          {
           "alignmentgroup": "True",
           "hovertemplate": "Production Pad=%{x}<br>Time=T29<br>Production Forecast (Bbl/Day)=%{y}<extra></extra>",
           "legendgroup": "PP03",
           "marker": {
            "color": "#00cc96",
            "pattern": {
             "shape": ""
            }
           },
           "name": "PP03",
           "offsetgroup": "PP03",
           "orientation": "v",
           "showlegend": true,
           "textposition": "auto",
           "type": "bar",
           "x": [
            "PP03"
           ],
           "xaxis": "x",
           "y": [
            3447
           ],
           "yaxis": "y"
          },
          {
           "alignmentgroup": "True",
           "hovertemplate": "Production Pad=%{x}<br>Time=T29<br>Production Forecast (Bbl/Day)=%{y}<extra></extra>",
           "legendgroup": "PP04",
           "marker": {
            "color": "#ab63fa",
            "pattern": {
             "shape": ""
            }
           },
           "name": "PP04",
           "offsetgroup": "PP04",
           "orientation": "v",
           "showlegend": true,
           "textposition": "auto",
           "type": "bar",
           "x": [
            "PP04"
           ],
           "xaxis": "x",
           "y": [
            1870
           ],
           "yaxis": "y"
          }
         ],
         "name": "T29"
        },
        {
         "data": [
          {
           "alignmentgroup": "True",
           "hovertemplate": "Production Pad=%{x}<br>Time=T30<br>Production Forecast (Bbl/Day)=%{y}<extra></extra>",
           "legendgroup": "PP01",
           "marker": {
            "color": "#636efa",
            "pattern": {
             "shape": ""
            }
           },
           "name": "PP01",
           "offsetgroup": "PP01",
           "orientation": "v",
           "showlegend": true,
           "textposition": "auto",
           "type": "bar",
           "x": [
            "PP01"
           ],
           "xaxis": "x",
           "y": [
            2448
           ],
           "yaxis": "y"
          },
          {
           "alignmentgroup": "True",
           "hovertemplate": "Production Pad=%{x}<br>Time=T30<br>Production Forecast (Bbl/Day)=%{y}<extra></extra>",
           "legendgroup": "PP02",
           "marker": {
            "color": "#EF553B",
            "pattern": {
             "shape": ""
            }
           },
           "name": "PP02",
           "offsetgroup": "PP02",
           "orientation": "v",
           "showlegend": true,
           "textposition": "auto",
           "type": "bar",
           "x": [
            "PP02"
           ],
           "xaxis": "x",
           "y": [
            3953
           ],
           "yaxis": "y"
          },
          {
           "alignmentgroup": "True",
           "hovertemplate": "Production Pad=%{x}<br>Time=T30<br>Production Forecast (Bbl/Day)=%{y}<extra></extra>",
           "legendgroup": "PP03",
           "marker": {
            "color": "#00cc96",
            "pattern": {
             "shape": ""
            }
           },
           "name": "PP03",
           "offsetgroup": "PP03",
           "orientation": "v",
           "showlegend": true,
           "textposition": "auto",
           "type": "bar",
           "x": [
            "PP03"
           ],
           "xaxis": "x",
           "y": [
            3418
           ],
           "yaxis": "y"
          },
          {
           "alignmentgroup": "True",
           "hovertemplate": "Production Pad=%{x}<br>Time=T30<br>Production Forecast (Bbl/Day)=%{y}<extra></extra>",
           "legendgroup": "PP04",
           "marker": {
            "color": "#ab63fa",
            "pattern": {
             "shape": ""
            }
           },
           "name": "PP04",
           "offsetgroup": "PP04",
           "orientation": "v",
           "showlegend": true,
           "textposition": "auto",
           "type": "bar",
           "x": [
            "PP04"
           ],
           "xaxis": "x",
           "y": [
            1868
           ],
           "yaxis": "y"
          }
         ],
         "name": "T30"
        },
        {
         "data": [
          {
           "alignmentgroup": "True",
           "hovertemplate": "Production Pad=%{x}<br>Time=T31<br>Production Forecast (Bbl/Day)=%{y}<extra></extra>",
           "legendgroup": "PP01",
           "marker": {
            "color": "#636efa",
            "pattern": {
             "shape": ""
            }
           },
           "name": "PP01",
           "offsetgroup": "PP01",
           "orientation": "v",
           "showlegend": true,
           "textposition": "auto",
           "type": "bar",
           "x": [
            "PP01"
           ],
           "xaxis": "x",
           "y": [
            2431
           ],
           "yaxis": "y"
          },
          {
           "alignmentgroup": "True",
           "hovertemplate": "Production Pad=%{x}<br>Time=T31<br>Production Forecast (Bbl/Day)=%{y}<extra></extra>",
           "legendgroup": "PP02",
           "marker": {
            "color": "#EF553B",
            "pattern": {
             "shape": ""
            }
           },
           "name": "PP02",
           "offsetgroup": "PP02",
           "orientation": "v",
           "showlegend": true,
           "textposition": "auto",
           "type": "bar",
           "x": [
            "PP02"
           ],
           "xaxis": "x",
           "y": [
            3908
           ],
           "yaxis": "y"
          },
          {
           "alignmentgroup": "True",
           "hovertemplate": "Production Pad=%{x}<br>Time=T31<br>Production Forecast (Bbl/Day)=%{y}<extra></extra>",
           "legendgroup": "PP03",
           "marker": {
            "color": "#00cc96",
            "pattern": {
             "shape": ""
            }
           },
           "name": "PP03",
           "offsetgroup": "PP03",
           "orientation": "v",
           "showlegend": true,
           "textposition": "auto",
           "type": "bar",
           "x": [
            "PP03"
           ],
           "xaxis": "x",
           "y": [
            3390
           ],
           "yaxis": "y"
          },
          {
           "alignmentgroup": "True",
           "hovertemplate": "Production Pad=%{x}<br>Time=T31<br>Production Forecast (Bbl/Day)=%{y}<extra></extra>",
           "legendgroup": "PP04",
           "marker": {
            "color": "#ab63fa",
            "pattern": {
             "shape": ""
            }
           },
           "name": "PP04",
           "offsetgroup": "PP04",
           "orientation": "v",
           "showlegend": true,
           "textposition": "auto",
           "type": "bar",
           "x": [
            "PP04"
           ],
           "xaxis": "x",
           "y": [
            1867
           ],
           "yaxis": "y"
          }
         ],
         "name": "T31"
        },
        {
         "data": [
          {
           "alignmentgroup": "True",
           "hovertemplate": "Production Pad=%{x}<br>Time=T32<br>Production Forecast (Bbl/Day)=%{y}<extra></extra>",
           "legendgroup": "PP01",
           "marker": {
            "color": "#636efa",
            "pattern": {
             "shape": ""
            }
           },
           "name": "PP01",
           "offsetgroup": "PP01",
           "orientation": "v",
           "showlegend": true,
           "textposition": "auto",
           "type": "bar",
           "x": [
            "PP01"
           ],
           "xaxis": "x",
           "y": [
            2415
           ],
           "yaxis": "y"
          },
          {
           "alignmentgroup": "True",
           "hovertemplate": "Production Pad=%{x}<br>Time=T32<br>Production Forecast (Bbl/Day)=%{y}<extra></extra>",
           "legendgroup": "PP02",
           "marker": {
            "color": "#EF553B",
            "pattern": {
             "shape": ""
            }
           },
           "name": "PP02",
           "offsetgroup": "PP02",
           "orientation": "v",
           "showlegend": true,
           "textposition": "auto",
           "type": "bar",
           "x": [
            "PP02"
           ],
           "xaxis": "x",
           "y": [
            3865
           ],
           "yaxis": "y"
          },
          {
           "alignmentgroup": "True",
           "hovertemplate": "Production Pad=%{x}<br>Time=T32<br>Production Forecast (Bbl/Day)=%{y}<extra></extra>",
           "legendgroup": "PP03",
           "marker": {
            "color": "#00cc96",
            "pattern": {
             "shape": ""
            }
           },
           "name": "PP03",
           "offsetgroup": "PP03",
           "orientation": "v",
           "showlegend": true,
           "textposition": "auto",
           "type": "bar",
           "x": [
            "PP03"
           ],
           "xaxis": "x",
           "y": [
            3364
           ],
           "yaxis": "y"
          },
          {
           "alignmentgroup": "True",
           "hovertemplate": "Production Pad=%{x}<br>Time=T32<br>Production Forecast (Bbl/Day)=%{y}<extra></extra>",
           "legendgroup": "PP04",
           "marker": {
            "color": "#ab63fa",
            "pattern": {
             "shape": ""
            }
           },
           "name": "PP04",
           "offsetgroup": "PP04",
           "orientation": "v",
           "showlegend": true,
           "textposition": "auto",
           "type": "bar",
           "x": [
            "PP04"
           ],
           "xaxis": "x",
           "y": [
            1866
           ],
           "yaxis": "y"
          }
         ],
         "name": "T32"
        },
        {
         "data": [
          {
           "alignmentgroup": "True",
           "hovertemplate": "Production Pad=%{x}<br>Time=T33<br>Production Forecast (Bbl/Day)=%{y}<extra></extra>",
           "legendgroup": "PP01",
           "marker": {
            "color": "#636efa",
            "pattern": {
             "shape": ""
            }
           },
           "name": "PP01",
           "offsetgroup": "PP01",
           "orientation": "v",
           "showlegend": true,
           "textposition": "auto",
           "type": "bar",
           "x": [
            "PP01"
           ],
           "xaxis": "x",
           "y": [
            2399
           ],
           "yaxis": "y"
          },
          {
           "alignmentgroup": "True",
           "hovertemplate": "Production Pad=%{x}<br>Time=T33<br>Production Forecast (Bbl/Day)=%{y}<extra></extra>",
           "legendgroup": "PP02",
           "marker": {
            "color": "#EF553B",
            "pattern": {
             "shape": ""
            }
           },
           "name": "PP02",
           "offsetgroup": "PP02",
           "orientation": "v",
           "showlegend": true,
           "textposition": "auto",
           "type": "bar",
           "x": [
            "PP02"
           ],
           "xaxis": "x",
           "y": [
            3824
           ],
           "yaxis": "y"
          },
          {
           "alignmentgroup": "True",
           "hovertemplate": "Production Pad=%{x}<br>Time=T33<br>Production Forecast (Bbl/Day)=%{y}<extra></extra>",
           "legendgroup": "PP03",
           "marker": {
            "color": "#00cc96",
            "pattern": {
             "shape": ""
            }
           },
           "name": "PP03",
           "offsetgroup": "PP03",
           "orientation": "v",
           "showlegend": true,
           "textposition": "auto",
           "type": "bar",
           "x": [
            "PP03"
           ],
           "xaxis": "x",
           "y": [
            3338
           ],
           "yaxis": "y"
          },
          {
           "alignmentgroup": "True",
           "hovertemplate": "Production Pad=%{x}<br>Time=T33<br>Production Forecast (Bbl/Day)=%{y}<extra></extra>",
           "legendgroup": "PP04",
           "marker": {
            "color": "#ab63fa",
            "pattern": {
             "shape": ""
            }
           },
           "name": "PP04",
           "offsetgroup": "PP04",
           "orientation": "v",
           "showlegend": true,
           "textposition": "auto",
           "type": "bar",
           "x": [
            "PP04"
           ],
           "xaxis": "x",
           "y": [
            1865
           ],
           "yaxis": "y"
          }
         ],
         "name": "T33"
        },
        {
         "data": [
          {
           "alignmentgroup": "True",
           "hovertemplate": "Production Pad=%{x}<br>Time=T34<br>Production Forecast (Bbl/Day)=%{y}<extra></extra>",
           "legendgroup": "PP01",
           "marker": {
            "color": "#636efa",
            "pattern": {
             "shape": ""
            }
           },
           "name": "PP01",
           "offsetgroup": "PP01",
           "orientation": "v",
           "showlegend": true,
           "textposition": "auto",
           "type": "bar",
           "x": [
            "PP01"
           ],
           "xaxis": "x",
           "y": [
            2384
           ],
           "yaxis": "y"
          },
          {
           "alignmentgroup": "True",
           "hovertemplate": "Production Pad=%{x}<br>Time=T34<br>Production Forecast (Bbl/Day)=%{y}<extra></extra>",
           "legendgroup": "PP02",
           "marker": {
            "color": "#EF553B",
            "pattern": {
             "shape": ""
            }
           },
           "name": "PP02",
           "offsetgroup": "PP02",
           "orientation": "v",
           "showlegend": true,
           "textposition": "auto",
           "type": "bar",
           "x": [
            "PP02"
           ],
           "xaxis": "x",
           "y": [
            3784
           ],
           "yaxis": "y"
          },
          {
           "alignmentgroup": "True",
           "hovertemplate": "Production Pad=%{x}<br>Time=T34<br>Production Forecast (Bbl/Day)=%{y}<extra></extra>",
           "legendgroup": "PP03",
           "marker": {
            "color": "#00cc96",
            "pattern": {
             "shape": ""
            }
           },
           "name": "PP03",
           "offsetgroup": "PP03",
           "orientation": "v",
           "showlegend": true,
           "textposition": "auto",
           "type": "bar",
           "x": [
            "PP03"
           ],
           "xaxis": "x",
           "y": [
            3313
           ],
           "yaxis": "y"
          },
          {
           "alignmentgroup": "True",
           "hovertemplate": "Production Pad=%{x}<br>Time=T34<br>Production Forecast (Bbl/Day)=%{y}<extra></extra>",
           "legendgroup": "PP04",
           "marker": {
            "color": "#ab63fa",
            "pattern": {
             "shape": ""
            }
           },
           "name": "PP04",
           "offsetgroup": "PP04",
           "orientation": "v",
           "showlegend": true,
           "textposition": "auto",
           "type": "bar",
           "x": [
            "PP04"
           ],
           "xaxis": "x",
           "y": [
            1864
           ],
           "yaxis": "y"
          }
         ],
         "name": "T34"
        },
        {
         "data": [
          {
           "alignmentgroup": "True",
           "hovertemplate": "Production Pad=%{x}<br>Time=T35<br>Production Forecast (Bbl/Day)=%{y}<extra></extra>",
           "legendgroup": "PP01",
           "marker": {
            "color": "#636efa",
            "pattern": {
             "shape": ""
            }
           },
           "name": "PP01",
           "offsetgroup": "PP01",
           "orientation": "v",
           "showlegend": true,
           "textposition": "auto",
           "type": "bar",
           "x": [
            "PP01"
           ],
           "xaxis": "x",
           "y": [
            2370
           ],
           "yaxis": "y"
          },
          {
           "alignmentgroup": "True",
           "hovertemplate": "Production Pad=%{x}<br>Time=T35<br>Production Forecast (Bbl/Day)=%{y}<extra></extra>",
           "legendgroup": "PP02",
           "marker": {
            "color": "#EF553B",
            "pattern": {
             "shape": ""
            }
           },
           "name": "PP02",
           "offsetgroup": "PP02",
           "orientation": "v",
           "showlegend": true,
           "textposition": "auto",
           "type": "bar",
           "x": [
            "PP02"
           ],
           "xaxis": "x",
           "y": [
            3746
           ],
           "yaxis": "y"
          },
          {
           "alignmentgroup": "True",
           "hovertemplate": "Production Pad=%{x}<br>Time=T35<br>Production Forecast (Bbl/Day)=%{y}<extra></extra>",
           "legendgroup": "PP03",
           "marker": {
            "color": "#00cc96",
            "pattern": {
             "shape": ""
            }
           },
           "name": "PP03",
           "offsetgroup": "PP03",
           "orientation": "v",
           "showlegend": true,
           "textposition": "auto",
           "type": "bar",
           "x": [
            "PP03"
           ],
           "xaxis": "x",
           "y": [
            3289
           ],
           "yaxis": "y"
          },
          {
           "alignmentgroup": "True",
           "hovertemplate": "Production Pad=%{x}<br>Time=T35<br>Production Forecast (Bbl/Day)=%{y}<extra></extra>",
           "legendgroup": "PP04",
           "marker": {
            "color": "#ab63fa",
            "pattern": {
             "shape": ""
            }
           },
           "name": "PP04",
           "offsetgroup": "PP04",
           "orientation": "v",
           "showlegend": true,
           "textposition": "auto",
           "type": "bar",
           "x": [
            "PP04"
           ],
           "xaxis": "x",
           "y": [
            1863
           ],
           "yaxis": "y"
          }
         ],
         "name": "T35"
        },
        {
         "data": [
          {
           "alignmentgroup": "True",
           "hovertemplate": "Production Pad=%{x}<br>Time=T36<br>Production Forecast (Bbl/Day)=%{y}<extra></extra>",
           "legendgroup": "PP01",
           "marker": {
            "color": "#636efa",
            "pattern": {
             "shape": ""
            }
           },
           "name": "PP01",
           "offsetgroup": "PP01",
           "orientation": "v",
           "showlegend": true,
           "textposition": "auto",
           "type": "bar",
           "x": [
            "PP01"
           ],
           "xaxis": "x",
           "y": [
            2356
           ],
           "yaxis": "y"
          },
          {
           "alignmentgroup": "True",
           "hovertemplate": "Production Pad=%{x}<br>Time=T36<br>Production Forecast (Bbl/Day)=%{y}<extra></extra>",
           "legendgroup": "PP02",
           "marker": {
            "color": "#EF553B",
            "pattern": {
             "shape": ""
            }
           },
           "name": "PP02",
           "offsetgroup": "PP02",
           "orientation": "v",
           "showlegend": true,
           "textposition": "auto",
           "type": "bar",
           "x": [
            "PP02"
           ],
           "xaxis": "x",
           "y": [
            3709
           ],
           "yaxis": "y"
          },
          {
           "alignmentgroup": "True",
           "hovertemplate": "Production Pad=%{x}<br>Time=T36<br>Production Forecast (Bbl/Day)=%{y}<extra></extra>",
           "legendgroup": "PP03",
           "marker": {
            "color": "#00cc96",
            "pattern": {
             "shape": ""
            }
           },
           "name": "PP03",
           "offsetgroup": "PP03",
           "orientation": "v",
           "showlegend": true,
           "textposition": "auto",
           "type": "bar",
           "x": [
            "PP03"
           ],
           "xaxis": "x",
           "y": [
            3266
           ],
           "yaxis": "y"
          },
          {
           "alignmentgroup": "True",
           "hovertemplate": "Production Pad=%{x}<br>Time=T36<br>Production Forecast (Bbl/Day)=%{y}<extra></extra>",
           "legendgroup": "PP04",
           "marker": {
            "color": "#ab63fa",
            "pattern": {
             "shape": ""
            }
           },
           "name": "PP04",
           "offsetgroup": "PP04",
           "orientation": "v",
           "showlegend": true,
           "textposition": "auto",
           "type": "bar",
           "x": [
            "PP04"
           ],
           "xaxis": "x",
           "y": [
            1862
           ],
           "yaxis": "y"
          }
         ],
         "name": "T36"
        },
        {
         "data": [
          {
           "alignmentgroup": "True",
           "hovertemplate": "Production Pad=%{x}<br>Time=T37<br>Production Forecast (Bbl/Day)=%{y}<extra></extra>",
           "legendgroup": "PP01",
           "marker": {
            "color": "#636efa",
            "pattern": {
             "shape": ""
            }
           },
           "name": "PP01",
           "offsetgroup": "PP01",
           "orientation": "v",
           "showlegend": true,
           "textposition": "auto",
           "type": "bar",
           "x": [
            "PP01"
           ],
           "xaxis": "x",
           "y": [
            2342
           ],
           "yaxis": "y"
          },
          {
           "alignmentgroup": "True",
           "hovertemplate": "Production Pad=%{x}<br>Time=T37<br>Production Forecast (Bbl/Day)=%{y}<extra></extra>",
           "legendgroup": "PP02",
           "marker": {
            "color": "#EF553B",
            "pattern": {
             "shape": ""
            }
           },
           "name": "PP02",
           "offsetgroup": "PP02",
           "orientation": "v",
           "showlegend": true,
           "textposition": "auto",
           "type": "bar",
           "x": [
            "PP02"
           ],
           "xaxis": "x",
           "y": [
            3673
           ],
           "yaxis": "y"
          },
          {
           "alignmentgroup": "True",
           "hovertemplate": "Production Pad=%{x}<br>Time=T37<br>Production Forecast (Bbl/Day)=%{y}<extra></extra>",
           "legendgroup": "PP03",
           "marker": {
            "color": "#00cc96",
            "pattern": {
             "shape": ""
            }
           },
           "name": "PP03",
           "offsetgroup": "PP03",
           "orientation": "v",
           "showlegend": true,
           "textposition": "auto",
           "type": "bar",
           "x": [
            "PP03"
           ],
           "xaxis": "x",
           "y": [
            3244
           ],
           "yaxis": "y"
          },
          {
           "alignmentgroup": "True",
           "hovertemplate": "Production Pad=%{x}<br>Time=T37<br>Production Forecast (Bbl/Day)=%{y}<extra></extra>",
           "legendgroup": "PP04",
           "marker": {
            "color": "#ab63fa",
            "pattern": {
             "shape": ""
            }
           },
           "name": "PP04",
           "offsetgroup": "PP04",
           "orientation": "v",
           "showlegend": true,
           "textposition": "auto",
           "type": "bar",
           "x": [
            "PP04"
           ],
           "xaxis": "x",
           "y": [
            1861
           ],
           "yaxis": "y"
          }
         ],
         "name": "T37"
        },
        {
         "data": [
          {
           "alignmentgroup": "True",
           "hovertemplate": "Production Pad=%{x}<br>Time=T38<br>Production Forecast (Bbl/Day)=%{y}<extra></extra>",
           "legendgroup": "PP01",
           "marker": {
            "color": "#636efa",
            "pattern": {
             "shape": ""
            }
           },
           "name": "PP01",
           "offsetgroup": "PP01",
           "orientation": "v",
           "showlegend": true,
           "textposition": "auto",
           "type": "bar",
           "x": [
            "PP01"
           ],
           "xaxis": "x",
           "y": [
            2329
           ],
           "yaxis": "y"
          },
          {
           "alignmentgroup": "True",
           "hovertemplate": "Production Pad=%{x}<br>Time=T38<br>Production Forecast (Bbl/Day)=%{y}<extra></extra>",
           "legendgroup": "PP02",
           "marker": {
            "color": "#EF553B",
            "pattern": {
             "shape": ""
            }
           },
           "name": "PP02",
           "offsetgroup": "PP02",
           "orientation": "v",
           "showlegend": true,
           "textposition": "auto",
           "type": "bar",
           "x": [
            "PP02"
           ],
           "xaxis": "x",
           "y": [
            3639
           ],
           "yaxis": "y"
          },
          {
           "alignmentgroup": "True",
           "hovertemplate": "Production Pad=%{x}<br>Time=T38<br>Production Forecast (Bbl/Day)=%{y}<extra></extra>",
           "legendgroup": "PP03",
           "marker": {
            "color": "#00cc96",
            "pattern": {
             "shape": ""
            }
           },
           "name": "PP03",
           "offsetgroup": "PP03",
           "orientation": "v",
           "showlegend": true,
           "textposition": "auto",
           "type": "bar",
           "x": [
            "PP03"
           ],
           "xaxis": "x",
           "y": [
            3222
           ],
           "yaxis": "y"
          },
          {
           "alignmentgroup": "True",
           "hovertemplate": "Production Pad=%{x}<br>Time=T38<br>Production Forecast (Bbl/Day)=%{y}<extra></extra>",
           "legendgroup": "PP04",
           "marker": {
            "color": "#ab63fa",
            "pattern": {
             "shape": ""
            }
           },
           "name": "PP04",
           "offsetgroup": "PP04",
           "orientation": "v",
           "showlegend": true,
           "textposition": "auto",
           "type": "bar",
           "x": [
            "PP04"
           ],
           "xaxis": "x",
           "y": [
            1860
           ],
           "yaxis": "y"
          }
         ],
         "name": "T38"
        },
        {
         "data": [
          {
           "alignmentgroup": "True",
           "hovertemplate": "Production Pad=%{x}<br>Time=T39<br>Production Forecast (Bbl/Day)=%{y}<extra></extra>",
           "legendgroup": "PP01",
           "marker": {
            "color": "#636efa",
            "pattern": {
             "shape": ""
            }
           },
           "name": "PP01",
           "offsetgroup": "PP01",
           "orientation": "v",
           "showlegend": true,
           "textposition": "auto",
           "type": "bar",
           "x": [
            "PP01"
           ],
           "xaxis": "x",
           "y": [
            2317
           ],
           "yaxis": "y"
          },
          {
           "alignmentgroup": "True",
           "hovertemplate": "Production Pad=%{x}<br>Time=T39<br>Production Forecast (Bbl/Day)=%{y}<extra></extra>",
           "legendgroup": "PP02",
           "marker": {
            "color": "#EF553B",
            "pattern": {
             "shape": ""
            }
           },
           "name": "PP02",
           "offsetgroup": "PP02",
           "orientation": "v",
           "showlegend": true,
           "textposition": "auto",
           "type": "bar",
           "x": [
            "PP02"
           ],
           "xaxis": "x",
           "y": [
            3606
           ],
           "yaxis": "y"
          },
          {
           "alignmentgroup": "True",
           "hovertemplate": "Production Pad=%{x}<br>Time=T39<br>Production Forecast (Bbl/Day)=%{y}<extra></extra>",
           "legendgroup": "PP03",
           "marker": {
            "color": "#00cc96",
            "pattern": {
             "shape": ""
            }
           },
           "name": "PP03",
           "offsetgroup": "PP03",
           "orientation": "v",
           "showlegend": true,
           "textposition": "auto",
           "type": "bar",
           "x": [
            "PP03"
           ],
           "xaxis": "x",
           "y": [
            3201
           ],
           "yaxis": "y"
          },
          {
           "alignmentgroup": "True",
           "hovertemplate": "Production Pad=%{x}<br>Time=T39<br>Production Forecast (Bbl/Day)=%{y}<extra></extra>",
           "legendgroup": "PP04",
           "marker": {
            "color": "#ab63fa",
            "pattern": {
             "shape": ""
            }
           },
           "name": "PP04",
           "offsetgroup": "PP04",
           "orientation": "v",
           "showlegend": true,
           "textposition": "auto",
           "type": "bar",
           "x": [
            "PP04"
           ],
           "xaxis": "x",
           "y": [
            1859
           ],
           "yaxis": "y"
          }
         ],
         "name": "T39"
        },
        {
         "data": [
          {
           "alignmentgroup": "True",
           "hovertemplate": "Production Pad=%{x}<br>Time=T40<br>Production Forecast (Bbl/Day)=%{y}<extra></extra>",
           "legendgroup": "PP01",
           "marker": {
            "color": "#636efa",
            "pattern": {
             "shape": ""
            }
           },
           "name": "PP01",
           "offsetgroup": "PP01",
           "orientation": "v",
           "showlegend": true,
           "textposition": "auto",
           "type": "bar",
           "x": [
            "PP01"
           ],
           "xaxis": "x",
           "y": [
            2304
           ],
           "yaxis": "y"
          },
          {
           "alignmentgroup": "True",
           "hovertemplate": "Production Pad=%{x}<br>Time=T40<br>Production Forecast (Bbl/Day)=%{y}<extra></extra>",
           "legendgroup": "PP02",
           "marker": {
            "color": "#EF553B",
            "pattern": {
             "shape": ""
            }
           },
           "name": "PP02",
           "offsetgroup": "PP02",
           "orientation": "v",
           "showlegend": true,
           "textposition": "auto",
           "type": "bar",
           "x": [
            "PP02"
           ],
           "xaxis": "x",
           "y": [
            3575
           ],
           "yaxis": "y"
          },
          {
           "alignmentgroup": "True",
           "hovertemplate": "Production Pad=%{x}<br>Time=T40<br>Production Forecast (Bbl/Day)=%{y}<extra></extra>",
           "legendgroup": "PP03",
           "marker": {
            "color": "#00cc96",
            "pattern": {
             "shape": ""
            }
           },
           "name": "PP03",
           "offsetgroup": "PP03",
           "orientation": "v",
           "showlegend": true,
           "textposition": "auto",
           "type": "bar",
           "x": [
            "PP03"
           ],
           "xaxis": "x",
           "y": [
            3181
           ],
           "yaxis": "y"
          },
          {
           "alignmentgroup": "True",
           "hovertemplate": "Production Pad=%{x}<br>Time=T40<br>Production Forecast (Bbl/Day)=%{y}<extra></extra>",
           "legendgroup": "PP04",
           "marker": {
            "color": "#ab63fa",
            "pattern": {
             "shape": ""
            }
           },
           "name": "PP04",
           "offsetgroup": "PP04",
           "orientation": "v",
           "showlegend": true,
           "textposition": "auto",
           "type": "bar",
           "x": [
            "PP04"
           ],
           "xaxis": "x",
           "y": [
            1858
           ],
           "yaxis": "y"
          }
         ],
         "name": "T40"
        },
        {
         "data": [
          {
           "alignmentgroup": "True",
           "hovertemplate": "Production Pad=%{x}<br>Time=T41<br>Production Forecast (Bbl/Day)=%{y}<extra></extra>",
           "legendgroup": "PP01",
           "marker": {
            "color": "#636efa",
            "pattern": {
             "shape": ""
            }
           },
           "name": "PP01",
           "offsetgroup": "PP01",
           "orientation": "v",
           "showlegend": true,
           "textposition": "auto",
           "type": "bar",
           "x": [
            "PP01"
           ],
           "xaxis": "x",
           "y": [
            2292
           ],
           "yaxis": "y"
          },
          {
           "alignmentgroup": "True",
           "hovertemplate": "Production Pad=%{x}<br>Time=T41<br>Production Forecast (Bbl/Day)=%{y}<extra></extra>",
           "legendgroup": "PP02",
           "marker": {
            "color": "#EF553B",
            "pattern": {
             "shape": ""
            }
           },
           "name": "PP02",
           "offsetgroup": "PP02",
           "orientation": "v",
           "showlegend": true,
           "textposition": "auto",
           "type": "bar",
           "x": [
            "PP02"
           ],
           "xaxis": "x",
           "y": [
            3544
           ],
           "yaxis": "y"
          },
          {
           "alignmentgroup": "True",
           "hovertemplate": "Production Pad=%{x}<br>Time=T41<br>Production Forecast (Bbl/Day)=%{y}<extra></extra>",
           "legendgroup": "PP03",
           "marker": {
            "color": "#00cc96",
            "pattern": {
             "shape": ""
            }
           },
           "name": "PP03",
           "offsetgroup": "PP03",
           "orientation": "v",
           "showlegend": true,
           "textposition": "auto",
           "type": "bar",
           "x": [
            "PP03"
           ],
           "xaxis": "x",
           "y": [
            3162
           ],
           "yaxis": "y"
          },
          {
           "alignmentgroup": "True",
           "hovertemplate": "Production Pad=%{x}<br>Time=T41<br>Production Forecast (Bbl/Day)=%{y}<extra></extra>",
           "legendgroup": "PP04",
           "marker": {
            "color": "#ab63fa",
            "pattern": {
             "shape": ""
            }
           },
           "name": "PP04",
           "offsetgroup": "PP04",
           "orientation": "v",
           "showlegend": true,
           "textposition": "auto",
           "type": "bar",
           "x": [
            "PP04"
           ],
           "xaxis": "x",
           "y": [
            1857
           ],
           "yaxis": "y"
          }
         ],
         "name": "T41"
        },
        {
         "data": [
          {
           "alignmentgroup": "True",
           "hovertemplate": "Production Pad=%{x}<br>Time=T42<br>Production Forecast (Bbl/Day)=%{y}<extra></extra>",
           "legendgroup": "PP01",
           "marker": {
            "color": "#636efa",
            "pattern": {
             "shape": ""
            }
           },
           "name": "PP01",
           "offsetgroup": "PP01",
           "orientation": "v",
           "showlegend": true,
           "textposition": "auto",
           "type": "bar",
           "x": [
            "PP01"
           ],
           "xaxis": "x",
           "y": [
            2281
           ],
           "yaxis": "y"
          },
          {
           "alignmentgroup": "True",
           "hovertemplate": "Production Pad=%{x}<br>Time=T42<br>Production Forecast (Bbl/Day)=%{y}<extra></extra>",
           "legendgroup": "PP02",
           "marker": {
            "color": "#EF553B",
            "pattern": {
             "shape": ""
            }
           },
           "name": "PP02",
           "offsetgroup": "PP02",
           "orientation": "v",
           "showlegend": true,
           "textposition": "auto",
           "type": "bar",
           "x": [
            "PP02"
           ],
           "xaxis": "x",
           "y": [
            3514
           ],
           "yaxis": "y"
          },
          {
           "alignmentgroup": "True",
           "hovertemplate": "Production Pad=%{x}<br>Time=T42<br>Production Forecast (Bbl/Day)=%{y}<extra></extra>",
           "legendgroup": "PP03",
           "marker": {
            "color": "#00cc96",
            "pattern": {
             "shape": ""
            }
           },
           "name": "PP03",
           "offsetgroup": "PP03",
           "orientation": "v",
           "showlegend": true,
           "textposition": "auto",
           "type": "bar",
           "x": [
            "PP03"
           ],
           "xaxis": "x",
           "y": [
            3143
           ],
           "yaxis": "y"
          },
          {
           "alignmentgroup": "True",
           "hovertemplate": "Production Pad=%{x}<br>Time=T42<br>Production Forecast (Bbl/Day)=%{y}<extra></extra>",
           "legendgroup": "PP04",
           "marker": {
            "color": "#ab63fa",
            "pattern": {
             "shape": ""
            }
           },
           "name": "PP04",
           "offsetgroup": "PP04",
           "orientation": "v",
           "showlegend": true,
           "textposition": "auto",
           "type": "bar",
           "x": [
            "PP04"
           ],
           "xaxis": "x",
           "y": [
            1856
           ],
           "yaxis": "y"
          }
         ],
         "name": "T42"
        },
        {
         "data": [
          {
           "alignmentgroup": "True",
           "hovertemplate": "Production Pad=%{x}<br>Time=T43<br>Production Forecast (Bbl/Day)=%{y}<extra></extra>",
           "legendgroup": "PP01",
           "marker": {
            "color": "#636efa",
            "pattern": {
             "shape": ""
            }
           },
           "name": "PP01",
           "offsetgroup": "PP01",
           "orientation": "v",
           "showlegend": true,
           "textposition": "auto",
           "type": "bar",
           "x": [
            "PP01"
           ],
           "xaxis": "x",
           "y": [
            2270
           ],
           "yaxis": "y"
          },
          {
           "alignmentgroup": "True",
           "hovertemplate": "Production Pad=%{x}<br>Time=T43<br>Production Forecast (Bbl/Day)=%{y}<extra></extra>",
           "legendgroup": "PP02",
           "marker": {
            "color": "#EF553B",
            "pattern": {
             "shape": ""
            }
           },
           "name": "PP02",
           "offsetgroup": "PP02",
           "orientation": "v",
           "showlegend": true,
           "textposition": "auto",
           "type": "bar",
           "x": [
            "PP02"
           ],
           "xaxis": "x",
           "y": [
            3485
           ],
           "yaxis": "y"
          },
          {
           "alignmentgroup": "True",
           "hovertemplate": "Production Pad=%{x}<br>Time=T43<br>Production Forecast (Bbl/Day)=%{y}<extra></extra>",
           "legendgroup": "PP03",
           "marker": {
            "color": "#00cc96",
            "pattern": {
             "shape": ""
            }
           },
           "name": "PP03",
           "offsetgroup": "PP03",
           "orientation": "v",
           "showlegend": true,
           "textposition": "auto",
           "type": "bar",
           "x": [
            "PP03"
           ],
           "xaxis": "x",
           "y": [
            3124
           ],
           "yaxis": "y"
          },
          {
           "alignmentgroup": "True",
           "hovertemplate": "Production Pad=%{x}<br>Time=T43<br>Production Forecast (Bbl/Day)=%{y}<extra></extra>",
           "legendgroup": "PP04",
           "marker": {
            "color": "#ab63fa",
            "pattern": {
             "shape": ""
            }
           },
           "name": "PP04",
           "offsetgroup": "PP04",
           "orientation": "v",
           "showlegend": true,
           "textposition": "auto",
           "type": "bar",
           "x": [
            "PP04"
           ],
           "xaxis": "x",
           "y": [
            1855
           ],
           "yaxis": "y"
          }
         ],
         "name": "T43"
        },
        {
         "data": [
          {
           "alignmentgroup": "True",
           "hovertemplate": "Production Pad=%{x}<br>Time=T44<br>Production Forecast (Bbl/Day)=%{y}<extra></extra>",
           "legendgroup": "PP01",
           "marker": {
            "color": "#636efa",
            "pattern": {
             "shape": ""
            }
           },
           "name": "PP01",
           "offsetgroup": "PP01",
           "orientation": "v",
           "showlegend": true,
           "textposition": "auto",
           "type": "bar",
           "x": [
            "PP01"
           ],
           "xaxis": "x",
           "y": [
            2259
           ],
           "yaxis": "y"
          },
          {
           "alignmentgroup": "True",
           "hovertemplate": "Production Pad=%{x}<br>Time=T44<br>Production Forecast (Bbl/Day)=%{y}<extra></extra>",
           "legendgroup": "PP02",
           "marker": {
            "color": "#EF553B",
            "pattern": {
             "shape": ""
            }
           },
           "name": "PP02",
           "offsetgroup": "PP02",
           "orientation": "v",
           "showlegend": true,
           "textposition": "auto",
           "type": "bar",
           "x": [
            "PP02"
           ],
           "xaxis": "x",
           "y": [
            3457
           ],
           "yaxis": "y"
          },
          {
           "alignmentgroup": "True",
           "hovertemplate": "Production Pad=%{x}<br>Time=T44<br>Production Forecast (Bbl/Day)=%{y}<extra></extra>",
           "legendgroup": "PP03",
           "marker": {
            "color": "#00cc96",
            "pattern": {
             "shape": ""
            }
           },
           "name": "PP03",
           "offsetgroup": "PP03",
           "orientation": "v",
           "showlegend": true,
           "textposition": "auto",
           "type": "bar",
           "x": [
            "PP03"
           ],
           "xaxis": "x",
           "y": [
            3106
           ],
           "yaxis": "y"
          },
          {
           "alignmentgroup": "True",
           "hovertemplate": "Production Pad=%{x}<br>Time=T44<br>Production Forecast (Bbl/Day)=%{y}<extra></extra>",
           "legendgroup": "PP04",
           "marker": {
            "color": "#ab63fa",
            "pattern": {
             "shape": ""
            }
           },
           "name": "PP04",
           "offsetgroup": "PP04",
           "orientation": "v",
           "showlegend": true,
           "textposition": "auto",
           "type": "bar",
           "x": [
            "PP04"
           ],
           "xaxis": "x",
           "y": [
            1854
           ],
           "yaxis": "y"
          }
         ],
         "name": "T44"
        },
        {
         "data": [
          {
           "alignmentgroup": "True",
           "hovertemplate": "Production Pad=%{x}<br>Time=T45<br>Production Forecast (Bbl/Day)=%{y}<extra></extra>",
           "legendgroup": "PP01",
           "marker": {
            "color": "#636efa",
            "pattern": {
             "shape": ""
            }
           },
           "name": "PP01",
           "offsetgroup": "PP01",
           "orientation": "v",
           "showlegend": true,
           "textposition": "auto",
           "type": "bar",
           "x": [
            "PP01"
           ],
           "xaxis": "x",
           "y": [
            2248
           ],
           "yaxis": "y"
          },
          {
           "alignmentgroup": "True",
           "hovertemplate": "Production Pad=%{x}<br>Time=T45<br>Production Forecast (Bbl/Day)=%{y}<extra></extra>",
           "legendgroup": "PP02",
           "marker": {
            "color": "#EF553B",
            "pattern": {
             "shape": ""
            }
           },
           "name": "PP02",
           "offsetgroup": "PP02",
           "orientation": "v",
           "showlegend": true,
           "textposition": "auto",
           "type": "bar",
           "x": [
            "PP02"
           ],
           "xaxis": "x",
           "y": [
            3430
           ],
           "yaxis": "y"
          },
          {
           "alignmentgroup": "True",
           "hovertemplate": "Production Pad=%{x}<br>Time=T45<br>Production Forecast (Bbl/Day)=%{y}<extra></extra>",
           "legendgroup": "PP03",
           "marker": {
            "color": "#00cc96",
            "pattern": {
             "shape": ""
            }
           },
           "name": "PP03",
           "offsetgroup": "PP03",
           "orientation": "v",
           "showlegend": true,
           "textposition": "auto",
           "type": "bar",
           "x": [
            "PP03"
           ],
           "xaxis": "x",
           "y": [
            3089
           ],
           "yaxis": "y"
          },
          {
           "alignmentgroup": "True",
           "hovertemplate": "Production Pad=%{x}<br>Time=T45<br>Production Forecast (Bbl/Day)=%{y}<extra></extra>",
           "legendgroup": "PP04",
           "marker": {
            "color": "#ab63fa",
            "pattern": {
             "shape": ""
            }
           },
           "name": "PP04",
           "offsetgroup": "PP04",
           "orientation": "v",
           "showlegend": true,
           "textposition": "auto",
           "type": "bar",
           "x": [
            "PP04"
           ],
           "xaxis": "x",
           "y": [
            1853
           ],
           "yaxis": "y"
          }
         ],
         "name": "T45"
        },
        {
         "data": [
          {
           "alignmentgroup": "True",
           "hovertemplate": "Production Pad=%{x}<br>Time=T46<br>Production Forecast (Bbl/Day)=%{y}<extra></extra>",
           "legendgroup": "PP01",
           "marker": {
            "color": "#636efa",
            "pattern": {
             "shape": ""
            }
           },
           "name": "PP01",
           "offsetgroup": "PP01",
           "orientation": "v",
           "showlegend": true,
           "textposition": "auto",
           "type": "bar",
           "x": [
            "PP01"
           ],
           "xaxis": "x",
           "y": [
            2238
           ],
           "yaxis": "y"
          },
          {
           "alignmentgroup": "True",
           "hovertemplate": "Production Pad=%{x}<br>Time=T46<br>Production Forecast (Bbl/Day)=%{y}<extra></extra>",
           "legendgroup": "PP02",
           "marker": {
            "color": "#EF553B",
            "pattern": {
             "shape": ""
            }
           },
           "name": "PP02",
           "offsetgroup": "PP02",
           "orientation": "v",
           "showlegend": true,
           "textposition": "auto",
           "type": "bar",
           "x": [
            "PP02"
           ],
           "xaxis": "x",
           "y": [
            3404
           ],
           "yaxis": "y"
          },
          {
           "alignmentgroup": "True",
           "hovertemplate": "Production Pad=%{x}<br>Time=T46<br>Production Forecast (Bbl/Day)=%{y}<extra></extra>",
           "legendgroup": "PP03",
           "marker": {
            "color": "#00cc96",
            "pattern": {
             "shape": ""
            }
           },
           "name": "PP03",
           "offsetgroup": "PP03",
           "orientation": "v",
           "showlegend": true,
           "textposition": "auto",
           "type": "bar",
           "x": [
            "PP03"
           ],
           "xaxis": "x",
           "y": [
            3072
           ],
           "yaxis": "y"
          },
          {
           "alignmentgroup": "True",
           "hovertemplate": "Production Pad=%{x}<br>Time=T46<br>Production Forecast (Bbl/Day)=%{y}<extra></extra>",
           "legendgroup": "PP04",
           "marker": {
            "color": "#ab63fa",
            "pattern": {
             "shape": ""
            }
           },
           "name": "PP04",
           "offsetgroup": "PP04",
           "orientation": "v",
           "showlegend": true,
           "textposition": "auto",
           "type": "bar",
           "x": [
            "PP04"
           ],
           "xaxis": "x",
           "y": [
            1853
           ],
           "yaxis": "y"
          }
         ],
         "name": "T46"
        },
        {
         "data": [
          {
           "alignmentgroup": "True",
           "hovertemplate": "Production Pad=%{x}<br>Time=T47<br>Production Forecast (Bbl/Day)=%{y}<extra></extra>",
           "legendgroup": "PP01",
           "marker": {
            "color": "#636efa",
            "pattern": {
             "shape": ""
            }
           },
           "name": "PP01",
           "offsetgroup": "PP01",
           "orientation": "v",
           "showlegend": true,
           "textposition": "auto",
           "type": "bar",
           "x": [
            "PP01"
           ],
           "xaxis": "x",
           "y": [
            2228
           ],
           "yaxis": "y"
          },
          {
           "alignmentgroup": "True",
           "hovertemplate": "Production Pad=%{x}<br>Time=T47<br>Production Forecast (Bbl/Day)=%{y}<extra></extra>",
           "legendgroup": "PP02",
           "marker": {
            "color": "#EF553B",
            "pattern": {
             "shape": ""
            }
           },
           "name": "PP02",
           "offsetgroup": "PP02",
           "orientation": "v",
           "showlegend": true,
           "textposition": "auto",
           "type": "bar",
           "x": [
            "PP02"
           ],
           "xaxis": "x",
           "y": [
            3378
           ],
           "yaxis": "y"
          },
          {
           "alignmentgroup": "True",
           "hovertemplate": "Production Pad=%{x}<br>Time=T47<br>Production Forecast (Bbl/Day)=%{y}<extra></extra>",
           "legendgroup": "PP03",
           "marker": {
            "color": "#00cc96",
            "pattern": {
             "shape": ""
            }
           },
           "name": "PP03",
           "offsetgroup": "PP03",
           "orientation": "v",
           "showlegend": true,
           "textposition": "auto",
           "type": "bar",
           "x": [
            "PP03"
           ],
           "xaxis": "x",
           "y": [
            3055
           ],
           "yaxis": "y"
          },
          {
           "alignmentgroup": "True",
           "hovertemplate": "Production Pad=%{x}<br>Time=T47<br>Production Forecast (Bbl/Day)=%{y}<extra></extra>",
           "legendgroup": "PP04",
           "marker": {
            "color": "#ab63fa",
            "pattern": {
             "shape": ""
            }
           },
           "name": "PP04",
           "offsetgroup": "PP04",
           "orientation": "v",
           "showlegend": true,
           "textposition": "auto",
           "type": "bar",
           "x": [
            "PP04"
           ],
           "xaxis": "x",
           "y": [
            1852
           ],
           "yaxis": "y"
          }
         ],
         "name": "T47"
        },
        {
         "data": [
          {
           "alignmentgroup": "True",
           "hovertemplate": "Production Pad=%{x}<br>Time=T48<br>Production Forecast (Bbl/Day)=%{y}<extra></extra>",
           "legendgroup": "PP01",
           "marker": {
            "color": "#636efa",
            "pattern": {
             "shape": ""
            }
           },
           "name": "PP01",
           "offsetgroup": "PP01",
           "orientation": "v",
           "showlegend": true,
           "textposition": "auto",
           "type": "bar",
           "x": [
            "PP01"
           ],
           "xaxis": "x",
           "y": [
            2218
           ],
           "yaxis": "y"
          },
          {
           "alignmentgroup": "True",
           "hovertemplate": "Production Pad=%{x}<br>Time=T48<br>Production Forecast (Bbl/Day)=%{y}<extra></extra>",
           "legendgroup": "PP02",
           "marker": {
            "color": "#EF553B",
            "pattern": {
             "shape": ""
            }
           },
           "name": "PP02",
           "offsetgroup": "PP02",
           "orientation": "v",
           "showlegend": true,
           "textposition": "auto",
           "type": "bar",
           "x": [
            "PP02"
           ],
           "xaxis": "x",
           "y": [
            3354
           ],
           "yaxis": "y"
          },
          {
           "alignmentgroup": "True",
           "hovertemplate": "Production Pad=%{x}<br>Time=T48<br>Production Forecast (Bbl/Day)=%{y}<extra></extra>",
           "legendgroup": "PP03",
           "marker": {
            "color": "#00cc96",
            "pattern": {
             "shape": ""
            }
           },
           "name": "PP03",
           "offsetgroup": "PP03",
           "orientation": "v",
           "showlegend": true,
           "textposition": "auto",
           "type": "bar",
           "x": [
            "PP03"
           ],
           "xaxis": "x",
           "y": [
            3039
           ],
           "yaxis": "y"
          },
          {
           "alignmentgroup": "True",
           "hovertemplate": "Production Pad=%{x}<br>Time=T48<br>Production Forecast (Bbl/Day)=%{y}<extra></extra>",
           "legendgroup": "PP04",
           "marker": {
            "color": "#ab63fa",
            "pattern": {
             "shape": ""
            }
           },
           "name": "PP04",
           "offsetgroup": "PP04",
           "orientation": "v",
           "showlegend": true,
           "textposition": "auto",
           "type": "bar",
           "x": [
            "PP04"
           ],
           "xaxis": "x",
           "y": [
            1851
           ],
           "yaxis": "y"
          }
         ],
         "name": "T48"
        },
        {
         "data": [
          {
           "alignmentgroup": "True",
           "hovertemplate": "Production Pad=%{x}<br>Time=T49<br>Production Forecast (Bbl/Day)=%{y}<extra></extra>",
           "legendgroup": "PP01",
           "marker": {
            "color": "#636efa",
            "pattern": {
             "shape": ""
            }
           },
           "name": "PP01",
           "offsetgroup": "PP01",
           "orientation": "v",
           "showlegend": true,
           "textposition": "auto",
           "type": "bar",
           "x": [
            "PP01"
           ],
           "xaxis": "x",
           "y": [
            2208
           ],
           "yaxis": "y"
          },
          {
           "alignmentgroup": "True",
           "hovertemplate": "Production Pad=%{x}<br>Time=T49<br>Production Forecast (Bbl/Day)=%{y}<extra></extra>",
           "legendgroup": "PP02",
           "marker": {
            "color": "#EF553B",
            "pattern": {
             "shape": ""
            }
           },
           "name": "PP02",
           "offsetgroup": "PP02",
           "orientation": "v",
           "showlegend": true,
           "textposition": "auto",
           "type": "bar",
           "x": [
            "PP02"
           ],
           "xaxis": "x",
           "y": [
            3329
           ],
           "yaxis": "y"
          },
          {
           "alignmentgroup": "True",
           "hovertemplate": "Production Pad=%{x}<br>Time=T49<br>Production Forecast (Bbl/Day)=%{y}<extra></extra>",
           "legendgroup": "PP03",
           "marker": {
            "color": "#00cc96",
            "pattern": {
             "shape": ""
            }
           },
           "name": "PP03",
           "offsetgroup": "PP03",
           "orientation": "v",
           "showlegend": true,
           "textposition": "auto",
           "type": "bar",
           "x": [
            "PP03"
           ],
           "xaxis": "x",
           "y": [
            3024
           ],
           "yaxis": "y"
          },
          {
           "alignmentgroup": "True",
           "hovertemplate": "Production Pad=%{x}<br>Time=T49<br>Production Forecast (Bbl/Day)=%{y}<extra></extra>",
           "legendgroup": "PP04",
           "marker": {
            "color": "#ab63fa",
            "pattern": {
             "shape": ""
            }
           },
           "name": "PP04",
           "offsetgroup": "PP04",
           "orientation": "v",
           "showlegend": true,
           "textposition": "auto",
           "type": "bar",
           "x": [
            "PP04"
           ],
           "xaxis": "x",
           "y": [
            1850
           ],
           "yaxis": "y"
          }
         ],
         "name": "T49"
        },
        {
         "data": [
          {
           "alignmentgroup": "True",
           "hovertemplate": "Production Pad=%{x}<br>Time=T50<br>Production Forecast (Bbl/Day)=%{y}<extra></extra>",
           "legendgroup": "PP01",
           "marker": {
            "color": "#636efa",
            "pattern": {
             "shape": ""
            }
           },
           "name": "PP01",
           "offsetgroup": "PP01",
           "orientation": "v",
           "showlegend": true,
           "textposition": "auto",
           "type": "bar",
           "x": [
            "PP01"
           ],
           "xaxis": "x",
           "y": [
            2199
           ],
           "yaxis": "y"
          },
          {
           "alignmentgroup": "True",
           "hovertemplate": "Production Pad=%{x}<br>Time=T50<br>Production Forecast (Bbl/Day)=%{y}<extra></extra>",
           "legendgroup": "PP02",
           "marker": {
            "color": "#EF553B",
            "pattern": {
             "shape": ""
            }
           },
           "name": "PP02",
           "offsetgroup": "PP02",
           "orientation": "v",
           "showlegend": true,
           "textposition": "auto",
           "type": "bar",
           "x": [
            "PP02"
           ],
           "xaxis": "x",
           "y": [
            3306
           ],
           "yaxis": "y"
          },
          {
           "alignmentgroup": "True",
           "hovertemplate": "Production Pad=%{x}<br>Time=T50<br>Production Forecast (Bbl/Day)=%{y}<extra></extra>",
           "legendgroup": "PP03",
           "marker": {
            "color": "#00cc96",
            "pattern": {
             "shape": ""
            }
           },
           "name": "PP03",
           "offsetgroup": "PP03",
           "orientation": "v",
           "showlegend": true,
           "textposition": "auto",
           "type": "bar",
           "x": [
            "PP03"
           ],
           "xaxis": "x",
           "y": [
            3008
           ],
           "yaxis": "y"
          },
          {
           "alignmentgroup": "True",
           "hovertemplate": "Production Pad=%{x}<br>Time=T50<br>Production Forecast (Bbl/Day)=%{y}<extra></extra>",
           "legendgroup": "PP04",
           "marker": {
            "color": "#ab63fa",
            "pattern": {
             "shape": ""
            }
           },
           "name": "PP04",
           "offsetgroup": "PP04",
           "orientation": "v",
           "showlegend": true,
           "textposition": "auto",
           "type": "bar",
           "x": [
            "PP04"
           ],
           "xaxis": "x",
           "y": [
            1849
           ],
           "yaxis": "y"
          }
         ],
         "name": "T50"
        },
        {
         "data": [
          {
           "alignmentgroup": "True",
           "hovertemplate": "Production Pad=%{x}<br>Time=T51<br>Production Forecast (Bbl/Day)=%{y}<extra></extra>",
           "legendgroup": "PP01",
           "marker": {
            "color": "#636efa",
            "pattern": {
             "shape": ""
            }
           },
           "name": "PP01",
           "offsetgroup": "PP01",
           "orientation": "v",
           "showlegend": true,
           "textposition": "auto",
           "type": "bar",
           "x": [
            "PP01"
           ],
           "xaxis": "x",
           "y": [
            2190
           ],
           "yaxis": "y"
          },
          {
           "alignmentgroup": "True",
           "hovertemplate": "Production Pad=%{x}<br>Time=T51<br>Production Forecast (Bbl/Day)=%{y}<extra></extra>",
           "legendgroup": "PP02",
           "marker": {
            "color": "#EF553B",
            "pattern": {
             "shape": ""
            }
           },
           "name": "PP02",
           "offsetgroup": "PP02",
           "orientation": "v",
           "showlegend": true,
           "textposition": "auto",
           "type": "bar",
           "x": [
            "PP02"
           ],
           "xaxis": "x",
           "y": [
            3283
           ],
           "yaxis": "y"
          },
          {
           "alignmentgroup": "True",
           "hovertemplate": "Production Pad=%{x}<br>Time=T51<br>Production Forecast (Bbl/Day)=%{y}<extra></extra>",
           "legendgroup": "PP03",
           "marker": {
            "color": "#00cc96",
            "pattern": {
             "shape": ""
            }
           },
           "name": "PP03",
           "offsetgroup": "PP03",
           "orientation": "v",
           "showlegend": true,
           "textposition": "auto",
           "type": "bar",
           "x": [
            "PP03"
           ],
           "xaxis": "x",
           "y": [
            2994
           ],
           "yaxis": "y"
          },
          {
           "alignmentgroup": "True",
           "hovertemplate": "Production Pad=%{x}<br>Time=T51<br>Production Forecast (Bbl/Day)=%{y}<extra></extra>",
           "legendgroup": "PP04",
           "marker": {
            "color": "#ab63fa",
            "pattern": {
             "shape": ""
            }
           },
           "name": "PP04",
           "offsetgroup": "PP04",
           "orientation": "v",
           "showlegend": true,
           "textposition": "auto",
           "type": "bar",
           "x": [
            "PP04"
           ],
           "xaxis": "x",
           "y": [
            1849
           ],
           "yaxis": "y"
          }
         ],
         "name": "T51"
        },
        {
         "data": [
          {
           "alignmentgroup": "True",
           "hovertemplate": "Production Pad=%{x}<br>Time=T52<br>Production Forecast (Bbl/Day)=%{y}<extra></extra>",
           "legendgroup": "PP01",
           "marker": {
            "color": "#636efa",
            "pattern": {
             "shape": ""
            }
           },
           "name": "PP01",
           "offsetgroup": "PP01",
           "orientation": "v",
           "showlegend": true,
           "textposition": "auto",
           "type": "bar",
           "x": [
            "PP01"
           ],
           "xaxis": "x",
           "y": [
            2181
           ],
           "yaxis": "y"
          },
          {
           "alignmentgroup": "True",
           "hovertemplate": "Production Pad=%{x}<br>Time=T52<br>Production Forecast (Bbl/Day)=%{y}<extra></extra>",
           "legendgroup": "PP02",
           "marker": {
            "color": "#EF553B",
            "pattern": {
             "shape": ""
            }
           },
           "name": "PP02",
           "offsetgroup": "PP02",
           "orientation": "v",
           "showlegend": true,
           "textposition": "auto",
           "type": "bar",
           "x": [
            "PP02"
           ],
           "xaxis": "x",
           "y": [
            3261
           ],
           "yaxis": "y"
          },
          {
           "alignmentgroup": "True",
           "hovertemplate": "Production Pad=%{x}<br>Time=T52<br>Production Forecast (Bbl/Day)=%{y}<extra></extra>",
           "legendgroup": "PP03",
           "marker": {
            "color": "#00cc96",
            "pattern": {
             "shape": ""
            }
           },
           "name": "PP03",
           "offsetgroup": "PP03",
           "orientation": "v",
           "showlegend": true,
           "textposition": "auto",
           "type": "bar",
           "x": [
            "PP03"
           ],
           "xaxis": "x",
           "y": [
            2979
           ],
           "yaxis": "y"
          },
          {
           "alignmentgroup": "True",
           "hovertemplate": "Production Pad=%{x}<br>Time=T52<br>Production Forecast (Bbl/Day)=%{y}<extra></extra>",
           "legendgroup": "PP04",
           "marker": {
            "color": "#ab63fa",
            "pattern": {
             "shape": ""
            }
           },
           "name": "PP04",
           "offsetgroup": "PP04",
           "orientation": "v",
           "showlegend": true,
           "textposition": "auto",
           "type": "bar",
           "x": [
            "PP04"
           ],
           "xaxis": "x",
           "y": [
            1848
           ],
           "yaxis": "y"
          }
         ],
         "name": "T52"
        }
       ],
       "layout": {
        "barmode": "relative",
        "font": {
         "color": "#fff"
        },
        "legend": {
         "title": {
          "text": "Production Pad"
         },
         "tracegroupgap": 0
        },
        "paper_bgcolor": "#333",
        "plot_bgcolor": "#ccc",
        "sliders": [
         {
          "active": 0,
          "currentvalue": {
           "prefix": "Time="
          },
          "len": 0.9,
          "pad": {
           "b": 10,
           "t": 60
          },
          "steps": [
           {
            "args": [
             [
              "T1"
             ],
             {
              "frame": {
               "duration": 0,
               "redraw": true
              },
              "fromcurrent": true,
              "mode": "immediate",
              "transition": {
               "duration": 0,
               "easing": "linear"
              }
             }
            ],
            "label": "T1",
            "method": "animate"
           },
           {
            "args": [
             [
              "T2"
             ],
             {
              "frame": {
               "duration": 0,
               "redraw": true
              },
              "fromcurrent": true,
              "mode": "immediate",
              "transition": {
               "duration": 0,
               "easing": "linear"
              }
             }
            ],
            "label": "T2",
            "method": "animate"
           },
           {
            "args": [
             [
              "T3"
             ],
             {
              "frame": {
               "duration": 0,
               "redraw": true
              },
              "fromcurrent": true,
              "mode": "immediate",
              "transition": {
               "duration": 0,
               "easing": "linear"
              }
             }
            ],
            "label": "T3",
            "method": "animate"
           },
           {
            "args": [
             [
              "T4"
             ],
             {
              "frame": {
               "duration": 0,
               "redraw": true
              },
              "fromcurrent": true,
              "mode": "immediate",
              "transition": {
               "duration": 0,
               "easing": "linear"
              }
             }
            ],
            "label": "T4",
            "method": "animate"
           },
           {
            "args": [
             [
              "T5"
             ],
             {
              "frame": {
               "duration": 0,
               "redraw": true
              },
              "fromcurrent": true,
              "mode": "immediate",
              "transition": {
               "duration": 0,
               "easing": "linear"
              }
             }
            ],
            "label": "T5",
            "method": "animate"
           },
           {
            "args": [
             [
              "T6"
             ],
             {
              "frame": {
               "duration": 0,
               "redraw": true
              },
              "fromcurrent": true,
              "mode": "immediate",
              "transition": {
               "duration": 0,
               "easing": "linear"
              }
             }
            ],
            "label": "T6",
            "method": "animate"
           },
           {
            "args": [
             [
              "T7"
             ],
             {
              "frame": {
               "duration": 0,
               "redraw": true
              },
              "fromcurrent": true,
              "mode": "immediate",
              "transition": {
               "duration": 0,
               "easing": "linear"
              }
             }
            ],
            "label": "T7",
            "method": "animate"
           },
           {
            "args": [
             [
              "T8"
             ],
             {
              "frame": {
               "duration": 0,
               "redraw": true
              },
              "fromcurrent": true,
              "mode": "immediate",
              "transition": {
               "duration": 0,
               "easing": "linear"
              }
             }
            ],
            "label": "T8",
            "method": "animate"
           },
           {
            "args": [
             [
              "T9"
             ],
             {
              "frame": {
               "duration": 0,
               "redraw": true
              },
              "fromcurrent": true,
              "mode": "immediate",
              "transition": {
               "duration": 0,
               "easing": "linear"
              }
             }
            ],
            "label": "T9",
            "method": "animate"
           },
           {
            "args": [
             [
              "T10"
             ],
             {
              "frame": {
               "duration": 0,
               "redraw": true
              },
              "fromcurrent": true,
              "mode": "immediate",
              "transition": {
               "duration": 0,
               "easing": "linear"
              }
             }
            ],
            "label": "T10",
            "method": "animate"
           },
           {
            "args": [
             [
              "T11"
             ],
             {
              "frame": {
               "duration": 0,
               "redraw": true
              },
              "fromcurrent": true,
              "mode": "immediate",
              "transition": {
               "duration": 0,
               "easing": "linear"
              }
             }
            ],
            "label": "T11",
            "method": "animate"
           },
           {
            "args": [
             [
              "T12"
             ],
             {
              "frame": {
               "duration": 0,
               "redraw": true
              },
              "fromcurrent": true,
              "mode": "immediate",
              "transition": {
               "duration": 0,
               "easing": "linear"
              }
             }
            ],
            "label": "T12",
            "method": "animate"
           },
           {
            "args": [
             [
              "T13"
             ],
             {
              "frame": {
               "duration": 0,
               "redraw": true
              },
              "fromcurrent": true,
              "mode": "immediate",
              "transition": {
               "duration": 0,
               "easing": "linear"
              }
             }
            ],
            "label": "T13",
            "method": "animate"
           },
           {
            "args": [
             [
              "T14"
             ],
             {
              "frame": {
               "duration": 0,
               "redraw": true
              },
              "fromcurrent": true,
              "mode": "immediate",
              "transition": {
               "duration": 0,
               "easing": "linear"
              }
             }
            ],
            "label": "T14",
            "method": "animate"
           },
           {
            "args": [
             [
              "T15"
             ],
             {
              "frame": {
               "duration": 0,
               "redraw": true
              },
              "fromcurrent": true,
              "mode": "immediate",
              "transition": {
               "duration": 0,
               "easing": "linear"
              }
             }
            ],
            "label": "T15",
            "method": "animate"
           },
           {
            "args": [
             [
              "T16"
             ],
             {
              "frame": {
               "duration": 0,
               "redraw": true
              },
              "fromcurrent": true,
              "mode": "immediate",
              "transition": {
               "duration": 0,
               "easing": "linear"
              }
             }
            ],
            "label": "T16",
            "method": "animate"
           },
           {
            "args": [
             [
              "T17"
             ],
             {
              "frame": {
               "duration": 0,
               "redraw": true
              },
              "fromcurrent": true,
              "mode": "immediate",
              "transition": {
               "duration": 0,
               "easing": "linear"
              }
             }
            ],
            "label": "T17",
            "method": "animate"
           },
           {
            "args": [
             [
              "T18"
             ],
             {
              "frame": {
               "duration": 0,
               "redraw": true
              },
              "fromcurrent": true,
              "mode": "immediate",
              "transition": {
               "duration": 0,
               "easing": "linear"
              }
             }
            ],
            "label": "T18",
            "method": "animate"
           },
           {
            "args": [
             [
              "T19"
             ],
             {
              "frame": {
               "duration": 0,
               "redraw": true
              },
              "fromcurrent": true,
              "mode": "immediate",
              "transition": {
               "duration": 0,
               "easing": "linear"
              }
             }
            ],
            "label": "T19",
            "method": "animate"
           },
           {
            "args": [
             [
              "T20"
             ],
             {
              "frame": {
               "duration": 0,
               "redraw": true
              },
              "fromcurrent": true,
              "mode": "immediate",
              "transition": {
               "duration": 0,
               "easing": "linear"
              }
             }
            ],
            "label": "T20",
            "method": "animate"
           },
           {
            "args": [
             [
              "T21"
             ],
             {
              "frame": {
               "duration": 0,
               "redraw": true
              },
              "fromcurrent": true,
              "mode": "immediate",
              "transition": {
               "duration": 0,
               "easing": "linear"
              }
             }
            ],
            "label": "T21",
            "method": "animate"
           },
           {
            "args": [
             [
              "T22"
             ],
             {
              "frame": {
               "duration": 0,
               "redraw": true
              },
              "fromcurrent": true,
              "mode": "immediate",
              "transition": {
               "duration": 0,
               "easing": "linear"
              }
             }
            ],
            "label": "T22",
            "method": "animate"
           },
           {
            "args": [
             [
              "T23"
             ],
             {
              "frame": {
               "duration": 0,
               "redraw": true
              },
              "fromcurrent": true,
              "mode": "immediate",
              "transition": {
               "duration": 0,
               "easing": "linear"
              }
             }
            ],
            "label": "T23",
            "method": "animate"
           },
           {
            "args": [
             [
              "T24"
             ],
             {
              "frame": {
               "duration": 0,
               "redraw": true
              },
              "fromcurrent": true,
              "mode": "immediate",
              "transition": {
               "duration": 0,
               "easing": "linear"
              }
             }
            ],
            "label": "T24",
            "method": "animate"
           },
           {
            "args": [
             [
              "T25"
             ],
             {
              "frame": {
               "duration": 0,
               "redraw": true
              },
              "fromcurrent": true,
              "mode": "immediate",
              "transition": {
               "duration": 0,
               "easing": "linear"
              }
             }
            ],
            "label": "T25",
            "method": "animate"
           },
           {
            "args": [
             [
              "T26"
             ],
             {
              "frame": {
               "duration": 0,
               "redraw": true
              },
              "fromcurrent": true,
              "mode": "immediate",
              "transition": {
               "duration": 0,
               "easing": "linear"
              }
             }
            ],
            "label": "T26",
            "method": "animate"
           },
           {
            "args": [
             [
              "T27"
             ],
             {
              "frame": {
               "duration": 0,
               "redraw": true
              },
              "fromcurrent": true,
              "mode": "immediate",
              "transition": {
               "duration": 0,
               "easing": "linear"
              }
             }
            ],
            "label": "T27",
            "method": "animate"
           },
           {
            "args": [
             [
              "T28"
             ],
             {
              "frame": {
               "duration": 0,
               "redraw": true
              },
              "fromcurrent": true,
              "mode": "immediate",
              "transition": {
               "duration": 0,
               "easing": "linear"
              }
             }
            ],
            "label": "T28",
            "method": "animate"
           },
           {
            "args": [
             [
              "T29"
             ],
             {
              "frame": {
               "duration": 0,
               "redraw": true
              },
              "fromcurrent": true,
              "mode": "immediate",
              "transition": {
               "duration": 0,
               "easing": "linear"
              }
             }
            ],
            "label": "T29",
            "method": "animate"
           },
           {
            "args": [
             [
              "T30"
             ],
             {
              "frame": {
               "duration": 0,
               "redraw": true
              },
              "fromcurrent": true,
              "mode": "immediate",
              "transition": {
               "duration": 0,
               "easing": "linear"
              }
             }
            ],
            "label": "T30",
            "method": "animate"
           },
           {
            "args": [
             [
              "T31"
             ],
             {
              "frame": {
               "duration": 0,
               "redraw": true
              },
              "fromcurrent": true,
              "mode": "immediate",
              "transition": {
               "duration": 0,
               "easing": "linear"
              }
             }
            ],
            "label": "T31",
            "method": "animate"
           },
           {
            "args": [
             [
              "T32"
             ],
             {
              "frame": {
               "duration": 0,
               "redraw": true
              },
              "fromcurrent": true,
              "mode": "immediate",
              "transition": {
               "duration": 0,
               "easing": "linear"
              }
             }
            ],
            "label": "T32",
            "method": "animate"
           },
           {
            "args": [
             [
              "T33"
             ],
             {
              "frame": {
               "duration": 0,
               "redraw": true
              },
              "fromcurrent": true,
              "mode": "immediate",
              "transition": {
               "duration": 0,
               "easing": "linear"
              }
             }
            ],
            "label": "T33",
            "method": "animate"
           },
           {
            "args": [
             [
              "T34"
             ],
             {
              "frame": {
               "duration": 0,
               "redraw": true
              },
              "fromcurrent": true,
              "mode": "immediate",
              "transition": {
               "duration": 0,
               "easing": "linear"
              }
             }
            ],
            "label": "T34",
            "method": "animate"
           },
           {
            "args": [
             [
              "T35"
             ],
             {
              "frame": {
               "duration": 0,
               "redraw": true
              },
              "fromcurrent": true,
              "mode": "immediate",
              "transition": {
               "duration": 0,
               "easing": "linear"
              }
             }
            ],
            "label": "T35",
            "method": "animate"
           },
           {
            "args": [
             [
              "T36"
             ],
             {
              "frame": {
               "duration": 0,
               "redraw": true
              },
              "fromcurrent": true,
              "mode": "immediate",
              "transition": {
               "duration": 0,
               "easing": "linear"
              }
             }
            ],
            "label": "T36",
            "method": "animate"
           },
           {
            "args": [
             [
              "T37"
             ],
             {
              "frame": {
               "duration": 0,
               "redraw": true
              },
              "fromcurrent": true,
              "mode": "immediate",
              "transition": {
               "duration": 0,
               "easing": "linear"
              }
             }
            ],
            "label": "T37",
            "method": "animate"
           },
           {
            "args": [
             [
              "T38"
             ],
             {
              "frame": {
               "duration": 0,
               "redraw": true
              },
              "fromcurrent": true,
              "mode": "immediate",
              "transition": {
               "duration": 0,
               "easing": "linear"
              }
             }
            ],
            "label": "T38",
            "method": "animate"
           },
           {
            "args": [
             [
              "T39"
             ],
             {
              "frame": {
               "duration": 0,
               "redraw": true
              },
              "fromcurrent": true,
              "mode": "immediate",
              "transition": {
               "duration": 0,
               "easing": "linear"
              }
             }
            ],
            "label": "T39",
            "method": "animate"
           },
           {
            "args": [
             [
              "T40"
             ],
             {
              "frame": {
               "duration": 0,
               "redraw": true
              },
              "fromcurrent": true,
              "mode": "immediate",
              "transition": {
               "duration": 0,
               "easing": "linear"
              }
             }
            ],
            "label": "T40",
            "method": "animate"
           },
           {
            "args": [
             [
              "T41"
             ],
             {
              "frame": {
               "duration": 0,
               "redraw": true
              },
              "fromcurrent": true,
              "mode": "immediate",
              "transition": {
               "duration": 0,
               "easing": "linear"
              }
             }
            ],
            "label": "T41",
            "method": "animate"
           },
           {
            "args": [
             [
              "T42"
             ],
             {
              "frame": {
               "duration": 0,
               "redraw": true
              },
              "fromcurrent": true,
              "mode": "immediate",
              "transition": {
               "duration": 0,
               "easing": "linear"
              }
             }
            ],
            "label": "T42",
            "method": "animate"
           },
           {
            "args": [
             [
              "T43"
             ],
             {
              "frame": {
               "duration": 0,
               "redraw": true
              },
              "fromcurrent": true,
              "mode": "immediate",
              "transition": {
               "duration": 0,
               "easing": "linear"
              }
             }
            ],
            "label": "T43",
            "method": "animate"
           },
           {
            "args": [
             [
              "T44"
             ],
             {
              "frame": {
               "duration": 0,
               "redraw": true
              },
              "fromcurrent": true,
              "mode": "immediate",
              "transition": {
               "duration": 0,
               "easing": "linear"
              }
             }
            ],
            "label": "T44",
            "method": "animate"
           },
           {
            "args": [
             [
              "T45"
             ],
             {
              "frame": {
               "duration": 0,
               "redraw": true
              },
              "fromcurrent": true,
              "mode": "immediate",
              "transition": {
               "duration": 0,
               "easing": "linear"
              }
             }
            ],
            "label": "T45",
            "method": "animate"
           },
           {
            "args": [
             [
              "T46"
             ],
             {
              "frame": {
               "duration": 0,
               "redraw": true
              },
              "fromcurrent": true,
              "mode": "immediate",
              "transition": {
               "duration": 0,
               "easing": "linear"
              }
             }
            ],
            "label": "T46",
            "method": "animate"
           },
           {
            "args": [
             [
              "T47"
             ],
             {
              "frame": {
               "duration": 0,
               "redraw": true
              },
              "fromcurrent": true,
              "mode": "immediate",
              "transition": {
               "duration": 0,
               "easing": "linear"
              }
             }
            ],
            "label": "T47",
            "method": "animate"
           },
           {
            "args": [
             [
              "T48"
             ],
             {
              "frame": {
               "duration": 0,
               "redraw": true
              },
              "fromcurrent": true,
              "mode": "immediate",
              "transition": {
               "duration": 0,
               "easing": "linear"
              }
             }
            ],
            "label": "T48",
            "method": "animate"
           },
           {
            "args": [
             [
              "T49"
             ],
             {
              "frame": {
               "duration": 0,
               "redraw": true
              },
              "fromcurrent": true,
              "mode": "immediate",
              "transition": {
               "duration": 0,
               "easing": "linear"
              }
             }
            ],
            "label": "T49",
            "method": "animate"
           },
           {
            "args": [
             [
              "T50"
             ],
             {
              "frame": {
               "duration": 0,
               "redraw": true
              },
              "fromcurrent": true,
              "mode": "immediate",
              "transition": {
               "duration": 0,
               "easing": "linear"
              }
             }
            ],
            "label": "T50",
            "method": "animate"
           },
           {
            "args": [
             [
              "T51"
             ],
             {
              "frame": {
               "duration": 0,
               "redraw": true
              },
              "fromcurrent": true,
              "mode": "immediate",
              "transition": {
               "duration": 0,
               "easing": "linear"
              }
             }
            ],
            "label": "T51",
            "method": "animate"
           },
           {
            "args": [
             [
              "T52"
             ],
             {
              "frame": {
               "duration": 0,
               "redraw": true
              },
              "fromcurrent": true,
              "mode": "immediate",
              "transition": {
               "duration": 0,
               "easing": "linear"
              }
             }
            ],
            "label": "T52",
            "method": "animate"
           }
          ],
          "x": 0.1,
          "xanchor": "left",
          "y": 0,
          "yanchor": "top"
         }
        ],
        "template": {
         "data": {
          "bar": [
           {
            "error_x": {
             "color": "#2a3f5f"
            },
            "error_y": {
             "color": "#2a3f5f"
            },
            "marker": {
             "line": {
              "color": "#E5ECF6",
              "width": 0.5
             },
             "pattern": {
              "fillmode": "overlay",
              "size": 10,
              "solidity": 0.2
             }
            },
            "type": "bar"
           }
          ],
          "barpolar": [
           {
            "marker": {
             "line": {
              "color": "#E5ECF6",
              "width": 0.5
             },
             "pattern": {
              "fillmode": "overlay",
              "size": 10,
              "solidity": 0.2
             }
            },
            "type": "barpolar"
           }
          ],
          "carpet": [
           {
            "aaxis": {
             "endlinecolor": "#2a3f5f",
             "gridcolor": "white",
             "linecolor": "white",
             "minorgridcolor": "white",
             "startlinecolor": "#2a3f5f"
            },
            "baxis": {
             "endlinecolor": "#2a3f5f",
             "gridcolor": "white",
             "linecolor": "white",
             "minorgridcolor": "white",
             "startlinecolor": "#2a3f5f"
            },
            "type": "carpet"
           }
          ],
          "choropleth": [
           {
            "colorbar": {
             "outlinewidth": 0,
             "ticks": ""
            },
            "type": "choropleth"
           }
          ],
          "contour": [
           {
            "colorbar": {
             "outlinewidth": 0,
             "ticks": ""
            },
            "colorscale": [
             [
              0,
              "#0d0887"
             ],
             [
              0.1111111111111111,
              "#46039f"
             ],
             [
              0.2222222222222222,
              "#7201a8"
             ],
             [
              0.3333333333333333,
              "#9c179e"
             ],
             [
              0.4444444444444444,
              "#bd3786"
             ],
             [
              0.5555555555555556,
              "#d8576b"
             ],
             [
              0.6666666666666666,
              "#ed7953"
             ],
             [
              0.7777777777777778,
              "#fb9f3a"
             ],
             [
              0.8888888888888888,
              "#fdca26"
             ],
             [
              1,
              "#f0f921"
             ]
            ],
            "type": "contour"
           }
          ],
          "contourcarpet": [
           {
            "colorbar": {
             "outlinewidth": 0,
             "ticks": ""
            },
            "type": "contourcarpet"
           }
          ],
          "heatmap": [
           {
            "colorbar": {
             "outlinewidth": 0,
             "ticks": ""
            },
            "colorscale": [
             [
              0,
              "#0d0887"
             ],
             [
              0.1111111111111111,
              "#46039f"
             ],
             [
              0.2222222222222222,
              "#7201a8"
             ],
             [
              0.3333333333333333,
              "#9c179e"
             ],
             [
              0.4444444444444444,
              "#bd3786"
             ],
             [
              0.5555555555555556,
              "#d8576b"
             ],
             [
              0.6666666666666666,
              "#ed7953"
             ],
             [
              0.7777777777777778,
              "#fb9f3a"
             ],
             [
              0.8888888888888888,
              "#fdca26"
             ],
             [
              1,
              "#f0f921"
             ]
            ],
            "type": "heatmap"
           }
          ],
          "heatmapgl": [
           {
            "colorbar": {
             "outlinewidth": 0,
             "ticks": ""
            },
            "colorscale": [
             [
              0,
              "#0d0887"
             ],
             [
              0.1111111111111111,
              "#46039f"
             ],
             [
              0.2222222222222222,
              "#7201a8"
             ],
             [
              0.3333333333333333,
              "#9c179e"
             ],
             [
              0.4444444444444444,
              "#bd3786"
             ],
             [
              0.5555555555555556,
              "#d8576b"
             ],
             [
              0.6666666666666666,
              "#ed7953"
             ],
             [
              0.7777777777777778,
              "#fb9f3a"
             ],
             [
              0.8888888888888888,
              "#fdca26"
             ],
             [
              1,
              "#f0f921"
             ]
            ],
            "type": "heatmapgl"
           }
          ],
          "histogram": [
           {
            "marker": {
             "pattern": {
              "fillmode": "overlay",
              "size": 10,
              "solidity": 0.2
             }
            },
            "type": "histogram"
           }
          ],
          "histogram2d": [
           {
            "colorbar": {
             "outlinewidth": 0,
             "ticks": ""
            },
            "colorscale": [
             [
              0,
              "#0d0887"
             ],
             [
              0.1111111111111111,
              "#46039f"
             ],
             [
              0.2222222222222222,
              "#7201a8"
             ],
             [
              0.3333333333333333,
              "#9c179e"
             ],
             [
              0.4444444444444444,
              "#bd3786"
             ],
             [
              0.5555555555555556,
              "#d8576b"
             ],
             [
              0.6666666666666666,
              "#ed7953"
             ],
             [
              0.7777777777777778,
              "#fb9f3a"
             ],
             [
              0.8888888888888888,
              "#fdca26"
             ],
             [
              1,
              "#f0f921"
             ]
            ],
            "type": "histogram2d"
           }
          ],
          "histogram2dcontour": [
           {
            "colorbar": {
             "outlinewidth": 0,
             "ticks": ""
            },
            "colorscale": [
             [
              0,
              "#0d0887"
             ],
             [
              0.1111111111111111,
              "#46039f"
             ],
             [
              0.2222222222222222,
              "#7201a8"
             ],
             [
              0.3333333333333333,
              "#9c179e"
             ],
             [
              0.4444444444444444,
              "#bd3786"
             ],
             [
              0.5555555555555556,
              "#d8576b"
             ],
             [
              0.6666666666666666,
              "#ed7953"
             ],
             [
              0.7777777777777778,
              "#fb9f3a"
             ],
             [
              0.8888888888888888,
              "#fdca26"
             ],
             [
              1,
              "#f0f921"
             ]
            ],
            "type": "histogram2dcontour"
           }
          ],
          "mesh3d": [
           {
            "colorbar": {
             "outlinewidth": 0,
             "ticks": ""
            },
            "type": "mesh3d"
           }
          ],
          "parcoords": [
           {
            "line": {
             "colorbar": {
              "outlinewidth": 0,
              "ticks": ""
             }
            },
            "type": "parcoords"
           }
          ],
          "pie": [
           {
            "automargin": true,
            "type": "pie"
           }
          ],
          "scatter": [
           {
            "fillpattern": {
             "fillmode": "overlay",
             "size": 10,
             "solidity": 0.2
            },
            "type": "scatter"
           }
          ],
          "scatter3d": [
           {
            "line": {
             "colorbar": {
              "outlinewidth": 0,
              "ticks": ""
             }
            },
            "marker": {
             "colorbar": {
              "outlinewidth": 0,
              "ticks": ""
             }
            },
            "type": "scatter3d"
           }
          ],
          "scattercarpet": [
           {
            "marker": {
             "colorbar": {
              "outlinewidth": 0,
              "ticks": ""
             }
            },
            "type": "scattercarpet"
           }
          ],
          "scattergeo": [
           {
            "marker": {
             "colorbar": {
              "outlinewidth": 0,
              "ticks": ""
             }
            },
            "type": "scattergeo"
           }
          ],
          "scattergl": [
           {
            "marker": {
             "colorbar": {
              "outlinewidth": 0,
              "ticks": ""
             }
            },
            "type": "scattergl"
           }
          ],
          "scattermapbox": [
           {
            "marker": {
             "colorbar": {
              "outlinewidth": 0,
              "ticks": ""
             }
            },
            "type": "scattermapbox"
           }
          ],
          "scatterpolar": [
           {
            "marker": {
             "colorbar": {
              "outlinewidth": 0,
              "ticks": ""
             }
            },
            "type": "scatterpolar"
           }
          ],
          "scatterpolargl": [
           {
            "marker": {
             "colorbar": {
              "outlinewidth": 0,
              "ticks": ""
             }
            },
            "type": "scatterpolargl"
           }
          ],
          "scatterternary": [
           {
            "marker": {
             "colorbar": {
              "outlinewidth": 0,
              "ticks": ""
             }
            },
            "type": "scatterternary"
           }
          ],
          "surface": [
           {
            "colorbar": {
             "outlinewidth": 0,
             "ticks": ""
            },
            "colorscale": [
             [
              0,
              "#0d0887"
             ],
             [
              0.1111111111111111,
              "#46039f"
             ],
             [
              0.2222222222222222,
              "#7201a8"
             ],
             [
              0.3333333333333333,
              "#9c179e"
             ],
             [
              0.4444444444444444,
              "#bd3786"
             ],
             [
              0.5555555555555556,
              "#d8576b"
             ],
             [
              0.6666666666666666,
              "#ed7953"
             ],
             [
              0.7777777777777778,
              "#fb9f3a"
             ],
             [
              0.8888888888888888,
              "#fdca26"
             ],
             [
              1,
              "#f0f921"
             ]
            ],
            "type": "surface"
           }
          ],
          "table": [
           {
            "cells": {
             "fill": {
              "color": "#EBF0F8"
             },
             "line": {
              "color": "white"
             }
            },
            "header": {
             "fill": {
              "color": "#C8D4E3"
             },
             "line": {
              "color": "white"
             }
            },
            "type": "table"
           }
          ]
         },
         "layout": {
          "annotationdefaults": {
           "arrowcolor": "#2a3f5f",
           "arrowhead": 0,
           "arrowwidth": 1
          },
          "autotypenumbers": "strict",
          "coloraxis": {
           "colorbar": {
            "outlinewidth": 0,
            "ticks": ""
           }
          },
          "colorscale": {
           "diverging": [
            [
             0,
             "#8e0152"
            ],
            [
             0.1,
             "#c51b7d"
            ],
            [
             0.2,
             "#de77ae"
            ],
            [
             0.3,
             "#f1b6da"
            ],
            [
             0.4,
             "#fde0ef"
            ],
            [
             0.5,
             "#f7f7f7"
            ],
            [
             0.6,
             "#e6f5d0"
            ],
            [
             0.7,
             "#b8e186"
            ],
            [
             0.8,
             "#7fbc41"
            ],
            [
             0.9,
             "#4d9221"
            ],
            [
             1,
             "#276419"
            ]
           ],
           "sequential": [
            [
             0,
             "#0d0887"
            ],
            [
             0.1111111111111111,
             "#46039f"
            ],
            [
             0.2222222222222222,
             "#7201a8"
            ],
            [
             0.3333333333333333,
             "#9c179e"
            ],
            [
             0.4444444444444444,
             "#bd3786"
            ],
            [
             0.5555555555555556,
             "#d8576b"
            ],
            [
             0.6666666666666666,
             "#ed7953"
            ],
            [
             0.7777777777777778,
             "#fb9f3a"
            ],
            [
             0.8888888888888888,
             "#fdca26"
            ],
            [
             1,
             "#f0f921"
            ]
           ],
           "sequentialminus": [
            [
             0,
             "#0d0887"
            ],
            [
             0.1111111111111111,
             "#46039f"
            ],
            [
             0.2222222222222222,
             "#7201a8"
            ],
            [
             0.3333333333333333,
             "#9c179e"
            ],
            [
             0.4444444444444444,
             "#bd3786"
            ],
            [
             0.5555555555555556,
             "#d8576b"
            ],
            [
             0.6666666666666666,
             "#ed7953"
            ],
            [
             0.7777777777777778,
             "#fb9f3a"
            ],
            [
             0.8888888888888888,
             "#fdca26"
            ],
            [
             1,
             "#f0f921"
            ]
           ]
          },
          "colorway": [
           "#636efa",
           "#EF553B",
           "#00cc96",
           "#ab63fa",
           "#FFA15A",
           "#19d3f3",
           "#FF6692",
           "#B6E880",
           "#FF97FF",
           "#FECB52"
          ],
          "font": {
           "color": "#2a3f5f"
          },
          "geo": {
           "bgcolor": "white",
           "lakecolor": "white",
           "landcolor": "#E5ECF6",
           "showlakes": true,
           "showland": true,
           "subunitcolor": "white"
          },
          "hoverlabel": {
           "align": "left"
          },
          "hovermode": "closest",
          "mapbox": {
           "style": "light"
          },
          "paper_bgcolor": "white",
          "plot_bgcolor": "#E5ECF6",
          "polar": {
           "angularaxis": {
            "gridcolor": "white",
            "linecolor": "white",
            "ticks": ""
           },
           "bgcolor": "#E5ECF6",
           "radialaxis": {
            "gridcolor": "white",
            "linecolor": "white",
            "ticks": ""
           }
          },
          "scene": {
           "xaxis": {
            "backgroundcolor": "#E5ECF6",
            "gridcolor": "white",
            "gridwidth": 2,
            "linecolor": "white",
            "showbackground": true,
            "ticks": "",
            "zerolinecolor": "white"
           },
           "yaxis": {
            "backgroundcolor": "#E5ECF6",
            "gridcolor": "white",
            "gridwidth": 2,
            "linecolor": "white",
            "showbackground": true,
            "ticks": "",
            "zerolinecolor": "white"
           },
           "zaxis": {
            "backgroundcolor": "#E5ECF6",
            "gridcolor": "white",
            "gridwidth": 2,
            "linecolor": "white",
            "showbackground": true,
            "ticks": "",
            "zerolinecolor": "white"
           }
          },
          "shapedefaults": {
           "line": {
            "color": "#2a3f5f"
           }
          },
          "ternary": {
           "aaxis": {
            "gridcolor": "white",
            "linecolor": "white",
            "ticks": ""
           },
           "baxis": {
            "gridcolor": "white",
            "linecolor": "white",
            "ticks": ""
           },
           "bgcolor": "#E5ECF6",
           "caxis": {
            "gridcolor": "white",
            "linecolor": "white",
            "ticks": ""
           }
          },
          "title": {
           "x": 0.05
          },
          "xaxis": {
           "automargin": true,
           "gridcolor": "white",
           "linecolor": "white",
           "ticks": "",
           "title": {
            "standoff": 15
           },
           "zerolinecolor": "white",
           "zerolinewidth": 2
          },
          "yaxis": {
           "automargin": true,
           "gridcolor": "white",
           "linecolor": "white",
           "ticks": "",
           "title": {
            "standoff": 15
           },
           "zerolinecolor": "white",
           "zerolinewidth": 2
          }
         }
        },
        "title": {
         "text": "Production forecast"
        },
        "updatemenus": [
         {
          "buttons": [
           {
            "args": [
             null,
             {
              "frame": {
               "duration": 800,
               "redraw": false
              },
              "fromcurrent": true,
              "mode": "immediate",
              "transition": {
               "duration": 1000,
               "easing": "linear"
              }
             }
            ],
            "label": "&#9654;",
            "method": "animate"
           },
           {
            "args": [
             [
              null
             ],
             {
              "frame": {
               "duration": 0,
               "redraw": true
              },
              "fromcurrent": true,
              "mode": "immediate",
              "transition": {
               "duration": 0,
               "easing": "linear"
              }
             }
            ],
            "label": "&#9724;",
            "method": "animate"
           }
          ],
          "direction": "left",
          "pad": {
           "r": 10,
           "t": 70
          },
          "showactive": false,
          "type": "buttons",
          "x": 0.1,
          "xanchor": "right",
          "y": 0,
          "yanchor": "top"
         }
        ],
        "xaxis": {
         "anchor": "y",
         "categoryarray": [
          "PP01",
          "PP02",
          "PP03",
          "PP04"
         ],
         "categoryorder": "array",
         "domain": [
          0,
          1
         ],
         "title": {
          "text": "Production Pad"
         }
        },
        "yaxis": {
         "anchor": "x",
         "domain": [
          0,
          1
         ],
         "range": [
          1,
          13260
         ],
         "title": {
          "text": "Production Forecast (Bbl/Day)"
         }
        }
       }
      }
     },
     "metadata": {},
     "output_type": "display_data"
    }
   ],
   "source": [
    "input_data = {\"pareto_var\": df_parameters[\"PadRates\"],\n",
    "              \"labels\": [(\"Production pad\", \"Time\", \"Production forecast (bbl/day)\")],\n",
    "             }\n",
    "args = {\"plot_title\": \"Production forecast\",\n",
    "        \"output_file\": \"demo_bar.html\",\n",
    "        \"print_data\": False,\n",
    "        \"jupyter_notebook\": True,  # setting this option to True causes the bar chart to appear in the Jupyter notebook\n",
    "       }\n",
    "plot_bars(input_data, args)"
   ]
  },
  {
   "attachments": {},
   "cell_type": "markdown",
   "id": "9deb75a3",
   "metadata": {},
   "source": [
    "## <a id='build'></a>Step 4: Build the Pyomo model\n",
    "PARETO's `create_model` function called below uses the [Pyomo](http://www.pyomo.org/) modeling language to build a mathematical model of the produced water network. There are five different settings which can be specified for building the model:"
   ]
  },
  {
   "attachments": {},
   "cell_type": "markdown",
   "id": "d0388cc3",
   "metadata": {},
   "source": [
    "| Setting | Possible values (default in *italics*) |\n",
    "| :- | :- |\n",
    "| `objective` | *`Objectives.cost`* - minimize the total annualized cost of produced water management over the decision horizon<br><br>`Objectives.reuse` - maximuze the amount of produced water that is reused over the decision horizon |\n",
    "| `pipeline_cost` | *`PipelineCost.capacity_based`* - use pipeline capacities and rate in [currency/volume] to calculate pipeline CAPEX costs<br><br>`PipelineCost.distance_based` - use pipeline distances and rate in [currency/(diameter-distance)] to calculate pipeline CAPEX costs |\n",
    "| `pipeline_capacity` | *`PipelineCapacity.input`* - flow capacity for each pipe diameter is provided by the user<br><br>`PipelineCapacity.calculate` - flow capacity for each pipe diameter is calculated based on the diameter and provided pipe hydraulics data |\n",
    "| `node_capacity` | *`True`* - Include upper bound on network node flow capacity <br><br>`False` - Exclude upper bound on network node flow capacity |\n",
    "| `water_quality` | *`WaterQuality.post_process`* - Calculate water quality throughout the network post-optimization<br><br>`WaterQuality.false` - Exclude any water quality calculations from the model<br><br>`WaterQuality.discrete` - Discretize the water quality variables to include in the optimization model |"
   ]
  },
  {
   "cell_type": "code",
   "execution_count": 6,
   "id": "5d49b0d9",
   "metadata": {},
   "outputs": [],
   "source": [
    "# Create Pyomo optimization model representing the produced water network\n",
    "strategic_model = create_model(\n",
    "    df_sets,\n",
    "    df_parameters,\n",
    "    default={\n",
    "        \"objective\": Objectives.cost,\n",
    "        \"pipeline_cost\": PipelineCost.distance_based,\n",
    "        \"pipeline_capacity\": PipelineCapacity.input,\n",
    "        \"node_capacity\": True,\n",
    "        \"water_quality\": WaterQuality.false,\n",
    "    },\n",
    ")"
   ]
  },
  {
   "attachments": {},
   "cell_type": "markdown",
   "id": "774d1d59",
   "metadata": {},
   "source": [
    "## <a id='solve'></a>Step 5: Solve the model\n",
    "PARETO's `solve_model` function called below solves the model with the provided options. There are seven different options which can be passed:"
   ]
  },
  {
   "attachments": {},
   "cell_type": "markdown",
   "id": "64e65677",
   "metadata": {},
   "source": [
    "| Option | Description | Default value |\n",
    "| :- | :- | :- |\n",
    "| `solver` | Either a string with solver name or a tuple of strings with several solvers to try and load in order. PARETO currently supports the Gurobi (commercial) and CBC (free) solvers, but it might be possible to use other MILP solvers as well. | `(\"gurobi_direct\", \"gurobi\", \"cbc\")` |\n",
    "| `deactivate_slacks` | `True` to deactivate slack variables, `False` to use slack variables. | `True` |\n",
    "| `scale_model` | `True` to apply scaling to the model, `False` to not apply scaling. | `False` |\n",
    "| `scaling_factor` | Scaling factor to apply to the model (only relevant if `scale_model` is `True``). | 1000000 |\n",
    "| `running_time` | Maximum solver running time in seconds. | 60 |\n",
    "| `gap` | Solver gap. | 0 |\n",
    "| `gurobi_numeric_focus` | The `NumericFocus` parameter to pass to the Gurobi solver. This parameter can be 1, 2, or 3, and per Gurobi, \"settings 1-3 increasingly shift the focus towards more care in numerical computations, which can impact performance.\" This option is ignored if a solver other than Gurobi is used. | 1 |"
   ]
  },
  {
   "cell_type": "code",
   "execution_count": 7,
   "id": "4dc2e674",
   "metadata": {},
   "outputs": [
    {
     "name": "stdout",
     "output_type": "stream",
     "text": [
      "\n",
      "\n",
      "**************************************************\n",
      "                Solving unscaled model\n",
      "**************************************************\n",
      "Welcome to the CBC MILP Solver \n",
      "Version: 2.10.8 \n",
      "Build Date: Feb  3 2023 \n",
      "\n",
      "command line - C:\\Users\\Travis\\AppData\\Local\\idaes\\bin\\cbc.exe -seconds 300.0 -ratioGap 0 -printingOptions all -import C:\\Users\\Travis\\AppData\\Local\\Temp\\tmpu_0tkef7.pyomo.lp -stat=1 -solve -solu C:\\Users\\Travis\\AppData\\Local\\Temp\\tmpu_0tkef7.pyomo.soln (default strategy 1)\n",
      "seconds was changed from 1e+100 to 300\n",
      "ratioGap was changed from 0 to 0\n",
      "Option for printingOptions changed from normal to all\n",
      "Presolve 4706 (-6985) rows, 2744 (-7165) columns and 16935 (-27142) elements\n",
      "Statistics for presolved model\n",
      "Original problem has 3927 integers (3927 of which binary)\n",
      "Presolved problem has 683 integers (683 of which binary)\n",
      "==== 741 zero objective 127 different\n",
      "==== absolute objective values 127 different\n",
      "==== for integers 507 zero objective 105 different\n",
      "==== for integers absolute objective values 105 different\n",
      "===== end objective counts\n",
      "\n",
      "\n",
      "Problem has 4706 rows, 2744 columns (2003 with objective) and 16935 elements\n",
      "There are 58 singletons with objective 34 singletons with no objective \n",
      "Column breakdown:\n",
      "1746 of type 0.0->inf, 315 of type 0.0->up, 0 of type lo->inf, \n",
      "0 of type lo->up, 0 of type free, 0 of type fixed, \n",
      "0 of type -inf->0.0, 0 of type -inf->up, 683 of type 0.0->1.0 \n",
      "Row breakdown:\n",
      "317 of type E 0.0, 36 of type E 1.0, 0 of type E -1.0, \n",
      "285 of type E other, 0 of type G 0.0, 0 of type G 1.0, \n",
      "0 of type G other, 1837 of type L 0.0, 0 of type L 1.0, \n",
      "2082 of type L other, 0 of type Range 0.0->1.0, 149 of type Range other, \n",
      "0 of type Free \n",
      "Continuous objective value is 6273.53 - 0.08 seconds\n",
      "Cgl0003I 0 fixed, 9 tightened bounds, 1524 strengthened rows, 0 substitutions\n",
      "Cgl0003I 0 fixed, 0 tightened bounds, 258 strengthened rows, 0 substitutions\n",
      "Cgl0003I 0 fixed, 0 tightened bounds, 159 strengthened rows, 0 substitutions\n",
      "Cgl0003I 0 fixed, 0 tightened bounds, 158 strengthened rows, 0 substitutions\n",
      "Cgl0003I 0 fixed, 0 tightened bounds, 104 strengthened rows, 0 substitutions\n",
      "Cgl0003I 0 fixed, 0 tightened bounds, 104 strengthened rows, 0 substitutions\n",
      "Cgl0003I 0 fixed, 0 tightened bounds, 104 strengthened rows, 0 substitutions\n",
      "Cgl0003I 0 fixed, 0 tightened bounds, 104 strengthened rows, 0 substitutions\n",
      "Cgl0003I 0 fixed, 0 tightened bounds, 104 strengthened rows, 0 substitutions\n",
      "Cgl0004I processed model has 5681 rows, 3057 columns (647 integer (647 of which binary)) and 25745 elements\n",
      "Cbc0038I Initial state - 213 integers unsatisfied sum - 25.5373\n",
      "Cbc0038I Pass   1: (0.73 seconds) suminf.    1.09040 (9) obj. 17077 iterations 1261\n",
      "Cbc0038I Pass   2: (0.80 seconds) suminf.    0.00000 (0) obj. 22264 iterations 519\n",
      "Cbc0038I Solution found of 22264\n",
      "Cbc0038I Relaxing continuous gives 19030.4\n",
      "Cbc0038I Before mini branch and bound, 355 integers at bound fixed and 1014 continuous\n",
      "Cbc0038I Full problem 5681 rows 3057 columns, reduced to 2102 rows 1038 columns\n",
      "Cbc0038I Mini branch and bound improved solution from 19030.4 to 16935.2 (1.01 seconds)\n",
      "Cbc0038I Freeing continuous variables gives a solution of 16090.9\n",
      "Cbc0038I Round again with cutoff of 15145.9\n",
      "Cbc0038I Reduced cost fixing fixed 20 variables on major pass 2\n",
      "Cbc0038I Pass   3: (1.06 seconds) suminf.    1.09040 (9) obj. 15145.9 iterations 105\n",
      "Cbc0038I Pass   4: (1.15 seconds) suminf.    0.00337 (4) obj. 15145.9 iterations 769\n",
      "Cbc0038I Pass   5: (1.29 seconds) suminf.    0.34458 (9) obj. 15145.9 iterations 795\n",
      "Cbc0038I Pass   6: (1.43 seconds) suminf.    0.00334 (4) obj. 15145.9 iterations 835\n",
      "Cbc0038I Pass   7: (1.55 seconds) suminf.    0.00118 (4) obj. 15145.9 iterations 717\n",
      "Cbc0038I Pass   8: (1.55 seconds) suminf.    0.00118 (4) obj. 15145.9 iterations 0\n",
      "Cbc0038I Pass   9: (1.76 seconds) suminf.    2.55145 (130) obj. 15145.9 iterations 1592\n",
      "Cbc0038I Pass  10: (1.78 seconds) suminf.    1.58458 (112) obj. 15145.9 iterations 169\n",
      "Cbc0038I Pass  11: (1.82 seconds) suminf.    0.25640 (59) obj. 15145.9 iterations 330\n",
      "Cbc0038I Pass  12: (1.85 seconds) suminf.    0.92937 (59) obj. 15145.9 iterations 289\n",
      "Cbc0038I Pass  13: (1.89 seconds) suminf.    0.32978 (38) obj. 15145.9 iterations 269\n",
      "Cbc0038I Pass  14: (1.93 seconds) suminf.    0.99028 (46) obj. 15145.9 iterations 249\n",
      "Cbc0038I Pass  15: (1.97 seconds) suminf.    0.32828 (38) obj. 15145.9 iterations 217\n",
      "Cbc0038I Pass  16: (2.01 seconds) suminf.    0.92353 (38) obj. 15145.9 iterations 231\n",
      "Cbc0038I Pass  17: (2.08 seconds) suminf.    1.25272 (100) obj. 15145.9 iterations 641\n",
      "Cbc0038I Pass  18: (2.09 seconds) suminf.    0.90493 (88) obj. 15145.9 iterations 66\n",
      "Cbc0038I Pass  19: (2.12 seconds) suminf.    0.08502 (69) obj. 15145.9 iterations 165\n",
      "Cbc0038I Pass  20: (2.13 seconds) suminf.    0.08454 (69) obj. 15145.9 iterations 1\n",
      "Cbc0038I Pass  21: (2.15 seconds) suminf.    0.92914 (62) obj. 15145.9 iterations 164\n",
      "Cbc0038I Pass  22: (2.17 seconds) suminf.    0.27302 (63) obj. 15145.9 iterations 44\n",
      "Cbc0038I Pass  23: (2.20 seconds) suminf.    0.43566 (53) obj. 15145.9 iterations 265\n",
      "Cbc0038I Pass  24: (2.26 seconds) suminf.    0.01630 (31) obj. 15145.9 iterations 463\n",
      "Cbc0038I Pass  25: (2.28 seconds) suminf.    0.01476 (33) obj. 15145.9 iterations 37\n",
      "Cbc0038I Pass  26: (2.29 seconds) suminf.    0.40764 (50) obj. 15145.9 iterations 149\n",
      "Cbc0038I Pass  27: (2.33 seconds) suminf.    0.43424 (51) obj. 15145.9 iterations 213\n",
      "Cbc0038I Pass  28: (2.42 seconds) suminf.    0.80401 (68) obj. 15145.9 iterations 768\n",
      "Cbc0038I Pass  29: (2.43 seconds) suminf.    0.41151 (65) obj. 15145.9 iterations 60\n",
      "Cbc0038I Pass  30: (2.46 seconds) suminf.    1.42716 (64) obj. 15145.9 iterations 216\n",
      "Cbc0038I Pass  31: (2.49 seconds) suminf.    0.75108 (56) obj. 15145.9 iterations 147\n",
      "Cbc0038I Pass  32: (2.56 seconds) suminf.    0.02378 (45) obj. 15145.9 iterations 407\n",
      "Cbc0038I No solution found this major pass\n",
      "Cbc0038I Before mini branch and bound, 221 integers at bound fixed and 773 continuous\n",
      "Cbc0038I Full problem 5681 rows 3057 columns, reduced to 3279 rows 1557 columns - 71 fixed gives 1985, 1229 - ok now\n",
      "Cbc0038I Mini branch and bound did not improve solution (2.81 seconds)\n",
      "Cbc0038I After 2.82 seconds - Feasibility pump exiting with objective of 16090.9 - took 2.24 seconds\n",
      "Cbc0012I Integer solution of 16090.895 found by feasibility pump after 0 iterations and 0 nodes (2.85 seconds)\n",
      "Cbc0038I Full problem 5681 rows 3057 columns, reduced to 3126 rows 2238 columns - 11 fixed gives 2169, 2079 - ok now\n",
      "Cbc0038I Full problem 5681 rows 3057 columns, reduced to 2110 rows 2072 columns\n",
      "Cbc0031I 171 added rows had average density of 31.327485\n",
      "Cbc0013I At root node, 171 cuts changed objective from 6640.6512 to 7356.3568 in 26 passes\n",
      "Cbc0014I Cut generator 0 (Probing) - 237 row cuts average 2.8 elements, 1 column cuts (102 active)  in 0.129 seconds - new frequency is 1\n",
      "Cbc0014I Cut generator 1 (Gomory) - 155 row cuts average 38.2 elements, 0 column cuts (0 active)  in 0.174 seconds - new frequency is 1\n",
      "Cbc0014I Cut generator 2 (Knapsack) - 0 row cuts average 0.0 elements, 0 column cuts (0 active)  in 0.190 seconds - new frequency is -100\n",
      "Cbc0014I Cut generator 3 (Clique) - 0 row cuts average 0.0 elements, 0 column cuts (0 active)  in 0.003 seconds - new frequency is -100\n",
      "Cbc0014I Cut generator 4 (MixedIntegerRounding2) - 40 row cuts average 20.4 elements, 0 column cuts (0 active)  in 0.100 seconds - new frequency is -100\n",
      "Cbc0014I Cut generator 5 (FlowCover) - 36 row cuts average 2.0 elements, 0 column cuts (0 active)  in 0.264 seconds - new frequency is -100\n",
      "Cbc0014I Cut generator 6 (TwoMirCuts) - 628 row cuts average 104.6 elements, 0 column cuts (0 active)  in 0.206 seconds - new frequency is 1\n",
      "Cbc0010I After 0 nodes, 1 on tree, 16090.895 best solution, best possible 7356.3568 (5.47 seconds)\n",
      "Cbc0012I Integer solution of 14573.668 found by DiveCoefficient after 3755 iterations and 1 nodes (6.01 seconds)\n",
      "Cbc0012I Integer solution of 13886.556 found by DiveCoefficient after 4213 iterations and 5 nodes (7.78 seconds)\n",
      "Cbc0012I Integer solution of 13852.048 found by DiveCoefficient after 4222 iterations and 5 nodes (8.10 seconds)\n",
      "Cbc0012I Integer solution of 13577.008 found by DiveCoefficient after 5431 iterations and 9 nodes (9.43 seconds)\n",
      "Cbc0012I Integer solution of 12400.896 found by DiveCoefficient after 10675 iterations and 32 nodes (12.78 seconds)\n",
      "Cbc0038I Full problem 5681 rows 3057 columns, reduced to 1838 rows 1635 columns\n",
      "Cbc0038I Full problem 5681 rows 3057 columns, reduced to 1980 rows 1708 columns\n",
      "Cbc0010I After 100 nodes, 32 on tree, 12400.896 best solution, best possible 7356.3568 (16.25 seconds)\n",
      "Cbc0012I Integer solution of 12078.558 found by rounding after 24715 iterations and 125 nodes (16.50 seconds)\n",
      "Cbc0004I Integer solution of 11929.147 found after 24754 iterations and 152 nodes (16.76 seconds)\n",
      "Cbc0038I Full problem 5681 rows 3057 columns, reduced to 1278 rows 1502 columns\n",
      "Cbc0010I After 200 nodes, 25 on tree, 11929.147 best solution, best possible 7356.3568 (18.49 seconds)\n",
      "Cbc0012I Integer solution of 11921.971 found by rounding after 32514 iterations and 216 nodes (18.83 seconds)\n",
      "Cbc0012I Integer solution of 11921.967 found by rounding after 37863 iterations and 263 nodes (20.66 seconds)\n",
      "Cbc0012I Integer solution of 11865.191 found by DiveCoefficient after 44455 iterations and 293 nodes (22.46 seconds)\n",
      "Cbc0038I Full problem 5681 rows 3057 columns, reduced to 1459 rows 1582 columns\n",
      "Cbc0010I After 300 nodes, 10 on tree, 11865.191 best solution, best possible 7356.3568 (23.28 seconds)\n",
      "Cbc0012I Integer solution of 11402.233 found by rounding after 48216 iterations and 355 nodes (24.18 seconds)\n",
      "Cbc0012I Integer solution of 11371.965 found by rounding after 48223 iterations and 362 nodes (24.26 seconds)\n",
      "Cbc0012I Integer solution of 11351.038 found by DiveCoefficient after 52045 iterations and 391 nodes (29.14 seconds)\n",
      "Cbc0010I After 400 nodes, 7 on tree, 11351.038 best solution, best possible 7356.3568 (29.82 seconds)\n",
      "Cbc0012I Integer solution of 11315.81 found by DiveCoefficient after 55724 iterations and 409 nodes (30.69 seconds)\n",
      "Cbc0012I Integer solution of 11282.239 found by DiveCoefficient after 55726 iterations and 409 nodes (30.90 seconds)\n",
      "Cbc0012I Integer solution of 11219.197 found by rounding after 55867 iterations and 456 nodes (31.53 seconds)\n",
      "Cbc0012I Integer solution of 11219.196 found by rounding after 56011 iterations and 481 nodes (31.88 seconds)\n",
      "Cbc0004I Integer solution of 11219.196 found after 56159 iterations and 491 nodes (32.15 seconds)\n",
      "Cbc0010I After 500 nodes, 24 on tree, 11219.196 best solution, best possible 7356.3568 (32.40 seconds)\n",
      "Cbc0038I Full problem 5681 rows 3057 columns, reduced to 1256 rows 1487 columns\n",
      "Cbc0012I Integer solution of 11219.187 found by rounding after 56387 iterations and 556 nodes (33.47 seconds)\n",
      "Cbc0010I After 600 nodes, 7 on tree, 11219.187 best solution, best possible 7392.8194 (40.68 seconds)\n",
      "Cbc0038I Full problem 5681 rows 3057 columns, reduced to 1455 rows 1573 columns\n",
      "Cbc0010I After 700 nodes, 9 on tree, 11219.187 best solution, best possible 7392.8194 (47.00 seconds)\n",
      "Cbc0004I Integer solution of 11122.325 found after 89948 iterations and 774 nodes (47.88 seconds)\n",
      "Cbc0010I After 800 nodes, 8 on tree, 11122.325 best solution, best possible 7392.8194 (52.58 seconds)\n",
      "Cbc0010I After 900 nodes, 9 on tree, 11122.325 best solution, best possible 9127.7711 (73.47 seconds)\n",
      "Cbc0038I Full problem 5681 rows 3057 columns, reduced to 1445 rows 1577 columns\n",
      "Cbc0001I Search completed - best objective 11122.324566499, took 136540 iterations and 912 nodes (74.01 seconds)\n",
      "Cbc0032I Strong branching done 4282 times (98246 iterations), fathomed 13 nodes and fixed 212 variables\n",
      "Cbc0035I Maximum depth 89, 3254 variables fixed on reduced cost\n",
      "Cuts at root node changed objective from 6640.65 to 7356.36\n",
      "Probing was tried 903 times and created 1627 cuts of which 101 were active after adding rounds of cuts (0.404 seconds)\n",
      "Gomory was tried 903 times and created 4786 cuts of which 0 were active after adding rounds of cuts (1.678 seconds)\n",
      "Knapsack was tried 26 times and created 0 cuts of which 0 were active after adding rounds of cuts (0.190 seconds)\n",
      "Clique was tried 26 times and created 0 cuts of which 0 were active after adding rounds of cuts (0.003 seconds)\n",
      "MixedIntegerRounding2 was tried 26 times and created 40 cuts of which 0 were active after adding rounds of cuts (0.100 seconds)\n",
      "FlowCover was tried 26 times and created 36 cuts of which 0 were active after adding rounds of cuts (0.264 seconds)\n",
      "TwoMirCuts was tried 903 times and created 983 cuts of which 0 were active after adding rounds of cuts (2.491 seconds)\n",
      "ZeroHalf was tried 1 times and created 0 cuts of which 0 were active after adding rounds of cuts (0.005 seconds)\n",
      "\n",
      "Result - Optimal solution found\n",
      "\n",
      "Objective value:                11122.32456650\n",
      "Enumerated nodes:               912\n",
      "Total iterations:               136540\n",
      "Time (CPU seconds):             74.58\n",
      "Time (Wallclock seconds):       74.58\n",
      "\n",
      "Total time (CPU seconds):       74.79   (Wallclock seconds):       74.79\n",
      "\n",
      "# ==========================================================\n",
      "# = Solver Results                                         =\n",
      "# ==========================================================\n",
      "# ----------------------------------------------------------\n",
      "#   Problem Information\n",
      "# ----------------------------------------------------------\n",
      "Problem: \n",
      "- Name: unknown\n",
      "  Lower bound: 11122.3245665\n",
      "  Upper bound: 11122.3245665\n",
      "  Number of objectives: 1\n",
      "  Number of constraints: 4706\n",
      "  Number of variables: 2744\n",
      "  Number of binary variables: 3927\n",
      "  Number of integer variables: 3927\n",
      "  Number of nonzeros: 2003\n",
      "  Sense: minimize\n",
      "# ----------------------------------------------------------\n",
      "#   Solver Information\n",
      "# ----------------------------------------------------------\n",
      "Solver: \n",
      "- Status: ok\n",
      "  User time: -1.0\n",
      "  System time: 74.79\n",
      "  Wallclock time: 74.79\n",
      "  Termination condition: optimal\n",
      "  Termination message: Model was solved to optimality (subject to tolerances), and an optimal solution is available.\n",
      "  Statistics: \n",
      "    Branch and bound: \n",
      "      Number of bounded subproblems: 912\n",
      "      Number of created subproblems: 912\n",
      "    Black box: \n",
      "      Number of iterations: 136540\n",
      "  Error rc: 0\n",
      "  Time: 75.05976414680481\n",
      "# ----------------------------------------------------------\n",
      "#   Solution Information\n",
      "# ----------------------------------------------------------\n",
      "Solution: \n",
      "- number of solutions: 0\n",
      "  number of solutions displayed: 0\n"
     ]
    }
   ],
   "source": [
    "# Solve Pyomo model with specified options\n",
    "options = {\n",
    "    \"solver\": \"cbc\",  # \"gurobi\" is another solver option if you have it installed\n",
    "    \"deactivate_slacks\": True,\n",
    "    \"scale_model\": False,\n",
    "    \"scaling_factor\": 1000000,\n",
    "    \"running_time\": 300,\n",
    "    \"gap\": 0,\n",
    "    \"gurobi_numeric_focus\": 1,\n",
    "}\n",
    "results = solve_model(model=strategic_model, options=options)"
   ]
  },
  {
   "cell_type": "markdown",
   "id": "01914afa",
   "metadata": {},
   "source": [
    "PARETO's `is_feasible` utility function can be called after solving the model to check whether or not the solution returned by the solver violates any constraints:"
   ]
  },
  {
   "cell_type": "code",
   "execution_count": 8,
   "id": "b6d09258",
   "metadata": {},
   "outputs": [
    {
     "name": "stdout",
     "output_type": "stream",
     "text": [
      "Model results validated and found to pass feasibility tests\n"
     ]
    }
   ],
   "source": [
    "# Check feasibility of the solved model.\n",
    "with nostdout():\n",
    "    feasibility_status = is_feasible(strategic_model)\n",
    "if not feasibility_status:\n",
    "    print(\"Model results are not feasible and should not be trusted\")\n",
    "else:\n",
    "    print(\"Model results validated and found to pass feasibility tests\")"
   ]
  },
  {
   "attachments": {},
   "cell_type": "markdown",
   "id": "690da159",
   "metadata": {},
   "source": [
    "## <a id='analyze'></a>Step 6: Analyze results\n",
    "PARETO's `generate_report` function ([documentation](https://pareto.readthedocs.io/en/latest/utilities/Results.html#generate-report)) can be used to export the optimization reports to an Excel report. The first argument to the function is the model itself, and then there are four optional keyword arguments:"
   ]
  },
  {
   "attachments": {},
   "cell_type": "markdown",
   "id": "6281c80b",
   "metadata": {},
   "source": [
    "| Option | Description | Default value |\n",
    "| :- | :- | :- |\n",
    "| `results_obj` | The object returned by the solver. If provided, this object is used to extract data from the solver to include in the report. | `None` |\n",
    "| `is_print` | Determines how many results to print to the console, but has no effect on what is included in the Excel report. There are four possible values that may be passed:<br><br>- `None`<br><br>- `PrintValues.detailed`<br><br>- `PrintValues.nominal`<br><br>- `PrintValues.essential`<br><br>Note that it will be a rare case where it is useful or desirable to pick something other than `None` or `PrintValues.essential` for this option. | `None` |\n",
    "| `output_units` | Determines whether the units used in the report are the units provided by the user or the internal units used by the model. Specifically, the values that may be passed are:<br><br>- `OutputUnits.unscaled_model_units`<br><br>- `OutputUnits.user_units` | `OutputUnits.user_units` |\n",
    "| `fname` | The file name for the generated Excel report. | `\"PARETO_report.xlsx\"` |"
   ]
  },
  {
   "cell_type": "code",
   "execution_count": 9,
   "id": "1115835c",
   "metadata": {},
   "outputs": [
    {
     "name": "stdout",
     "output_type": "stream",
     "text": [
      "\n",
      " ========== V_F_OVERVIEW ==========\n",
      "Objective function variable [currency] = 11122325.0\n",
      "Total volume water trucked [volume] = 0.0\n",
      "Total volume freshwater sourced [volume] = 2716462.9999999995\n",
      "Total volume of water disposed [volume] = 4457395.999999999\n",
      "Total volume of produced water reused [volume] = 2573536.999999999\n",
      "Total cost of sourcing freshwater [currency] = 4074694.5\n",
      "Total cost of injecting produced water [currency] = 1560088.6\n",
      "Total cost of treating produced water [currency] = 1170031.6\n",
      "Total cost of reusing produced water [currency] = 0.0\n",
      "Total cost of piping produced water [currency] = 4336.2807999999995\n",
      "Total cost of storing produced water [currency] = 2573537.0\n",
      "Total cost of trucking produced water [currency] = 0.0\n",
      "Total cost of slack variables [currency] = 0\n",
      "Total credit for withdrawing produced water [currency] = 2547801.5999999996\n",
      "Capital cost of constructing or expanding disposal capacity [currency] = 0.0\n",
      "Capital cost of constructing or expanding piping capacity [currency] = 29789700.0\n",
      "Capital cost of constructing or expanding storage capacity [currency] = 805000.0\n",
      "Capital cost of constructing or expanding treatment capacity [currency] = 11500000.0\n",
      "Reuse Fraction Produced Water [%] = 30.554226758435654\n",
      "Disposal Fraction Produced Water [%] = 52.92027592225954\n",
      "Fresh Fraction Completions Demand [%] = 51.35090737240077\n",
      "Reuse Fraction Completions Demand [%] = 48.64909262759925\n"
     ]
    }
   ],
   "source": [
    "# Generate report with results in Excel\n",
    "[model, results_dict] = generate_report(\n",
    "    strategic_model,\n",
    "    results_obj=results,\n",
    "    is_print=PrintValues.essential,\n",
    "    output_units=OutputUnits.user_units,\n",
    "    fname=\"strategic_optimization_results.xlsx\",\n",
    ")"
   ]
  },
  {
   "cell_type": "markdown",
   "id": "4dab9b19",
   "metadata": {},
   "source": [
    "The `get_data` function can also be used to load data from a previously generated PARETO results report back into Python:"
   ]
  },
  {
   "cell_type": "code",
   "execution_count": 10,
   "id": "b6d6cc02",
   "metadata": {},
   "outputs": [
    {
     "name": "stdout",
     "output_type": "stream",
     "text": [
      "------- Overview -------\n",
      "{('v_Z', 'Objective function variable [currency]', 'USD'): 11122325.0, ('v_F_TotalTrucked', 'Total volume water trucked [volume]', 'bbl'): 0.0, ('v_F_TotalSourced', 'Total volume freshwater sourced [volume]', 'bbl'): 2716463.0, ('v_F_TotalDisposed', 'Total volume of water disposed [volume]', 'bbl'): 4457395.999999999, ('v_F_TotalReused', 'Total volume of produced water reused [volume]', 'bbl'): 2573536.999999999, ('v_C_TotalSourced', 'Total cost of sourcing freshwater [currency]', 'USD'): 4074694.5, ('v_C_TotalDisposal', 'Total cost of injecting produced water [currency]', 'USD'): 1560088.6, ('v_C_TotalTreatment', 'Total cost of treating produced water [currency]', 'USD'): 1170031.6, ('v_C_TotalReuse', 'Total cost of reusing produced water [currency]', 'USD'): 0.0, ('v_C_TotalPiping', 'Total cost of piping produced water [currency]', 'USD'): 4336.2808, ('v_C_TotalStorage', 'Total cost of storing produced water [currency]', 'USD'): 2573537.0, ('v_C_TotalTrucking', 'Total cost of trucking produced water [currency]', 'USD'): 0.0, ('v_C_Slack', 'Total cost of slack variables [currency]', 'USD'): 0.0, ('v_R_TotalStorage', 'Total credit for withdrawing produced water [currency]', 'USD'): 2547801.6, ('v_C_DisposalCapEx', 'Capital cost of constructing or expanding disposal capacity [currency]', 'USD'): 0.0, ('v_C_PipelineCapEx', 'Capital cost of constructing or expanding piping capacity [currency]', 'USD'): 29789700.0, ('v_C_StorageCapEx', 'Capital cost of constructing or expanding storage capacity [currency]', 'USD'): 805000.0, ('v_C_TreatmentCapEx', 'Capital cost of constructing or expanding treatment capacity [currency]', 'USD'): 11500000.0, ('reuse_WaterKPI', 'Reuse Fraction Produced Water [%]', ''): 30.55422675843565, ('disposal_WaterKPI', 'Disposal Fraction Produced Water [%]', ''): 52.92027592225954, ('fresh_CompletionsDemandKPI', 'Fresh Fraction Completions Demand [%]', ''): 51.35090737240077, ('reuse_CompletionsDemandKPI', 'Reuse Fraction Completions Demand [%]', ''): 48.64909262759925}\n",
      "\n",
      "------- Infrastructure buildout overview -------\n",
      "{('Treatment Facility', 'R01', '--', 9999.999999999995, 'bbl/d'): 'MVC', ('Treatment Facility', 'R02', '--', 19999.99999999999, 'bbl/d'): 'CB', ('Storage Facility', 'S02', '--', 349999.9999999998, 'bbl'): '--', ('Pipeline Construction', 'PP04', 'N09', 4.0, 'in'): '--', ('Pipeline Construction', 'S02', 'CP01', 6.0, 'in'): '--', ('Pipeline Construction', 'N03', 'R01', 4.0, 'in'): '--', ('Pipeline Construction', 'N07', 'N09', 6.0, 'in'): '--', ('Pipeline Construction', 'N09', 'R02', 6.0, 'in'): '--'}\n",
      "\n",
      "------- Sourced water -------\n",
      "{('F01', 'CP01', 'T02'): 44999.99999999999, ('F01', 'CP01', 'T03'): 14285.71428571428, ('F01', 'CP01', 'T04'): 14285.71428571428, ('F01', 'CP01', 'T05'): 28712.78428571428, ('F01', 'CP01', 'T06'): 33453.92428571428, ('F01', 'CP01', 'T07'): 34093.47142857142, ('F01', 'CP01', 'T08'): 34624.41571428571, ('F01', 'CP01', 'T09'): 35075.70428571428, ('F01', 'CP01', 'T10'): 35466.35142857143, ('F01', 'CP01', 'T11'): 22952.32142857142, ('F01', 'CP01', 'T46'): 9999.999999999998, ('F01', 'CP01', 'T47'): 9999.999999999998, ('F01', 'CP01', 'T48'): 10899.06914285714, ('F01', 'CP01', 'T49'): 27233.10428571428, ('F01', 'CP01', 'T50'): 31983.56999999999}\n"
     ]
    }
   ],
   "source": [
    "# Read data from the PARETO results report\n",
    "tabs_to_read = [\"v_F_Overview\", \"vb_y_overview\", \"v_F_Sourced\"]\n",
    "fname = \"strategic_optimization_results.xlsx\"\n",
    "_, parameters_report = get_data(fname, [], tabs_to_read)\n",
    "\n",
    "print(\"------- Overview -------\")\n",
    "print(parameters_report[\"v_F_Overview\"])  # Note that this is the same data that was printed above by the generate_report function\n",
    "print(\"\\n------- Infrastructure buildout overview -------\")\n",
    "print(parameters_report[\"vb_y_overview\"])\n",
    "print(\"\\n------- Sourced water -------\")\n",
    "print(parameters_report[\"v_F_Sourced\"])"
   ]
  },
  {
   "cell_type": "markdown",
   "id": "6d00b984",
   "metadata": {},
   "source": [
    "### Step 6.1 (optional): Generate Sankey diagrams\n",
    "PARETO's `plot_sankey` function ([documentation](https://pareto.readthedocs.io/en/latest/utilities/Results.html#generate-sankey)) can be used to generate Sankey diagrams of the output:"
   ]
  },
  {
   "cell_type": "code",
   "execution_count": 11,
   "id": "593215e6",
   "metadata": {},
   "outputs": [
    {
     "data": {
      "application/vnd.plotly.v1+json": {
       "config": {
        "linkText": "Export to plot.ly",
        "plotlyServerURL": "https://plot.ly",
        "showLink": false
       },
       "data": [
        {
         "link": {
          "source": [
           0,
           1,
           2,
           3,
           4,
           5,
           5,
           6,
           7,
           8,
           9,
           10,
           11
          ],
          "target": [
           8,
           4,
           5,
           10,
           7,
           9,
           6,
           10,
           6,
           12,
           13,
           11,
           14
          ],
          "value": [
           4999.999999999999,
           12999.999999999998,
           7999.999999999998,
           1999.9999999999995,
           12999.999999999998,
           2999.9999999999995,
           4999.999999999999,
           17999.999999999996,
           12999.999999999998,
           4999.999999999999,
           2999.9999999999995,
           19999.999999999996,
           18999.999999999996
          ]
         },
         "node": {
          "label": [
           "PP01:5k",
           "PP02:13k",
           "PP03:8k",
           "PP04:2k",
           "N05:13k",
           "N06:8k",
           "N07:18k",
           "N08:13k",
           "N01:5k",
           "N04:3k",
           "N09:20k",
           "R02:19k",
           "K01:5k",
           "K02:3k",
           "S02:19k"
          ],
          "line": {
           "color": "black",
           "width": 0.5
          },
          "pad": 30,
          "thickness": 15
         },
         "type": "sankey"
        }
       ],
       "layout": {
        "font": {
         "size": 20
        },
        "template": {
         "data": {
          "bar": [
           {
            "error_x": {
             "color": "#2a3f5f"
            },
            "error_y": {
             "color": "#2a3f5f"
            },
            "marker": {
             "line": {
              "color": "#E5ECF6",
              "width": 0.5
             },
             "pattern": {
              "fillmode": "overlay",
              "size": 10,
              "solidity": 0.2
             }
            },
            "type": "bar"
           }
          ],
          "barpolar": [
           {
            "marker": {
             "line": {
              "color": "#E5ECF6",
              "width": 0.5
             },
             "pattern": {
              "fillmode": "overlay",
              "size": 10,
              "solidity": 0.2
             }
            },
            "type": "barpolar"
           }
          ],
          "carpet": [
           {
            "aaxis": {
             "endlinecolor": "#2a3f5f",
             "gridcolor": "white",
             "linecolor": "white",
             "minorgridcolor": "white",
             "startlinecolor": "#2a3f5f"
            },
            "baxis": {
             "endlinecolor": "#2a3f5f",
             "gridcolor": "white",
             "linecolor": "white",
             "minorgridcolor": "white",
             "startlinecolor": "#2a3f5f"
            },
            "type": "carpet"
           }
          ],
          "choropleth": [
           {
            "colorbar": {
             "outlinewidth": 0,
             "ticks": ""
            },
            "type": "choropleth"
           }
          ],
          "contour": [
           {
            "colorbar": {
             "outlinewidth": 0,
             "ticks": ""
            },
            "colorscale": [
             [
              0,
              "#0d0887"
             ],
             [
              0.1111111111111111,
              "#46039f"
             ],
             [
              0.2222222222222222,
              "#7201a8"
             ],
             [
              0.3333333333333333,
              "#9c179e"
             ],
             [
              0.4444444444444444,
              "#bd3786"
             ],
             [
              0.5555555555555556,
              "#d8576b"
             ],
             [
              0.6666666666666666,
              "#ed7953"
             ],
             [
              0.7777777777777778,
              "#fb9f3a"
             ],
             [
              0.8888888888888888,
              "#fdca26"
             ],
             [
              1,
              "#f0f921"
             ]
            ],
            "type": "contour"
           }
          ],
          "contourcarpet": [
           {
            "colorbar": {
             "outlinewidth": 0,
             "ticks": ""
            },
            "type": "contourcarpet"
           }
          ],
          "heatmap": [
           {
            "colorbar": {
             "outlinewidth": 0,
             "ticks": ""
            },
            "colorscale": [
             [
              0,
              "#0d0887"
             ],
             [
              0.1111111111111111,
              "#46039f"
             ],
             [
              0.2222222222222222,
              "#7201a8"
             ],
             [
              0.3333333333333333,
              "#9c179e"
             ],
             [
              0.4444444444444444,
              "#bd3786"
             ],
             [
              0.5555555555555556,
              "#d8576b"
             ],
             [
              0.6666666666666666,
              "#ed7953"
             ],
             [
              0.7777777777777778,
              "#fb9f3a"
             ],
             [
              0.8888888888888888,
              "#fdca26"
             ],
             [
              1,
              "#f0f921"
             ]
            ],
            "type": "heatmap"
           }
          ],
          "heatmapgl": [
           {
            "colorbar": {
             "outlinewidth": 0,
             "ticks": ""
            },
            "colorscale": [
             [
              0,
              "#0d0887"
             ],
             [
              0.1111111111111111,
              "#46039f"
             ],
             [
              0.2222222222222222,
              "#7201a8"
             ],
             [
              0.3333333333333333,
              "#9c179e"
             ],
             [
              0.4444444444444444,
              "#bd3786"
             ],
             [
              0.5555555555555556,
              "#d8576b"
             ],
             [
              0.6666666666666666,
              "#ed7953"
             ],
             [
              0.7777777777777778,
              "#fb9f3a"
             ],
             [
              0.8888888888888888,
              "#fdca26"
             ],
             [
              1,
              "#f0f921"
             ]
            ],
            "type": "heatmapgl"
           }
          ],
          "histogram": [
           {
            "marker": {
             "pattern": {
              "fillmode": "overlay",
              "size": 10,
              "solidity": 0.2
             }
            },
            "type": "histogram"
           }
          ],
          "histogram2d": [
           {
            "colorbar": {
             "outlinewidth": 0,
             "ticks": ""
            },
            "colorscale": [
             [
              0,
              "#0d0887"
             ],
             [
              0.1111111111111111,
              "#46039f"
             ],
             [
              0.2222222222222222,
              "#7201a8"
             ],
             [
              0.3333333333333333,
              "#9c179e"
             ],
             [
              0.4444444444444444,
              "#bd3786"
             ],
             [
              0.5555555555555556,
              "#d8576b"
             ],
             [
              0.6666666666666666,
              "#ed7953"
             ],
             [
              0.7777777777777778,
              "#fb9f3a"
             ],
             [
              0.8888888888888888,
              "#fdca26"
             ],
             [
              1,
              "#f0f921"
             ]
            ],
            "type": "histogram2d"
           }
          ],
          "histogram2dcontour": [
           {
            "colorbar": {
             "outlinewidth": 0,
             "ticks": ""
            },
            "colorscale": [
             [
              0,
              "#0d0887"
             ],
             [
              0.1111111111111111,
              "#46039f"
             ],
             [
              0.2222222222222222,
              "#7201a8"
             ],
             [
              0.3333333333333333,
              "#9c179e"
             ],
             [
              0.4444444444444444,
              "#bd3786"
             ],
             [
              0.5555555555555556,
              "#d8576b"
             ],
             [
              0.6666666666666666,
              "#ed7953"
             ],
             [
              0.7777777777777778,
              "#fb9f3a"
             ],
             [
              0.8888888888888888,
              "#fdca26"
             ],
             [
              1,
              "#f0f921"
             ]
            ],
            "type": "histogram2dcontour"
           }
          ],
          "mesh3d": [
           {
            "colorbar": {
             "outlinewidth": 0,
             "ticks": ""
            },
            "type": "mesh3d"
           }
          ],
          "parcoords": [
           {
            "line": {
             "colorbar": {
              "outlinewidth": 0,
              "ticks": ""
             }
            },
            "type": "parcoords"
           }
          ],
          "pie": [
           {
            "automargin": true,
            "type": "pie"
           }
          ],
          "scatter": [
           {
            "fillpattern": {
             "fillmode": "overlay",
             "size": 10,
             "solidity": 0.2
            },
            "type": "scatter"
           }
          ],
          "scatter3d": [
           {
            "line": {
             "colorbar": {
              "outlinewidth": 0,
              "ticks": ""
             }
            },
            "marker": {
             "colorbar": {
              "outlinewidth": 0,
              "ticks": ""
             }
            },
            "type": "scatter3d"
           }
          ],
          "scattercarpet": [
           {
            "marker": {
             "colorbar": {
              "outlinewidth": 0,
              "ticks": ""
             }
            },
            "type": "scattercarpet"
           }
          ],
          "scattergeo": [
           {
            "marker": {
             "colorbar": {
              "outlinewidth": 0,
              "ticks": ""
             }
            },
            "type": "scattergeo"
           }
          ],
          "scattergl": [
           {
            "marker": {
             "colorbar": {
              "outlinewidth": 0,
              "ticks": ""
             }
            },
            "type": "scattergl"
           }
          ],
          "scattermapbox": [
           {
            "marker": {
             "colorbar": {
              "outlinewidth": 0,
              "ticks": ""
             }
            },
            "type": "scattermapbox"
           }
          ],
          "scatterpolar": [
           {
            "marker": {
             "colorbar": {
              "outlinewidth": 0,
              "ticks": ""
             }
            },
            "type": "scatterpolar"
           }
          ],
          "scatterpolargl": [
           {
            "marker": {
             "colorbar": {
              "outlinewidth": 0,
              "ticks": ""
             }
            },
            "type": "scatterpolargl"
           }
          ],
          "scatterternary": [
           {
            "marker": {
             "colorbar": {
              "outlinewidth": 0,
              "ticks": ""
             }
            },
            "type": "scatterternary"
           }
          ],
          "surface": [
           {
            "colorbar": {
             "outlinewidth": 0,
             "ticks": ""
            },
            "colorscale": [
             [
              0,
              "#0d0887"
             ],
             [
              0.1111111111111111,
              "#46039f"
             ],
             [
              0.2222222222222222,
              "#7201a8"
             ],
             [
              0.3333333333333333,
              "#9c179e"
             ],
             [
              0.4444444444444444,
              "#bd3786"
             ],
             [
              0.5555555555555556,
              "#d8576b"
             ],
             [
              0.6666666666666666,
              "#ed7953"
             ],
             [
              0.7777777777777778,
              "#fb9f3a"
             ],
             [
              0.8888888888888888,
              "#fdca26"
             ],
             [
              1,
              "#f0f921"
             ]
            ],
            "type": "surface"
           }
          ],
          "table": [
           {
            "cells": {
             "fill": {
              "color": "#EBF0F8"
             },
             "line": {
              "color": "white"
             }
            },
            "header": {
             "fill": {
              "color": "#C8D4E3"
             },
             "line": {
              "color": "white"
             }
            },
            "type": "table"
           }
          ]
         },
         "layout": {
          "annotationdefaults": {
           "arrowcolor": "#2a3f5f",
           "arrowhead": 0,
           "arrowwidth": 1
          },
          "autotypenumbers": "strict",
          "coloraxis": {
           "colorbar": {
            "outlinewidth": 0,
            "ticks": ""
           }
          },
          "colorscale": {
           "diverging": [
            [
             0,
             "#8e0152"
            ],
            [
             0.1,
             "#c51b7d"
            ],
            [
             0.2,
             "#de77ae"
            ],
            [
             0.3,
             "#f1b6da"
            ],
            [
             0.4,
             "#fde0ef"
            ],
            [
             0.5,
             "#f7f7f7"
            ],
            [
             0.6,
             "#e6f5d0"
            ],
            [
             0.7,
             "#b8e186"
            ],
            [
             0.8,
             "#7fbc41"
            ],
            [
             0.9,
             "#4d9221"
            ],
            [
             1,
             "#276419"
            ]
           ],
           "sequential": [
            [
             0,
             "#0d0887"
            ],
            [
             0.1111111111111111,
             "#46039f"
            ],
            [
             0.2222222222222222,
             "#7201a8"
            ],
            [
             0.3333333333333333,
             "#9c179e"
            ],
            [
             0.4444444444444444,
             "#bd3786"
            ],
            [
             0.5555555555555556,
             "#d8576b"
            ],
            [
             0.6666666666666666,
             "#ed7953"
            ],
            [
             0.7777777777777778,
             "#fb9f3a"
            ],
            [
             0.8888888888888888,
             "#fdca26"
            ],
            [
             1,
             "#f0f921"
            ]
           ],
           "sequentialminus": [
            [
             0,
             "#0d0887"
            ],
            [
             0.1111111111111111,
             "#46039f"
            ],
            [
             0.2222222222222222,
             "#7201a8"
            ],
            [
             0.3333333333333333,
             "#9c179e"
            ],
            [
             0.4444444444444444,
             "#bd3786"
            ],
            [
             0.5555555555555556,
             "#d8576b"
            ],
            [
             0.6666666666666666,
             "#ed7953"
            ],
            [
             0.7777777777777778,
             "#fb9f3a"
            ],
            [
             0.8888888888888888,
             "#fdca26"
            ],
            [
             1,
             "#f0f921"
            ]
           ]
          },
          "colorway": [
           "#636efa",
           "#EF553B",
           "#00cc96",
           "#ab63fa",
           "#FFA15A",
           "#19d3f3",
           "#FF6692",
           "#B6E880",
           "#FF97FF",
           "#FECB52"
          ],
          "font": {
           "color": "#2a3f5f"
          },
          "geo": {
           "bgcolor": "white",
           "lakecolor": "white",
           "landcolor": "#E5ECF6",
           "showlakes": true,
           "showland": true,
           "subunitcolor": "white"
          },
          "hoverlabel": {
           "align": "left"
          },
          "hovermode": "closest",
          "mapbox": {
           "style": "light"
          },
          "paper_bgcolor": "white",
          "plot_bgcolor": "#E5ECF6",
          "polar": {
           "angularaxis": {
            "gridcolor": "white",
            "linecolor": "white",
            "ticks": ""
           },
           "bgcolor": "#E5ECF6",
           "radialaxis": {
            "gridcolor": "white",
            "linecolor": "white",
            "ticks": ""
           }
          },
          "scene": {
           "xaxis": {
            "backgroundcolor": "#E5ECF6",
            "gridcolor": "white",
            "gridwidth": 2,
            "linecolor": "white",
            "showbackground": true,
            "ticks": "",
            "zerolinecolor": "white"
           },
           "yaxis": {
            "backgroundcolor": "#E5ECF6",
            "gridcolor": "white",
            "gridwidth": 2,
            "linecolor": "white",
            "showbackground": true,
            "ticks": "",
            "zerolinecolor": "white"
           },
           "zaxis": {
            "backgroundcolor": "#E5ECF6",
            "gridcolor": "white",
            "gridwidth": 2,
            "linecolor": "white",
            "showbackground": true,
            "ticks": "",
            "zerolinecolor": "white"
           }
          },
          "shapedefaults": {
           "line": {
            "color": "#2a3f5f"
           }
          },
          "ternary": {
           "aaxis": {
            "gridcolor": "white",
            "linecolor": "white",
            "ticks": ""
           },
           "baxis": {
            "gridcolor": "white",
            "linecolor": "white",
            "ticks": ""
           },
           "bgcolor": "#E5ECF6",
           "caxis": {
            "gridcolor": "white",
            "linecolor": "white",
            "ticks": ""
           }
          },
          "title": {
           "x": 0.05
          },
          "xaxis": {
           "automargin": true,
           "gridcolor": "white",
           "linecolor": "white",
           "ticks": "",
           "title": {
            "standoff": 15
           },
           "zerolinecolor": "white",
           "zerolinewidth": 2
          },
          "yaxis": {
           "automargin": true,
           "gridcolor": "white",
           "linecolor": "white",
           "ticks": "",
           "title": {
            "standoff": 15
           },
           "zerolinecolor": "white",
           "zerolinewidth": 2
          }
         }
        },
        "title": {
         "font": {
          "size": 40
         },
         "text": "Piped water - T01",
         "x": 0.5
        }
       }
      }
     },
     "metadata": {},
     "output_type": "display_data"
    }
   ],
   "source": [
    "input_data = {\"pareto_var\": results_dict[\"v_F_Piped_dict\"], \n",
    "              \"time_period\": \"T01\",\n",
    "             }\n",
    "args = {\"plot_title\": \"Piped water - T01\",\n",
    "        \"output_file\": \"demo_sankey_T01.html\",\n",
    "        \"jupyter_notebook\": True,  # setting this option to True causes the Sankey diagram(s) to appear in the Jupyter notebook\n",
    "       }\n",
    "plot_sankey(input_data, args)"
   ]
  },
  {
   "cell_type": "markdown",
   "id": "63ea277a",
   "metadata": {},
   "source": [
    "We can pass a list of multiple times for the `time_period` entry in the `input_data` argument to get a Sankey diagram showing the cumulative flows over multiple time periods:"
   ]
  },
  {
   "cell_type": "code",
   "execution_count": 12,
   "id": "d7110c38",
   "metadata": {},
   "outputs": [
    {
     "data": {
      "application/vnd.plotly.v1+json": {
       "config": {
        "linkText": "Export to plot.ly",
        "plotlyServerURL": "https://plot.ly",
        "showLink": false
       },
       "data": [
        {
         "link": {
          "source": [
           0,
           1,
           2,
           3,
           4,
           5,
           6,
           7,
           7,
           8,
           9,
           4,
           10,
           11,
           12
          ],
          "target": [
           4,
           6,
           7,
           11,
           5,
           6,
           9,
           10,
           8,
           11,
           8,
           13,
           14,
           12,
           15
          ],
          "value": [
           9322.686142857141,
           23199.593285714283,
           14727.171285714283,
           3972.4654285714278,
           1100.77,
           1100.77,
           24300.36328571428,
           2999.9999999999995,
           11727.171285714285,
           36027.53428571428,
           24300.36328571428,
           8221.91614285714,
           2999.9999999999995,
           39999.99999999999,
           37999.99999999999
          ]
         },
         "node": {
          "label": [
           "PP01:9k",
           "PP02:23k",
           "PP03:14k",
           "PP04:3k",
           "N01:9k",
           "N02:1k",
           "N05:24k",
           "N06:14k",
           "N07:36k",
           "N08:24k",
           "N04:3k",
           "N09:40k",
           "R02:38k",
           "K01:8k",
           "K02:3k",
           "S02:38k"
          ],
          "line": {
           "color": "black",
           "width": 0.5
          },
          "pad": 30,
          "thickness": 15
         },
         "type": "sankey"
        }
       ],
       "layout": {
        "font": {
         "size": 20
        },
        "template": {
         "data": {
          "bar": [
           {
            "error_x": {
             "color": "#2a3f5f"
            },
            "error_y": {
             "color": "#2a3f5f"
            },
            "marker": {
             "line": {
              "color": "#E5ECF6",
              "width": 0.5
             },
             "pattern": {
              "fillmode": "overlay",
              "size": 10,
              "solidity": 0.2
             }
            },
            "type": "bar"
           }
          ],
          "barpolar": [
           {
            "marker": {
             "line": {
              "color": "#E5ECF6",
              "width": 0.5
             },
             "pattern": {
              "fillmode": "overlay",
              "size": 10,
              "solidity": 0.2
             }
            },
            "type": "barpolar"
           }
          ],
          "carpet": [
           {
            "aaxis": {
             "endlinecolor": "#2a3f5f",
             "gridcolor": "white",
             "linecolor": "white",
             "minorgridcolor": "white",
             "startlinecolor": "#2a3f5f"
            },
            "baxis": {
             "endlinecolor": "#2a3f5f",
             "gridcolor": "white",
             "linecolor": "white",
             "minorgridcolor": "white",
             "startlinecolor": "#2a3f5f"
            },
            "type": "carpet"
           }
          ],
          "choropleth": [
           {
            "colorbar": {
             "outlinewidth": 0,
             "ticks": ""
            },
            "type": "choropleth"
           }
          ],
          "contour": [
           {
            "colorbar": {
             "outlinewidth": 0,
             "ticks": ""
            },
            "colorscale": [
             [
              0,
              "#0d0887"
             ],
             [
              0.1111111111111111,
              "#46039f"
             ],
             [
              0.2222222222222222,
              "#7201a8"
             ],
             [
              0.3333333333333333,
              "#9c179e"
             ],
             [
              0.4444444444444444,
              "#bd3786"
             ],
             [
              0.5555555555555556,
              "#d8576b"
             ],
             [
              0.6666666666666666,
              "#ed7953"
             ],
             [
              0.7777777777777778,
              "#fb9f3a"
             ],
             [
              0.8888888888888888,
              "#fdca26"
             ],
             [
              1,
              "#f0f921"
             ]
            ],
            "type": "contour"
           }
          ],
          "contourcarpet": [
           {
            "colorbar": {
             "outlinewidth": 0,
             "ticks": ""
            },
            "type": "contourcarpet"
           }
          ],
          "heatmap": [
           {
            "colorbar": {
             "outlinewidth": 0,
             "ticks": ""
            },
            "colorscale": [
             [
              0,
              "#0d0887"
             ],
             [
              0.1111111111111111,
              "#46039f"
             ],
             [
              0.2222222222222222,
              "#7201a8"
             ],
             [
              0.3333333333333333,
              "#9c179e"
             ],
             [
              0.4444444444444444,
              "#bd3786"
             ],
             [
              0.5555555555555556,
              "#d8576b"
             ],
             [
              0.6666666666666666,
              "#ed7953"
             ],
             [
              0.7777777777777778,
              "#fb9f3a"
             ],
             [
              0.8888888888888888,
              "#fdca26"
             ],
             [
              1,
              "#f0f921"
             ]
            ],
            "type": "heatmap"
           }
          ],
          "heatmapgl": [
           {
            "colorbar": {
             "outlinewidth": 0,
             "ticks": ""
            },
            "colorscale": [
             [
              0,
              "#0d0887"
             ],
             [
              0.1111111111111111,
              "#46039f"
             ],
             [
              0.2222222222222222,
              "#7201a8"
             ],
             [
              0.3333333333333333,
              "#9c179e"
             ],
             [
              0.4444444444444444,
              "#bd3786"
             ],
             [
              0.5555555555555556,
              "#d8576b"
             ],
             [
              0.6666666666666666,
              "#ed7953"
             ],
             [
              0.7777777777777778,
              "#fb9f3a"
             ],
             [
              0.8888888888888888,
              "#fdca26"
             ],
             [
              1,
              "#f0f921"
             ]
            ],
            "type": "heatmapgl"
           }
          ],
          "histogram": [
           {
            "marker": {
             "pattern": {
              "fillmode": "overlay",
              "size": 10,
              "solidity": 0.2
             }
            },
            "type": "histogram"
           }
          ],
          "histogram2d": [
           {
            "colorbar": {
             "outlinewidth": 0,
             "ticks": ""
            },
            "colorscale": [
             [
              0,
              "#0d0887"
             ],
             [
              0.1111111111111111,
              "#46039f"
             ],
             [
              0.2222222222222222,
              "#7201a8"
             ],
             [
              0.3333333333333333,
              "#9c179e"
             ],
             [
              0.4444444444444444,
              "#bd3786"
             ],
             [
              0.5555555555555556,
              "#d8576b"
             ],
             [
              0.6666666666666666,
              "#ed7953"
             ],
             [
              0.7777777777777778,
              "#fb9f3a"
             ],
             [
              0.8888888888888888,
              "#fdca26"
             ],
             [
              1,
              "#f0f921"
             ]
            ],
            "type": "histogram2d"
           }
          ],
          "histogram2dcontour": [
           {
            "colorbar": {
             "outlinewidth": 0,
             "ticks": ""
            },
            "colorscale": [
             [
              0,
              "#0d0887"
             ],
             [
              0.1111111111111111,
              "#46039f"
             ],
             [
              0.2222222222222222,
              "#7201a8"
             ],
             [
              0.3333333333333333,
              "#9c179e"
             ],
             [
              0.4444444444444444,
              "#bd3786"
             ],
             [
              0.5555555555555556,
              "#d8576b"
             ],
             [
              0.6666666666666666,
              "#ed7953"
             ],
             [
              0.7777777777777778,
              "#fb9f3a"
             ],
             [
              0.8888888888888888,
              "#fdca26"
             ],
             [
              1,
              "#f0f921"
             ]
            ],
            "type": "histogram2dcontour"
           }
          ],
          "mesh3d": [
           {
            "colorbar": {
             "outlinewidth": 0,
             "ticks": ""
            },
            "type": "mesh3d"
           }
          ],
          "parcoords": [
           {
            "line": {
             "colorbar": {
              "outlinewidth": 0,
              "ticks": ""
             }
            },
            "type": "parcoords"
           }
          ],
          "pie": [
           {
            "automargin": true,
            "type": "pie"
           }
          ],
          "scatter": [
           {
            "fillpattern": {
             "fillmode": "overlay",
             "size": 10,
             "solidity": 0.2
            },
            "type": "scatter"
           }
          ],
          "scatter3d": [
           {
            "line": {
             "colorbar": {
              "outlinewidth": 0,
              "ticks": ""
             }
            },
            "marker": {
             "colorbar": {
              "outlinewidth": 0,
              "ticks": ""
             }
            },
            "type": "scatter3d"
           }
          ],
          "scattercarpet": [
           {
            "marker": {
             "colorbar": {
              "outlinewidth": 0,
              "ticks": ""
             }
            },
            "type": "scattercarpet"
           }
          ],
          "scattergeo": [
           {
            "marker": {
             "colorbar": {
              "outlinewidth": 0,
              "ticks": ""
             }
            },
            "type": "scattergeo"
           }
          ],
          "scattergl": [
           {
            "marker": {
             "colorbar": {
              "outlinewidth": 0,
              "ticks": ""
             }
            },
            "type": "scattergl"
           }
          ],
          "scattermapbox": [
           {
            "marker": {
             "colorbar": {
              "outlinewidth": 0,
              "ticks": ""
             }
            },
            "type": "scattermapbox"
           }
          ],
          "scatterpolar": [
           {
            "marker": {
             "colorbar": {
              "outlinewidth": 0,
              "ticks": ""
             }
            },
            "type": "scatterpolar"
           }
          ],
          "scatterpolargl": [
           {
            "marker": {
             "colorbar": {
              "outlinewidth": 0,
              "ticks": ""
             }
            },
            "type": "scatterpolargl"
           }
          ],
          "scatterternary": [
           {
            "marker": {
             "colorbar": {
              "outlinewidth": 0,
              "ticks": ""
             }
            },
            "type": "scatterternary"
           }
          ],
          "surface": [
           {
            "colorbar": {
             "outlinewidth": 0,
             "ticks": ""
            },
            "colorscale": [
             [
              0,
              "#0d0887"
             ],
             [
              0.1111111111111111,
              "#46039f"
             ],
             [
              0.2222222222222222,
              "#7201a8"
             ],
             [
              0.3333333333333333,
              "#9c179e"
             ],
             [
              0.4444444444444444,
              "#bd3786"
             ],
             [
              0.5555555555555556,
              "#d8576b"
             ],
             [
              0.6666666666666666,
              "#ed7953"
             ],
             [
              0.7777777777777778,
              "#fb9f3a"
             ],
             [
              0.8888888888888888,
              "#fdca26"
             ],
             [
              1,
              "#f0f921"
             ]
            ],
            "type": "surface"
           }
          ],
          "table": [
           {
            "cells": {
             "fill": {
              "color": "#EBF0F8"
             },
             "line": {
              "color": "white"
             }
            },
            "header": {
             "fill": {
              "color": "#C8D4E3"
             },
             "line": {
              "color": "white"
             }
            },
            "type": "table"
           }
          ]
         },
         "layout": {
          "annotationdefaults": {
           "arrowcolor": "#2a3f5f",
           "arrowhead": 0,
           "arrowwidth": 1
          },
          "autotypenumbers": "strict",
          "coloraxis": {
           "colorbar": {
            "outlinewidth": 0,
            "ticks": ""
           }
          },
          "colorscale": {
           "diverging": [
            [
             0,
             "#8e0152"
            ],
            [
             0.1,
             "#c51b7d"
            ],
            [
             0.2,
             "#de77ae"
            ],
            [
             0.3,
             "#f1b6da"
            ],
            [
             0.4,
             "#fde0ef"
            ],
            [
             0.5,
             "#f7f7f7"
            ],
            [
             0.6,
             "#e6f5d0"
            ],
            [
             0.7,
             "#b8e186"
            ],
            [
             0.8,
             "#7fbc41"
            ],
            [
             0.9,
             "#4d9221"
            ],
            [
             1,
             "#276419"
            ]
           ],
           "sequential": [
            [
             0,
             "#0d0887"
            ],
            [
             0.1111111111111111,
             "#46039f"
            ],
            [
             0.2222222222222222,
             "#7201a8"
            ],
            [
             0.3333333333333333,
             "#9c179e"
            ],
            [
             0.4444444444444444,
             "#bd3786"
            ],
            [
             0.5555555555555556,
             "#d8576b"
            ],
            [
             0.6666666666666666,
             "#ed7953"
            ],
            [
             0.7777777777777778,
             "#fb9f3a"
            ],
            [
             0.8888888888888888,
             "#fdca26"
            ],
            [
             1,
             "#f0f921"
            ]
           ],
           "sequentialminus": [
            [
             0,
             "#0d0887"
            ],
            [
             0.1111111111111111,
             "#46039f"
            ],
            [
             0.2222222222222222,
             "#7201a8"
            ],
            [
             0.3333333333333333,
             "#9c179e"
            ],
            [
             0.4444444444444444,
             "#bd3786"
            ],
            [
             0.5555555555555556,
             "#d8576b"
            ],
            [
             0.6666666666666666,
             "#ed7953"
            ],
            [
             0.7777777777777778,
             "#fb9f3a"
            ],
            [
             0.8888888888888888,
             "#fdca26"
            ],
            [
             1,
             "#f0f921"
            ]
           ]
          },
          "colorway": [
           "#636efa",
           "#EF553B",
           "#00cc96",
           "#ab63fa",
           "#FFA15A",
           "#19d3f3",
           "#FF6692",
           "#B6E880",
           "#FF97FF",
           "#FECB52"
          ],
          "font": {
           "color": "#2a3f5f"
          },
          "geo": {
           "bgcolor": "white",
           "lakecolor": "white",
           "landcolor": "#E5ECF6",
           "showlakes": true,
           "showland": true,
           "subunitcolor": "white"
          },
          "hoverlabel": {
           "align": "left"
          },
          "hovermode": "closest",
          "mapbox": {
           "style": "light"
          },
          "paper_bgcolor": "white",
          "plot_bgcolor": "#E5ECF6",
          "polar": {
           "angularaxis": {
            "gridcolor": "white",
            "linecolor": "white",
            "ticks": ""
           },
           "bgcolor": "#E5ECF6",
           "radialaxis": {
            "gridcolor": "white",
            "linecolor": "white",
            "ticks": ""
           }
          },
          "scene": {
           "xaxis": {
            "backgroundcolor": "#E5ECF6",
            "gridcolor": "white",
            "gridwidth": 2,
            "linecolor": "white",
            "showbackground": true,
            "ticks": "",
            "zerolinecolor": "white"
           },
           "yaxis": {
            "backgroundcolor": "#E5ECF6",
            "gridcolor": "white",
            "gridwidth": 2,
            "linecolor": "white",
            "showbackground": true,
            "ticks": "",
            "zerolinecolor": "white"
           },
           "zaxis": {
            "backgroundcolor": "#E5ECF6",
            "gridcolor": "white",
            "gridwidth": 2,
            "linecolor": "white",
            "showbackground": true,
            "ticks": "",
            "zerolinecolor": "white"
           }
          },
          "shapedefaults": {
           "line": {
            "color": "#2a3f5f"
           }
          },
          "ternary": {
           "aaxis": {
            "gridcolor": "white",
            "linecolor": "white",
            "ticks": ""
           },
           "baxis": {
            "gridcolor": "white",
            "linecolor": "white",
            "ticks": ""
           },
           "bgcolor": "#E5ECF6",
           "caxis": {
            "gridcolor": "white",
            "linecolor": "white",
            "ticks": ""
           }
          },
          "title": {
           "x": 0.05
          },
          "xaxis": {
           "automargin": true,
           "gridcolor": "white",
           "linecolor": "white",
           "ticks": "",
           "title": {
            "standoff": 15
           },
           "zerolinecolor": "white",
           "zerolinewidth": 2
          },
          "yaxis": {
           "automargin": true,
           "gridcolor": "white",
           "linecolor": "white",
           "ticks": "",
           "title": {
            "standoff": 15
           },
           "zerolinecolor": "white",
           "zerolinewidth": 2
          }
         }
        },
        "title": {
         "font": {
          "size": 40
         },
         "text": "Piped water - T01 and T02",
         "x": 0.5
        }
       }
      }
     },
     "metadata": {},
     "output_type": "display_data"
    }
   ],
   "source": [
    "input_data = {\"pareto_var\": results_dict[\"v_F_Piped_dict\"], \n",
    "              \"time_period\": [\"T01\", \"T02\"],\n",
    "             }\n",
    "args = {\"plot_title\": \"Piped water - T01 and T02\",\n",
    "        \"output_file\": \"demo_sankey_T01_T02.html\",\n",
    "        \"jupyter_notebook\": True,\n",
    "       }\n",
    "plot_sankey(input_data, args)"
   ]
  },
  {
   "cell_type": "markdown",
   "id": "b3dd98a3",
   "metadata": {},
   "source": [
    "If we omit the `time_period` entry entirely, then the flows shown in the Sankey diagram are cumulative for the entire time horizon:"
   ]
  },
  {
   "cell_type": "code",
   "execution_count": 13,
   "id": "4cf8d2a7",
   "metadata": {},
   "outputs": [
    {
     "data": {
      "application/vnd.plotly.v1+json": {
       "config": {
        "linkText": "Export to plot.ly",
        "plotlyServerURL": "https://plot.ly",
        "showLink": false
       },
       "data": [
        {
         "link": {
          "source": [
           0,
           1,
           2,
           3,
           4,
           5,
           6,
           6,
           6,
           7,
           7,
           8,
           8,
           9,
           9,
           10,
           10,
           11,
           5,
           12,
           13,
           11,
           14,
           15
          ],
          "target": [
           5,
           7,
           8,
           11,
           10,
           6,
           5,
           13,
           7,
           6,
           10,
           12,
           9,
           8,
           11,
           7,
           9,
           9,
           16,
           17,
           18,
           14,
           15,
           4
          ],
          "value": [
           140889.08271428567,
           249366.81657142853,
           201535.01157142853,
           97945.32157142855,
           513528.19671428564,
           44040.664714285704,
           227523.42657142854,
           179495.53228571423,
           44040.664714285704,
           407018.95828571427,
           150181.27958571428,
           312399.0109999999,
           75315.11662399999,
           186179.11599999998,
           331972.53812857135,
           263792.75714285707,
           399916.7191428571,
           42919.81571428571,
           324371.8446142855,
           312399.0109999999,
           179495.53228571423,
           386998.0423142857,
           367648.14167142846,
           367648.1422857142
          ]
         },
         "node": {
          "label": [
           "PP01:140k",
           "PP02:249k",
           "PP03:201k",
           "PP04:97k",
           "CP01:513k",
           "N01:368k",
           "N02:451k",
           "N05:557k",
           "N06:387k",
           "N07:518k",
           "N08:663k",
           "N09:429k",
           "N04:312k",
           "N03:179k",
           "R02:367k",
           "S02:367k",
           "K01:324k",
           "K02:312k",
           "R01:179k"
          ],
          "line": {
           "color": "black",
           "width": 0.5
          },
          "pad": 30,
          "thickness": 15
         },
         "type": "sankey"
        }
       ],
       "layout": {
        "font": {
         "size": 20
        },
        "template": {
         "data": {
          "bar": [
           {
            "error_x": {
             "color": "#2a3f5f"
            },
            "error_y": {
             "color": "#2a3f5f"
            },
            "marker": {
             "line": {
              "color": "#E5ECF6",
              "width": 0.5
             },
             "pattern": {
              "fillmode": "overlay",
              "size": 10,
              "solidity": 0.2
             }
            },
            "type": "bar"
           }
          ],
          "barpolar": [
           {
            "marker": {
             "line": {
              "color": "#E5ECF6",
              "width": 0.5
             },
             "pattern": {
              "fillmode": "overlay",
              "size": 10,
              "solidity": 0.2
             }
            },
            "type": "barpolar"
           }
          ],
          "carpet": [
           {
            "aaxis": {
             "endlinecolor": "#2a3f5f",
             "gridcolor": "white",
             "linecolor": "white",
             "minorgridcolor": "white",
             "startlinecolor": "#2a3f5f"
            },
            "baxis": {
             "endlinecolor": "#2a3f5f",
             "gridcolor": "white",
             "linecolor": "white",
             "minorgridcolor": "white",
             "startlinecolor": "#2a3f5f"
            },
            "type": "carpet"
           }
          ],
          "choropleth": [
           {
            "colorbar": {
             "outlinewidth": 0,
             "ticks": ""
            },
            "type": "choropleth"
           }
          ],
          "contour": [
           {
            "colorbar": {
             "outlinewidth": 0,
             "ticks": ""
            },
            "colorscale": [
             [
              0,
              "#0d0887"
             ],
             [
              0.1111111111111111,
              "#46039f"
             ],
             [
              0.2222222222222222,
              "#7201a8"
             ],
             [
              0.3333333333333333,
              "#9c179e"
             ],
             [
              0.4444444444444444,
              "#bd3786"
             ],
             [
              0.5555555555555556,
              "#d8576b"
             ],
             [
              0.6666666666666666,
              "#ed7953"
             ],
             [
              0.7777777777777778,
              "#fb9f3a"
             ],
             [
              0.8888888888888888,
              "#fdca26"
             ],
             [
              1,
              "#f0f921"
             ]
            ],
            "type": "contour"
           }
          ],
          "contourcarpet": [
           {
            "colorbar": {
             "outlinewidth": 0,
             "ticks": ""
            },
            "type": "contourcarpet"
           }
          ],
          "heatmap": [
           {
            "colorbar": {
             "outlinewidth": 0,
             "ticks": ""
            },
            "colorscale": [
             [
              0,
              "#0d0887"
             ],
             [
              0.1111111111111111,
              "#46039f"
             ],
             [
              0.2222222222222222,
              "#7201a8"
             ],
             [
              0.3333333333333333,
              "#9c179e"
             ],
             [
              0.4444444444444444,
              "#bd3786"
             ],
             [
              0.5555555555555556,
              "#d8576b"
             ],
             [
              0.6666666666666666,
              "#ed7953"
             ],
             [
              0.7777777777777778,
              "#fb9f3a"
             ],
             [
              0.8888888888888888,
              "#fdca26"
             ],
             [
              1,
              "#f0f921"
             ]
            ],
            "type": "heatmap"
           }
          ],
          "heatmapgl": [
           {
            "colorbar": {
             "outlinewidth": 0,
             "ticks": ""
            },
            "colorscale": [
             [
              0,
              "#0d0887"
             ],
             [
              0.1111111111111111,
              "#46039f"
             ],
             [
              0.2222222222222222,
              "#7201a8"
             ],
             [
              0.3333333333333333,
              "#9c179e"
             ],
             [
              0.4444444444444444,
              "#bd3786"
             ],
             [
              0.5555555555555556,
              "#d8576b"
             ],
             [
              0.6666666666666666,
              "#ed7953"
             ],
             [
              0.7777777777777778,
              "#fb9f3a"
             ],
             [
              0.8888888888888888,
              "#fdca26"
             ],
             [
              1,
              "#f0f921"
             ]
            ],
            "type": "heatmapgl"
           }
          ],
          "histogram": [
           {
            "marker": {
             "pattern": {
              "fillmode": "overlay",
              "size": 10,
              "solidity": 0.2
             }
            },
            "type": "histogram"
           }
          ],
          "histogram2d": [
           {
            "colorbar": {
             "outlinewidth": 0,
             "ticks": ""
            },
            "colorscale": [
             [
              0,
              "#0d0887"
             ],
             [
              0.1111111111111111,
              "#46039f"
             ],
             [
              0.2222222222222222,
              "#7201a8"
             ],
             [
              0.3333333333333333,
              "#9c179e"
             ],
             [
              0.4444444444444444,
              "#bd3786"
             ],
             [
              0.5555555555555556,
              "#d8576b"
             ],
             [
              0.6666666666666666,
              "#ed7953"
             ],
             [
              0.7777777777777778,
              "#fb9f3a"
             ],
             [
              0.8888888888888888,
              "#fdca26"
             ],
             [
              1,
              "#f0f921"
             ]
            ],
            "type": "histogram2d"
           }
          ],
          "histogram2dcontour": [
           {
            "colorbar": {
             "outlinewidth": 0,
             "ticks": ""
            },
            "colorscale": [
             [
              0,
              "#0d0887"
             ],
             [
              0.1111111111111111,
              "#46039f"
             ],
             [
              0.2222222222222222,
              "#7201a8"
             ],
             [
              0.3333333333333333,
              "#9c179e"
             ],
             [
              0.4444444444444444,
              "#bd3786"
             ],
             [
              0.5555555555555556,
              "#d8576b"
             ],
             [
              0.6666666666666666,
              "#ed7953"
             ],
             [
              0.7777777777777778,
              "#fb9f3a"
             ],
             [
              0.8888888888888888,
              "#fdca26"
             ],
             [
              1,
              "#f0f921"
             ]
            ],
            "type": "histogram2dcontour"
           }
          ],
          "mesh3d": [
           {
            "colorbar": {
             "outlinewidth": 0,
             "ticks": ""
            },
            "type": "mesh3d"
           }
          ],
          "parcoords": [
           {
            "line": {
             "colorbar": {
              "outlinewidth": 0,
              "ticks": ""
             }
            },
            "type": "parcoords"
           }
          ],
          "pie": [
           {
            "automargin": true,
            "type": "pie"
           }
          ],
          "scatter": [
           {
            "fillpattern": {
             "fillmode": "overlay",
             "size": 10,
             "solidity": 0.2
            },
            "type": "scatter"
           }
          ],
          "scatter3d": [
           {
            "line": {
             "colorbar": {
              "outlinewidth": 0,
              "ticks": ""
             }
            },
            "marker": {
             "colorbar": {
              "outlinewidth": 0,
              "ticks": ""
             }
            },
            "type": "scatter3d"
           }
          ],
          "scattercarpet": [
           {
            "marker": {
             "colorbar": {
              "outlinewidth": 0,
              "ticks": ""
             }
            },
            "type": "scattercarpet"
           }
          ],
          "scattergeo": [
           {
            "marker": {
             "colorbar": {
              "outlinewidth": 0,
              "ticks": ""
             }
            },
            "type": "scattergeo"
           }
          ],
          "scattergl": [
           {
            "marker": {
             "colorbar": {
              "outlinewidth": 0,
              "ticks": ""
             }
            },
            "type": "scattergl"
           }
          ],
          "scattermapbox": [
           {
            "marker": {
             "colorbar": {
              "outlinewidth": 0,
              "ticks": ""
             }
            },
            "type": "scattermapbox"
           }
          ],
          "scatterpolar": [
           {
            "marker": {
             "colorbar": {
              "outlinewidth": 0,
              "ticks": ""
             }
            },
            "type": "scatterpolar"
           }
          ],
          "scatterpolargl": [
           {
            "marker": {
             "colorbar": {
              "outlinewidth": 0,
              "ticks": ""
             }
            },
            "type": "scatterpolargl"
           }
          ],
          "scatterternary": [
           {
            "marker": {
             "colorbar": {
              "outlinewidth": 0,
              "ticks": ""
             }
            },
            "type": "scatterternary"
           }
          ],
          "surface": [
           {
            "colorbar": {
             "outlinewidth": 0,
             "ticks": ""
            },
            "colorscale": [
             [
              0,
              "#0d0887"
             ],
             [
              0.1111111111111111,
              "#46039f"
             ],
             [
              0.2222222222222222,
              "#7201a8"
             ],
             [
              0.3333333333333333,
              "#9c179e"
             ],
             [
              0.4444444444444444,
              "#bd3786"
             ],
             [
              0.5555555555555556,
              "#d8576b"
             ],
             [
              0.6666666666666666,
              "#ed7953"
             ],
             [
              0.7777777777777778,
              "#fb9f3a"
             ],
             [
              0.8888888888888888,
              "#fdca26"
             ],
             [
              1,
              "#f0f921"
             ]
            ],
            "type": "surface"
           }
          ],
          "table": [
           {
            "cells": {
             "fill": {
              "color": "#EBF0F8"
             },
             "line": {
              "color": "white"
             }
            },
            "header": {
             "fill": {
              "color": "#C8D4E3"
             },
             "line": {
              "color": "white"
             }
            },
            "type": "table"
           }
          ]
         },
         "layout": {
          "annotationdefaults": {
           "arrowcolor": "#2a3f5f",
           "arrowhead": 0,
           "arrowwidth": 1
          },
          "autotypenumbers": "strict",
          "coloraxis": {
           "colorbar": {
            "outlinewidth": 0,
            "ticks": ""
           }
          },
          "colorscale": {
           "diverging": [
            [
             0,
             "#8e0152"
            ],
            [
             0.1,
             "#c51b7d"
            ],
            [
             0.2,
             "#de77ae"
            ],
            [
             0.3,
             "#f1b6da"
            ],
            [
             0.4,
             "#fde0ef"
            ],
            [
             0.5,
             "#f7f7f7"
            ],
            [
             0.6,
             "#e6f5d0"
            ],
            [
             0.7,
             "#b8e186"
            ],
            [
             0.8,
             "#7fbc41"
            ],
            [
             0.9,
             "#4d9221"
            ],
            [
             1,
             "#276419"
            ]
           ],
           "sequential": [
            [
             0,
             "#0d0887"
            ],
            [
             0.1111111111111111,
             "#46039f"
            ],
            [
             0.2222222222222222,
             "#7201a8"
            ],
            [
             0.3333333333333333,
             "#9c179e"
            ],
            [
             0.4444444444444444,
             "#bd3786"
            ],
            [
             0.5555555555555556,
             "#d8576b"
            ],
            [
             0.6666666666666666,
             "#ed7953"
            ],
            [
             0.7777777777777778,
             "#fb9f3a"
            ],
            [
             0.8888888888888888,
             "#fdca26"
            ],
            [
             1,
             "#f0f921"
            ]
           ],
           "sequentialminus": [
            [
             0,
             "#0d0887"
            ],
            [
             0.1111111111111111,
             "#46039f"
            ],
            [
             0.2222222222222222,
             "#7201a8"
            ],
            [
             0.3333333333333333,
             "#9c179e"
            ],
            [
             0.4444444444444444,
             "#bd3786"
            ],
            [
             0.5555555555555556,
             "#d8576b"
            ],
            [
             0.6666666666666666,
             "#ed7953"
            ],
            [
             0.7777777777777778,
             "#fb9f3a"
            ],
            [
             0.8888888888888888,
             "#fdca26"
            ],
            [
             1,
             "#f0f921"
            ]
           ]
          },
          "colorway": [
           "#636efa",
           "#EF553B",
           "#00cc96",
           "#ab63fa",
           "#FFA15A",
           "#19d3f3",
           "#FF6692",
           "#B6E880",
           "#FF97FF",
           "#FECB52"
          ],
          "font": {
           "color": "#2a3f5f"
          },
          "geo": {
           "bgcolor": "white",
           "lakecolor": "white",
           "landcolor": "#E5ECF6",
           "showlakes": true,
           "showland": true,
           "subunitcolor": "white"
          },
          "hoverlabel": {
           "align": "left"
          },
          "hovermode": "closest",
          "mapbox": {
           "style": "light"
          },
          "paper_bgcolor": "white",
          "plot_bgcolor": "#E5ECF6",
          "polar": {
           "angularaxis": {
            "gridcolor": "white",
            "linecolor": "white",
            "ticks": ""
           },
           "bgcolor": "#E5ECF6",
           "radialaxis": {
            "gridcolor": "white",
            "linecolor": "white",
            "ticks": ""
           }
          },
          "scene": {
           "xaxis": {
            "backgroundcolor": "#E5ECF6",
            "gridcolor": "white",
            "gridwidth": 2,
            "linecolor": "white",
            "showbackground": true,
            "ticks": "",
            "zerolinecolor": "white"
           },
           "yaxis": {
            "backgroundcolor": "#E5ECF6",
            "gridcolor": "white",
            "gridwidth": 2,
            "linecolor": "white",
            "showbackground": true,
            "ticks": "",
            "zerolinecolor": "white"
           },
           "zaxis": {
            "backgroundcolor": "#E5ECF6",
            "gridcolor": "white",
            "gridwidth": 2,
            "linecolor": "white",
            "showbackground": true,
            "ticks": "",
            "zerolinecolor": "white"
           }
          },
          "shapedefaults": {
           "line": {
            "color": "#2a3f5f"
           }
          },
          "ternary": {
           "aaxis": {
            "gridcolor": "white",
            "linecolor": "white",
            "ticks": ""
           },
           "baxis": {
            "gridcolor": "white",
            "linecolor": "white",
            "ticks": ""
           },
           "bgcolor": "#E5ECF6",
           "caxis": {
            "gridcolor": "white",
            "linecolor": "white",
            "ticks": ""
           }
          },
          "title": {
           "x": 0.05
          },
          "xaxis": {
           "automargin": true,
           "gridcolor": "white",
           "linecolor": "white",
           "ticks": "",
           "title": {
            "standoff": 15
           },
           "zerolinecolor": "white",
           "zerolinewidth": 2
          },
          "yaxis": {
           "automargin": true,
           "gridcolor": "white",
           "linecolor": "white",
           "ticks": "",
           "title": {
            "standoff": 15
           },
           "zerolinecolor": "white",
           "zerolinewidth": 2
          }
         }
        },
        "title": {
         "font": {
          "size": 40
         },
         "text": "Piped water - all times",
         "x": 0.5
        }
       }
      }
     },
     "metadata": {},
     "output_type": "display_data"
    }
   ],
   "source": [
    "input_data = {\"pareto_var\": results_dict[\"v_F_Piped_dict\"]}\n",
    "args = {\"plot_title\": \"Piped water - all times\",\n",
    "        \"output_file\": \"demo_sankey_all_times.html\",\n",
    "        \"jupyter_notebook\": True,\n",
    "       }\n",
    "plot_sankey(input_data, args)"
   ]
  },
  {
   "cell_type": "markdown",
   "id": "d0e83500",
   "metadata": {},
   "source": [
    "By passing a `sections` entry in the `input_data` argument, we can create separate Sankey diagrams for different subsections of the overall network: "
   ]
  },
  {
   "cell_type": "code",
   "execution_count": 14,
   "id": "3dd1edf2",
   "metadata": {},
   "outputs": [
    {
     "name": "stdout",
     "output_type": "stream",
     "text": [
      "WARNING: N02 does not have a value for every specified time period and may not be shown in the sankey diagram.\n",
      "WARNING: N03 does not have a value for every specified time period and may not be shown in the sankey diagram.\n"
     ]
    },
    {
     "data": {
      "application/vnd.plotly.v1+json": {
       "config": {
        "linkText": "Export to plot.ly",
        "plotlyServerURL": "https://plot.ly",
        "showLink": false
       },
       "data": [
        {
         "link": {
          "source": [
           0,
           5,
           8,
           9
          ],
          "target": [
           8,
           9,
           12,
           13
          ],
          "value": [
           4999.999999999999,
           2999.9999999999995,
           4999.999999999999,
           2999.9999999999995
          ]
         },
         "node": {
          "label": [
           "PP01:5k",
           "PP02",
           "PP03",
           "PP04",
           "N05",
           "N06:3k",
           "N07",
           "N08",
           "N01:5k",
           "N04:3k",
           "N09",
           "R02",
           "K01:5k",
           "K02:3k",
           "S02"
          ],
          "line": {
           "color": "black",
           "width": 0.5
          },
          "pad": 30,
          "thickness": 15
         },
         "type": "sankey"
        }
       ],
       "layout": {
        "font": {
         "size": 20
        },
        "template": {
         "data": {
          "bar": [
           {
            "error_x": {
             "color": "#2a3f5f"
            },
            "error_y": {
             "color": "#2a3f5f"
            },
            "marker": {
             "line": {
              "color": "#E5ECF6",
              "width": 0.5
             },
             "pattern": {
              "fillmode": "overlay",
              "size": 10,
              "solidity": 0.2
             }
            },
            "type": "bar"
           }
          ],
          "barpolar": [
           {
            "marker": {
             "line": {
              "color": "#E5ECF6",
              "width": 0.5
             },
             "pattern": {
              "fillmode": "overlay",
              "size": 10,
              "solidity": 0.2
             }
            },
            "type": "barpolar"
           }
          ],
          "carpet": [
           {
            "aaxis": {
             "endlinecolor": "#2a3f5f",
             "gridcolor": "white",
             "linecolor": "white",
             "minorgridcolor": "white",
             "startlinecolor": "#2a3f5f"
            },
            "baxis": {
             "endlinecolor": "#2a3f5f",
             "gridcolor": "white",
             "linecolor": "white",
             "minorgridcolor": "white",
             "startlinecolor": "#2a3f5f"
            },
            "type": "carpet"
           }
          ],
          "choropleth": [
           {
            "colorbar": {
             "outlinewidth": 0,
             "ticks": ""
            },
            "type": "choropleth"
           }
          ],
          "contour": [
           {
            "colorbar": {
             "outlinewidth": 0,
             "ticks": ""
            },
            "colorscale": [
             [
              0,
              "#0d0887"
             ],
             [
              0.1111111111111111,
              "#46039f"
             ],
             [
              0.2222222222222222,
              "#7201a8"
             ],
             [
              0.3333333333333333,
              "#9c179e"
             ],
             [
              0.4444444444444444,
              "#bd3786"
             ],
             [
              0.5555555555555556,
              "#d8576b"
             ],
             [
              0.6666666666666666,
              "#ed7953"
             ],
             [
              0.7777777777777778,
              "#fb9f3a"
             ],
             [
              0.8888888888888888,
              "#fdca26"
             ],
             [
              1,
              "#f0f921"
             ]
            ],
            "type": "contour"
           }
          ],
          "contourcarpet": [
           {
            "colorbar": {
             "outlinewidth": 0,
             "ticks": ""
            },
            "type": "contourcarpet"
           }
          ],
          "heatmap": [
           {
            "colorbar": {
             "outlinewidth": 0,
             "ticks": ""
            },
            "colorscale": [
             [
              0,
              "#0d0887"
             ],
             [
              0.1111111111111111,
              "#46039f"
             ],
             [
              0.2222222222222222,
              "#7201a8"
             ],
             [
              0.3333333333333333,
              "#9c179e"
             ],
             [
              0.4444444444444444,
              "#bd3786"
             ],
             [
              0.5555555555555556,
              "#d8576b"
             ],
             [
              0.6666666666666666,
              "#ed7953"
             ],
             [
              0.7777777777777778,
              "#fb9f3a"
             ],
             [
              0.8888888888888888,
              "#fdca26"
             ],
             [
              1,
              "#f0f921"
             ]
            ],
            "type": "heatmap"
           }
          ],
          "heatmapgl": [
           {
            "colorbar": {
             "outlinewidth": 0,
             "ticks": ""
            },
            "colorscale": [
             [
              0,
              "#0d0887"
             ],
             [
              0.1111111111111111,
              "#46039f"
             ],
             [
              0.2222222222222222,
              "#7201a8"
             ],
             [
              0.3333333333333333,
              "#9c179e"
             ],
             [
              0.4444444444444444,
              "#bd3786"
             ],
             [
              0.5555555555555556,
              "#d8576b"
             ],
             [
              0.6666666666666666,
              "#ed7953"
             ],
             [
              0.7777777777777778,
              "#fb9f3a"
             ],
             [
              0.8888888888888888,
              "#fdca26"
             ],
             [
              1,
              "#f0f921"
             ]
            ],
            "type": "heatmapgl"
           }
          ],
          "histogram": [
           {
            "marker": {
             "pattern": {
              "fillmode": "overlay",
              "size": 10,
              "solidity": 0.2
             }
            },
            "type": "histogram"
           }
          ],
          "histogram2d": [
           {
            "colorbar": {
             "outlinewidth": 0,
             "ticks": ""
            },
            "colorscale": [
             [
              0,
              "#0d0887"
             ],
             [
              0.1111111111111111,
              "#46039f"
             ],
             [
              0.2222222222222222,
              "#7201a8"
             ],
             [
              0.3333333333333333,
              "#9c179e"
             ],
             [
              0.4444444444444444,
              "#bd3786"
             ],
             [
              0.5555555555555556,
              "#d8576b"
             ],
             [
              0.6666666666666666,
              "#ed7953"
             ],
             [
              0.7777777777777778,
              "#fb9f3a"
             ],
             [
              0.8888888888888888,
              "#fdca26"
             ],
             [
              1,
              "#f0f921"
             ]
            ],
            "type": "histogram2d"
           }
          ],
          "histogram2dcontour": [
           {
            "colorbar": {
             "outlinewidth": 0,
             "ticks": ""
            },
            "colorscale": [
             [
              0,
              "#0d0887"
             ],
             [
              0.1111111111111111,
              "#46039f"
             ],
             [
              0.2222222222222222,
              "#7201a8"
             ],
             [
              0.3333333333333333,
              "#9c179e"
             ],
             [
              0.4444444444444444,
              "#bd3786"
             ],
             [
              0.5555555555555556,
              "#d8576b"
             ],
             [
              0.6666666666666666,
              "#ed7953"
             ],
             [
              0.7777777777777778,
              "#fb9f3a"
             ],
             [
              0.8888888888888888,
              "#fdca26"
             ],
             [
              1,
              "#f0f921"
             ]
            ],
            "type": "histogram2dcontour"
           }
          ],
          "mesh3d": [
           {
            "colorbar": {
             "outlinewidth": 0,
             "ticks": ""
            },
            "type": "mesh3d"
           }
          ],
          "parcoords": [
           {
            "line": {
             "colorbar": {
              "outlinewidth": 0,
              "ticks": ""
             }
            },
            "type": "parcoords"
           }
          ],
          "pie": [
           {
            "automargin": true,
            "type": "pie"
           }
          ],
          "scatter": [
           {
            "fillpattern": {
             "fillmode": "overlay",
             "size": 10,
             "solidity": 0.2
            },
            "type": "scatter"
           }
          ],
          "scatter3d": [
           {
            "line": {
             "colorbar": {
              "outlinewidth": 0,
              "ticks": ""
             }
            },
            "marker": {
             "colorbar": {
              "outlinewidth": 0,
              "ticks": ""
             }
            },
            "type": "scatter3d"
           }
          ],
          "scattercarpet": [
           {
            "marker": {
             "colorbar": {
              "outlinewidth": 0,
              "ticks": ""
             }
            },
            "type": "scattercarpet"
           }
          ],
          "scattergeo": [
           {
            "marker": {
             "colorbar": {
              "outlinewidth": 0,
              "ticks": ""
             }
            },
            "type": "scattergeo"
           }
          ],
          "scattergl": [
           {
            "marker": {
             "colorbar": {
              "outlinewidth": 0,
              "ticks": ""
             }
            },
            "type": "scattergl"
           }
          ],
          "scattermapbox": [
           {
            "marker": {
             "colorbar": {
              "outlinewidth": 0,
              "ticks": ""
             }
            },
            "type": "scattermapbox"
           }
          ],
          "scatterpolar": [
           {
            "marker": {
             "colorbar": {
              "outlinewidth": 0,
              "ticks": ""
             }
            },
            "type": "scatterpolar"
           }
          ],
          "scatterpolargl": [
           {
            "marker": {
             "colorbar": {
              "outlinewidth": 0,
              "ticks": ""
             }
            },
            "type": "scatterpolargl"
           }
          ],
          "scatterternary": [
           {
            "marker": {
             "colorbar": {
              "outlinewidth": 0,
              "ticks": ""
             }
            },
            "type": "scatterternary"
           }
          ],
          "surface": [
           {
            "colorbar": {
             "outlinewidth": 0,
             "ticks": ""
            },
            "colorscale": [
             [
              0,
              "#0d0887"
             ],
             [
              0.1111111111111111,
              "#46039f"
             ],
             [
              0.2222222222222222,
              "#7201a8"
             ],
             [
              0.3333333333333333,
              "#9c179e"
             ],
             [
              0.4444444444444444,
              "#bd3786"
             ],
             [
              0.5555555555555556,
              "#d8576b"
             ],
             [
              0.6666666666666666,
              "#ed7953"
             ],
             [
              0.7777777777777778,
              "#fb9f3a"
             ],
             [
              0.8888888888888888,
              "#fdca26"
             ],
             [
              1,
              "#f0f921"
             ]
            ],
            "type": "surface"
           }
          ],
          "table": [
           {
            "cells": {
             "fill": {
              "color": "#EBF0F8"
             },
             "line": {
              "color": "white"
             }
            },
            "header": {
             "fill": {
              "color": "#C8D4E3"
             },
             "line": {
              "color": "white"
             }
            },
            "type": "table"
           }
          ]
         },
         "layout": {
          "annotationdefaults": {
           "arrowcolor": "#2a3f5f",
           "arrowhead": 0,
           "arrowwidth": 1
          },
          "autotypenumbers": "strict",
          "coloraxis": {
           "colorbar": {
            "outlinewidth": 0,
            "ticks": ""
           }
          },
          "colorscale": {
           "diverging": [
            [
             0,
             "#8e0152"
            ],
            [
             0.1,
             "#c51b7d"
            ],
            [
             0.2,
             "#de77ae"
            ],
            [
             0.3,
             "#f1b6da"
            ],
            [
             0.4,
             "#fde0ef"
            ],
            [
             0.5,
             "#f7f7f7"
            ],
            [
             0.6,
             "#e6f5d0"
            ],
            [
             0.7,
             "#b8e186"
            ],
            [
             0.8,
             "#7fbc41"
            ],
            [
             0.9,
             "#4d9221"
            ],
            [
             1,
             "#276419"
            ]
           ],
           "sequential": [
            [
             0,
             "#0d0887"
            ],
            [
             0.1111111111111111,
             "#46039f"
            ],
            [
             0.2222222222222222,
             "#7201a8"
            ],
            [
             0.3333333333333333,
             "#9c179e"
            ],
            [
             0.4444444444444444,
             "#bd3786"
            ],
            [
             0.5555555555555556,
             "#d8576b"
            ],
            [
             0.6666666666666666,
             "#ed7953"
            ],
            [
             0.7777777777777778,
             "#fb9f3a"
            ],
            [
             0.8888888888888888,
             "#fdca26"
            ],
            [
             1,
             "#f0f921"
            ]
           ],
           "sequentialminus": [
            [
             0,
             "#0d0887"
            ],
            [
             0.1111111111111111,
             "#46039f"
            ],
            [
             0.2222222222222222,
             "#7201a8"
            ],
            [
             0.3333333333333333,
             "#9c179e"
            ],
            [
             0.4444444444444444,
             "#bd3786"
            ],
            [
             0.5555555555555556,
             "#d8576b"
            ],
            [
             0.6666666666666666,
             "#ed7953"
            ],
            [
             0.7777777777777778,
             "#fb9f3a"
            ],
            [
             0.8888888888888888,
             "#fdca26"
            ],
            [
             1,
             "#f0f921"
            ]
           ]
          },
          "colorway": [
           "#636efa",
           "#EF553B",
           "#00cc96",
           "#ab63fa",
           "#FFA15A",
           "#19d3f3",
           "#FF6692",
           "#B6E880",
           "#FF97FF",
           "#FECB52"
          ],
          "font": {
           "color": "#2a3f5f"
          },
          "geo": {
           "bgcolor": "white",
           "lakecolor": "white",
           "landcolor": "#E5ECF6",
           "showlakes": true,
           "showland": true,
           "subunitcolor": "white"
          },
          "hoverlabel": {
           "align": "left"
          },
          "hovermode": "closest",
          "mapbox": {
           "style": "light"
          },
          "paper_bgcolor": "white",
          "plot_bgcolor": "#E5ECF6",
          "polar": {
           "angularaxis": {
            "gridcolor": "white",
            "linecolor": "white",
            "ticks": ""
           },
           "bgcolor": "#E5ECF6",
           "radialaxis": {
            "gridcolor": "white",
            "linecolor": "white",
            "ticks": ""
           }
          },
          "scene": {
           "xaxis": {
            "backgroundcolor": "#E5ECF6",
            "gridcolor": "white",
            "gridwidth": 2,
            "linecolor": "white",
            "showbackground": true,
            "ticks": "",
            "zerolinecolor": "white"
           },
           "yaxis": {
            "backgroundcolor": "#E5ECF6",
            "gridcolor": "white",
            "gridwidth": 2,
            "linecolor": "white",
            "showbackground": true,
            "ticks": "",
            "zerolinecolor": "white"
           },
           "zaxis": {
            "backgroundcolor": "#E5ECF6",
            "gridcolor": "white",
            "gridwidth": 2,
            "linecolor": "white",
            "showbackground": true,
            "ticks": "",
            "zerolinecolor": "white"
           }
          },
          "shapedefaults": {
           "line": {
            "color": "#2a3f5f"
           }
          },
          "ternary": {
           "aaxis": {
            "gridcolor": "white",
            "linecolor": "white",
            "ticks": ""
           },
           "baxis": {
            "gridcolor": "white",
            "linecolor": "white",
            "ticks": ""
           },
           "bgcolor": "#E5ECF6",
           "caxis": {
            "gridcolor": "white",
            "linecolor": "white",
            "ticks": ""
           }
          },
          "title": {
           "x": 0.05
          },
          "xaxis": {
           "automargin": true,
           "gridcolor": "white",
           "linecolor": "white",
           "ticks": "",
           "title": {
            "standoff": 15
           },
           "zerolinecolor": "white",
           "zerolinewidth": 2
          },
          "yaxis": {
           "automargin": true,
           "gridcolor": "white",
           "linecolor": "white",
           "ticks": "",
           "title": {
            "standoff": 15
           },
           "zerolinecolor": "white",
           "zerolinewidth": 2
          }
         }
        },
        "title": {
         "font": {
          "size": 40
         },
         "text": "Section1 Piped water - T01",
         "x": 0.5
        }
       }
      }
     },
     "metadata": {},
     "output_type": "display_data"
    },
    {
     "data": {
      "application/vnd.plotly.v1+json": {
       "config": {
        "linkText": "Export to plot.ly",
        "plotlyServerURL": "https://plot.ly",
        "showLink": false
       },
       "data": [
        {
         "link": {
          "source": [
           1,
           2,
           3,
           4,
           5,
           5,
           6,
           7,
           10
          ],
          "target": [
           4,
           5,
           10,
           7,
           9,
           6,
           10,
           6,
           11
          ],
          "value": [
           12999.999999999998,
           7999.999999999998,
           1999.9999999999995,
           12999.999999999998,
           2999.9999999999995,
           4999.999999999999,
           17999.999999999996,
           12999.999999999998,
           19999.999999999996
          ]
         },
         "node": {
          "label": [
           "PP01",
           "PP02:13k",
           "PP03:8k",
           "PP04:2k",
           "N05:13k",
           "N06:8k",
           "N07:18k",
           "N08:13k",
           "N01",
           "N04:3k",
           "N09:20k",
           "R02:20k",
           "K01",
           "K02",
           "S02"
          ],
          "line": {
           "color": "black",
           "width": 0.5
          },
          "pad": 30,
          "thickness": 15
         },
         "type": "sankey"
        }
       ],
       "layout": {
        "font": {
         "size": 20
        },
        "template": {
         "data": {
          "bar": [
           {
            "error_x": {
             "color": "#2a3f5f"
            },
            "error_y": {
             "color": "#2a3f5f"
            },
            "marker": {
             "line": {
              "color": "#E5ECF6",
              "width": 0.5
             },
             "pattern": {
              "fillmode": "overlay",
              "size": 10,
              "solidity": 0.2
             }
            },
            "type": "bar"
           }
          ],
          "barpolar": [
           {
            "marker": {
             "line": {
              "color": "#E5ECF6",
              "width": 0.5
             },
             "pattern": {
              "fillmode": "overlay",
              "size": 10,
              "solidity": 0.2
             }
            },
            "type": "barpolar"
           }
          ],
          "carpet": [
           {
            "aaxis": {
             "endlinecolor": "#2a3f5f",
             "gridcolor": "white",
             "linecolor": "white",
             "minorgridcolor": "white",
             "startlinecolor": "#2a3f5f"
            },
            "baxis": {
             "endlinecolor": "#2a3f5f",
             "gridcolor": "white",
             "linecolor": "white",
             "minorgridcolor": "white",
             "startlinecolor": "#2a3f5f"
            },
            "type": "carpet"
           }
          ],
          "choropleth": [
           {
            "colorbar": {
             "outlinewidth": 0,
             "ticks": ""
            },
            "type": "choropleth"
           }
          ],
          "contour": [
           {
            "colorbar": {
             "outlinewidth": 0,
             "ticks": ""
            },
            "colorscale": [
             [
              0,
              "#0d0887"
             ],
             [
              0.1111111111111111,
              "#46039f"
             ],
             [
              0.2222222222222222,
              "#7201a8"
             ],
             [
              0.3333333333333333,
              "#9c179e"
             ],
             [
              0.4444444444444444,
              "#bd3786"
             ],
             [
              0.5555555555555556,
              "#d8576b"
             ],
             [
              0.6666666666666666,
              "#ed7953"
             ],
             [
              0.7777777777777778,
              "#fb9f3a"
             ],
             [
              0.8888888888888888,
              "#fdca26"
             ],
             [
              1,
              "#f0f921"
             ]
            ],
            "type": "contour"
           }
          ],
          "contourcarpet": [
           {
            "colorbar": {
             "outlinewidth": 0,
             "ticks": ""
            },
            "type": "contourcarpet"
           }
          ],
          "heatmap": [
           {
            "colorbar": {
             "outlinewidth": 0,
             "ticks": ""
            },
            "colorscale": [
             [
              0,
              "#0d0887"
             ],
             [
              0.1111111111111111,
              "#46039f"
             ],
             [
              0.2222222222222222,
              "#7201a8"
             ],
             [
              0.3333333333333333,
              "#9c179e"
             ],
             [
              0.4444444444444444,
              "#bd3786"
             ],
             [
              0.5555555555555556,
              "#d8576b"
             ],
             [
              0.6666666666666666,
              "#ed7953"
             ],
             [
              0.7777777777777778,
              "#fb9f3a"
             ],
             [
              0.8888888888888888,
              "#fdca26"
             ],
             [
              1,
              "#f0f921"
             ]
            ],
            "type": "heatmap"
           }
          ],
          "heatmapgl": [
           {
            "colorbar": {
             "outlinewidth": 0,
             "ticks": ""
            },
            "colorscale": [
             [
              0,
              "#0d0887"
             ],
             [
              0.1111111111111111,
              "#46039f"
             ],
             [
              0.2222222222222222,
              "#7201a8"
             ],
             [
              0.3333333333333333,
              "#9c179e"
             ],
             [
              0.4444444444444444,
              "#bd3786"
             ],
             [
              0.5555555555555556,
              "#d8576b"
             ],
             [
              0.6666666666666666,
              "#ed7953"
             ],
             [
              0.7777777777777778,
              "#fb9f3a"
             ],
             [
              0.8888888888888888,
              "#fdca26"
             ],
             [
              1,
              "#f0f921"
             ]
            ],
            "type": "heatmapgl"
           }
          ],
          "histogram": [
           {
            "marker": {
             "pattern": {
              "fillmode": "overlay",
              "size": 10,
              "solidity": 0.2
             }
            },
            "type": "histogram"
           }
          ],
          "histogram2d": [
           {
            "colorbar": {
             "outlinewidth": 0,
             "ticks": ""
            },
            "colorscale": [
             [
              0,
              "#0d0887"
             ],
             [
              0.1111111111111111,
              "#46039f"
             ],
             [
              0.2222222222222222,
              "#7201a8"
             ],
             [
              0.3333333333333333,
              "#9c179e"
             ],
             [
              0.4444444444444444,
              "#bd3786"
             ],
             [
              0.5555555555555556,
              "#d8576b"
             ],
             [
              0.6666666666666666,
              "#ed7953"
             ],
             [
              0.7777777777777778,
              "#fb9f3a"
             ],
             [
              0.8888888888888888,
              "#fdca26"
             ],
             [
              1,
              "#f0f921"
             ]
            ],
            "type": "histogram2d"
           }
          ],
          "histogram2dcontour": [
           {
            "colorbar": {
             "outlinewidth": 0,
             "ticks": ""
            },
            "colorscale": [
             [
              0,
              "#0d0887"
             ],
             [
              0.1111111111111111,
              "#46039f"
             ],
             [
              0.2222222222222222,
              "#7201a8"
             ],
             [
              0.3333333333333333,
              "#9c179e"
             ],
             [
              0.4444444444444444,
              "#bd3786"
             ],
             [
              0.5555555555555556,
              "#d8576b"
             ],
             [
              0.6666666666666666,
              "#ed7953"
             ],
             [
              0.7777777777777778,
              "#fb9f3a"
             ],
             [
              0.8888888888888888,
              "#fdca26"
             ],
             [
              1,
              "#f0f921"
             ]
            ],
            "type": "histogram2dcontour"
           }
          ],
          "mesh3d": [
           {
            "colorbar": {
             "outlinewidth": 0,
             "ticks": ""
            },
            "type": "mesh3d"
           }
          ],
          "parcoords": [
           {
            "line": {
             "colorbar": {
              "outlinewidth": 0,
              "ticks": ""
             }
            },
            "type": "parcoords"
           }
          ],
          "pie": [
           {
            "automargin": true,
            "type": "pie"
           }
          ],
          "scatter": [
           {
            "fillpattern": {
             "fillmode": "overlay",
             "size": 10,
             "solidity": 0.2
            },
            "type": "scatter"
           }
          ],
          "scatter3d": [
           {
            "line": {
             "colorbar": {
              "outlinewidth": 0,
              "ticks": ""
             }
            },
            "marker": {
             "colorbar": {
              "outlinewidth": 0,
              "ticks": ""
             }
            },
            "type": "scatter3d"
           }
          ],
          "scattercarpet": [
           {
            "marker": {
             "colorbar": {
              "outlinewidth": 0,
              "ticks": ""
             }
            },
            "type": "scattercarpet"
           }
          ],
          "scattergeo": [
           {
            "marker": {
             "colorbar": {
              "outlinewidth": 0,
              "ticks": ""
             }
            },
            "type": "scattergeo"
           }
          ],
          "scattergl": [
           {
            "marker": {
             "colorbar": {
              "outlinewidth": 0,
              "ticks": ""
             }
            },
            "type": "scattergl"
           }
          ],
          "scattermapbox": [
           {
            "marker": {
             "colorbar": {
              "outlinewidth": 0,
              "ticks": ""
             }
            },
            "type": "scattermapbox"
           }
          ],
          "scatterpolar": [
           {
            "marker": {
             "colorbar": {
              "outlinewidth": 0,
              "ticks": ""
             }
            },
            "type": "scatterpolar"
           }
          ],
          "scatterpolargl": [
           {
            "marker": {
             "colorbar": {
              "outlinewidth": 0,
              "ticks": ""
             }
            },
            "type": "scatterpolargl"
           }
          ],
          "scatterternary": [
           {
            "marker": {
             "colorbar": {
              "outlinewidth": 0,
              "ticks": ""
             }
            },
            "type": "scatterternary"
           }
          ],
          "surface": [
           {
            "colorbar": {
             "outlinewidth": 0,
             "ticks": ""
            },
            "colorscale": [
             [
              0,
              "#0d0887"
             ],
             [
              0.1111111111111111,
              "#46039f"
             ],
             [
              0.2222222222222222,
              "#7201a8"
             ],
             [
              0.3333333333333333,
              "#9c179e"
             ],
             [
              0.4444444444444444,
              "#bd3786"
             ],
             [
              0.5555555555555556,
              "#d8576b"
             ],
             [
              0.6666666666666666,
              "#ed7953"
             ],
             [
              0.7777777777777778,
              "#fb9f3a"
             ],
             [
              0.8888888888888888,
              "#fdca26"
             ],
             [
              1,
              "#f0f921"
             ]
            ],
            "type": "surface"
           }
          ],
          "table": [
           {
            "cells": {
             "fill": {
              "color": "#EBF0F8"
             },
             "line": {
              "color": "white"
             }
            },
            "header": {
             "fill": {
              "color": "#C8D4E3"
             },
             "line": {
              "color": "white"
             }
            },
            "type": "table"
           }
          ]
         },
         "layout": {
          "annotationdefaults": {
           "arrowcolor": "#2a3f5f",
           "arrowhead": 0,
           "arrowwidth": 1
          },
          "autotypenumbers": "strict",
          "coloraxis": {
           "colorbar": {
            "outlinewidth": 0,
            "ticks": ""
           }
          },
          "colorscale": {
           "diverging": [
            [
             0,
             "#8e0152"
            ],
            [
             0.1,
             "#c51b7d"
            ],
            [
             0.2,
             "#de77ae"
            ],
            [
             0.3,
             "#f1b6da"
            ],
            [
             0.4,
             "#fde0ef"
            ],
            [
             0.5,
             "#f7f7f7"
            ],
            [
             0.6,
             "#e6f5d0"
            ],
            [
             0.7,
             "#b8e186"
            ],
            [
             0.8,
             "#7fbc41"
            ],
            [
             0.9,
             "#4d9221"
            ],
            [
             1,
             "#276419"
            ]
           ],
           "sequential": [
            [
             0,
             "#0d0887"
            ],
            [
             0.1111111111111111,
             "#46039f"
            ],
            [
             0.2222222222222222,
             "#7201a8"
            ],
            [
             0.3333333333333333,
             "#9c179e"
            ],
            [
             0.4444444444444444,
             "#bd3786"
            ],
            [
             0.5555555555555556,
             "#d8576b"
            ],
            [
             0.6666666666666666,
             "#ed7953"
            ],
            [
             0.7777777777777778,
             "#fb9f3a"
            ],
            [
             0.8888888888888888,
             "#fdca26"
            ],
            [
             1,
             "#f0f921"
            ]
           ],
           "sequentialminus": [
            [
             0,
             "#0d0887"
            ],
            [
             0.1111111111111111,
             "#46039f"
            ],
            [
             0.2222222222222222,
             "#7201a8"
            ],
            [
             0.3333333333333333,
             "#9c179e"
            ],
            [
             0.4444444444444444,
             "#bd3786"
            ],
            [
             0.5555555555555556,
             "#d8576b"
            ],
            [
             0.6666666666666666,
             "#ed7953"
            ],
            [
             0.7777777777777778,
             "#fb9f3a"
            ],
            [
             0.8888888888888888,
             "#fdca26"
            ],
            [
             1,
             "#f0f921"
            ]
           ]
          },
          "colorway": [
           "#636efa",
           "#EF553B",
           "#00cc96",
           "#ab63fa",
           "#FFA15A",
           "#19d3f3",
           "#FF6692",
           "#B6E880",
           "#FF97FF",
           "#FECB52"
          ],
          "font": {
           "color": "#2a3f5f"
          },
          "geo": {
           "bgcolor": "white",
           "lakecolor": "white",
           "landcolor": "#E5ECF6",
           "showlakes": true,
           "showland": true,
           "subunitcolor": "white"
          },
          "hoverlabel": {
           "align": "left"
          },
          "hovermode": "closest",
          "mapbox": {
           "style": "light"
          },
          "paper_bgcolor": "white",
          "plot_bgcolor": "#E5ECF6",
          "polar": {
           "angularaxis": {
            "gridcolor": "white",
            "linecolor": "white",
            "ticks": ""
           },
           "bgcolor": "#E5ECF6",
           "radialaxis": {
            "gridcolor": "white",
            "linecolor": "white",
            "ticks": ""
           }
          },
          "scene": {
           "xaxis": {
            "backgroundcolor": "#E5ECF6",
            "gridcolor": "white",
            "gridwidth": 2,
            "linecolor": "white",
            "showbackground": true,
            "ticks": "",
            "zerolinecolor": "white"
           },
           "yaxis": {
            "backgroundcolor": "#E5ECF6",
            "gridcolor": "white",
            "gridwidth": 2,
            "linecolor": "white",
            "showbackground": true,
            "ticks": "",
            "zerolinecolor": "white"
           },
           "zaxis": {
            "backgroundcolor": "#E5ECF6",
            "gridcolor": "white",
            "gridwidth": 2,
            "linecolor": "white",
            "showbackground": true,
            "ticks": "",
            "zerolinecolor": "white"
           }
          },
          "shapedefaults": {
           "line": {
            "color": "#2a3f5f"
           }
          },
          "ternary": {
           "aaxis": {
            "gridcolor": "white",
            "linecolor": "white",
            "ticks": ""
           },
           "baxis": {
            "gridcolor": "white",
            "linecolor": "white",
            "ticks": ""
           },
           "bgcolor": "#E5ECF6",
           "caxis": {
            "gridcolor": "white",
            "linecolor": "white",
            "ticks": ""
           }
          },
          "title": {
           "x": 0.05
          },
          "xaxis": {
           "automargin": true,
           "gridcolor": "white",
           "linecolor": "white",
           "ticks": "",
           "title": {
            "standoff": 15
           },
           "zerolinecolor": "white",
           "zerolinewidth": 2
          },
          "yaxis": {
           "automargin": true,
           "gridcolor": "white",
           "linecolor": "white",
           "ticks": "",
           "title": {
            "standoff": 15
           },
           "zerolinecolor": "white",
           "zerolinewidth": 2
          }
         }
        },
        "title": {
         "font": {
          "size": 40
         },
         "text": "Section2 Piped water - T01",
         "x": 0.5
        }
       }
      }
     },
     "metadata": {},
     "output_type": "display_data"
    }
   ],
   "source": [
    "input_data = {\"pareto_var\": results_dict[\"v_F_Piped_dict\"], \n",
    "              \"sections\": {\"Section1\": [\"N01\", \"N02\", \"N03\", \"N04\"],\n",
    "                           \"Section2\": [\"N05\", \"N06\", \"N07\", \"N08\", \"N09\"]},\n",
    "              \"time_period\": \"T01\",\n",
    "             }\n",
    "args = {\"plot_title\": \"Piped water - T01\",\n",
    "        \"output_file\": \"demo_sankey_T01_sections.html\",\n",
    "        \"jupyter_notebook\": True,\n",
    "       }\n",
    "plot_sankey(input_data, args)"
   ]
  },
  {
   "attachments": {},
   "cell_type": "markdown",
   "id": "74a52c2e",
   "metadata": {},
   "source": [
    "## Conclusion\n",
    "We hope this demonstration of PARETO's strategic model has been helpful and informative. If you have any questions, comments, or feedback for the PARETO team, please do not hesitate to [contact us](https://www.project-pareto.org/team/contact-us/)."
   ]
  }
 ],
 "metadata": {
  "kernelspec": {
   "display_name": "Python 3 (ipykernel)",
   "language": "python",
   "name": "python3"
  },
  "language_info": {
   "codemirror_mode": {
    "name": "ipython",
    "version": 3
   },
   "file_extension": ".py",
   "mimetype": "text/x-python",
   "name": "python",
   "nbconvert_exporter": "python",
   "pygments_lexer": "ipython3",
   "version": "3.8.15"
  },
  "vscode": {
   "interpreter": {
    "hash": "5e7876e70967ac118b9c7cd30504736772a2e8d91d53008f870f7541cddd399c"
   }
  }
 },
 "nbformat": 4,
 "nbformat_minor": 5
}
