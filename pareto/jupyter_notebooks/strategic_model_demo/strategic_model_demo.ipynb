{
 "cells": [
  {
   "attachments": {},
   "cell_type": "markdown",
   "id": "748f43ad",
   "metadata": {},
   "source": [
    "# PARETO - Strategic Model Demo\n",
    "The purpose of this Jupyter notebook is to provide a demonstration of PARETO's strategic model. This demo will show how to use PARETO's Python coding interface. If you prefer a graphical interface, you can download the PARETO GUI [here](https://www.project-pareto.org/software/)."
   ]
  },
  {
   "attachments": {},
   "cell_type": "markdown",
   "id": "d2a6851f",
   "metadata": {},
   "source": [
    "## Introduction\n",
    "This demo is based on PARETO's strategic toy case study. Relevant links:\n",
    "- [Strategic model documentation](https://pareto.readthedocs.io/en/latest/model_library/strategic_water_management/index.html)\n",
    "- [Documentation of PARETO case studies](https://pareto.readthedocs.io/en/latest/case_studies/index.html)\n",
    "\n",
    "The strategic toy case study features a very small produced water network. This network is smaller than most realistic produced water networks, but the small size of this example makes it useful for testing, debugging, demonstrations, etc. Below is a schematic image of the strategic toy network:\n",
    "\n",
    "![Strategic toy case study network](../../../docs/img/strategic_toy_network.png)\n",
    "\n",
    "Please note that the strategic toy case study data is completely arbitrary, but meant to be representative of a real produced water network. We will now proceed with demonstrating all of the steps that are needed to set up and solve an instance of PARETO's strategic model."
   ]
  },
  {
   "attachments": {},
   "cell_type": "markdown",
   "id": "3e0f7b56",
   "metadata": {},
   "source": [
    "## Step 1: Import needed files and libraries"
   ]
  },
  {
   "cell_type": "code",
   "execution_count": null,
   "id": "1a3eced9",
   "metadata": {},
   "outputs": [],
   "source": [
    "#####################################################################################################\n",
    "# PARETO was produced under the DOE Produced Water Application for Beneficial Reuse Environmental\n",
    "# Impact and Treatment Optimization (PARETO), and is copyright (c) 2021 by the software owners: The\n",
    "# Regents of the University of California, through Lawrence Berkeley National Laboratory, et al. All\n",
    "# rights reserved.\n",
    "#\n",
    "# NOTICE. This Software was developed under funding from the U.S. Department of Energy and the\n",
    "# U.S. Government consequently retains certain rights. As such, the U.S. Government has been granted\n",
    "# for itself and others acting on its behalf a paid-up, nonexclusive, irrevocable, worldwide license\n",
    "# in the Software to reproduce, distribute copies to the public, prepare derivative works, and perform\n",
    "# publicly and display publicly, and to permit other to do so.\n",
    "#####################################################################################################\n",
    "\n",
    "from pareto.strategic_water_management.strategic_produced_water_optimization import (\n",
    "    WaterQuality,\n",
    "    create_model,\n",
    "    Objectives,\n",
    "    solve_model,\n",
    "    PipelineCost,\n",
    "    PipelineCapacity,\n",
    ")\n",
    "from pareto.utilities.get_data import get_data\n",
    "from pareto.utilities.results import (\n",
    "    plot_bars,\n",
    "    plot_sankey,\n",
    "    generate_report,\n",
    "    PrintValues,\n",
    "    OutputUnits,\n",
    "    is_feasible,\n",
    "    nostdout,\n",
    ")\n",
    "from importlib import resources"
   ]
  },
  {
   "attachments": {},
   "cell_type": "markdown",
   "id": "7a465614",
   "metadata": {},
   "source": [
    "## Step 2: Set up the set list and parameter list\n",
    "The data defining the produced water network is stored in an Excel workbook (often referred to as the \"input file\"). Some of the tabs in the input file define index sets for the model, whereas other tabs contain the parameter data that will used to build the model.\n",
    "\n",
    "A rather large amount of data must be provided by the user, and so we will not attempt to summarize all of the data input requirements here. Instead, we refer the reader to the [strategic model documentation](https://pareto.readthedocs.io/en/latest/model_library/strategic_water_management/index.html). You can also download and peruse several example input files from GitHub [here](https://github.com/project-pareto/project-pareto/tree/main/pareto/case_studies) (`strategic_toy_case_study.xlsx` is the input file which will be loaded and used subsequently in this demo)."
   ]
  },
  {
   "cell_type": "code",
   "execution_count": null,
   "id": "212241c1",
   "metadata": {},
   "outputs": [],
   "source": [
    "# Each entry in set_list corresponds to a tab in the Excel input file that defines an index set.\n",
    "set_list = [\n",
    "    \"ProductionPads\", \"CompletionsPads\", \"SWDSites\", \"FreshwaterSources\", \"StorageSites\",\n",
    "    \"TreatmentSites\", \"ReuseOptions\", \"NetworkNodes\", \"PipelineDiameters\", \"StorageCapacities\",\n",
    "    \"InjectionCapacities\", \"TreatmentCapacities\", \"TreatmentTechnologies\",\n",
    "]\n",
    "# Each entry in parameter_list also corresponds to a tab in the Excel input file, but these\n",
    "# tabs have parameter data.\n",
    "parameter_list = [\n",
    "    \"Units\", \"PNA\", \"CNA\", \"CCA\", \"NNA\", \"NCA\", \"NKA\", \"NRA\", \"NSA\", \"FCA\", \"RCA\", \"RNA\",\n",
    "    \"RSA\", \"SCA\", \"SNA\", \"PCT\", \"PKT\", \"FCT\", \"CST\", \"CCT\", \"CKT\", \"CompletionsPadOutsideSystem\",\n",
    "    \"DesalinationTechnologies\", \"DesalinationSites\", \"TruckingTime\", \"CompletionsDemand\",\n",
    "    \"PadRates\", \"FlowbackRates\", \"NodeCapacities\", \"InitialPipelineCapacity\",\n",
    "    \"InitialDisposalCapacity\", \"InitialTreatmentCapacity\", \"FreshwaterSourcingAvailability\",\n",
    "    \"PadOffloadingCapacity\", \"CompletionsPadStorage\", \"DisposalOperationalCost\",\n",
    "    \"TreatmentOperationalCost\", \"ReuseOperationalCost\", \"PipelineOperationalCost\",\n",
    "    \"FreshSourcingCost\", \"TruckingHourlyCost\", \"PipelineDiameterValues\",\n",
    "    \"DisposalCapacityIncrements\", \"InitialStorageCapacity\", \"StorageCapacityIncrements\",\n",
    "    \"TreatmentCapacityIncrements\", \"TreatmentEfficiency\", \"DisposalExpansionCost\",\n",
    "    \"StorageExpansionCost\", \"TreatmentExpansionCost\", \"PipelineCapexDistanceBased\",\n",
    "    \"PipelineCapexCapacityBased\", \"PipelineCapacityIncrements\", \"PipelineExpansionDistance\",\n",
    "    \"Hydraulics\", \"Economics\", \"PadWaterQuality\", \"StorageInitialWaterQuality\",\n",
    "    \"PadStorageInitialWaterQuality\", \"DisposalOperatingCapacity\",\n",
    "]"
   ]
  },
  {
   "attachments": {},
   "cell_type": "markdown",
   "id": "a8c0f427",
   "metadata": {},
   "source": [
    "## Step 3: Load data into Python\n",
    "The `get_data` function called below reads the data from the input file into the `df_sets` and `df_parameters` variables. The variables `df_sets` and `df_parameters` which are returned are dictionaries where the keys are the strings from `set_list` and `parameter_list`, respectively, and the values are either dictionaries or Pandas dataframe objects containing the data as read in from the corresponding workbook tab."
   ]
  },
  {
   "cell_type": "code",
   "execution_count": null,
   "id": "532d2bf2",
   "metadata": {},
   "outputs": [],
   "source": [
    "# Load data from Excel input file into Python\n",
    "with resources.path(\n",
    "    \"pareto.case_studies\",\n",
    "    \"strategic_toy_case_study.xlsx\",\n",
    ") as fpath:\n",
    "    [df_sets, df_parameters] = get_data(fpath, set_list, parameter_list)"
   ]
  },
  {
   "attachments": {},
   "cell_type": "markdown",
   "id": "714e6966",
   "metadata": {},
   "source": [
    "### Step 3.1 (optional): Display input data\n",
    "A simple way to view the input data is to simply print members from `df_sets` and `df_parameters`:"
   ]
  },
  {
   "cell_type": "code",
   "execution_count": null,
   "id": "d5512dff",
   "metadata": {},
   "outputs": [],
   "source": [
    "print(type(df_sets[\"ProductionPads\"]))\n",
    "print(df_sets[\"ProductionPads\"])\n",
    "print()\n",
    "print(type(df_parameters[\"CompletionsDemand\"]))\n",
    "print(df_parameters[\"CompletionsDemand\"])\n",
    "print()\n",
    "print(type(df_parameters[\"DesalinationTechnologies\"]))\n",
    "print(df_parameters[\"DesalinationTechnologies\"])"
   ]
  },
  {
   "attachments": {},
   "cell_type": "markdown",
   "id": "7b0bd94d",
   "metadata": {},
   "source": [
    "The `plot_bars` function can also be used to create bar charts. If the plotted variable is indexed by time, then a dynamic, animated chart is created."
   ]
  },
  {
   "cell_type": "code",
   "execution_count": null,
   "id": "e9f3f975",
   "metadata": {},
   "outputs": [],
   "source": [
    "input_data = {\"pareto_var\": df_parameters[\"PadRates\"],\n",
    "              \"labels\": [(\"Production pad\", \"Time\", \"Production forecast (bbl/day)\")],\n",
    "             }\n",
    "args = {\"plot_title\": \"Production forecast\",\n",
    "        \"output_file\": \"demo_bar.html\",\n",
    "        \"print_data\": False,\n",
    "        \"jupyter_notebook\": True,  # setting this option to True causes the bar chart to appear in the Jupyter notebook\n",
    "       }\n",
    "plot_bars(input_data, args)"
   ]
  },
  {
   "attachments": {},
   "cell_type": "markdown",
   "id": "9deb75a3",
   "metadata": {},
   "source": [
    "## Step 4: Build the Pyomo model\n",
    "The `create_model` function called below uses the [Pyomo](http://www.pyomo.org/) modeling language to build a mathematical model of the produced water network. There are five different settings which can be specified for building the model:\n",
    "| Setting | Possible values (default in *italics*) |\n",
    "| ------ | ----------------------------------------------- |\n",
    "| `objective` | *`Objectives.cost`* - minimize the total annualized cost of produced water management over the decision horizon<br>`Objectives.reuse` - maximuze the amount of produced water that is reused over the decision horizon |\n",
    "| `pipeline_cost` | *`PipelineCost.capacity_based`* - use pipeline capacities and rate in [currency/volume] to calculate pipeline CAPEX costs<br>`PipelineCost.distance_based` - use pipeline distances and rate in [currency/(diameter-distance)] to calculate pipeline CAPEX costs |\n",
    "| `pipeline_capacity` | *`PipelineCapacity.input`* - flow capacity for each pipe diameter is provided by the user<br>`PipelineCapacity.calculate` - flow capacity for each pipe diameter is calculated based on the diameter and provided pipe hydraulics data |\n",
    "| `node_capacity` | *`True`* - Include upper bound on network node flow capacity <br>`False` - Exclude upper bound on network node flow capacity |\n",
    "| `water_quality` | `WaterQuality.false` - Exclude any water quality calculations from the model<br>*`WaterQuality.post_process`* - Calculate water quality throughout the network post-optimization<br>`WaterQuality.discrete` - Discretize the water quality variables to include in the optimization model |\n"
   ]
  },
  {
   "cell_type": "code",
   "execution_count": null,
   "id": "5d49b0d9",
   "metadata": {},
   "outputs": [],
   "source": [
    "# Create Pyomo model\n",
    "strategic_model = create_model(\n",
    "    df_sets,\n",
    "    df_parameters,\n",
    "    default={\n",
    "        \"objective\": Objectives.cost,\n",
    "        \"pipeline_cost\": PipelineCost.distance_based,\n",
    "        \"pipeline_capacity\": PipelineCapacity.input,\n",
    "        \"node_capacity\": True,\n",
    "        \"water_quality\": WaterQuality.false,\n",
    "    },\n",
    ")"
   ]
  },
  {
   "attachments": {},
   "cell_type": "markdown",
   "id": "774d1d59",
   "metadata": {},
   "source": [
    "## Step 5: Solve the model\n",
    "The `solve_model` function below solves the model with the provided options. There are six different options which can be passed:\n",
    "| Option | Description | Default value |\n",
    "| ------ | ----------- | ------------- |\n",
    "| `solver` | Either a string with solver name or a tuple of strings with several solvers to try and load in order. PARETO currently supports the Gurobi (commercial) and CBC (free) solvers, but it might be possible to use other MILP solvers as well. | `(\"gurobi_direct\", \"gurobi\", \"cbc\")` |\n",
    "| `deactivate_slacks` | `True` to deactivate slack variables, `False` to use slack variables. | `True` |\n",
    "| `scale_model` | `True` to apply scaling to the model, `False` to not apply scaling. | `False` |\n",
    "| `scaling_factor` | Scaling factor to apply to the model (only relevant if `scale_model` is `True``). | 1000000 |\n",
    "| `running_time` | Maximum solver running time in seconds. | 60 |\n",
    "| `gap` | Solver gap. | 0 |"
   ]
  },
  {
   "cell_type": "code",
   "execution_count": null,
   "id": "4dc2e674",
   "metadata": {},
   "outputs": [],
   "source": [
    "# Solve Pyomo model with specified options\n",
    "# TODO change solver to CBC when ready\n",
    "options = {\n",
    "    \"solver\": \"gurobi\",  # \"gurobi\" is another sovler option if you have it installed\n",
    "    \"deactivate_slacks\": True,\n",
    "    \"scale_model\": False,\n",
    "    \"scaling_factor\": 1000000,\n",
    "    \"running_time\": 300,\n",
    "    \"gap\": 0,\n",
    "}\n",
    "results = solve_model(model=strategic_model, options=options)"
   ]
  },
  {
   "attachments": {},
   "cell_type": "markdown",
   "id": "01914afa",
   "metadata": {},
   "source": [
    "The `is_feasible` function can be called after solving the model to check whether or not the solution returned by the solver violates any constraints."
   ]
  },
  {
   "cell_type": "code",
   "execution_count": null,
   "id": "b6d09258",
   "metadata": {},
   "outputs": [],
   "source": [
    "# Check feasibility of the solved model.\n",
    "with nostdout():\n",
    "    feasibility_status = is_feasible(strategic_model)\n",
    "if not feasibility_status:\n",
    "    print(\"Model results are not feasible and should not be trusted\")\n",
    "else:\n",
    "    print(\"Model results validated and found to pass feasibility tests\")"
   ]
  },
  {
   "attachments": {},
   "cell_type": "markdown",
   "id": "690da159",
   "metadata": {},
   "source": [
    "## Step 6: Analyze results"
   ]
  },
  {
   "attachments": {},
   "cell_type": "markdown",
   "id": "e22d8e60",
   "metadata": {},
   "source": [
    "After running the model we can print the results in the format of an excel report which allows us to visualize the data.\n",
    "\n",
    "The `generate_report` function \n",
    "\n",
    "One required argument for the model and then four optional keyword arguments:\n",
    "\n",
    "| Option | Description | Default value |\n",
    "| ------ | ----------- | ------------- |\n",
    "| `results_obj` | TODO | TODO |\n",
    "| `is_print` | TODO | TODO |\n",
    "| `output_units` | TODO | TODO |\n",
    "| `fname` | TODO | TODO |\n",
    "\n",
    "TODO: Note that the value for is_print just affects what gets printed to the console; it does not affect what gets written to the Excel report. Rarely will there be a reason for it to be anything other than empty or PrintValues.essential.\n",
    "TODO consider rewriting generate report so that is_print does not have to be a list."
   ]
  },
  {
   "cell_type": "code",
   "execution_count": null,
   "id": "1115835c",
   "metadata": {},
   "outputs": [],
   "source": [
    "# Generate report with results in Excel\n",
    "[model, results_dict] = generate_report(\n",
    "    strategic_model,\n",
    "    results_obj=results,\n",
    "    is_print=PrintValues.essential,\n",
    "    output_units=OutputUnits.user_units,\n",
    "    fname=\"strategic_optimization_results.xlsx\",\n",
    ")"
   ]
  },
  {
   "cell_type": "code",
   "execution_count": null,
   "id": "b6d6cc02",
   "metadata": {},
   "outputs": [],
   "source": [
    "# This shows how to read data from PARETO reports\n",
    "set_list = []\n",
    "parameter_list = [\"v_F_Trucked\", \"v_C_Trucked\"]\n",
    "fname = \"strategic_optimization_results.xlsx\"\n",
    "[sets_reports, parameters_report] = get_data(fname, set_list, parameter_list)"
   ]
  },
  {
   "attachments": {},
   "cell_type": "markdown",
   "id": "6d00b984",
   "metadata": {},
   "source": [
    "### Step 6.1 (optional): Generate Sankey diagram"
   ]
  },
  {
   "cell_type": "code",
   "execution_count": null,
   "id": "593215e6",
   "metadata": {},
   "outputs": [],
   "source": [
    "args = {\"plot_title\": \"Trucked Water\",\n",
    "        \"output_file\": \"demo_sankey.html\"\n",
    "       }\n",
    "\n",
    "input_data = {\"pareto_var\": results_dict[\"v_F_Piped_dict\"], \n",
    "              \"sections\": {\"Region 1\": [\"PP01\", \"PP03\", \"N01\", \"N02\", \"N03\", \"PP02\", \"CP01\", \"N05\", \"N06\", \"N07\", \"N08\"],\n",
    "                             \"Region 2\": [\"PP03\", \"N03\", \"N04\"]\n",
    "                          },\n",
    "             }\n",
    "\n",
    "plot_sankey(input_data, args)"
   ]
  },
  {
   "attachments": {},
   "cell_type": "markdown",
   "id": "5e72b407",
   "metadata": {},
   "source": [
    "TODO notes\n",
    "- Should I include a section on multi-objective optimization? Some notes that were in Miguel's version of the notebook said \"4.5 MM increase in cost will allow us to reuse 8.5MM additional barrels of produced water. (doted lines)\" and \"Further investments do not have a drastic effect on water reuse. (red box)\"\n",
    "- Consider adding an optional segment at the end with a version of sensitivity analysis"
   ]
  }
 ],
 "metadata": {
  "kernelspec": {
   "display_name": "Python 3",
   "language": "python",
   "name": "python3"
  },
  "language_info": {
   "codemirror_mode": {
    "name": "ipython",
    "version": 3
   },
   "file_extension": ".py",
   "mimetype": "text/x-python",
   "name": "python",
   "nbconvert_exporter": "python",
   "pygments_lexer": "ipython3",
   "version": "3.8.13"
  },
  "vscode": {
   "interpreter": {
    "hash": "5e7876e70967ac118b9c7cd30504736772a2e8d91d53008f870f7541cddd399c"
   }
  }
 },
 "nbformat": 4,
 "nbformat_minor": 5
}
