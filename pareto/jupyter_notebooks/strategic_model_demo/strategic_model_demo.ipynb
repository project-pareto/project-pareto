{
 "cells": [
  {
   "attachments": {},
   "cell_type": "markdown",
   "id": "748f43ad",
   "metadata": {},
   "source": [
    "# PARETO - Strategic Model Demo\n",
    "The purpose of this Jupyter notebook is to provide a demonstration of PARETO's strategic model. This demo will show how to use PARETO's Python coding interface. If you prefer a graphical interface, you can download the PARETO GUI [here](https://www.project-pareto.org/software/)."
   ]
  },
  {
   "attachments": {},
   "cell_type": "markdown",
   "id": "d2a6851f",
   "metadata": {},
   "source": [
    "## Introduction\n",
    "This demo is based on PARETO's strategic toy case study. Relevant links:\n",
    "- [Strategic model documentation](https://pareto.readthedocs.io/en/latest/model_library/strategic_water_management/index.html)\n",
    "- [Documentation of PARETO case studies](https://pareto.readthedocs.io/en/latest/case_studies/index.html)\n",
    "\n",
    "The strategic toy case study features a very small produced water network. This network is smaller than most realistic produced water networks, but the small size of this example makes it useful for testing, debugging, demonstrations, etc. Below is a schematic image of the strategic toy network:\n",
    "\n",
    "![Strategic toy case study network](../../../docs/img/strategic_toy_network.png)\n",
    "\n",
    "Please note that the strategic toy case study data is arbitrary, but meant to be representative of a real produced water network. We will now proceed with demonstrating all of the steps that are needed to set up and solve an instance of PARETO's strategic model."
   ]
  },
  {
   "attachments": {},
   "cell_type": "markdown",
   "id": "3e0f7b56",
   "metadata": {},
   "source": [
    "## Step 1: Import needed files and libraries"
   ]
  },
  {
   "cell_type": "code",
   "execution_count": null,
   "id": "1a3eced9",
   "metadata": {},
   "outputs": [],
   "source": [
    "#####################################################################################################\n",
    "# PARETO was produced under the DOE Produced Water Application for Beneficial Reuse Environmental\n",
    "# Impact and Treatment Optimization (PARETO), and is copyright (c) 2021-2023 by the software owners:\n",
    "# The Regents of the University of California, through Lawrence Berkeley National Laboratory, et al.\n",
    "# All rights reserved.\n",
    "#\n",
    "# NOTICE. This Software was developed under funding from the U.S. Department of Energy and the U.S.\n",
    "# Government consequently retains certain rights. As such, the U.S. Government has been granted for\n",
    "# itself and others acting on its behalf a paid-up, nonexclusive, irrevocable, worldwide license in\n",
    "# the Software to reproduce, distribute copies to the public, prepare derivative works, and perform\n",
    "# publicly and display publicly, and to permit others to do so.\n",
    "#####################################################################################################\n",
    "\n",
    "from pareto.strategic_water_management.strategic_produced_water_optimization import (\n",
    "    WaterQuality,\n",
    "    create_model,\n",
    "    Objectives,\n",
    "    solve_model,\n",
    "    PipelineCost,\n",
    "    PipelineCapacity,\n",
    ")\n",
    "from pareto.utilities.get_data import get_data\n",
    "from pareto.utilities.results import (\n",
    "    plot_bars,\n",
    "    plot_sankey,\n",
    "    generate_report,\n",
    "    PrintValues,\n",
    "    OutputUnits,\n",
    "    is_feasible,\n",
    "    nostdout,\n",
    ")\n",
    "from importlib import resources\n",
    "from pyomo.environ import Constraint"
   ]
  },
  {
   "attachments": {},
   "cell_type": "markdown",
   "id": "7a465614",
   "metadata": {},
   "source": [
    "## Step 2: Set up the set list and parameter list\n",
    "The data defining the produced water network is stored in an Excel workbook (often referred to as the \"input file\"). Some of the tabs in the input file define index sets for the model, whereas other tabs contain the parameter data that will used to build the model.\n",
    "\n",
    "A rather large amount of data must be provided by the user. We will not attempt to summarize all of the data input requirements here, but we refer the reader to the [strategic model documentation](https://pareto.readthedocs.io/en/latest/model_library/strategic_water_management/index.html) to learn more. You can also download several example input files from GitHub [here](https://github.com/project-pareto/project-pareto/tree/main/pareto/case_studies). Note that `strategic_toy_case_study.xlsx` is the input file which will be used in this demo."
   ]
  },
  {
   "cell_type": "code",
   "execution_count": null,
   "id": "212241c1",
   "metadata": {},
   "outputs": [],
   "source": [
    "# Each entry in set_list corresponds to a tab in the Excel input file that\n",
    "# defines an index set.\n",
    "set_list = [\n",
    "    \"ProductionPads\", \"CompletionsPads\", \"SWDSites\", \"FreshwaterSources\", \"StorageSites\",\n",
    "    \"TreatmentSites\", \"ReuseOptions\", \"NetworkNodes\", \"PipelineDiameters\", \"StorageCapacities\",\n",
    "    \"InjectionCapacities\", \"TreatmentCapacities\", \"TreatmentTechnologies\",\n",
    "]\n",
    "# Each entry in parameter_list also corresponds to a tab in the Excel input\n",
    "# file, but these tabs have parameter data.\n",
    "parameter_list = [\n",
    "    \"Units\", \"PNA\", \"CNA\", \"CCA\", \"NNA\", \"NCA\", \"NKA\", \"NRA\", \"NSA\", \"FCA\", \"RCA\", \"RNA\",\n",
    "    \"RSA\", \"SCA\", \"SNA\", \"PCT\", \"PKT\", \"FCT\", \"CST\", \"CCT\", \"CKT\", \"CompletionsPadOutsideSystem\",\n",
    "    \"DesalinationTechnologies\", \"DesalinationSites\", \"TruckingTime\", \"CompletionsDemand\",\n",
    "    \"PadRates\", \"FlowbackRates\", \"NodeCapacities\", \"InitialPipelineCapacity\",\n",
    "    \"InitialDisposalCapacity\", \"InitialTreatmentCapacity\", \"FreshwaterSourcingAvailability\",\n",
    "    \"PadOffloadingCapacity\", \"CompletionsPadStorage\", \"DisposalOperationalCost\",\n",
    "    \"TreatmentOperationalCost\", \"ReuseOperationalCost\", \"PipelineOperationalCost\",\n",
    "    \"FreshSourcingCost\", \"TruckingHourlyCost\", \"PipelineDiameterValues\",\n",
    "    \"DisposalCapacityIncrements\", \"InitialStorageCapacity\", \"StorageCapacityIncrements\",\n",
    "    \"TreatmentCapacityIncrements\", \"TreatmentEfficiency\", \"DisposalExpansionCost\",\n",
    "    \"StorageExpansionCost\", \"TreatmentExpansionCost\", \"PipelineCapexDistanceBased\",\n",
    "    \"PipelineCapexCapacityBased\", \"PipelineCapacityIncrements\", \"PipelineExpansionDistance\",\n",
    "    \"Hydraulics\", \"Economics\", \"PadWaterQuality\", \"StorageInitialWaterQuality\",\n",
    "    \"PadStorageInitialWaterQuality\", \"DisposalOperatingCapacity\",\n",
    "]"
   ]
  },
  {
   "attachments": {},
   "cell_type": "markdown",
   "id": "a8c0f427",
   "metadata": {},
   "source": [
    "## Step 3: Load data into Python\n",
    "PARETO's `get_data` utility function ([documentation](https://pareto.readthedocs.io/en/latest/utilities/Get_Data.html#get-data-get-data)) called below reads the data from the input file into the `df_sets` and `df_parameters` variables. The variables `df_sets` and `df_parameters` which are returned are dictionaries where the keys are the strings from `set_list` and `parameter_list`, respectively, and the values are either dictionaries or Pandas dataframe objects containing the data read from the corresponding workbook tab."
   ]
  },
  {
   "cell_type": "code",
   "execution_count": null,
   "id": "532d2bf2",
   "metadata": {},
   "outputs": [],
   "source": [
    "# Load data from Excel input file into Python\n",
    "with resources.path(\n",
    "    \"pareto.case_studies\",\n",
    "    \"strategic_toy_case_study.xlsx\",\n",
    ") as fpath:\n",
    "    [df_sets, df_parameters] = get_data(fpath, set_list, parameter_list)"
   ]
  },
  {
   "attachments": {},
   "cell_type": "markdown",
   "id": "714e6966",
   "metadata": {},
   "source": [
    "### Step 3.1 (optional): Display input data\n",
    "A simple way to view the input data is to print members from `df_sets` and `df_parameters`:"
   ]
  },
  {
   "cell_type": "code",
   "execution_count": null,
   "id": "d5512dff",
   "metadata": {},
   "outputs": [],
   "source": [
    "print(\"------- Production pads -------\")\n",
    "print(type(df_sets[\"ProductionPads\"]))\n",
    "print(df_sets[\"ProductionPads\"])\n",
    "\n",
    "print(\"\\n------- Completions demand -------\")\n",
    "print(type(df_parameters[\"CompletionsDemand\"]))\n",
    "print(df_parameters[\"CompletionsDemand\"])\n",
    "\n",
    "print(\"\\n------- Desalination technologies -------\")\n",
    "print(type(df_parameters[\"DesalinationTechnologies\"]))\n",
    "print(df_parameters[\"DesalinationTechnologies\"])"
   ]
  },
  {
   "attachments": {},
   "cell_type": "markdown",
   "id": "7b0bd94d",
   "metadata": {},
   "source": [
    "PARETO's `plot_bars` function ([documentation](https://pareto.readthedocs.io/en/latest/utilities/Results.html#plot-bars)) can be used to create bar charts. If the plotted variable is indexed by time, then a dynamic, animated chart is created:"
   ]
  },
  {
   "cell_type": "code",
   "execution_count": null,
   "id": "e9f3f975",
   "metadata": {},
   "outputs": [],
   "source": [
    "input_data = {\"pareto_var\": df_parameters[\"PadRates\"],\n",
    "              \"labels\": [(\"Production pad\", \"Time\", \"Production forecast (bbl/day)\")],\n",
    "             }\n",
    "args = {\"plot_title\": \"Production forecast\",\n",
    "        \"output_file\": \"demo_bar.html\",\n",
    "        \"print_data\": False,\n",
    "        \"jupyter_notebook\": True,  # setting this option to True causes the bar chart to appear in the Jupyter notebook\n",
    "       }\n",
    "plot_bars(input_data, args)"
   ]
  },
  {
   "attachments": {},
   "cell_type": "markdown",
   "id": "9deb75a3",
   "metadata": {},
   "source": [
    "## Step 4: Build the Pyomo model\n",
    "PARETO's `create_model` function called below uses the [Pyomo](http://www.pyomo.org/) modeling language to build a mathematical model of the produced water network. There are five different settings which can be specified for building the model:\n",
    "| Setting | Possible values (default in *italics*) |\n",
    "| ------ | ----------------------------------------------- |\n",
    "| `objective` | *`Objectives.cost`* - minimize the total annualized cost of produced water management over the decision horizon<br>`Objectives.reuse` - maximuze the amount of produced water that is reused over the decision horizon |\n",
    "| `pipeline_cost` | *`PipelineCost.capacity_based`* - use pipeline capacities and rate in [currency/volume] to calculate pipeline CAPEX costs<br>`PipelineCost.distance_based` - use pipeline distances and rate in [currency/(diameter-distance)] to calculate pipeline CAPEX costs |\n",
    "| `pipeline_capacity` | *`PipelineCapacity.input`* - flow capacity for each pipe diameter is provided by the user<br>`PipelineCapacity.calculate` - flow capacity for each pipe diameter is calculated based on the diameter and provided pipe hydraulics data |\n",
    "| `node_capacity` | *`True`* - Include upper bound on network node flow capacity <br>`False` - Exclude upper bound on network node flow capacity |\n",
    "| `water_quality` | `WaterQuality.false` - Exclude any water quality calculations from the model<br>*`WaterQuality.post_process`* - Calculate water quality throughout the network post-optimization<br>`WaterQuality.discrete` - Discretize the water quality variables to include in the optimization model |\n"
   ]
  },
  {
   "cell_type": "code",
   "execution_count": null,
   "id": "5d49b0d9",
   "metadata": {},
   "outputs": [],
   "source": [
    "# Create Pyomo optimization model representing the produced water network\n",
    "strategic_model = create_model(\n",
    "    df_sets,\n",
    "    df_parameters,\n",
    "    default={\n",
    "        \"objective\": Objectives.cost,\n",
    "        \"pipeline_cost\": PipelineCost.distance_based,\n",
    "        \"pipeline_capacity\": PipelineCapacity.input,\n",
    "        \"node_capacity\": True,\n",
    "        \"water_quality\": WaterQuality.false,\n",
    "    },\n",
    ")"
   ]
  },
  {
   "attachments": {},
   "cell_type": "markdown",
   "id": "774d1d59",
   "metadata": {},
   "source": [
    "## Step 5: Solve the model\n",
    "PARETO's `solve_model` function called below solves the model with the provided options. There are six different options which can be passed:\n",
    "| Option | Description | Default value |\n",
    "| ------ | ----------- | ------------- |\n",
    "| `solver` | Either a string with solver name or a tuple of strings with several solvers to try and load in order. PARETO currently supports the Gurobi (commercial) and CBC (free) solvers, but it might be possible to use other MILP solvers as well. | `(\"gurobi_direct\", \"gurobi\", \"cbc\")` |\n",
    "| `deactivate_slacks` | `True` to deactivate slack variables, `False` to use slack variables. | `True` |\n",
    "| `scale_model` | `True` to apply scaling to the model, `False` to not apply scaling. | `False` |\n",
    "| `scaling_factor` | Scaling factor to apply to the model (only relevant if `scale_model` is `True``). | 1000000 |\n",
    "| `running_time` | Maximum solver running time in seconds. | 60 |\n",
    "| `gap` | Solver gap. | 0 |"
   ]
  },
  {
   "cell_type": "code",
   "execution_count": null,
   "id": "4dc2e674",
   "metadata": {},
   "outputs": [],
   "source": [
    "# Solve Pyomo model with specified options\n",
    "options = {\n",
    "    \"solver\": \"cbc\",  # \"gurobi\" is another sovler option if you have it installed\n",
    "    \"deactivate_slacks\": True,\n",
    "    \"scale_model\": False,\n",
    "    \"scaling_factor\": 1000000,\n",
    "    \"running_time\": 300,\n",
    "    \"gap\": 0,\n",
    "}\n",
    "results = solve_model(model=strategic_model, options=options)"
   ]
  },
  {
   "attachments": {},
   "cell_type": "markdown",
   "id": "01914afa",
   "metadata": {},
   "source": [
    "PARETO's `is_feasible` utility function can be called after solving the model to check whether or not the solution returned by the solver violates any constraints:"
   ]
  },
  {
   "cell_type": "code",
   "execution_count": null,
   "id": "b6d09258",
   "metadata": {},
   "outputs": [],
   "source": [
    "# Check feasibility of the solved model.\n",
    "with nostdout():\n",
    "    feasibility_status = is_feasible(strategic_model)\n",
    "if not feasibility_status:\n",
    "    print(\"Model results are not feasible and should not be trusted\")\n",
    "else:\n",
    "    print(\"Model results validated and found to pass feasibility tests\")"
   ]
  },
  {
   "attachments": {},
   "cell_type": "markdown",
   "id": "690da159",
   "metadata": {},
   "source": [
    "## Step 6: Analyze results"
   ]
  },
  {
   "attachments": {},
   "cell_type": "markdown",
   "id": "e22d8e60",
   "metadata": {},
   "source": [
    "PARETO's `generate_report` function ([documentation](https://pareto.readthedocs.io/en/latest/utilities/Results.html#generate-report)) can be used to export the optimization reports to an Excel report. The first argument to the function is the model itself, and then there are four optional keyword arguments:\n",
    "\n",
    "| Option | Description | Default value |\n",
    "| ------ | ----------- | ------------- |\n",
    "| `results_obj` | The object returned by the solver. If provided, this object is used to extract data from the solver to include in the report. | `None` |\n",
    "| `is_print` | Determines how many results to print to the console, but has no effect on what is included in the Excel report. There are four possible values that may be passed:<br>- `None`<br>- `PrintValues.detailed`<br>- `PrintValues.nominal`<br>- `PrintValues.essential`<br>Note that it will be a rare case where it is useful or desirable to pick something other than `None` or `PrintValues.essential` for this option. | `None` |\n",
    "| `output_units` | Determines whether the units used in the report are the units provided by the user or the internal units used by the model. Specifically, the values that may be passed are:<br>- `OutputUnits.unscaled_model_units`<br>- `OutputUnits.user_units` | `OutputUnits.user_units` |\n",
    "| `fname` | The file name for the generated Excel report. | `\"PARETO_report.xlsx\"` |"
   ]
  },
  {
   "cell_type": "code",
   "execution_count": null,
   "id": "1115835c",
   "metadata": {},
   "outputs": [],
   "source": [
    "# Generate report with results in Excel\n",
    "[model, results_dict] = generate_report(\n",
    "    strategic_model,\n",
    "    results_obj=results,\n",
    "    is_print=PrintValues.essential,\n",
    "    output_units=OutputUnits.user_units,\n",
    "    fname=\"strategic_optimization_results.xlsx\",\n",
    ")"
   ]
  },
  {
   "attachments": {},
   "cell_type": "markdown",
   "id": "4dab9b19",
   "metadata": {},
   "source": [
    "The `get_data` function can also be used to load data from a previously generated PARETO results report back into Python:"
   ]
  },
  {
   "cell_type": "code",
   "execution_count": null,
   "id": "b6d6cc02",
   "metadata": {},
   "outputs": [],
   "source": [
    "# Read data from the PARETO results report\n",
    "tabs_to_read = [\"v_F_Overview\", \"vb_y_overview\", \"v_F_Sourced\"]\n",
    "fname = \"strategic_optimization_results.xlsx\"\n",
    "_, parameters_report = get_data(fname, [], tabs_to_read)\n",
    "\n",
    "print(\"------- Overview -------\")\n",
    "print(parameters_report[\"v_F_Overview\"])  # Note that this is the same data that was printed above by the generate_report function\n",
    "print(\"\\n------- Infrastructure buildout overview -------\")\n",
    "print(parameters_report[\"vb_y_overview\"])\n",
    "print(\"\\n------- Sourced water -------\")\n",
    "print(parameters_report[\"v_F_Sourced\"])"
   ]
  },
  {
   "attachments": {},
   "cell_type": "markdown",
   "id": "6d00b984",
   "metadata": {},
   "source": [
    "### Step 6.1 (optional): Generate Sankey diagrams\n",
    "PARETO's `plot_sankey` function ([documentation](https://pareto.readthedocs.io/en/latest/utilities/Results.html#generate-sankey)) can be used to generate Sankey diagrams of the output:"
   ]
  },
  {
   "cell_type": "code",
   "execution_count": null,
   "id": "593215e6",
   "metadata": {},
   "outputs": [],
   "source": [
    "input_data = {\"pareto_var\": results_dict[\"v_F_Piped_dict\"], \n",
    "              \"time_period\": \"T01\",\n",
    "             }\n",
    "args = {\"plot_title\": \"Piped water - T01\",\n",
    "        \"output_file\": \"demo_sankey_T01.html\",\n",
    "        \"jupyter_notebook\": True,  # setting this option to True causes the Sankey diagram(s) to appear in the Jupyter notebook\n",
    "       }\n",
    "plot_sankey(input_data, args)"
   ]
  },
  {
   "attachments": {},
   "cell_type": "markdown",
   "id": "63ea277a",
   "metadata": {},
   "source": [
    "We can pass a list of multiple times for the `time_period` entry in the `input_data` argument to get a Sankey diagram showing the cumulative flows over multiple time periods:"
   ]
  },
  {
   "cell_type": "code",
   "execution_count": null,
   "id": "d7110c38",
   "metadata": {},
   "outputs": [],
   "source": [
    "input_data = {\"pareto_var\": results_dict[\"v_F_Piped_dict\"], \n",
    "              \"time_period\": [\"T01\", \"T02\"],\n",
    "             }\n",
    "args = {\"plot_title\": \"Piped water - T01 and T02\",\n",
    "        \"output_file\": \"demo_sankey_T01_T02.html\",\n",
    "        \"jupyter_notebook\": True,\n",
    "       }\n",
    "plot_sankey(input_data, args)"
   ]
  },
  {
   "attachments": {},
   "cell_type": "markdown",
   "id": "b3dd98a3",
   "metadata": {},
   "source": [
    "If we omit the `time_period` entry entirely, then the flows shown in the Sankey diagram are cumulative for the entire time horizon:"
   ]
  },
  {
   "cell_type": "code",
   "execution_count": null,
   "id": "4cf8d2a7",
   "metadata": {},
   "outputs": [],
   "source": [
    "input_data = {\"pareto_var\": results_dict[\"v_F_Piped_dict\"]}\n",
    "args = {\"plot_title\": \"Piped water - all times\",\n",
    "        \"output_file\": \"demo_sankey_all_times.html\",\n",
    "        \"jupyter_notebook\": True,\n",
    "       }\n",
    "plot_sankey(input_data, args)"
   ]
  },
  {
   "attachments": {},
   "cell_type": "markdown",
   "id": "d0e83500",
   "metadata": {},
   "source": [
    "By passing a `sections` entry in the `input_data` argument, we can create separate Sankey diagrams for different subsections of the overall network: "
   ]
  },
  {
   "cell_type": "code",
   "execution_count": null,
   "id": "3dd1edf2",
   "metadata": {},
   "outputs": [],
   "source": [
    "input_data = {\"pareto_var\": results_dict[\"v_F_Piped_dict\"], \n",
    "              \"sections\": {\"Section1\": [\"N01\", \"N02\", \"N03\", \"N04\"],\n",
    "                           \"Section2\": [\"N05\", \"N06\", \"N07\", \"N08\", \"N09\"]},\n",
    "              \"time_period\": \"T01\",\n",
    "             }\n",
    "args = {\"plot_title\": \"Piped water - T01\",\n",
    "        \"output_file\": \"demo_sankey_T01_sections.html\",\n",
    "        \"jupyter_notebook\": True,\n",
    "       }\n",
    "plot_sankey(input_data, args)"
   ]
  },
  {
   "attachments": {},
   "cell_type": "markdown",
   "id": "e098b353",
   "metadata": {},
   "source": [
    "## Step 7 (advanced, optional): Sensitivity analysis\n",
    "To perform sensitivity analysis, we can change some of the model data and then resolve the model to see the effects on the optimal solution. To demonstrate, we will change some of the costing data associated with desalination technologies to see the effect on which technology gets selected to be built at site R01.\n",
    "\n",
    "First, we use `get_data` to extract results on the treatment buildout from our solved model:"
   ]
  },
  {
   "cell_type": "code",
   "execution_count": null,
   "id": "2243be1b",
   "metadata": {},
   "outputs": [],
   "source": [
    "# Extract results on treatment buildout from solved model\n",
    "_, treatment_results = get_data(\"strategic_optimization_results.xlsx\",\n",
    "                                [], [\"vb_y_Treatment\"])\n",
    "print(treatment_results['vb_y_Treatment'])"
   ]
  },
  {
   "attachments": {},
   "cell_type": "markdown",
   "id": "3c5022c7",
   "metadata": {},
   "source": [
    "The first entry of this dictionary tells us that at site R01, the optimizer has chosen to buld MVC desalination with the capacity selected corresponding to the `J1` index. As an aside, we can look at the input data to remind ourselves what capacity `J1` corresponds to (in bbl/day):"
   ]
  },
  {
   "cell_type": "code",
   "execution_count": null,
   "id": "9e4e6d56",
   "metadata": {},
   "outputs": [],
   "source": [
    "# Check what capacity J1 corresponds to (in bbl/day) \n",
    "print(df_parameters[\"TreatmentCapacityIncrements\"][(\"MVC\", 'J1')])"
   ]
  },
  {
   "attachments": {},
   "cell_type": "markdown",
   "id": "665eb490",
   "metadata": {},
   "source": [
    "Let's examine the treatment operational cost data that was passed to the model:"
   ]
  },
  {
   "cell_type": "code",
   "execution_count": null,
   "id": "d79fdbbc",
   "metadata": {},
   "outputs": [],
   "source": [
    "# Display treatment operational cost data\n",
    "strategic_model.p_pi_Treatment.display()"
   ]
  },
  {
   "attachments": {},
   "cell_type": "markdown",
   "id": "6b861e75",
   "metadata": {},
   "source": [
    "We can increase the operational cost associated with MVC:"
   ]
  },
  {
   "cell_type": "code",
   "execution_count": null,
   "id": "763d4da5",
   "metadata": {},
   "outputs": [],
   "source": [
    "# Change treatment operational cost data\n",
    "strategic_model.p_pi_Treatment[:, \"MVC\"] = 1\n",
    "strategic_model.p_pi_Treatment.display()  # Print data again to confirm change"
   ]
  },
  {
   "attachments": {},
   "cell_type": "markdown",
   "id": "6e82f361",
   "metadata": {},
   "source": [
    "Now we re-solve the model with the updated data, and check feasibility of the solution:"
   ]
  },
  {
   "cell_type": "code",
   "execution_count": null,
   "id": "3caa7765",
   "metadata": {},
   "outputs": [],
   "source": [
    "# Re-solve the model\n",
    "results = solve_model(model=strategic_model, options=options)\n",
    "\n",
    "# Check feasibility of the solved model.\n",
    "with nostdout():\n",
    "    feasibility_status = is_feasible(strategic_model)\n",
    "if not feasibility_status:\n",
    "    print(\"Model results are not feasible and should not be trusted\")\n",
    "else:\n",
    "    print(\"Model results validated and found to pass feasibility tests\")"
   ]
  },
  {
   "attachments": {},
   "cell_type": "markdown",
   "id": "5b94d1e0",
   "metadata": {},
   "source": [
    "We haven't exported the re-solved optimization results to an Excel file, but we can look directly at the variables in the Pyomo model to see what happened:"
   ]
  },
  {
   "cell_type": "code",
   "execution_count": null,
   "id": "6552b4aa",
   "metadata": {},
   "outputs": [],
   "source": [
    "# Display treatment results\n",
    "strategic_model.vb_y_Treatment.display()"
   ]
  },
  {
   "attachments": {},
   "cell_type": "markdown",
   "id": "ec50b8ed",
   "metadata": {},
   "source": [
    "We see that the index of `('R01', 'OARO', 'J1')` has a value of 1, indicating that this time the optimizer has selected to build OARO desalination technology at site R01."
   ]
  },
  {
   "attachments": {},
   "cell_type": "markdown",
   "id": "334f40e4",
   "metadata": {},
   "source": [
    "## Step 8 (advanced, optional): Add additional constraints to the model\n",
    "Our initial version of the optimization model selected MVC technology to be built at site R01. When we simulated an increase in the operational cost of MVC, we saw that the optimizer instead chose to build OARO technology at R01. Suppose, however, that we know that we want neither MVC nor OARO technology at R01, and instead, we want to force the optimzier to pick the third option, MD technology. We can enforce this behavior by adding an additional constraint to the Pyomo model:"
   ]
  },
  {
   "cell_type": "code",
   "execution_count": null,
   "id": "11de6aa8",
   "metadata": {},
   "outputs": [],
   "source": [
    "# Add a constraint to the model which forces MD technology to be selected for\n",
    "# RO1 (the optimizer is still free to choose how much MD capacity to build)\n",
    "def ForceMdRule(model):\n",
    "    return sum(model.vb_y_Treatment[\"R01\", \"MD\", j] for j in model.s_J) == 1\n",
    "strategic_model.ForceMdCon = Constraint(rule=ForceMdRule, doc=\"Force R01 to select MD\")"
   ]
  },
  {
   "attachments": {},
   "cell_type": "markdown",
   "id": "e07cc3da",
   "metadata": {},
   "source": [
    "After adding this constraint, we can solve the model yet again in the usual way:"
   ]
  },
  {
   "cell_type": "code",
   "execution_count": null,
   "id": "e9cc9d99",
   "metadata": {},
   "outputs": [],
   "source": [
    "# Re-solve the model\n",
    "results = solve_model(model=strategic_model, options=options)\n",
    "\n",
    "# Check feasibility of the solved model.\n",
    "with nostdout():\n",
    "    feasibility_status = is_feasible(strategic_model)\n",
    "if not feasibility_status:\n",
    "    print(\"Model results are not feasible and should not be trusted\")\n",
    "else:\n",
    "    print(\"Model results validated and found to pass feasibility tests\")"
   ]
  },
  {
   "attachments": {},
   "cell_type": "markdown",
   "id": "fd9db17a",
   "metadata": {},
   "source": [
    "As before, we display the results:"
   ]
  },
  {
   "cell_type": "code",
   "execution_count": null,
   "id": "d5e15bb6",
   "metadata": {},
   "outputs": [],
   "source": [
    "# Display treatment results\n",
    "strategic_model.vb_y_Treatment.display()"
   ]
  },
  {
   "attachments": {},
   "cell_type": "markdown",
   "id": "045ec105",
   "metadata": {},
   "source": [
    "We see that the index of `('R01', 'MD', 'J1')` has a value of 1, indicating that the constraint we added is being respected - the optimizer has selected to build MD desalination technology at site R01 with the capacity that corresponds to the `J1` index.\n",
    "\n",
    "If we wish to re-solve the old version of the model, we can deactivate the constraint that we added: "
   ]
  },
  {
   "cell_type": "code",
   "execution_count": null,
   "id": "e0ec26be",
   "metadata": {},
   "outputs": [],
   "source": [
    "# Deactivate the added constraint\n",
    "strategic_model.ForceMdCon.deactivate()"
   ]
  },
  {
   "attachments": {},
   "cell_type": "markdown",
   "id": "861a5e3b",
   "metadata": {},
   "source": [
    "Adding additional constraints to the Pyomo model is currently not possible in PARETO's GUI interface. The ability to add and disable constraints in the model is a powerful feature of PARETO's Python interface, but it requires the user to know quite a bit about Pyomo and about the underlying structure of the strategic model."
   ]
  },
  {
   "attachments": {},
   "cell_type": "markdown",
   "id": "74a52c2e",
   "metadata": {},
   "source": [
    "## Conclusions\n",
    "We hope this demonstration of PARETO's strategic model has been helpful and informative. If you have any questions, comments, or feedback for the PARETO team, please do not hesitate to [contact us](https://www.project-pareto.org/team/contact-us/)."
   ]
  }
 ],
 "metadata": {
  "kernelspec": {
   "display_name": "Python 3",
   "language": "python",
   "name": "python3"
  },
  "language_info": {
   "codemirror_mode": {
    "name": "ipython",
    "version": 3
   },
   "file_extension": ".py",
   "mimetype": "text/x-python",
   "name": "python",
   "nbconvert_exporter": "python",
   "pygments_lexer": "ipython3",
   "version": "3.8.13"
  },
  "vscode": {
   "interpreter": {
    "hash": "5e7876e70967ac118b9c7cd30504736772a2e8d91d53008f870f7541cddd399c"
   }
  }
 },
 "nbformat": 4,
 "nbformat_minor": 5
}
