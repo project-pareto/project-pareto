{
 "cells": [
  {
   "cell_type": "markdown",
   "metadata": {},
   "source": [
    "# Continuous Recirculation Direct Contact Membrane Distillation Flowsheet"
   ]
  },
  {
   "cell_type": "markdown",
   "metadata": {},
   "source": [
    "<img src=\"MDflowsheet.png\" alt=\"Continuous recirculation MD flowsheet\" title=\"Continuous recirculation MD flowsheet\" width=\"300\"/>\n",
    "\n",
    "*Figure: Continuous recirculation MD flowsheet. Adapted from: Shamlou et al.,* <em>Desalination</em>, *2022.*"
   ]
  },
  {
   "cell_type": "markdown",
   "metadata": {},
   "source": [
    "Membrane Distillation (MD) is an emerging technology capable of treating highly saline wastewater, particularly relevant for handling hypersaline produced water. MD leverages a temperature gradient across a hydrophobic membrane to induce vapor pressure differences, facilitating the separation of clean water from a saline solution. The process operates at lower temperatures compared to traditional thermal desalination methods, making it well-suited for utilization of waste heat sources.\n",
    "\n",
    "This flowsheet simulates a single Direct Contact Membrane Distillation (DCMD) model operating in continuous recirculation mode to achieve high recoveries. This mode helps overcome the low single-pass recovery limitation of MD technologies, which is typically a maximum of 10%.\n",
    "\n",
    "The simulation includes an integrated external heat exchanger for heat recovery, optimizing energy use. The flowsheet encompasses:\n",
    "\n",
    "* An MD module for the distillation process.\n",
    "* A heater to preheat the recycle stream and makeup feed.\n",
    "* A chiller to cool the feed to the cold side of the membrane, ensuring efficient separation driving force and condensation.\n",
    "* An external heat exchanger to recover heat from the heated pure water in the cold loop and preheat the feed to the hot channel before it enters the heater.\n",
    "* Pumps, separators, and mixers are included to support the process flow and integration.\n",
    "\n",
    "To simulate the performance of treating produced water using Membrane Distillation (MD), this model approximates the properties of produced water with those of an NaCl solution. This approximation is for simplification and to leverage existing property packages, providing a basis for understanding the behavior and treatment efficacy of highly saline wastewater in MD systems.\n",
    "\n",
    "To run this Jupyter Notebook and utilize the associated flowsheet for the Membrane Distillation process simulation and optimization, it's necessary to have the WaterTAP package installed on your system. Detailed installation instructions can be found in the [WaterTAP documentation](https://watertap.readthedocs.io/en/latest/getting_started.html).\n",
    "\n",
    "To begin simulating our Membrane Distillation (MD) flowsheet, we first need to import the necessary libraries that enable the creation, manipulation, and analysis of our model."
   ]
  },
  {
   "cell_type": "code",
   "execution_count": null,
   "metadata": {},
   "outputs": [],
   "source": [
    "#####################################################################################################\n",
    "# PARETO was produced under the DOE Produced Water Application for Beneficial Reuse Environmental\n",
    "# Impact and Treatment Optimization (PARETO), and is copyright (c) 2021-2024 by the software owners:\n",
    "# The Regents of the University of California, through Lawrence Berkeley National Laboratory, et al.\n",
    "# All rights reserved.\n",
    "#\n",
    "# NOTICE. This Software was developed under funding from the U.S. Department of Energy and the U.S.\n",
    "# Government consequently retains certain rights. As such, the U.S. Government has been granted for\n",
    "# itself and others acting on its behalf a paid-up, nonexclusive, irrevocable, worldwide license in\n",
    "# the Software to reproduce, distribute copies to the public, prepare derivative works, and perform\n",
    "# publicly and display publicly, and to permit others to do so.\n",
    "#####################################################################################################\n",
    "\n",
    "from pareto.models_extra.desalination_models import (\n",
    "    MD_single_stage_continuous_recirculation as md_flow,\n",
    ")\n",
    "import ipywidgets as widgets\n",
    "from IPython.display import display"
   ]
  },
  {
   "cell_type": "markdown",
   "metadata": {},
   "source": [
    "Please execute the cell below to adjust the feed characteristics for the membrane distillation plant simulation. The interactive sliders allow you to tailor the salinity (kg/kg) and flowrate (kg/s) according to your specific requirements. "
   ]
  },
  {
   "cell_type": "code",
   "execution_count": null,
   "metadata": {},
   "outputs": [],
   "source": [
    "salinity_widget = widgets.FloatSlider(\n",
    "    value=0.035, min=0.01, max=0.15, step=0.005, description=\"Salinity:\"\n",
    ")\n",
    "flowrate_widget = widgets.FloatSlider(\n",
    "    value=1.0, min=0.1, max=10.0, step=0.1, description=\"Flowrate:\"\n",
    ")\n",
    "display(salinity_widget, flowrate_widget)"
   ]
  },
  {
   "cell_type": "markdown",
   "metadata": {},
   "source": [
    "Proceed to the next cell to configure the desired recovery rate for the membrane distillation process. The slider allows you to set the recovery target within practical limits, ensuring the concentration in the solution does not exceed the solubility limit of the solute. This adjustment is dynamically calculated based on your input for feed salinity from the previous step, safeguarding against supersaturation conditions.\n"
   ]
  },
  {
   "cell_type": "code",
   "execution_count": null,
   "metadata": {},
   "outputs": [],
   "source": [
    "recovery_widget = widgets.FloatSlider(\n",
    "    value=0.5,\n",
    "    min=0.1,\n",
    "    max=(1 - salinity_widget.value / 0.3),\n",
    "    step=0.1,\n",
    "    description=\"water recovery:\",\n",
    ")\n",
    "display(recovery_widget)"
   ]
  },
  {
   "cell_type": "markdown",
   "metadata": {},
   "source": [
    "Run the following cell to construct the simulation flowsheet utilizing your previously defined inputs for salinity, flowrate, and recovery. "
   ]
  },
  {
   "cell_type": "code",
   "execution_count": null,
   "metadata": {},
   "outputs": [],
   "source": [
    "# Function to run the flowsheet with user inputs\n",
    "def run_simulation(salinity, flowrate):\n",
    "    model = md_flow.build()\n",
    "    md_flow.set_operating_conditions(\n",
    "        model,\n",
    "        feed_flow_mass=flowrate,\n",
    "        feed_mass_frac_TDS=salinity,\n",
    "        overall_recovery=recovery_widget.value,\n",
    "    )\n",
    "    md_flow.initialize_system(model)\n",
    "    md_flow.optimize_set_up(model)\n",
    "    md_flow.solve(model)\n",
    "    return model"
   ]
  },
  {
   "cell_type": "markdown",
   "metadata": {},
   "source": [
    "Execute the upcoming cell to choose the specific results you wish to review following the simulation and optimization process."
   ]
  },
  {
   "cell_type": "code",
   "execution_count": null,
   "metadata": {},
   "outputs": [],
   "source": [
    "# Define checkboxes for selecting the results to display\n",
    "system_checkbox = widgets.Checkbox(value=False, description=\"Display System Results\")\n",
    "design_checkbox = widgets.Checkbox(value=False, description=\"Display Design Results\")\n",
    "detailed_cost_checkbox = widgets.Checkbox(\n",
    "    value=False, description=\"Display detailed cost Results\"\n",
    ")\n",
    "state_checkbox = widgets.Checkbox(value=False, description=\"Display State Results\")\n",
    "\n",
    "display(system_checkbox, detailed_cost_checkbox, design_checkbox, state_checkbox)"
   ]
  },
  {
   "cell_type": "markdown",
   "metadata": {},
   "source": [
    "Execute the following cell and then click on the \"Run Simulation\" button to initiate the simulation and optimization of the MD flowsheet. This action triggers the comprehensive analysis of the flowsheet based on your specified inputs."
   ]
  },
  {
   "cell_type": "code",
   "execution_count": null,
   "metadata": {},
   "outputs": [],
   "source": [
    "# Configuration for the \"Run Simulation\" button and its output handling\n",
    "run_button = widgets.Button(description=\"Run Simulation\")\n",
    "output = widgets.Output()\n",
    "\n",
    "\n",
    "def on_run_button_clicked(b):\n",
    "    with output:\n",
    "        output.clear_output()\n",
    "        model = run_simulation(salinity_widget.value, flowrate_widget.value)\n",
    "        # Display selected results based on checkboxes\n",
    "        if system_checkbox.value:\n",
    "            md_flow.display_system(model)\n",
    "        if design_checkbox.value:\n",
    "            md_flow.display_design(model)\n",
    "        if state_checkbox.value:\n",
    "            md_flow.display_state(model)\n",
    "        if detailed_cost_checkbox.value:\n",
    "            md_flow.display_detailed_costs(model)\n",
    "\n",
    "\n",
    "run_button.on_click(on_run_button_clicked)\n",
    "display(run_button, output)"
   ]
  },
  {
   "cell_type": "code",
   "execution_count": null,
   "metadata": {},
   "outputs": [],
   "source": []
  }
 ],
 "metadata": {
  "kernelspec": {
   "display_name": "Python 3 (ipykernel)",
   "language": "python",
   "name": "python3"
  },
  "language_info": {
   "codemirror_mode": {
    "name": "ipython",
    "version": 3
   },
   "file_extension": ".py",
   "mimetype": "text/x-python",
   "name": "python",
   "nbconvert_exporter": "python",
   "pygments_lexer": "ipython3",
   "version": "3.9.19"
  }
 },
 "nbformat": 4,
 "nbformat_minor": 4
}
