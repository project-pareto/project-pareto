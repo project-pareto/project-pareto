{
 "cells": [
  {
   "cell_type": "markdown",
   "id": "e89e1b65",
   "metadata": {},
   "source": [
    "# MEE-MVR desalination\n",
    "\n",
    "A multistage evaporator with mechanical vapor recompression has been modeled in Pyomo. This notebook demonstrates how to build the model, specify inlet conditions and obtain CAPEX and OPEX post optimization.\n",
    "The MEE-MVR model is taken from Onishi's 2017 paper on multi-effect evaporators [1].\n",
    "\n",
    "We will begin with the relevant imports:\n",
    "\n",
    "1) Pyomo for developing the model \n",
    "\n",
    "2) `degrees_of_freedom` from IDAES core to analyse the degrees of freedom\n",
    "\n",
    "3) `make_mee_mvr_model` from PARETO\n",
    "\n",
    "[1] V. C. Onishi, et.al. “Shale gas flowback water desalination: Single vs multiple effect evaporation with vapor recompression cycle and thermal integration,” Desalination, vol. 404, pp. 230–248, Feb. 2017"
   ]
  },
  {
   "cell_type": "code",
   "execution_count": null,
   "id": "d2469dd8",
   "metadata": {},
   "outputs": [],
   "source": [
    "#####################################################################################################\n",
    "# PARETO was produced under the DOE Produced Water Application for Beneficial Reuse Environmental\n",
    "# Impact and Treatment Optimization (PARETO), and is copyright (c) 2021-2024 by the software owners:\n",
    "# The Regents of the University of California, through Lawrence Berkeley National Laboratory, et al.\n",
    "# All rights reserved.\n",
    "#\n",
    "# NOTICE. This Software was developed under funding from the U.S. Department of Energy and the U.S.\n",
    "# Government consequently retains certain rights. As such, the U.S. Government has been granted for\n",
    "# itself and others acting on its behalf a paid-up, nonexclusive, irrevocable, worldwide license in\n",
    "# the Software to reproduce, distribute copies to the public, prepare derivative works, and perform\n",
    "# publicly and display publicly, and to permit others to do so.\n",
    "#####################################################################################################\n",
    "\n",
    "import pyomo.environ as pyo\n",
    "from idaes.core.util.model_statistics import degrees_of_freedom\n",
    "from pareto.models_extra.desalination_models.mee_mvr import make_mee_mvr_model"
   ]
  },
  {
   "cell_type": "markdown",
   "id": "47965656",
   "metadata": {},
   "source": [
    "The inputs to the MEE-MVR process are:\n",
    "\n",
    "1) `N_evap` - An integer indicating the number of evaporator stages (default = 1)\n",
    "\n",
    "2) `inputs_variables` - A boolean indicating if the feed and salinity to the desalination unit are modeled as variables or parameters (the default value of False corresponds to parameters)\n",
    "\n",
    "In this notebook, we will always assume our inputs are parameters (`inputs_variables` = False). "
   ]
  },
  {
   "cell_type": "code",
   "execution_count": null,
   "id": "28012afe",
   "metadata": {},
   "outputs": [],
   "source": [
    "N_evap = 1\n",
    "m = make_mee_mvr_model(N_evap=N_evap, inputs_variables=False)"
   ]
  },
  {
   "cell_type": "markdown",
   "id": "0c67e751",
   "metadata": {},
   "source": [
    "To specify the inlet feed flow and salinity, we set the flow_feed and salt_feed to the desired values. In this example we set feed flowrate to 10 kg/s and feed salinity to 100 g/kg."
   ]
  },
  {
   "cell_type": "code",
   "execution_count": null,
   "id": "6e07c3eb",
   "metadata": {},
   "outputs": [],
   "source": [
    "m.flow_feed = 10\n",
    "m.salt_feed = 100"
   ]
  },
  {
   "cell_type": "markdown",
   "id": "aedd6a15",
   "metadata": {},
   "source": [
    "Parameters such as the feed temperature, outlet specification of brine stream and the maximum compression ratio of the compressor can be user defined. \n",
    "In this case the feed temperature is set to 25 C and concentration of the brine stream is set to 250 g/kg and maximum compression ratio is 4."
   ]
  },
  {
   "cell_type": "code",
   "execution_count": null,
   "id": "7f09cb63",
   "metadata": {},
   "outputs": [],
   "source": [
    "m.feed_temperature = 25\n",
    "m.salt_outlet_spec = 250\n",
    "m.CR_max = 4"
   ]
  },
  {
   "cell_type": "markdown",
   "id": "7ebd2d08",
   "metadata": {},
   "source": [
    "The number of degrees of freedom can be checked using the `degrees_of_freedom` function in IDAES."
   ]
  },
  {
   "cell_type": "code",
   "execution_count": null,
   "id": "104219f7",
   "metadata": {},
   "outputs": [],
   "source": [
    "print(\"DOF = \", degrees_of_freedom(m))"
   ]
  },
  {
   "cell_type": "markdown",
   "id": "ec34afa1",
   "metadata": {},
   "source": [
    "The MEE-MVR model has 2 degrees of freedom. We will first fix these two degrees of freedom to run a simulation. The evaporator area is fixed to 300 sq. meter and compressor capacity is fixed to 2000 hp."
   ]
  },
  {
   "cell_type": "code",
   "execution_count": null,
   "id": "68435fd0",
   "metadata": {},
   "outputs": [],
   "source": [
    "m.each_evaporator_area[0].fix(300)\n",
    "m.compressor_capacity.fix(2000)\n",
    "print(\"DOF = \", degrees_of_freedom(m))"
   ]
  },
  {
   "cell_type": "markdown",
   "id": "3f5a41c5",
   "metadata": {},
   "source": [
    "# Solving the simulation\n",
    "We will use the open source non-linear solver IPOPT available through Pyomo. The following block instantiates IPOPT and solves the MEE-MVR simulation"
   ]
  },
  {
   "cell_type": "code",
   "execution_count": null,
   "id": "3a951902",
   "metadata": {
    "scrolled": true
   },
   "outputs": [],
   "source": [
    "ipopt = pyo.SolverFactory(\"ipopt\")\n",
    "ipopt.solve(m, tee=True)"
   ]
  },
  {
   "cell_type": "markdown",
   "id": "b5c73824",
   "metadata": {},
   "source": [
    "The objective value can be obtained from the solved model. "
   ]
  },
  {
   "cell_type": "code",
   "execution_count": null,
   "id": "9395045c",
   "metadata": {},
   "outputs": [],
   "source": [
    "print(\"Objective function =\", pyo.value(m.obj))\n",
    "print(\"preheater area = \", pyo.value(m.preheater_area))"
   ]
  },
  {
   "cell_type": "markdown",
   "id": "6c9ebf90",
   "metadata": {},
   "source": [
    "# Optimization\n",
    "Now we unfix the degrees of freedom to solve the optimization problem. We will minimize the total annualized cost and let the optimizer decide the optimal evaporator area, and compressor capacity"
   ]
  },
  {
   "cell_type": "code",
   "execution_count": null,
   "id": "4c07172b",
   "metadata": {
    "scrolled": true
   },
   "outputs": [],
   "source": [
    "m.each_evaporator_area[0].unfix()\n",
    "m.compressor_capacity.unfix()\n",
    "print(\"DOF = \", degrees_of_freedom(m))\n",
    "ipopt.solve(m, tee=True)"
   ]
  },
  {
   "cell_type": "code",
   "execution_count": null,
   "id": "948235be",
   "metadata": {
    "scrolled": true
   },
   "outputs": [],
   "source": [
    "print(\"Objective function = \", pyo.value(m.obj))\n",
    "print(\"preheater area = \", pyo.value(m.preheater_area))\n",
    "print(\"Evaporator area = \", pyo.value(m.each_evaporator_area[0]))\n",
    "print(\"Compressor capacity = \", pyo.value(m.compressor_capacity))"
   ]
  }
 ],
 "metadata": {
  "kernelspec": {
   "display_name": "Python 3 (ipykernel)",
   "language": "python",
   "name": "python3"
  },
  "language_info": {
   "codemirror_mode": {
    "name": "ipython",
    "version": 3
   },
   "file_extension": ".py",
   "mimetype": "text/x-python",
   "name": "python",
   "nbconvert_exporter": "python",
   "pygments_lexer": "ipython3",
   "version": "3.8.18"
  }
 },
 "nbformat": 4,
 "nbformat_minor": 5
}
