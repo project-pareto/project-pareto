{
 "cells": [
  {
   "cell_type": "markdown",
   "id": "96b64638",
   "metadata": {},
   "source": [
    "## Integrating rigorous desalination models into network optimization\n",
    "It is often desired to design a desalination plant at a certain desalination site in the network. However, it is not clear what the optimal design and operation of the plant should be. In this notebook we show how to co-optimize the network operation and desalination design by using the integrated optimization model available in PARETO. \n",
    "\n",
    "First we import the necessary utilities to read the network data, the function to build the integrated model with MEE-MVR as the desalination model choice (`integrated_model_build`) and the Pyomo package."
   ]
  },
  {
   "cell_type": "code",
   "execution_count": null,
   "id": "4df76bda",
   "metadata": {},
   "outputs": [],
   "source": [
    "#####################################################################################################\n",
    "# PARETO was produced under the DOE Produced Water Application for Beneficial Reuse Environmental\n",
    "# Impact and Treatment Optimization (PARETO), and is copyright (c) 2021-2024 by the software owners:\n",
    "# The Regents of the University of California, through Lawrence Berkeley National Laboratory, et al.\n",
    "# All rights reserved.\n",
    "#\n",
    "# NOTICE. This Software was developed under funding from the U.S. Department of Energy and the U.S.\n",
    "# Government consequently retains certain rights. As such, the U.S. Government has been granted for\n",
    "# itself and others acting on its behalf a paid-up, nonexclusive, irrevocable, worldwide license in\n",
    "# the Software to reproduce, distribute copies to the public, prepare derivative works, and perform\n",
    "# publicly and display publicly, and to permit others to do so.\n",
    "#####################################################################################################\n",
    "\n",
    "from importlib import resources\n",
    "from pareto.utilities.get_data import get_data\n",
    "from pareto.models_extra.CM_module.cm_utils.data_parser import data_parser\n",
    "from pareto.models_extra.integrate_desal.integrated_models.integrated_optimization_mvr import (\n",
    "    integrated_model_build,\n",
    ")\n",
    "import pyomo.environ as pyo"
   ]
  },
  {
   "cell_type": "markdown",
   "id": "0b098ee9",
   "metadata": {},
   "source": [
    "Importing network data"
   ]
  },
  {
   "cell_type": "code",
   "execution_count": null,
   "id": "7cbb003f",
   "metadata": {},
   "outputs": [],
   "source": [
    "with resources.path(\n",
    "    \"pareto.models_extra.CM_module.case_studies\",\n",
    "    \"CM_integrated_desalination_demo.xlsx\",\n",
    ") as fpath:\n",
    "    [df_sets, df_parameters] = get_data(fpath, model_type=\"critical_mineral\")\n",
    "\n",
    "    network_data = data_parser(df_sets, df_parameters)"
   ]
  },
  {
   "cell_type": "markdown",
   "id": "4cff38a0",
   "metadata": {},
   "source": [
    "Along with network data the integrated model inputs a dictionary with the name of the site at which the desalination unit needs to be built and the corresponding number of evaporator stages that need to be built at that site. For example if at site \"R01_IN\" we want to build an MEE-MVR unit consisting of a single evaporator stage, the dictionary will be: {\"R01\":1}\n",
    "\n",
    "For more information on MEE-MVR desalination please refer to the [mee_mvr_jupyter_notebook](../desalination_jupyter_notebooks/mee_mvr_jupyter_notebook.ipynb). "
   ]
  },
  {
   "cell_type": "code",
   "execution_count": null,
   "id": "fba6a38c",
   "metadata": {},
   "outputs": [],
   "source": [
    "desalination_dict = {\"R01_IN\": 1}"
   ]
  },
  {
   "cell_type": "markdown",
   "id": "6ad9975e",
   "metadata": {},
   "source": [
    "Now we will build the integrated model using the network data and the desalination dictionary"
   ]
  },
  {
   "cell_type": "code",
   "execution_count": null,
   "id": "5f7bea3e",
   "metadata": {},
   "outputs": [],
   "source": [
    "m = integrated_model_build(network_data, treatment_dict={\"R01_IN\": 1})"
   ]
  },
  {
   "cell_type": "markdown",
   "id": "66b089aa",
   "metadata": {},
   "source": [
    "# Solving the integrated model\n",
    "Now we import IPOPT - a non-linear programming solver from the `SolverFactory` available with Pyomo to solve the integrated model."
   ]
  },
  {
   "cell_type": "code",
   "execution_count": null,
   "id": "935eb62c",
   "metadata": {
    "scrolled": true
   },
   "outputs": [],
   "source": [
    "ipopt = pyo.SolverFactory(\"ipopt\")\n",
    "ipopt.options[\"mu_init\"] = 1e-6\n",
    "ipopt.options[\"bound_push\"] = 1e-6\n",
    "ipopt.solve(m, tee=True)"
   ]
  },
  {
   "cell_type": "markdown",
   "id": "8efd798c",
   "metadata": {},
   "source": [
    "# Results\n",
    "Now that the model is solved, we can obtain the results of our optimization problem. In this case we show how to obtain the various optimal network costs and optimal desalination CAPEX and OPEX"
   ]
  },
  {
   "cell_type": "code",
   "execution_count": null,
   "id": "5866159f",
   "metadata": {
    "scrolled": true
   },
   "outputs": [],
   "source": [
    "print(\"=================================================================\")\n",
    "print(\"#########            Costing Variables (USD)        #############\")\n",
    "print(\"=================================================================\")\n",
    "print(\"Piping cost\")\n",
    "print(pyo.value(m.m_network.arc_cost))\n",
    "print(\"=================================================================\")\n",
    "print(\"Disposal cost\")\n",
    "print(pyo.value(m.m_network.disp_cost))\n",
    "print(\"=================================================================\")\n",
    "print(\"Fresh water cost\")\n",
    "print(pyo.value(m.m_network.fresh_cost))\n",
    "print(\"=================================================================\")\n",
    "print(\"Storage Cost\")\n",
    "print(pyo.value(m.m_network.stor_cost))\n",
    "print(\"=================================================================\")\n",
    "print(\"Storage reward\")\n",
    "print(pyo.value(m.m_network.stor_rev))\n",
    "print(\"=================================================================\")\n",
    "print(\"Treatment reward\")\n",
    "print(pyo.value(m.m_network.treat_rev))\n",
    "print(\"=================================================================\")\n",
    "print(\"Treatment cost - OPEX\")\n",
    "print(\n",
    "    1000\n",
    "    * pyo.value(\n",
    "        sum(\n",
    "            sum(m.OPEX[s, t] / 365 * m.m_network.p_dt for t in m.m_network.s_T)\n",
    "            for s in m.m_network.desalination_nodes\n",
    "        )\n",
    "    )\n",
    ")\n",
    "print(\"Treatment cost - CAPEX\")\n",
    "print(\n",
    "    1000\n",
    "    * pyo.value(\n",
    "        sum(m.CAPEX[s] for s in m.m_network.desalination_nodes)\n",
    "        / 365\n",
    "        * m.m_network.p_dt\n",
    "        * len(m.m_network.s_T)\n",
    "    )\n",
    ")\n",
    "print(\"=================================================================\")"
   ]
  },
  {
   "cell_type": "markdown",
   "id": "d2e584ed",
   "metadata": {},
   "source": [
    "# Obtaining optimal MEE-MVR unit design\n",
    "If the user wants to obtain the corresponding optimal desalination design, it can be done by using `backcalculate_mvr_design`"
   ]
  },
  {
   "cell_type": "code",
   "execution_count": null,
   "id": "bbfb8a9f",
   "metadata": {},
   "outputs": [],
   "source": [
    "from pareto.models_extra.integrate_desal.integrated_models.backcalculate_mvr_design import (\n",
    "    back_calculate_design,\n",
    ")"
   ]
  },
  {
   "cell_type": "code",
   "execution_count": null,
   "id": "5f275b62",
   "metadata": {
    "scrolled": true
   },
   "outputs": [],
   "source": [
    "back_calculate_design(m, treatment_dict=desalination_dict)"
   ]
  }
 ],
 "metadata": {
  "kernelspec": {
   "display_name": "Python 3 (ipykernel)",
   "language": "python",
   "name": "python3"
  },
  "language_info": {
   "codemirror_mode": {
    "name": "ipython",
    "version": 3
   },
   "file_extension": ".py",
   "mimetype": "text/x-python",
   "name": "python",
   "nbconvert_exporter": "python",
   "pygments_lexer": "ipython3",
   "version": "3.9.19"
  }
 },
 "nbformat": 4,
 "nbformat_minor": 5
}
