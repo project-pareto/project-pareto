{
 "cells": [
  {
   "cell_type": "markdown",
   "id": "d5e846f8",
   "metadata": {},
   "source": [
    "## Integrating rigorous desalination models into network optimization\n",
    "It is often desired to design a desalination plant at a certain desalination site in the network. However, it is not clear what the optimal design and operation of the plant should be. In this notebook we show how to co-optimize the network operation and desalination design by using the integrated optimization model available in PARETO. \n",
    "\n",
    "First we import the necessary utilities to read the network data, the function to build the integrated model with MD (Membrane Distillation) as the desalination model choice (`integrated_model_build`) and the Pyomo package."
   ]
  },
  {
   "cell_type": "code",
   "execution_count": null,
   "id": "7fc4dc81",
   "metadata": {},
   "outputs": [],
   "source": [
    "#####################################################################################################\n",
    "# PARETO was produced under the DOE Produced Water Application for Beneficial Reuse Environmental\n",
    "# Impact and Treatment Optimization (PARETO), and is copyright (c) 2021-2024 by the software owners:\n",
    "# The Regents of the University of California, through Lawrence Berkeley National Laboratory, et al.\n",
    "# All rights reserved.\n",
    "#\n",
    "# NOTICE. This Software was developed under funding from the U.S. Department of Energy and the U.S.\n",
    "# Government consequently retains certain rights. As such, the U.S. Government has been granted for\n",
    "# itself and others acting on its behalf a paid-up, nonexclusive, irrevocable, worldwide license in\n",
    "# the Software to reproduce, distribute copies to the public, prepare derivative works, and perform\n",
    "# publicly and display publicly, and to permit others to do so.\n",
    "#####################################################################################################\n",
    "\n",
    "from importlib import resources\n",
    "from pareto.utilities.get_data import get_data\n",
    "from pareto.models_extra.CM_module.cm_utils.data_parser import data_parser\n",
    "from pareto.models_extra.integrate_desal.integrated_models.integrated_optimization_md import (\n",
    "    integrated_model_build,\n",
    ")\n",
    "import pyomo.environ as pyo"
   ]
  },
  {
   "cell_type": "markdown",
   "id": "37fc8b36",
   "metadata": {},
   "source": [
    "Importing network data"
   ]
  },
  {
   "cell_type": "code",
   "execution_count": null,
   "id": "4f0c3155",
   "metadata": {},
   "outputs": [],
   "source": [
    "with resources.path(\n",
    "    \"pareto.models_extra.CM_module.case_studies\",\n",
    "    \"CM_integrated_desalination_demo.xlsx\",\n",
    ") as fpath:\n",
    "    [df_sets, df_parameters] = get_data(fpath, model_type=\"critical_mineral\")\n",
    "\n",
    "    network_data = data_parser(df_sets, df_parameters)"
   ]
  },
  {
   "cell_type": "markdown",
   "id": "5ff3c305",
   "metadata": {},
   "source": [
    "Along with network data the integrated model inputs a dictionary with the name of the site at which the desalination unit needs to be built and the technology - MD in this case "
   ]
  },
  {
   "cell_type": "code",
   "execution_count": null,
   "id": "6f287dc4",
   "metadata": {},
   "outputs": [],
   "source": [
    "desalination_dict = {\"R01_IN\": \"MD\"}"
   ]
  },
  {
   "cell_type": "markdown",
   "id": "f82bcb33",
   "metadata": {},
   "source": [
    "Now we will build the integrated model using the network data and the desalination dictionary. The model initializes the network and desalination units. It takes several seconds to initialize in this case."
   ]
  },
  {
   "cell_type": "code",
   "execution_count": null,
   "id": "c6beea3c",
   "metadata": {},
   "outputs": [],
   "source": [
    "m = integrated_model_build(network_data, treatment_dict=desalination_dict)"
   ]
  },
  {
   "cell_type": "markdown",
   "id": "6dc18609",
   "metadata": {},
   "source": [
    "# Solving the integrated model\n",
    "Now we import IPOPT - a non-linear programming solver from the `SolverFactory` available with Pyomo to solve the integrated model."
   ]
  },
  {
   "cell_type": "code",
   "execution_count": null,
   "id": "21a70651",
   "metadata": {
    "scrolled": true
   },
   "outputs": [],
   "source": [
    "ipopt = pyo.SolverFactory(\"ipopt\")\n",
    "ipopt.options[\"mu_init\"] = 1e-6\n",
    "ipopt.options[\"bound_push\"] = 1e-6\n",
    "ipopt.solve(m, tee=True)"
   ]
  },
  {
   "cell_type": "markdown",
   "id": "871ffa76",
   "metadata": {},
   "source": [
    "# Results\n",
    "Now that the model is solved, we can obtain the results of our optimization problem. In this case we show how to obtain the various optimal network costs and optimal desalination CAPEX and OPEX"
   ]
  },
  {
   "cell_type": "code",
   "execution_count": null,
   "id": "f0a60184",
   "metadata": {
    "scrolled": true
   },
   "outputs": [],
   "source": [
    "print(\"=================================================================\")\n",
    "print(\"#########            Costing Variables (USD)        #############\")\n",
    "print(\"=================================================================\")\n",
    "print(\"Piping cost\")\n",
    "print(pyo.value(m.m_network.arc_cost))\n",
    "print(\"=================================================================\")\n",
    "print(\"Disposal cost\")\n",
    "print(pyo.value(m.m_network.disp_cost))\n",
    "print(\"=================================================================\")\n",
    "print(\"Fresh water cost\")\n",
    "print(pyo.value(m.m_network.fresh_cost))\n",
    "print(\"=================================================================\")\n",
    "print(\"Storage Cost\")\n",
    "print(pyo.value(m.m_network.stor_cost))\n",
    "print(\"=================================================================\")\n",
    "print(\"Storage reward\")\n",
    "print(pyo.value(m.m_network.stor_rev))\n",
    "print(\"=================================================================\")\n",
    "print(\"Treatment reward\")\n",
    "print(pyo.value(m.m_network.treat_rev))\n",
    "print(\"=================================================================\")\n",
    "print(\"Treatment cost - OPEX\")\n",
    "print(\n",
    "    pyo.value(\n",
    "        sum(\n",
    "            sum(m.OPEX[s, t] / 365 * m.m_network.p_dt for t in m.m_network.s_T)\n",
    "            for s in m.m_network.desalination_nodes\n",
    "        )\n",
    "    )\n",
    ")\n",
    "print(\"Treatment cost - CAPEX\")\n",
    "print(\n",
    "    pyo.value(\n",
    "        sum(m.CAPEX[s] for s in m.m_network.desalination_nodes)\n",
    "        / 365\n",
    "        * m.m_network.p_dt\n",
    "        * len(m.m_network.s_T)\n",
    "    )\n",
    ")\n",
    "print(\"=================================================================\")"
   ]
  }
 ],
 "metadata": {
  "kernelspec": {
   "display_name": "Python 3 (ipykernel)",
   "language": "python",
   "name": "python3"
  },
  "language_info": {
   "codemirror_mode": {
    "name": "ipython",
    "version": 3
   },
   "file_extension": ".py",
   "mimetype": "text/x-python",
   "name": "python",
   "nbconvert_exporter": "python",
   "pygments_lexer": "ipython3",
   "version": "3.9.19"
  }
 },
 "nbformat": 4,
 "nbformat_minor": 5
}
