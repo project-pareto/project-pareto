{
 "cells": [
  {
   "cell_type": "markdown",
   "id": "748f43ad",
   "metadata": {},
   "source": [
    "# PARETO - Strategic Model Demo\n",
    "The purpose of this Jupyter notebook is to provide a demonstration of PARETO's strategic model. This demo will show how to use PARETO's Python coding interface. If you prefer a graphical interface, you can download the PARETO GUI [here](https://www.project-pareto.org/software/)."
   ]
  },
  {
   "attachments": {},
   "cell_type": "markdown",
   "id": "d2a6851f",
   "metadata": {},
   "source": [
    "## Introduction\n",
    "This demo is based on PARETO's strategic toy case study. Relevant links:\n",
    "- [Strategic model documentation](https://pareto.readthedocs.io/en/latest/model_library/strategic_water_management/index.html)\n",
    "- [Documentation of PARETO case studies](https://pareto.readthedocs.io/en/latest/case_studies/index.html)\n",
    "\n",
    "The strategic toy case study features a very small produced water network. This network is smaller than most realistic produced water networks, but the small size of this example makes it useful for testing, debugging, demonstrations, etc. Below is a schematic image of the strategic toy network:\n",
    "\n",
    "![Strategic toy case study network](strategic_toy_network.png)\n",
    "\n",
    "Please note that the strategic toy case study data is arbitrary, but meant to be representative of a real produced water network. We will now proceed with demonstrating all of the steps that are needed to set up and solve an instance of PARETO's strategic model.\n",
    "\n",
    "The rest of this demonstration will proceed in six steps:\n",
    "1. [Import needed files and libraries](#import)\n",
    "2. [Set up the set list and parameter list](#set_list_and_parameter_list)\n",
    "3. [Load data into Python](#load_data)\n",
    "4. [Build the Pyomo model](#build)\n",
    "5. [Solve the model](#solve)\n",
    "6. [Analyze results](#analyze)\n",
    "\n",
    "Note that PARETO includes a file called `run_strategic_model.py` which is a ready-to-go script that can be used to run a PARETO case study with default options. The steps which are described in this notebook are essentially the same as those that are used in `run_strategic_model.py`."
   ]
  },
  {
   "cell_type": "markdown",
   "id": "3e0f7b56",
   "metadata": {},
   "source": [
    "## <a id='import'></a>Step 1: Import needed files and libraries\n",
    "To begin, ensure that you are working in a development environment where PARETO is installed. For example, if you followed the PARETO [installation instructions](https://pareto.readthedocs.io/en/latest/getting_started/index.html) to create a conda environment called `pareto-env`, then make sure that environment is active by running `conda activate pareto-env`.\n",
    "\n",
    "The first thing we do in Python is import all necessary modules and functions:"
   ]
  },
  {
   "cell_type": "code",
   "execution_count": null,
   "id": "1a3eced9",
   "metadata": {},
   "outputs": [],
   "source": [
    "#####################################################################################################\n",
    "# PARETO was produced under the DOE Produced Water Application for Beneficial Reuse Environmental\n",
    "# Impact and Treatment Optimization (PARETO), and is copyright (c) 2021-2023 by the software owners:\n",
    "# The Regents of the University of California, through Lawrence Berkeley National Laboratory, et al.\n",
    "# All rights reserved.\n",
    "#\n",
    "# NOTICE. This Software was developed under funding from the U.S. Department of Energy and the U.S.\n",
    "# Government consequently retains certain rights. As such, the U.S. Government has been granted for\n",
    "# itself and others acting on its behalf a paid-up, nonexclusive, irrevocable, worldwide license in\n",
    "# the Software to reproduce, distribute copies to the public, prepare derivative works, and perform\n",
    "# publicly and display publicly, and to permit others to do so.\n",
    "#####################################################################################################\n",
    "\n",
    "from pareto.strategic_water_management.strategic_produced_water_optimization import (\n",
    "    WaterQuality,\n",
    "    RemovalEfficiencyMethod,\n",
    "    create_model,\n",
    "    Objectives,\n",
    "    solve_model,\n",
    "    PipelineCost,\n",
    "    PipelineCapacity,\n",
    ")\n",
    "from pareto.utilities.get_data import get_data\n",
    "from pareto.utilities.results import (\n",
    "    plot_bars,\n",
    "    plot_sankey,\n",
    "    generate_report,\n",
    "    PrintValues,\n",
    "    OutputUnits,\n",
    "    is_feasible,\n",
    "    nostdout,\n",
    ")\n",
    "from importlib import resources"
   ]
  },
  {
   "cell_type": "markdown",
   "id": "7a465614",
   "metadata": {},
   "source": [
    "## <a id='set_list_and_parameter_list'></a>Step 2: Set up the set list and parameter list\n",
    "The data defining the produced water network is stored in an Excel workbook (often referred to as the \"input file\"). Some of the tabs in the input file define index sets for the model, whereas other tabs contain the parameter data that will used to build the model.\n",
    "\n",
    "A rather large amount of data must be provided by the user. We will not attempt to summarize all of the data input requirements here, but we refer the reader to the [strategic model documentation](https://pareto.readthedocs.io/en/latest/model_library/strategic_water_management/index.html) to learn more. You can also download several example input files from GitHub [here](https://github.com/project-pareto/project-pareto/tree/main/pareto/case_studies). Note that `strategic_toy_case_study.xlsx` is the input file which will be used in this demo."
   ]
  },
  {
   "cell_type": "code",
   "execution_count": null,
   "id": "212241c1",
   "metadata": {},
   "outputs": [],
   "source": [
    "# Each entry in set_list corresponds to a tab in the Excel input file that\n",
    "# defines an index set.\n",
    "set_list = [\n",
    "    \"ProductionPads\", \"CompletionsPads\", \"SWDSites\", \"FreshwaterSources\", \"StorageSites\",\n",
    "    \"TreatmentSites\", \"ReuseOptions\", \"NetworkNodes\", \"PipelineDiameters\", \"StorageCapacities\",\n",
    "    \"InjectionCapacities\", \"TreatmentCapacities\", \"TreatmentTechnologies\",\n",
    "]\n",
    "# Each entry in parameter_list also corresponds to a tab in the Excel input\n",
    "# file, but these tabs have parameter data.\n",
    "parameter_list = [\n",
    "    \"Units\", \"PNA\", \"CNA\", \"CCA\", \"NNA\", \"NCA\", \"NKA\", \"NRA\", \"NSA\", \"FCA\", \"RCA\", \"RNA\",\n",
    "    \"RSA\", \"SCA\", \"SNA\", \"PCT\", \"PKT\", \"FCT\", \"CST\", \"CCT\", \"CKT\", \"CompletionsPadOutsideSystem\",\n",
    "    \"DesalinationTechnologies\", \"DesalinationSites\", \"TruckingTime\", \"CompletionsDemand\",\n",
    "    \"PadRates\", \"FlowbackRates\", \"NodeCapacities\", \"InitialPipelineCapacity\",\n",
    "    \"InitialDisposalCapacity\", \"InitialTreatmentCapacity\", \"FreshwaterSourcingAvailability\",\n",
    "    \"PadOffloadingCapacity\", \"CompletionsPadStorage\", \"DisposalOperationalCost\",\n",
    "    \"TreatmentOperationalCost\", \"ReuseOperationalCost\", \"PipelineOperationalCost\",\n",
    "    \"FreshSourcingCost\", \"TruckingHourlyCost\", \"PipelineDiameterValues\",\n",
    "    \"DisposalCapacityIncrements\", \"InitialStorageCapacity\", \"StorageCapacityIncrements\",\n",
    "    \"TreatmentCapacityIncrements\", \"TreatmentEfficiency\", \"RemovalEfficiency\",\n",
    "    \"DisposalExpansionCost\", \"StorageExpansionCost\", \"TreatmentExpansionCost\",\n",
    "    \"PipelineCapexDistanceBased\", \"PipelineCapexCapacityBased\", \"PipelineCapacityIncrements\",\n",
    "    \"PipelineExpansionDistance\", \"Hydraulics\", \"Economics\", \"PadWaterQuality\",\n",
    "    \"StorageInitialWaterQuality\", \"PadStorageInitialWaterQuality\", \"DisposalOperatingCapacity\",\n",
    "]"
   ]
  },
  {
   "cell_type": "markdown",
   "id": "a8c0f427",
   "metadata": {},
   "source": [
    "## <a id='load_data'></a>Step 3: Load data into Python\n",
    "PARETO's `get_data` utility function ([documentation](https://pareto.readthedocs.io/en/latest/utilities/Get_Data.html#get-data-get-data)) called below reads the data from the input file into the `df_sets` and `df_parameters` variables. The variables `df_sets` and `df_parameters` which are returned are dictionaries where the keys are the strings from `set_list` and `parameter_list`, respectively, and the values are either dictionaries or Pandas dataframe objects containing the data read from the corresponding workbook tab."
   ]
  },
  {
   "cell_type": "code",
   "execution_count": null,
   "id": "532d2bf2",
   "metadata": {},
   "outputs": [],
   "source": [
    "# Load data from Excel input file into Python\n",
    "with resources.path(\n",
    "    \"pareto.case_studies\",\n",
    "    \"strategic_toy_case_study.xlsx\",\n",
    ") as fpath:\n",
    "    [df_sets, df_parameters] = get_data(fpath, set_list, parameter_list)"
   ]
  },
  {
   "cell_type": "markdown",
   "id": "714e6966",
   "metadata": {},
   "source": [
    "### Step 3.1 (optional): Display input data\n",
    "A simple way to view the input data is to print members from `df_sets` and `df_parameters`:"
   ]
  },
  {
   "cell_type": "code",
   "execution_count": null,
   "id": "d5512dff",
   "metadata": {},
   "outputs": [],
   "source": [
    "print(\"------- Production pads -------\")\n",
    "print(type(df_sets[\"ProductionPads\"]))\n",
    "print(df_sets[\"ProductionPads\"])\n",
    "\n",
    "print(\"\\n------- Completions demand -------\")\n",
    "print(type(df_parameters[\"CompletionsDemand\"]))\n",
    "print(df_parameters[\"CompletionsDemand\"])\n",
    "\n",
    "print(\"\\n------- Desalination technologies -------\")\n",
    "print(type(df_parameters[\"DesalinationTechnologies\"]))\n",
    "print(df_parameters[\"DesalinationTechnologies\"])"
   ]
  },
  {
   "cell_type": "markdown",
   "id": "7b0bd94d",
   "metadata": {},
   "source": [
    "PARETO's `plot_bars` function ([documentation](https://pareto.readthedocs.io/en/latest/utilities/Results.html#plot-bars)) can be used to create bar charts. If the plotted variable is indexed by time, then a dynamic, animated chart is created:"
   ]
  },
  {
   "cell_type": "code",
   "execution_count": null,
   "id": "e9f3f975",
   "metadata": {},
   "outputs": [],
   "source": [
    "input_data = {\"pareto_var\": df_parameters[\"PadRates\"],\n",
    "              \"labels\": [(\"Production pad\", \"Time\", \"Production forecast (bbl/day)\")],\n",
    "             }\n",
    "args = {\"plot_title\": \"Production forecast\",\n",
    "        \"output_file\": \"demo_bar.html\",\n",
    "        \"print_data\": False,\n",
    "        \"jupyter_notebook\": True,  # setting this option to True causes the bar chart to appear in the Jupyter notebook\n",
    "       }\n",
    "plot_bars(input_data, args)"
   ]
  },
  {
   "cell_type": "markdown",
   "id": "9deb75a3",
   "metadata": {},
   "source": [
    "## <a id='build'></a>Step 4: Build the Pyomo model\n",
    "PARETO's `create_model` function called below uses the [Pyomo](http://www.pyomo.org/) modeling language to build a mathematical model of the produced water network. There are five different settings which can be specified for building the model:"
   ]
  },
  {
   "attachments": {},
   "cell_type": "markdown",
   "id": "d0388cc3",
   "metadata": {},
   "source": [
    "| Setting | Possible values (default in *italics*) |\n",
    "| :- | :- |\n",
    "| `objective` | *`Objectives.cost`* - minimize the total annualized cost of produced water management over the decision horizon<br><br>`Objectives.reuse` - maximuze the amount of produced water that is reused over the decision horizon |\n",
    "| `pipeline_cost` | *`PipelineCost.capacity_based`* - use pipeline capacities and rate in [currency/volume] to calculate pipeline CAPEX costs<br><br>`PipelineCost.distance_based` - use pipeline distances and rate in [currency/(diameter-distance)] to calculate pipeline CAPEX costs |\n",
    "| `pipeline_capacity` | *`PipelineCapacity.input`* - flow capacity for each pipe diameter is provided by the user<br><br>`PipelineCapacity.calculate` - flow capacity for each pipe diameter is calculated based on the diameter and provided pipe hydraulics data |\n",
    "| `node_capacity` | *`True`* - include upper bound on network node flow capacity <br><br>`False` - exclude upper bound on network node flow capacity |\n",
    "| `water_quality` | *`WaterQuality.post_process`* - calculate water quality throughout the network post-optimization<br><br>`WaterQuality.false` - exclude any water quality calculations from the model<br><br>`WaterQuality.discrete` - discretize the water quality variables to include in the optimization model |\n",
    "| `removal_efficiency_method` | `RemovalEfficiencyMethod.load_based` - treatment component removal efficiency is based on the total load of quality components<br><br>*`RemovalEfficiencyMethod.concentration_based`* - treatment component removal efficiency is based on concentration reduction <br><br>NOTE: The choice for `removal_efficiency_method` has no effect if `water_quality` is set to `WaterQuality.false`. |"
   ]
  },
  {
   "cell_type": "code",
   "execution_count": null,
   "id": "5d49b0d9",
   "metadata": {},
   "outputs": [],
   "source": [
    "# Create Pyomo optimization model representing the produced water network\n",
    "strategic_model = create_model(\n",
    "    df_sets,\n",
    "    df_parameters,\n",
    "    default={\n",
    "        \"objective\": Objectives.cost,\n",
    "        \"pipeline_cost\": PipelineCost.distance_based,\n",
    "        \"pipeline_capacity\": PipelineCapacity.input,\n",
    "        \"node_capacity\": True,\n",
    "        \"water_quality\": WaterQuality.false,\n",
    "        \"removal_efficiency_method\": RemovalEfficiencyMethod.concentration_based,\n",
    "    },\n",
    ")"
   ]
  },
  {
   "cell_type": "markdown",
   "id": "774d1d59",
   "metadata": {},
   "source": [
    "## <a id='solve'></a>Step 5: Solve the model\n",
    "PARETO's `solve_model` function called below solves the model with the provided options. There are seven different options which can be passed:"
   ]
  },
  {
   "cell_type": "markdown",
   "id": "64e65677",
   "metadata": {},
   "source": [
    "| Option | Description | Default value |\n",
    "| :- | :- | :- |\n",
    "| `solver` | Either a string with solver name or a tuple of strings with several solvers to try and load in order. PARETO currently supports the Gurobi (commercial) and CBC (free) solvers, but it might be possible to use other MILP solvers as well. | `(\"gurobi_direct\", \"gurobi\", \"cbc\")` |\n",
    "| `deactivate_slacks` | `True` to deactivate slack variables, `False` to use slack variables. | `True` |\n",
    "| `scale_model` | `True` to apply scaling to the model, `False` to not apply scaling. | `False` |\n",
    "| `scaling_factor` | Scaling factor to apply to the model (only relevant if `scale_model` is `True``). | 1000000 |\n",
    "| `running_time` | Maximum solver running time in seconds. | 60 |\n",
    "| `gap` | Solver gap. | 0 |\n",
    "| `gurobi_numeric_focus` | The `NumericFocus` parameter to pass to the Gurobi solver. This parameter can be 1, 2, or 3, and per Gurobi, \"settings 1-3 increasingly shift the focus towards more care in numerical computations, which can impact performance.\" This option is ignored if a solver other than Gurobi is used. | 1 |"
   ]
  },
  {
   "cell_type": "code",
   "execution_count": null,
   "id": "4dc2e674",
   "metadata": {},
   "outputs": [],
   "source": [
    "# Solve Pyomo model with specified options\n",
    "options = {\n",
    "    \"solver\": \"cbc\",  # \"gurobi\" is another solver option if you have it installed\n",
    "    \"deactivate_slacks\": True,\n",
    "    \"scale_model\": False,\n",
    "    \"scaling_factor\": 1000000,\n",
    "    \"running_time\": 300,\n",
    "    \"gap\": 0,\n",
    "    \"gurobi_numeric_focus\": 1,\n",
    "}\n",
    "results = solve_model(model=strategic_model, options=options)"
   ]
  },
  {
   "cell_type": "markdown",
   "id": "01914afa",
   "metadata": {},
   "source": [
    "PARETO's `is_feasible` utility function can be called after solving the model to check whether or not the solution returned by the solver violates any constraints:"
   ]
  },
  {
   "cell_type": "code",
   "execution_count": null,
   "id": "b6d09258",
   "metadata": {},
   "outputs": [],
   "source": [
    "# Check feasibility of the solved model.\n",
    "with nostdout():\n",
    "    feasibility_status = is_feasible(strategic_model)\n",
    "if not feasibility_status:\n",
    "    print(\"Model results are not feasible and should not be trusted\")\n",
    "else:\n",
    "    print(\"Model results validated and found to pass feasibility tests\")"
   ]
  },
  {
   "cell_type": "markdown",
   "id": "690da159",
   "metadata": {},
   "source": [
    "## <a id='analyze'></a>Step 6: Analyze results\n",
    "PARETO's `generate_report` function ([documentation](https://pareto.readthedocs.io/en/latest/utilities/Results.html#generate-report)) can be used to export the optimization reports to an Excel report. The first argument to the function is the model itself, and then there are four optional keyword arguments:"
   ]
  },
  {
   "cell_type": "markdown",
   "id": "6281c80b",
   "metadata": {},
   "source": [
    "| Option | Description | Default value |\n",
    "| :- | :- | :- |\n",
    "| `results_obj` | The object returned by the solver. If provided, this object is used to extract data from the solver to include in the report. | `None` |\n",
    "| `is_print` | Determines how many results to print to the console, but has no effect on what is included in the Excel report. There are four possible values that may be passed:<br><br>- `None`<br><br>- `PrintValues.detailed`<br><br>- `PrintValues.nominal`<br><br>- `PrintValues.essential`<br><br>Note that it will be a rare case where it is useful or desirable to pick something other than `None` or `PrintValues.essential` for this option. | `None` |\n",
    "| `output_units` | Determines whether the units used in the report are the units provided by the user or the internal units used by the model. Specifically, the values that may be passed are:<br><br>- `OutputUnits.unscaled_model_units`<br><br>- `OutputUnits.user_units` | `OutputUnits.user_units` |\n",
    "| `fname` | The file name for the generated Excel report. | `\"PARETO_report.xlsx\"` |"
   ]
  },
  {
   "cell_type": "code",
   "execution_count": null,
   "id": "1115835c",
   "metadata": {},
   "outputs": [],
   "source": [
    "# Generate report with results in Excel\n",
    "[model, results_dict] = generate_report(\n",
    "    strategic_model,\n",
    "    results_obj=results,\n",
    "    is_print=PrintValues.essential,\n",
    "    output_units=OutputUnits.user_units,\n",
    "    fname=\"strategic_optimization_results.xlsx\",\n",
    ")"
   ]
  },
  {
   "cell_type": "markdown",
   "id": "4dab9b19",
   "metadata": {},
   "source": [
    "The `get_data` function can also be used to load data from a previously generated PARETO results report back into Python:"
   ]
  },
  {
   "cell_type": "code",
   "execution_count": null,
   "id": "b6d6cc02",
   "metadata": {},
   "outputs": [],
   "source": [
    "# Read data from the PARETO results report\n",
    "tabs_to_read = [\"v_F_Overview\", \"vb_y_overview\", \"v_F_Sourced\"]\n",
    "fname = \"strategic_optimization_results.xlsx\"\n",
    "_, parameters_report = get_data(fname, [], tabs_to_read)\n",
    "\n",
    "print(\"------- Overview -------\")\n",
    "print(parameters_report[\"v_F_Overview\"])  # Note that this is the same data that was printed above by the generate_report function\n",
    "print(\"\\n------- Infrastructure buildout overview -------\")\n",
    "print(parameters_report[\"vb_y_overview\"])\n",
    "print(\"\\n------- Sourced water -------\")\n",
    "print(parameters_report[\"v_F_Sourced\"])"
   ]
  },
  {
   "cell_type": "markdown",
   "id": "6d00b984",
   "metadata": {},
   "source": [
    "### Step 6.1 (optional): Generate Sankey diagrams\n",
    "PARETO's `plot_sankey` function ([documentation](https://pareto.readthedocs.io/en/latest/utilities/Results.html#generate-sankey)) can be used to generate Sankey diagrams of the output:"
   ]
  },
  {
   "cell_type": "code",
   "execution_count": null,
   "id": "593215e6",
   "metadata": {},
   "outputs": [],
   "source": [
    "input_data = {\"pareto_var\": results_dict[\"v_F_Piped_dict\"], \n",
    "              \"time_period\": \"T01\",\n",
    "             }\n",
    "args = {\"plot_title\": \"Piped water - T01\",\n",
    "        \"output_file\": \"demo_sankey_T01.html\",\n",
    "        \"jupyter_notebook\": True,  # setting this option to True causes the Sankey diagram(s) to appear in the Jupyter notebook\n",
    "       }\n",
    "plot_sankey(input_data, args)"
   ]
  },
  {
   "attachments": {},
   "cell_type": "markdown",
   "id": "63ea277a",
   "metadata": {},
   "source": [
    "Note that the Sankey diagram is interactive - try hovering your mouse over different elements of the diagram, and clicking and dragging!\n",
    "\n",
    "We can pass a list of time period indices for the `time_period` entry in the `input_data` argument to get a Sankey diagram showing the cumulative flows over the specified time periods:"
   ]
  },
  {
   "cell_type": "code",
   "execution_count": null,
   "id": "d7110c38",
   "metadata": {},
   "outputs": [],
   "source": [
    "input_data = {\"pareto_var\": results_dict[\"v_F_Piped_dict\"], \n",
    "              \"time_period\": [\"T01\", \"T02\"],\n",
    "             }\n",
    "args = {\"plot_title\": \"Piped water - T01 and T02\",\n",
    "        \"output_file\": \"demo_sankey_T01_T02.html\",\n",
    "        \"jupyter_notebook\": True,\n",
    "       }\n",
    "plot_sankey(input_data, args)"
   ]
  },
  {
   "cell_type": "markdown",
   "id": "b3dd98a3",
   "metadata": {},
   "source": [
    "If we omit the `time_period` entry entirely, then the flows shown in the Sankey diagram are cumulative for the entire time horizon:"
   ]
  },
  {
   "cell_type": "code",
   "execution_count": null,
   "id": "4cf8d2a7",
   "metadata": {},
   "outputs": [],
   "source": [
    "input_data = {\"pareto_var\": results_dict[\"v_F_Piped_dict\"]}\n",
    "args = {\"plot_title\": \"Piped water - all times\",\n",
    "        \"output_file\": \"demo_sankey_all_times.html\",\n",
    "        \"jupyter_notebook\": True,\n",
    "       }\n",
    "plot_sankey(input_data, args)"
   ]
  },
  {
   "cell_type": "markdown",
   "id": "d0e83500",
   "metadata": {},
   "source": [
    "By passing a `sections` entry in the `input_data` argument, we can create separate Sankey diagrams for different subsections of the overall network: "
   ]
  },
  {
   "cell_type": "code",
   "execution_count": null,
   "id": "3dd1edf2",
   "metadata": {},
   "outputs": [],
   "source": [
    "input_data = {\"pareto_var\": results_dict[\"v_F_Piped_dict\"], \n",
    "              \"sections\": {\"Section1\": [\"N01\", \"N02\", \"N03\", \"N04\"],\n",
    "                           \"Section2\": [\"N05\", \"N06\", \"N07\", \"N08\", \"N09\"]},\n",
    "              \"time_period\": \"T01\",\n",
    "             }\n",
    "args = {\"plot_title\": \"Piped water - T01\",\n",
    "        \"output_file\": \"demo_sankey_T01_sections.html\",\n",
    "        \"jupyter_notebook\": True,\n",
    "       }\n",
    "plot_sankey(input_data, args)"
   ]
  },
  {
   "cell_type": "markdown",
   "id": "74a52c2e",
   "metadata": {},
   "source": [
    "## Conclusion\n",
    "We hope this demonstration of PARETO's strategic model has been helpful and informative. If you have any questions, comments, or feedback for the PARETO team, please do not hesitate to [contact us](https://www.project-pareto.org/team/contact-us/)."
   ]
  }
 ],
 "metadata": {
  "kernelspec": {
   "display_name": "Python 3 (ipykernel)",
   "language": "python",
   "name": "python3"
  },
  "language_info": {
   "codemirror_mode": {
    "name": "ipython",
    "version": 3
   },
   "file_extension": ".py",
   "mimetype": "text/x-python",
   "name": "python",
   "nbconvert_exporter": "python",
   "pygments_lexer": "ipython3",
   "version": "3.8.15"
  },
  "vscode": {
   "interpreter": {
    "hash": "5e7876e70967ac118b9c7cd30504736772a2e8d91d53008f870f7541cddd399c"
   }
  }
 },
 "nbformat": 4,
 "nbformat_minor": 5
}
