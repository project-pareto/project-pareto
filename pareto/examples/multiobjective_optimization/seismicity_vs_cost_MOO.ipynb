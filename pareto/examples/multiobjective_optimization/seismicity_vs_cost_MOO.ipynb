{
 "cells": [
  {
   "cell_type": "markdown",
   "id": "7911715e-7b0f-4178-86e7-2c8d5608bc4a",
   "metadata": {},
   "source": [
    "# Multi-objective Optimization with PARETO\n",
    "\n",
    "The purpose of this Jupyter notebook is to show how to apply the epsilon constraint method for multi-objective optimization (MOO) to a PARETO model. We will explore the tradeoff between the competing objectives of minimizing the cost of a produced water network and the subsurface risk incurred by operating the network.\n",
    "\n",
    "We begin by importing all necessary modules and loading the required data (for this demonstration, we will make use of PARETO's strategic toy case study):"
   ]
  },
  {
   "cell_type": "code",
   "execution_count": null,
   "id": "f21d1204-1e14-4f57-8a9c-f9a8e0c88947",
   "metadata": {},
   "outputs": [],
   "source": [
    "#####################################################################################################\n",
    "# PARETO was produced under the DOE Produced Water Application for Beneficial Reuse Environmental\n",
    "# Impact and Treatment Optimization (PARETO), and is copyright (c) 2021-2024 by the software owners:\n",
    "# The Regents of the University of California, through Lawrence Berkeley National Laboratory, et al.\n",
    "# All rights reserved.\n",
    "#\n",
    "# NOTICE. This Software was developed under funding from the U.S. Department of Energy and the U.S.\n",
    "# Government consequently retains certain rights. As such, the U.S. Government has been granted for\n",
    "# itself and others acting on its behalf a paid-up, nonexclusive, irrevocable, worldwide license in\n",
    "# the Software to reproduce, distribute copies to the public, prepare derivative works, and perform\n",
    "# publicly and display publicly, and to permit others to do so.\n",
    "#####################################################################################################\n",
    "\n",
    "from pareto.strategic_water_management.strategic_produced_water_optimization import (\n",
    "    WaterQuality,\n",
    "    create_model,\n",
    "    set_objective,\n",
    "    Objectives,\n",
    "    solve_model,\n",
    "    PipelineCost,\n",
    "    PipelineCapacity,\n",
    "    Hydraulics,\n",
    "    RemovalEfficiencyMethod,\n",
    "    InfrastructureTiming,\n",
    "    SubsurfaceRisk,\n",
    ")\n",
    "from pareto.utilities.get_data import get_data\n",
    "from pareto.utilities.results import is_feasible, nostdout\n",
    "from pyomo.environ import Constraint, Param, value, TerminationCondition, SolverStatus\n",
    "from importlib import resources\n",
    "\n",
    "with resources.path(\n",
    "    \"pareto.case_studies\",\n",
    "    \"strategic_toy_case_study.xlsx\",\n",
    ") as fpath:\n",
    "    [df_sets, df_parameters] = get_data(fpath)"
   ]
  },
  {
   "cell_type": "markdown",
   "id": "89073813-543a-4664-83c0-8db01339c46e",
   "metadata": {},
   "source": [
    "## Epsilon constraint method\n",
    "\n",
    "The first MOO algorithm we will implement is known as the epsilon constraint method. We begin by creating the PARETO model:"
   ]
  },
  {
   "cell_type": "code",
   "execution_count": null,
   "id": "4cf676f9-3c21-4c0d-8a43-4fb2e6750ea3",
   "metadata": {},
   "outputs": [],
   "source": [
    "# Model settings\n",
    "default = {\n",
    "    \"objective\": Objectives.cost,\n",
    "    \"pipeline_cost\": PipelineCost.distance_based,\n",
    "    \"pipeline_capacity\": PipelineCapacity.input,\n",
    "    \"hydraulics\": Hydraulics.false,\n",
    "    \"node_capacity\": True,\n",
    "    \"water_quality\": WaterQuality.false,\n",
    "    \"removal_efficiency_method\": RemovalEfficiencyMethod.concentration_based,\n",
    "    \"infrastructure_timing\": InfrastructureTiming.false,\n",
    "    \"subsurface_risk\": SubsurfaceRisk.exclude_over_and_under_pressured_wells,\n",
    "}\n",
    "\n",
    "# Create model\n",
    "model = create_model(\n",
    "    df_sets,\n",
    "    df_parameters,\n",
    "    default=default,\n",
    ")"
   ]
  },
  {
   "cell_type": "markdown",
   "id": "e74dc7af-2340-47c1-a7a6-d802e1531eec",
   "metadata": {},
   "source": [
    "Next, we set the solver options, solve the model, and check that the solution is feasible and optimal."
   ]
  },
  {
   "cell_type": "code",
   "execution_count": null,
   "id": "f42b8b21-8f1e-4b22-97e3-e0f8a4cc1ae9",
   "metadata": {},
   "outputs": [],
   "source": [
    "options = {\n",
    "    \"deactivate_slacks\": True,\n",
    "    \"scale_model\": False,\n",
    "    \"scaling_factor\": 1000,\n",
    "    \"running_time\": 200,\n",
    "    \"gap\": 0,\n",
    "}\n",
    "\n",
    "results_min_cost = solve_model(model=model, options=options)\n",
    "\n",
    "assert results_min_cost.solver.termination_condition == TerminationCondition.optimal\n",
    "assert results_min_cost.solver.status == SolverStatus.ok\n",
    "\n",
    "with nostdout():\n",
    "    feasibility_status = is_feasible(model)\n",
    "\n",
    "assert feasibility_status"
   ]
  },
  {
   "cell_type": "markdown",
   "id": "ed091ed2-f38c-4025-b9bc-6b969acb26e2",
   "metadata": {},
   "source": [
    "We investigate the value of the objective function (minimum cost) and the corresponding subsurface risk:"
   ]
  },
  {
   "cell_type": "code",
   "execution_count": null,
   "id": "c6e5b284-d42e-4346-b353-11a4115adb00",
   "metadata": {},
   "outputs": [],
   "source": [
    "min_cost_obj = model.v_Z.value\n",
    "min_cost_risk = model.v_Z_SubsurfaceRisk.value\n",
    "\n",
    "print(\"Minimum cost model\")\n",
    "print(\"------------------\")\n",
    "print(f\"Minimum cost achievable: {min_cost_obj} {model.v_Z.get_units()}\")\n",
    "print(\n",
    "    f\"Risk incurred with minimum cost: {min_cost_risk} {model.v_Z_SubsurfaceRisk.get_units()}\"\n",
    ")"
   ]
  },
  {
   "cell_type": "markdown",
   "id": "7a6b768c-691d-4909-bee7-8b4ef1643b7b",
   "metadata": {},
   "source": [
    "It's straightforward to alter the model to minimize subsurface risk instead of cost, and then reoptimize:"
   ]
  },
  {
   "cell_type": "code",
   "execution_count": null,
   "id": "c8718cb3-6546-4469-8be5-fe22a560480b",
   "metadata": {},
   "outputs": [],
   "source": [
    "# Change the objective function in the model from minimum cost to minimum subsurface risk\n",
    "set_objective(model, Objectives.subsurface_risk)\n",
    "\n",
    "results_min_risk = solve_model(model=model, options=options)\n",
    "\n",
    "assert results_min_risk.solver.termination_condition == TerminationCondition.optimal\n",
    "assert results_min_risk.solver.status == SolverStatus.ok\n",
    "\n",
    "with nostdout():\n",
    "    feasibility_status = is_feasible(model)\n",
    "\n",
    "assert feasibility_status"
   ]
  },
  {
   "cell_type": "markdown",
   "id": "cfa3a699-dd91-43d6-b5a3-89512adb6552",
   "metadata": {},
   "source": [
    "We investigate the value of the objective function (minimum subsurface risk) and the corresponding cost:"
   ]
  },
  {
   "cell_type": "code",
   "execution_count": null,
   "id": "880b8561-b5f9-4470-acc0-fece09e40a03",
   "metadata": {},
   "outputs": [],
   "source": [
    "min_risk_obj = model.v_Z_SubsurfaceRisk.value\n",
    "min_risk_cost = model.v_Z.value\n",
    "\n",
    "print(\"\\nMinimum risk model\")\n",
    "print(\"------------------\")\n",
    "print(f\"Minimum risk achievable: {min_risk_obj} {model.v_Z_SubsurfaceRisk.get_units()}\")\n",
    "print(f\"Cost incurred with minimum risk: {min_risk_cost} {model.v_Z.get_units()}\")"
   ]
  },
  {
   "cell_type": "markdown",
   "id": "e4a23a80-c234-4a57-b31c-7191c6084400",
   "metadata": {},
   "source": [
    "We see that when minimizing subsurface risk, it is possible to achieve an objective function value of zero, but it comes at a prohibitively high cost. Note, however, that it is possible to achieve zero total risk for a much lower cost. The reason the cost reported above is so high is that the optimizer arbitrarily chooses to build many pieces of infrastructure which are not needed, since there is no penalty for doing so.\n",
    "\n",
    "Note that is not necessarily feasible to achieve zero overall risk for every produced water network model, but it happens to be feasible with this particular model. \n",
    "\n",
    "Next, we implement the epsilon constraint method (and in so doing, demonstrate that it is possible to achieve zero risk with a much lower cost than above). We change the objective function back to minimum cost, and then the epsilon constraint method amounts to solving the optimization problem for different fixed values of subsurface risk: "
   ]
  },
  {
   "cell_type": "code",
   "execution_count": null,
   "id": "50afd436-7bdc-4ead-b6b8-6f220dc29af4",
   "metadata": {},
   "outputs": [],
   "source": [
    "# Change objective function back to minimum cost\n",
    "set_objective(model, Objectives.cost)\n",
    "\n",
    "# Create lists for results\n",
    "fixed_risk_vals = list(range(0, 400, 20))  # Subsurface risk values to iterate over\n",
    "cost_vals_fixed_risk = list()  # List to store corresponding cost values\n",
    "\n",
    "for r in fixed_risk_vals:\n",
    "    print(\"*\" * 60)\n",
    "    print(f\"Solving minimum cost model constraining subsurface risk to {r}\")\n",
    "    print(\"*\" * 60)\n",
    "    model.v_Z_SubsurfaceRisk.fix(r)  # Fix the subsurface risk to the specified value\n",
    "    results_min_cost = solve_model(model=model, options=options)\n",
    "\n",
    "    assert results_min_cost.solver.termination_condition == TerminationCondition.optimal\n",
    "    assert results_min_cost.solver.status == SolverStatus.ok\n",
    "\n",
    "    with nostdout():\n",
    "        feasibility_status = is_feasible(model)\n",
    "\n",
    "    assert feasibility_status\n",
    "\n",
    "    cost_vals_fixed_risk.append(model.v_Z.value)\n",
    "\n",
    "fixed_risk_vals.append(min_cost_risk)\n",
    "cost_vals_fixed_risk.append(min_cost_obj)\n",
    "\n",
    "min_cost_for_zero_risk = cost_vals_fixed_risk[0]"
   ]
  },
  {
   "cell_type": "markdown",
   "id": "326a34c6-1982-44c0-8b02-22ab1cfa7645",
   "metadata": {},
   "source": [
    "In multi-objective optimization, a solution is said to be [Pareto optimal](https://en.wikipedia.org/wiki/Pareto_efficiency) if an improvement in one objective necessitates a deterioration in another objective. This concept inspired the name for Project PARETO. We can plot the results from the epsilon constraint method as a Pareto frontier:"
   ]
  },
  {
   "cell_type": "code",
   "execution_count": null,
   "id": "78ae7fa7-38ab-41e1-b9d5-0dd340b46229",
   "metadata": {},
   "outputs": [],
   "source": [
    "# Create plot of Pareto curve\n",
    "import matplotlib.pyplot as plt\n",
    "\n",
    "fig, ax = plt.subplots()\n",
    "scatter = ax.scatter(cost_vals_fixed_risk, fixed_risk_vals, c=\"blue\")\n",
    "ax.set_xlabel(f\"Cost [{model.v_Z.get_units()}]\")\n",
    "ax.set_ylabel(f\"Subsurface risk [{model.v_Z_SubsurfaceRisk.get_units()}]\")\n",
    "\n",
    "print(f\"Cost values [{model.v_Z.get_units()}]: {cost_vals_fixed_risk}\")\n",
    "print(\n",
    "    f\"Subsurface risk values [{model.v_Z_SubsurfaceRisk.get_units()}]: {fixed_risk_vals}\"\n",
    ")"
   ]
  },
  {
   "cell_type": "markdown",
   "id": "83943b23-08f3-467c-8041-6100afd6878d",
   "metadata": {},
   "source": [
    "The Pareto curve shows that compared to the pure minimum cost solution, we can significantly reduce the subsurface risk with nearly negligible increases in the cost.\n",
    "\n",
    "The epsilon constraint method can also be used by minimizing risk for fixed values of cost:"
   ]
  },
  {
   "cell_type": "code",
   "execution_count": null,
   "id": "b7b0ca67-8b3b-4d37-8a20-3ef56f6462cb",
   "metadata": {},
   "outputs": [],
   "source": [
    "# Change objective function back to minimum subsurface risk\n",
    "set_objective(model, Objectives.subsurface_risk)\n",
    "\n",
    "# Unfix subsurface risk variable\n",
    "model.v_Z_SubsurfaceRisk.unfix()\n",
    "\n",
    "# Create lists for results\n",
    "fixed_cost_vals = list(range(6200, 7800, 100))  # Cost risk values to iterate over\n",
    "risk_vals_fixed_cost = list()  # List to store corresponding subsurface risk values\n",
    "\n",
    "for c in fixed_cost_vals:\n",
    "    print(\"*\" * 60)\n",
    "    print(f\"Solving minimum subsurface risk constraining cost to {c}\")\n",
    "    print(\"*\" * 60)\n",
    "    model.v_Z.fix(c)  # Fix the cost to the specified value\n",
    "    results_min_risk = solve_model(model=model, options=options)\n",
    "\n",
    "    assert results_min_risk.solver.termination_condition == TerminationCondition.optimal\n",
    "    assert results_min_risk.solver.status == SolverStatus.ok\n",
    "\n",
    "    with nostdout():\n",
    "        feasibility_status = is_feasible(model)\n",
    "\n",
    "    assert feasibility_status\n",
    "\n",
    "    risk_vals_fixed_cost.append(model.v_Z_SubsurfaceRisk.value)\n",
    "\n",
    "fixed_cost_vals.append(min_cost_obj)\n",
    "risk_vals_fixed_cost.append(min_cost_risk)\n",
    "fixed_cost_vals.append(min_cost_for_zero_risk)\n",
    "risk_vals_fixed_cost.append(0)"
   ]
  },
  {
   "cell_type": "markdown",
   "id": "a39bc846-6218-4b79-9f6f-fe9491325be8",
   "metadata": {},
   "source": [
    "Here is the corresponding plot:"
   ]
  },
  {
   "cell_type": "code",
   "execution_count": null,
   "id": "fdb26550-3ba6-4782-8504-17a1d46f1a97",
   "metadata": {},
   "outputs": [],
   "source": [
    "fig, ax = plt.subplots()\n",
    "scatter = ax.scatter(fixed_cost_vals, risk_vals_fixed_cost, c=\"red\")\n",
    "ax.set_xlabel(f\"Cost [{model.v_Z.get_units()}]\")\n",
    "ax.set_ylabel(f\"Subsurface risk [{model.v_Z_SubsurfaceRisk.get_units()}]\")\n",
    "\n",
    "print(f\"Cost values [{model.v_Z.get_units()}]: {fixed_cost_vals}\")\n",
    "print(\n",
    "    f\"Subsurface risk values [{model.v_Z_SubsurfaceRisk.get_units()}]: {risk_vals_fixed_cost}\"\n",
    ")"
   ]
  },
  {
   "cell_type": "markdown",
   "id": "bb9e84f6-3c22-4350-8ebb-4f495d0fa97b",
   "metadata": {},
   "source": [
    "We can create one plot with both sets of results:"
   ]
  },
  {
   "cell_type": "code",
   "execution_count": null,
   "id": "6ddce909-9da1-4bf9-bd4d-e35eb7866bee",
   "metadata": {},
   "outputs": [],
   "source": [
    "fig, ax = plt.subplots()\n",
    "scatter = ax.scatter(\n",
    "    cost_vals_fixed_risk,\n",
    "    fixed_risk_vals,\n",
    "    c=\"blue\",\n",
    "    label=\"Fix subsurface risk, minimize cost\",\n",
    ")\n",
    "scatter = ax.scatter(\n",
    "    fixed_cost_vals,\n",
    "    risk_vals_fixed_cost,\n",
    "    c=\"red\",\n",
    "    label=\"Fix cost, minimize subsurface risk\",\n",
    ")\n",
    "ax.set_xlabel(f\"Cost [{model.v_Z.get_units()}]\")\n",
    "ax.set_ylabel(f\"Subsurface risk [{model.v_Z_SubsurfaceRisk.get_units()}]\")\n",
    "ax.legend()"
   ]
  }
 ],
 "metadata": {
  "kernelspec": {
   "display_name": "Python 3 (ipykernel)",
   "language": "python",
   "name": "python3"
  },
  "language_info": {
   "codemirror_mode": {
    "name": "ipython",
    "version": 3
   },
   "file_extension": ".py",
   "mimetype": "text/x-python",
   "name": "python",
   "nbconvert_exporter": "python",
   "pygments_lexer": "ipython3",
   "version": "3.9.19"
  }
 },
 "nbformat": 4,
 "nbformat_minor": 5
}
