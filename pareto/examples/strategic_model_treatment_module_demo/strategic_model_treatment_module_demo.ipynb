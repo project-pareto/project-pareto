{
 "cells": [
  {
   "cell_type": "markdown",
   "metadata": {},
   "source": [
    "# PARETO - Strategic Model Treatment Module and Sensitivity Analysis\n",
    "The purpose of this Jupyter notebook is to give an overview of the features which comprise the water treatment module within PARETO's strategic model, and to show how PARETO can be used to perform sensitivity analysis for produced water networks. This demo makes use of PARETO's Python coding interface. If you prefer a graphical interface, you can download the PARETO GUI [here](https://www.project-pareto.org/software/) (athough we note that some of the features which are used in this demonstration are not supported in PARETO GUI)."
   ]
  },
  {
   "cell_type": "markdown",
   "metadata": {},
   "source": [
    "## Introduction\n",
    "This demo is based on PARETO's strategic toy case study. Relevant links:\n",
    "- [Strategic model documentation](https://pareto.readthedocs.io/en/latest/model_library/strategic_water_management/index.html)\n",
    "- [Documentation of PARETO case studies](https://pareto.readthedocs.io/en/latest/case_studies/index.html)\n",
    "\n",
    "The strategic toy case study features a very small produced water network. This network is smaller than most realistic produced water networks, but the small size of this example makes it useful for testing, debugging, demonstrations, etc. Below is a schematic image of the strategic toy network:\n",
    "\n",
    "![Strategic toy case study network](strategic_toy_network.png)\n",
    "\n",
    "Please note that the strategic toy case study data is arbitrary, but meant to be representative of a real produced water network.\n",
    "\n",
    "The rest of this demonstration is organized as follows:\n",
    "1. [Treatment module data requirements](#data)\n",
    "2. [Set up and solve Pyomo model](#solve)\n",
    "3. [Sensitivity analysis](#sensitivity)\n",
    "4. [Model interaction](#widgets)"
   ]
  },
  {
   "attachments": {},
   "cell_type": "markdown",
   "metadata": {},
   "source": [
    "## <a id='data'></a>Treatment module data requirements\n",
    "In this section, we give an overview of the treatment-related data that the user must provide via the Excel input file in order to run the treatment module. Note that this is not a comprehensive overview of the data requirements for the strategic model - instead, we focus only on the data which is related to water treatment. For each relevant tab of the input file, we provide a screenshot to give a visual representation of what the data input looks like.\n",
    "\n",
    "The PARETO team conducted a literature review to gather information about produced water treatment technologies. The results of this search have been summarized in an Excel workbook which is available in the PARETO documentation (download link available [here](https://pareto.readthedocs.io/en/latest/model_library/water_treatment/index.html#treatment-cost)).\n",
    "\n",
    "DISCLAIMER: Some parameters related to water treatment, e.g., costs and efficiency, are highly variable in practice. The data used in this case study should be considered arbitrary, but we would like to mention that the treatment parameter values which have been selected for this demo have been informed by our literature search, and are representative of some real-world water treatment systems."
   ]
  },
  {
   "cell_type": "markdown",
   "metadata": {},
   "source": [
    "### Treatment sites\n",
    "In tab \"TreatmentSites\", provide a list of all of the treatment sites within the produced water network.\n",
    "\n",
    "![Treatment sites](data_input_treatment_sites.png)"
   ]
  },
  {
   "attachments": {},
   "cell_type": "markdown",
   "metadata": {},
   "source": [
    "### Treatment technologies\n",
    "In tab \"TreatmentTechnologies\", provide a list of all of the available treatment technologies:\n",
    "\n",
    "![Treatment technologies](data_input_treatment_technologies.png)\n",
    "\n",
    "In the above list, the abbreviations stand for the following treatment technologies:\n",
    "- CB: Clean brine. This is a catch-all term meant to refer to any non-desalination treatment technology. \n",
    "- CB-EV: Clean brine with enhanced evaporation. Clean brine treatment, but also includes specailized equipment used to increase the rate of evaporation of wastewater from a storage pond into the atmosphere.\n",
    "- MVC: Mechanical vapor compression desalination.\n",
    "- MD: Membrane distillation desalination.\n",
    "- OARO: Osmotically assisted reverse osmosis desalination.\n",
    "\n",
    "The user can remove some of these technologies and/or include additional technologies if they wish. The names for technologies can be anything that the user chooses, but references to technologies in other tabs must match the names povided here."
   ]
  },
  {
   "cell_type": "markdown",
   "metadata": {},
   "source": [
    "### Treatment capacity identifiers\n",
    "In tab \"TreatmentCapacities\", provide a list of treatment capacitiy identifiers:\n",
    "\n",
    "![Treatment capacity identifiers](data_input_treatment_capacities.png)"
   ]
  },
  {
   "cell_type": "markdown",
   "metadata": {},
   "source": [
    "### Treatment capacity increments\n",
    "In tab \"TreatmentCapacityIncrements\", specify the available capacities for each technology associated with the identifiers defined in tab \"TreatmentCapacities\":\n",
    "\n",
    "![XXXX](data_input_treatment_capacity_increments.png)"
   ]
  },
  {
   "cell_type": "markdown",
   "metadata": {},
   "source": [
    "### Arcs to/from treatment sites (NRA, RNA, RSA, RCA)\n",
    "In tabs \"NRA\", \"RNA\", \"RSA\", and \"RCA\", indicate how the treatment sites are connected to other elements of the produced water network:\n",
    "\n",
    "#### NRA: node-to-treatment arcs\n",
    "![NRA arcs](data_input_NRA.png)\n",
    "\n",
    "#### RNA: treatment-to-node arcs\n",
    "![RNA arcs](data_input_RNA.png)\n",
    "\n",
    "NOTE: Support for RNA arcs is likely to be removed in a future version of PARETO.\n",
    "\n",
    "#### RSA: treatment-to-storage arcs\n",
    "![RSA arcs](data_input_RSA.png)\n",
    "\n",
    "#### RCA: treatment-to-completions arcs\n",
    "![RCA arcs](data_input_RCA.png)"
   ]
  },
  {
   "cell_type": "markdown",
   "metadata": {},
   "source": [
    "### Initial treatment capacity\n",
    "In tab \"InitialTreatmentCapacity\", specify the initial treatment capacity at each site:\n",
    "\n",
    "![Initial treatment capacity](data_input_initial_treatment_capacity.png)\n"
   ]
  },
  {
   "cell_type": "markdown",
   "metadata": {},
   "source": [
    "### Treatment operational cost (OPEX)\n",
    "In tab \"TreatmentOperationalCost\", specify the operational cost of each technology at each site:\n",
    "\n",
    "![Treatment OPEX](data_input_treatment_OPEX.png)"
   ]
  },
  {
   "attachments": {},
   "cell_type": "markdown",
   "metadata": {},
   "source": [
    "### Treatment expansion cost (CAPEX)\n",
    "In tab \"TreatmentExpansionCost\", specify the cost of building additional capacity of each technology at each site:\n",
    "\n",
    "![Treatment expansion cost](data_input_treatment_expansion_cost.png)\n",
    "\n",
    "NOTE: Only one treatment technology can be selected for expansion at each treatment site."
   ]
  },
  {
   "cell_type": "markdown",
   "metadata": {},
   "source": [
    "### Treatment water efficiency (water recovery)\n",
    "In tab \"TreatmentEfficiency\", specify the water efficiency of each technology at each site (this parameter amounts to the fraction of water in the inlet which is recovered in the treated stream):\n",
    "\n",
    "![Treatment efficiency](data_input_treatment_efficiency.png)"
   ]
  },
  {
   "cell_type": "markdown",
   "metadata": {},
   "source": [
    "### Pad water quality\n",
    "In tab \"PadWaterQuality\", specify the concentration of each quality component in the produced water which comes from each production pad and completions pad:\n",
    "\n",
    "![Pad water quality](data_input_pad_water_quality.png)\n",
    "\n",
    "IMPORTANT: The column header(s) in this tab are used to specify the quality components that are part of the model. That is, there is not a separate tab to specify the quality components. In the above screenshot, there is only one quality component (TDS)."
   ]
  },
  {
   "attachments": {},
   "cell_type": "markdown",
   "metadata": {},
   "source": [
    "### Component removal effiency\n",
    "In tab \"RemovalEfficiency\", for each, site, technology, and quality component, specify the fraction of the component (by mass) which goes to the residual stream:\n",
    "\n",
    "![Compoonent removal efficiency](data_input_treatment_removal_efficiency.png)\n",
    "\n",
    "NOTE: Let us clarify the difference between treatment efficiency and component removal efficiency. Treatment efficiency refers to the fraction of water which enters the treatment site that is recovered for reuse (the remainder becomes waste water). Component removal efficiency refers to the amount of contaminants (e.g., TDS) that is removed from the treated water (and thus concentrated in the waste water).\n",
    "\n",
    "NOTE: PARETO supports two different definitions for treatment component removal efficiency. See [this](https://pareto.readthedocs.io/en/latest/model_library/water_treatment/index.html#treatment-component-removal-efficiency) page for details."
   ]
  },
  {
   "cell_type": "markdown",
   "metadata": {},
   "source": [
    "### Desalination technologies\n",
    "In tab \"DesalinationTechnologies\", specify whether or not each technology is for desalination:\n",
    "\n",
    "![Desalination technologies](data_input_desalination_technologies.png)"
   ]
  },
  {
   "cell_type": "markdown",
   "metadata": {},
   "source": [
    "### Desalination sites\n",
    "In tab \"DesalinationSites\", specify whether or not each site is avaialble for desalination technologies or non-desalination technologies:\n",
    "\n",
    "![Desalination sites](data_input_desalination_sites.png)\n",
    "\n",
    "If a treatment site is specified as a desalination site, then only desalination technologies may be built there. Similarly, if a treatment site is specified as a non-desalination site, then only non-desalination technologies may be built there."
   ]
  },
  {
   "cell_type": "markdown",
   "metadata": {},
   "source": [
    "### Storage initial water quality\n",
    "In tab \"StorageInitialWaterQuality\", specify the initial quality of the water in each storage site:\n",
    "\n",
    "![Storage initial quality](data_input_storage_initial_quality.png)"
   ]
  },
  {
   "cell_type": "markdown",
   "metadata": {},
   "source": [
    "### Pad storage initial water quality\n",
    "In tab \"PadStorageInitialWaterQuality\", specify the initial quality of the water at the built-in storage at each completions pad:\n",
    "\n",
    "![Pad storage initial quality](data_input_pad_storage_initial_quality.png)\n",
    "\n",
    "NOTE: It is possible that in the future PARETO will no longer support built-in storage capacity at completions pads."
   ]
  },
  {
   "attachments": {},
   "cell_type": "markdown",
   "metadata": {},
   "source": [
    "## <a id='solve'></a>Set up and solve Pyomo model\n",
    "To begin, ensure that you are working in a development environment where PARETO is installed. For example, if you followed the PARETO [installation instructions](https://pareto.readthedocs.io/en/latest/getting_started/index.html) to create a conda environment called `pareto-env`, then make sure that environment is active by running `conda activate pareto-env`.\n",
    "\n",
    "NOTE: The code in this notebook uses the Gurobi commerical optimization solver by default. If you do not have Gurobi installed, it will use the free solver CBC instead. The code will be slower running with CBC than with Gurobi.\n",
    "\n",
    "The following code creates and solves the Pyomo model:"
   ]
  },
  {
   "cell_type": "code",
   "execution_count": null,
   "metadata": {},
   "outputs": [],
   "source": [
    "#####################################################################################################\n",
    "# PARETO was produced under the DOE Produced Water Application for Beneficial Reuse Environmental\n",
    "# Impact and Treatment Optimization (PARETO), and is copyright (c) 2021-2023 by the software owners:\n",
    "# The Regents of the University of California, through Lawrence Berkeley National Laboratory, et al.\n",
    "# All rights reserved.\n",
    "#\n",
    "# NOTICE. This Software was developed under funding from the U.S. Department of Energy and the U.S.\n",
    "# Government consequently retains certain rights. As such, the U.S. Government has been granted for\n",
    "# itself and others acting on its behalf a paid-up, nonexclusive, irrevocable, worldwide license in\n",
    "# the Software to reproduce, distribute copies to the public, prepare derivative works, and perform\n",
    "# publicly and display publicly, and to permit others to do so.\n",
    "#####################################################################################################\n",
    "\n",
    "from pareto.strategic_water_management.strategic_produced_water_optimization import (\n",
    "    WaterQuality,\n",
    "    create_model,\n",
    "    Objectives,\n",
    "    PipelineCost,\n",
    "    PipelineCapacity,\n",
    ")\n",
    "from pareto.utilities.get_data import get_data\n",
    "from pareto.examples.strategic_model_treatment_module_demo.utilities import (\n",
    "    solve_and_check_feasibility,\n",
    "    get_R01_results,\n",
    "    create_widgets,\n",
    ")\n",
    "from importlib import resources\n",
    "from pyomo.environ import Constraint, value, units\n",
    "import matplotlib.pyplot as plt\n",
    "from matplotlib.lines import Line2D\n",
    "\n",
    "# Each entry in set_list corresponds to a tab in the Excel input file that\n",
    "# defines an index set.\n",
    "set_list = [\n",
    "    \"ProductionPads\", \"CompletionsPads\", \"SWDSites\", \"FreshwaterSources\", \"StorageSites\",\n",
    "    \"TreatmentSites\", \"ReuseOptions\", \"NetworkNodes\", \"PipelineDiameters\", \"StorageCapacities\",\n",
    "    \"InjectionCapacities\", \"TreatmentCapacities\", \"TreatmentTechnologies\",\n",
    "]\n",
    "# Each entry in parameter_list also corresponds to a tab in the Excel input\n",
    "# file, but these tabs have parameter data.\n",
    "parameter_list = [\n",
    "    \"Units\", \"PNA\", \"CNA\", \"CCA\", \"NNA\", \"NCA\", \"NKA\", \"NRA\", \"NSA\", \"FCA\", \"RCA\", \"RNA\",\n",
    "    \"RSA\", \"SCA\", \"SNA\", \"PCT\", \"PKT\", \"FCT\", \"CST\", \"CCT\", \"CKT\", \"CompletionsPadOutsideSystem\",\n",
    "    \"DesalinationTechnologies\", \"DesalinationSites\", \"TruckingTime\", \"CompletionsDemand\",\n",
    "    \"PadRates\", \"FlowbackRates\", \"NodeCapacities\", \"InitialPipelineCapacity\",\n",
    "    \"InitialDisposalCapacity\", \"InitialTreatmentCapacity\", \"FreshwaterSourcingAvailability\",\n",
    "    \"PadOffloadingCapacity\", \"CompletionsPadStorage\", \"DisposalOperationalCost\",\n",
    "    \"TreatmentOperationalCost\", \"ReuseOperationalCost\", \"PipelineOperationalCost\",\n",
    "    \"FreshSourcingCost\", \"TruckingHourlyCost\", \"PipelineDiameterValues\",\n",
    "    \"DisposalCapacityIncrements\", \"InitialStorageCapacity\", \"StorageCapacityIncrements\",\n",
    "    \"TreatmentCapacityIncrements\", \"TreatmentEfficiency\", \"RemovalEfficiency\",\n",
    "    \"DisposalExpansionCost\", \"StorageExpansionCost\", \"TreatmentExpansionCost\",\n",
    "    \"PipelineCapexDistanceBased\", \"PipelineCapexCapacityBased\", \"PipelineCapacityIncrements\",\n",
    "    \"PipelineExpansionDistance\", \"Hydraulics\", \"Economics\", \"PadWaterQuality\",\n",
    "    \"StorageInitialWaterQuality\", \"PadStorageInitialWaterQuality\", \"DisposalOperatingCapacity\",\n",
    "]\n",
    "\n",
    "# Load data from Excel input file into Python\n",
    "with resources.path(\n",
    "    \"pareto.case_studies\",\n",
    "    \"strategic_toy_case_study.xlsx\",\n",
    ") as fpath:\n",
    "    [df_sets, df_parameters] = get_data(fpath, set_list, parameter_list)\n",
    "\n",
    "# Create Pyomo optimization model representing the produced water network\n",
    "strategic_model = create_model(\n",
    "    df_sets,\n",
    "    df_parameters,\n",
    "    default={\n",
    "        \"objective\": Objectives.cost,\n",
    "        \"pipeline_cost\": PipelineCost.distance_based,\n",
    "        \"pipeline_capacity\": PipelineCapacity.input,\n",
    "        \"node_capacity\": True,\n",
    "        \"water_quality\": WaterQuality.false,\n",
    "    },\n",
    ")\n",
    "\n",
    "# Solve Pyomo model with specified options\n",
    "results_dict = solve_and_check_feasibility(strategic_model)"
   ]
  },
  {
   "cell_type": "markdown",
   "metadata": {},
   "source": [
    "## <a id='sensitivity'></a>Sensitivity analysis\n",
    "To perform sensitivity analysis, we can change model data and then re-solve the model to see the effects on the optimal solution. To demonstrate, we will change some of the costing data associated with desalination technologies to see the effect on which technology gets selected for site R01.\n",
    "\n",
    "First, we extract results on treatment buildout at R01 from our solved model:"
   ]
  },
  {
   "cell_type": "code",
   "execution_count": null,
   "metadata": {},
   "outputs": [],
   "source": [
    "# Extract R01 buildout results for default solved model\n",
    "technology, capacity = get_R01_results(results_dict)\n",
    "print(f\"Technology: {technology}\")\n",
    "print(f\"Capacity: {capacity}\")\n",
    "print(f\"Objective function value: {value(strategic_model.v_Z)}\")"
   ]
  },
  {
   "cell_type": "markdown",
   "metadata": {},
   "source": [
    "At site R01, the optimizer has chosen to build MVC desalination with the capacity selected corresponding to the `J1` index. As an aside, we can look at the input data to remind ourselves what capacity `J1` corresponds to (in bbl/day):"
   ]
  },
  {
   "cell_type": "code",
   "execution_count": null,
   "metadata": {},
   "outputs": [],
   "source": [
    "# Check what capacity J1 corresponds to (in bbl/day) \n",
    "print(df_parameters[\"TreatmentCapacityIncrements\"][(\"MVC\", 'J1')])"
   ]
  },
  {
   "cell_type": "markdown",
   "metadata": {},
   "source": [
    "Let's examine the treatment operational cost data that was passed to the model:"
   ]
  },
  {
   "cell_type": "code",
   "execution_count": null,
   "metadata": {},
   "outputs": [],
   "source": [
    "# Display treatment operational cost data\n",
    "strategic_model.p_pi_Treatment.display()"
   ]
  },
  {
   "cell_type": "markdown",
   "metadata": {},
   "source": [
    "Note that the units of this parameter are k\\\\$/kbbl, whereas we'd like to specify a new value in \\\\$/bbl. In this case, k\\\\$/kbbl is equivalent to \\\\$/bbl, but there are other cases where parameters in the Pyomo model are built using units which are not necessarily the same as what the user might prefer to use. So, we show how to handle these kinds of unit conversions:"
   ]
  },
  {
   "cell_type": "code",
   "execution_count": null,
   "metadata": {},
   "outputs": [],
   "source": [
    "# Extract model units for OPEX, specify desired user units, and convert the\n",
    "# default value for MVC OPEX\n",
    "# Note that there are different definitions of barrel - the one we want is\n",
    "# equal to 42 gallons and is named \"oil_bbl\" in Pyomo\n",
    "opex_model_units = units.get_units(strategic_model.p_pi_Treatment)\n",
    "opex_user_units = units.USD/units.oil_bbl\n",
    "default_mvc_opex = units.convert_value(value(strategic_model.p_pi_Treatment['R01', 'MVC']),\n",
    "                                       from_units=opex_model_units,\n",
    "                                       to_units=opex_user_units\n",
    ")"
   ]
  },
  {
   "cell_type": "markdown",
   "metadata": {},
   "source": [
    "We are going to change the operational cost of MVC and examine the effect on the optimal solution. First, we save relevant values from the default solution:"
   ]
  },
  {
   "cell_type": "code",
   "execution_count": null,
   "metadata": {},
   "outputs": [],
   "source": [
    "# Before we change the MVC OPEX, save the default value, as well as the\n",
    "# optimal R01 technology and capacity and the optimal objective function value\n",
    "# Use lists so we can subsequently append other solutions to them\n",
    "mvc_opex_lst = [default_mvc_opex]\n",
    "tech_lst = [technology]\n",
    "cap_lst = [capacity]\n",
    "obj_fun_lst = [value(strategic_model.v_Z)]"
   ]
  },
  {
   "cell_type": "markdown",
   "metadata": {},
   "source": [
    "Next, we select the additional values of MVC OPEX for which we want to solve the model:"
   ]
  },
  {
   "cell_type": "code",
   "execution_count": null,
   "metadata": {},
   "outputs": [],
   "source": [
    "# Append new values for MVC OPEX\n",
    "# Don't include 0.5 - that is the default value and is already the first entry\n",
    "# of the list\n",
    "mvc_opex_lst.extend([0.4, 0.45, 0.55, 0.6, 0.65])  # user units: $/bbl"
   ]
  },
  {
   "cell_type": "markdown",
   "metadata": {},
   "source": [
    "Now, loop over all of these values for MVC OPEX, and solve the model with each one (WARNING: if you are not using Gurobi as your optimization solver, then the following cell will probably take a rather long time to execute):"
   ]
  },
  {
   "cell_type": "code",
   "execution_count": null,
   "metadata": {},
   "outputs": [],
   "source": [
    "# Loop over all of the speficied MVC OPEX values\n",
    "# Skip the first entry in mvc_opex_list, since that is the default value for\n",
    "# which we already solved the model\n",
    "for opex in mvc_opex_lst[1:]:\n",
    "    # Change the value of the parameter in the Pyomo model represeting MVC OPEX\n",
    "    opex_converted = units.convert_value(opex,\n",
    "                                         from_units=opex_user_units,\n",
    "                                         to_units=opex_model_units)\n",
    "    strategic_model.p_pi_Treatment[:, \"MVC\"] = opex_converted\n",
    "\n",
    "    # Re-solve the model and check feasibility of solution\n",
    "    results_dict = solve_and_check_feasibility(strategic_model)\n",
    "\n",
    "    # Extract results for optimal treatment buildout at R01\n",
    "    technology, capacity = get_R01_results(results_dict)\n",
    "\n",
    "    # Save the optimal values of R01 technology/capacity and objective function\n",
    "    # value\n",
    "    tech_lst.append(technology)\n",
    "    cap_lst.append(capacity)\n",
    "    obj_fun_lst.append(value(strategic_model.v_Z))"
   ]
  },
  {
   "cell_type": "markdown",
   "metadata": {},
   "source": [
    "The following block of code creates and displays a plot summarizing the results:"
   ]
  },
  {
   "cell_type": "code",
   "execution_count": null,
   "metadata": {},
   "outputs": [],
   "source": [
    "# Plot the results\n",
    "c = list(map(lambda x: {'MVC': 'blue', 'OARO': 'red', 'MD': 'green'}[x], tech_lst))\n",
    "s = list(map(lambda x: {'J1': 35, 'J2': 100, 'J3': 160}[x], cap_lst))\n",
    "fig, ax = plt.subplots()\n",
    "scatter = ax.scatter(mvc_opex_lst, obj_fun_lst, c=c, label=\"label\", s=s)\n",
    "ax.set_xlabel(\"MVC OPEX [$/bbl]\")\n",
    "ax.set_ylabel(\"Total cost [k$]\")\n",
    "leg1_elements = [Line2D([0], [0], marker='o', color='w', label='MVC',\n",
    "                        markerfacecolor='blue', markersize=8),\n",
    "                 Line2D([0], [0], marker='o', color='w', label='OARO',\n",
    "                        markerfacecolor='red', markersize=8),\n",
    "                 Line2D([0], [0], marker='o', color='w', label='MD',\n",
    "                        markerfacecolor='green', markersize=8)]\n",
    "\n",
    "leg2_elements = [Line2D([0], [0], marker='o', color='w', label='J1',\n",
    "                        markerfacecolor='gray', markersize=8),\n",
    "                 Line2D([0], [0], marker='o', color='w', label='J2',\n",
    "                        markerfacecolor='gray', markersize=12),\n",
    "                 Line2D([0], [0], marker='o', color='w', label='J3',\n",
    "                        markerfacecolor='gray', markersize=15)]\n",
    "leg1 = ax.legend(handles=leg1_elements, title=\"Technology\", loc='upper left')\n",
    "ax.add_artist(leg1)\n",
    "leg2 = ax.legend(handles=leg2_elements, title=\"Capacity\", loc='lower right')\n",
    "plt.show()"
   ]
  },
  {
   "cell_type": "markdown",
   "metadata": {},
   "source": [
    "We see that the optimizer always chooses to build treatment capacity at R01 corresponding to the `J1` index (the smallest nonzero value), but when MVC OPEX rises above ~$0.54/bbl, it is cheaper to build OARO instead."
   ]
  },
  {
   "attachments": {},
   "cell_type": "markdown",
   "metadata": {},
   "source": [
    "## <a id='widgets'></a>Model interaction\n",
    "Suppose we know a priori which treatment technology we want to be built at site R01. We can force the optimizer to select a given technology by adding an additional constraint to the Pyomo model. The following code adds three constraints to the model - one each to force MVC, MD, or OARO at R01 (note that at most one of these three constraints may be activated at any given time for the model to remain feasible):"
   ]
  },
  {
   "cell_type": "code",
   "execution_count": null,
   "metadata": {},
   "outputs": [],
   "source": [
    "# Create constraint rules to force each of the three respective desalination\n",
    "# technologies to be selected for RO1\n",
    "def ForceMvcRule(model):\n",
    "    return sum(model.vb_y_Treatment[\"R01\", \"MVC\", j] for j in model.s_J) == 1\n",
    "def ForceMdRule(model):\n",
    "    return sum(model.vb_y_Treatment[\"R01\", \"MD\", j] for j in model.s_J) == 1\n",
    "def ForceOaroRule(model):\n",
    "    return sum(model.vb_y_Treatment[\"R01\", \"OARO\", j] for j in model.s_J) == 1\n",
    "\n",
    "# Create the constraints\n",
    "if not hasattr(strategic_model, \"ForceMvcCon\"):\n",
    "    strategic_model.ForceMvcCon = Constraint(rule=ForceMvcRule, doc=\"Force R01 to select MVC\")\n",
    "if not hasattr(strategic_model, \"ForceMdCon\"):\n",
    "    strategic_model.ForceMdCon = Constraint(rule=ForceMdRule, doc=\"Force R01 to select MD\")\n",
    "if not hasattr(strategic_model, \"ForceOaroCon\"):\n",
    "    strategic_model.ForceOaroCon = Constraint(rule=ForceOaroRule, doc=\"Force R01 to select OARO\")\n",
    "\n",
    "# At most one of these constraints can be active at a time for the model to be\n",
    "# feasible; start with none of them activated\n",
    "strategic_model.ForceMvcCon.deactivate()\n",
    "strategic_model.ForceMdCon.deactivate()\n",
    "strategic_model.ForceOaroCon.deactivate()"
   ]
  },
  {
   "attachments": {},
   "cell_type": "markdown",
   "metadata": {},
   "source": [
    "NOTE: Adding additional constraints to the Pyomo model is currently not possible in PARETO's GUI interface. The ability to add and disable constraints in the model is a powerful feature of PARETO's Python interface, but it requires the user to know quite a bit about Pyomo and about the underlying structure of the strategic model.\n",
    "\n",
    "The `create_widgets` function called below creates a set of interactive widgets which allow the user to change the OPEX and CAPEX of all desalination technologies to arbitrary values. Have fun experimenting with various input values!"
   ]
  },
  {
   "cell_type": "code",
   "execution_count": null,
   "metadata": {},
   "outputs": [],
   "source": [
    "create_widgets(strategic_model)"
   ]
  },
  {
   "cell_type": "markdown",
   "metadata": {},
   "source": [
    "## Conclusion\n",
    "We hope this demonstration of the treatment module within PARETO's strategic model has been helpful and informative. If you have any questions, comments, or feedback for the PARETO team, please do not hesitate to [contact us](https://www.project-pareto.org/team/contact-us/)."
   ]
  }
 ],
 "metadata": {
  "kernelspec": {
   "display_name": "Python 3 (ipykernel)",
   "language": "python",
   "name": "python3"
  },
  "language_info": {
   "codemirror_mode": {
    "name": "ipython",
    "version": 3
   },
   "file_extension": ".py",
   "mimetype": "text/x-python",
   "name": "python",
   "nbconvert_exporter": "python",
   "pygments_lexer": "ipython3",
   "version": "3.8.15"
  },
  "widgets": {
   "application/vnd.jupyter.widget-state+json": {
    "state": {
     "007a10beb7ca4fb8b1edf9b883e64cde": {
      "model_module": "@jupyter-widgets/controls",
      "model_module_version": "2.0.0",
      "model_name": "ToggleButtonsStyleModel",
      "state": {
       "button_width": "",
       "description_width": ""
      }
     },
     "030c7fdd52f94dad868a4b5da96a5e58": {
      "model_module": "@jupyter-widgets/controls",
      "model_module_version": "2.0.0",
      "model_name": "ToggleButtonsStyleModel",
      "state": {
       "button_width": "",
       "description_width": ""
      }
     },
     "034282bd5b164099a66e917074df7daf": {
      "model_module": "@jupyter-widgets/controls",
      "model_module_version": "2.0.0",
      "model_name": "ButtonModel",
      "state": {
       "description": "RESET DEFAULT VALUES",
       "layout": "IPY_MODEL_8b8a6f5078a64b20b39312fbb91ed862",
       "style": "IPY_MODEL_8e63c69a7f17466d969ae77e4a45eb29",
       "tooltip": null
      }
     },
     "07f0d999e35d47a4911b4b9f7b8e01c5": {
      "model_module": "@jupyter-widgets/controls",
      "model_module_version": "2.0.0",
      "model_name": "ButtonModel",
      "state": {
       "button_style": "primary",
       "description": "MD",
       "layout": "IPY_MODEL_6b3a8ae233024b618cc3bc0434e57565",
       "style": "IPY_MODEL_d6b7715630754054a9e227be77b43b5c",
       "tooltip": null
      }
     },
     "0895ab50d62d42318ab8c5ee5759dd3b": {
      "model_module": "@jupyter-widgets/base",
      "model_module_version": "2.0.0",
      "model_name": "LayoutModel",
      "state": {
       "grid_area": "widget002"
      }
     },
     "0b95d518597a4641a5ed3dafc89e48a1": {
      "model_module": "@jupyter-widgets/base",
      "model_module_version": "2.0.0",
      "model_name": "LayoutModel",
      "state": {
       "grid_area": "widget003"
      }
     },
     "0f0a7e36b48c44f7bb4a29b3c40c9fef": {
      "model_module": "@jupyter-widgets/controls",
      "model_module_version": "2.0.0",
      "model_name": "FloatTextModel",
      "state": {
       "layout": "IPY_MODEL_478ddaba61bb4a1b91520e9b59a870d2",
       "step": null,
       "style": "IPY_MODEL_ac5c000e83f14163b08b14616ea6086e",
       "value": 1000
      }
     },
     "17902b15d9fd4e388e2ac5c54aa82b15": {
      "model_module": "@jupyter-widgets/controls",
      "model_module_version": "2.0.0",
      "model_name": "DescriptionStyleModel",
      "state": {
       "description_width": ""
      }
     },
     "17d273d4e5204427b02edef73f768ae5": {
      "model_module": "@jupyter-widgets/controls",
      "model_module_version": "2.0.0",
      "model_name": "GridBoxModel",
      "state": {
       "children": [
        "IPY_MODEL_f6cef56312de4d4da96533849ffbcf1b",
        "IPY_MODEL_07f0d999e35d47a4911b4b9f7b8e01c5",
        "IPY_MODEL_902638a0482f484fa85c5104f8514283",
        "IPY_MODEL_e9cfd6975d294b41be0a3ca8fc0316c4",
        "IPY_MODEL_9fa5c28771c245a49859fb8a47d7da7b",
        "IPY_MODEL_845bf412a2e24fbeabaf429f2ef4ddbf",
        "IPY_MODEL_4c074db1f0844db59142b4dca928ff1f",
        "IPY_MODEL_c43d0525770c4347b78e16d5257d185d",
        "IPY_MODEL_1d5a5282c9a643d7806b4014d46543e6",
        "IPY_MODEL_f57223944c97492484ac4b93b9d49f71",
        "IPY_MODEL_744e2639e47e46dd9bfe691d0328e971",
        "IPY_MODEL_99bb3fdadc8c4807840c5f2768876a5c",
        "IPY_MODEL_514e063fa91c4cddb8dd0611e42f1479",
        "IPY_MODEL_fb4d99b5edf8404ea7399a91e91eba22",
        "IPY_MODEL_034282bd5b164099a66e917074df7daf"
       ],
       "layout": "IPY_MODEL_44816af919ee4ccfad428b45f867540f"
      }
     },
     "19bbaf8b868d4bf08169d90f430fb411": {
      "model_module": "@jupyter-widgets/controls",
      "model_module_version": "2.0.0",
      "model_name": "ButtonStyleModel",
      "state": {
       "font_family": null,
       "font_size": null,
       "font_style": null,
       "font_variant": null,
       "font_weight": null,
       "text_color": null,
       "text_decoration": null
      }
     },
     "1d5a5282c9a643d7806b4014d46543e6": {
      "model_module": "@jupyter-widgets/controls",
      "model_module_version": "2.0.0",
      "model_name": "FloatTextModel",
      "state": {
       "layout": "IPY_MODEL_ba82cca3e02b40c7b4e0ef38a1941df4",
       "step": null,
       "style": "IPY_MODEL_71a67da336c84d67a23ea75c1cdb4787",
       "value": 1000
      }
     },
     "1e3bb2e412c64778816ce2bf124f6a28": {
      "model_module": "@jupyter-widgets/base",
      "model_module_version": "2.0.0",
      "model_name": "LayoutModel",
      "state": {
       "grid_area": "widget006",
       "width": "150px"
      }
     },
     "2525702c758c4b7b9c708044463721af": {
      "model_module": "@jupyter-widgets/base",
      "model_module_version": "2.0.0",
      "model_name": "LayoutModel",
      "state": {
       "grid_template_areas": "\". widget001 widget002 widget003\"\n\"widget004 widget006 widget007 widget008\"\n\"widget005 widget009 widget010 widget011\"\n\"widget012 widget012 widget012 widget012\"\n\". . . .\"\n\"widget013 widget013 widget013 widget013\"\n\"widget014 widget014 widget014 widget014\"\n\"widget015 widget015 widget015 widget015\"",
       "grid_template_columns": "repeat(4, 1fr)",
       "grid_template_rows": "repeat(8, 1fr)",
       "width": "615px"
      }
     },
     "2619dc4c7431423fa41ba51cddb3bd38": {
      "model_module": "@jupyter-widgets/base",
      "model_module_version": "2.0.0",
      "model_name": "LayoutModel",
      "state": {
       "grid_area": "widget005"
      }
     },
     "2b64ead7daaf4f9f8fc5027eb15bc615": {
      "model_module": "@jupyter-widgets/controls",
      "model_module_version": "2.0.0",
      "model_name": "ButtonStyleModel",
      "state": {
       "font_family": null,
       "font_size": null,
       "font_style": null,
       "font_variant": null,
       "font_weight": null,
       "text_color": null,
       "text_decoration": null
      }
     },
     "2b688eacace14b02874308f65e6badde": {
      "model_module": "@jupyter-widgets/base",
      "model_module_version": "2.0.0",
      "model_name": "LayoutModel",
      "state": {
       "grid_area": "widget006",
       "width": "150px"
      }
     },
     "2b8668e5c0c4497599c291bc9b4faa91": {
      "model_module": "@jupyter-widgets/controls",
      "model_module_version": "2.0.0",
      "model_name": "DescriptionStyleModel",
      "state": {
       "description_width": ""
      }
     },
     "2c6fd398e7c545cb99c513e61fdf71e2": {
      "model_module": "@jupyter-widgets/controls",
      "model_module_version": "2.0.0",
      "model_name": "ButtonModel",
      "state": {
       "description": "RESET DEFAULT VALUES",
       "layout": "IPY_MODEL_4479bdd84cf34cdfbe36b9cd44ea64d4",
       "style": "IPY_MODEL_2b64ead7daaf4f9f8fc5027eb15bc615",
       "tooltip": null
      }
     },
     "3448b7c380114d5faa7881ebc8b84ed7": {
      "model_module": "@jupyter-widgets/base",
      "model_module_version": "2.0.0",
      "model_name": "LayoutModel",
      "state": {
       "grid_area": "widget003"
      }
     },
     "34ae1950578e409b8326fd82c5e881cf": {
      "model_module": "@jupyter-widgets/base",
      "model_module_version": "2.0.0",
      "model_name": "LayoutModel",
      "state": {
       "grid_area": "widget012"
      }
     },
     "375b182804cd4921844d0aebb79bc9dc": {
      "model_module": "@jupyter-widgets/controls",
      "model_module_version": "2.0.0",
      "model_name": "FloatTextModel",
      "state": {
       "layout": "IPY_MODEL_fbee85f0c8744fef91fb9578872f6a5e",
       "step": null,
       "style": "IPY_MODEL_5b7a312fdd9c4da191ab0b21acd507b7",
       "value": 500
      }
     },
     "388152e3421740a383cd1961ade0aae7": {
      "model_module": "@jupyter-widgets/controls",
      "model_module_version": "2.0.0",
      "model_name": "FloatTextModel",
      "state": {
       "layout": "IPY_MODEL_47818aeac6c94b62a0f71bbb887e2609",
       "step": null,
       "style": "IPY_MODEL_3cd6946cfd5f419dbe898475723f0fff",
       "value": 1
      }
     },
     "38cedb67994041f49ff50ab3b64d560b": {
      "model_module": "@jupyter-widgets/controls",
      "model_module_version": "2.0.0",
      "model_name": "ButtonStyleModel",
      "state": {
       "font_family": null,
       "font_size": null,
       "font_style": null,
       "font_variant": null,
       "font_weight": null,
       "text_color": null,
       "text_decoration": null
      }
     },
     "3a66b221eef04ba6afd1603f2b913d08": {
      "model_module": "@jupyter-widgets/controls",
      "model_module_version": "2.0.0",
      "model_name": "DescriptionStyleModel",
      "state": {
       "description_width": ""
      }
     },
     "3cd6946cfd5f419dbe898475723f0fff": {
      "model_module": "@jupyter-widgets/controls",
      "model_module_version": "2.0.0",
      "model_name": "DescriptionStyleModel",
      "state": {
       "description_width": ""
      }
     },
     "3f80bfb787ee41dfa5f318a9d2140bce": {
      "model_module": "@jupyter-widgets/controls",
      "model_module_version": "2.0.0",
      "model_name": "DescriptionStyleModel",
      "state": {
       "description_width": ""
      }
     },
     "4479bdd84cf34cdfbe36b9cd44ea64d4": {
      "model_module": "@jupyter-widgets/base",
      "model_module_version": "2.0.0",
      "model_name": "LayoutModel",
      "state": {
       "grid_area": "widget015",
       "height": "auto",
       "width": "auto"
      }
     },
     "44816af919ee4ccfad428b45f867540f": {
      "model_module": "@jupyter-widgets/base",
      "model_module_version": "2.0.0",
      "model_name": "LayoutModel",
      "state": {
       "grid_template_areas": "\". widget001 widget002 widget003\"\n\"widget004 widget006 widget007 widget008\"\n\"widget005 widget009 widget010 widget011\"\n\"widget012 widget012 widget012 widget012\"\n\". . . .\"\n\"widget013 widget013 widget013 widget013\"\n\"widget014 widget014 widget014 widget014\"\n\"widget015 widget015 widget015 widget015\"",
       "grid_template_columns": "repeat(4, 1fr)",
       "grid_template_rows": "repeat(8, 1fr)",
       "width": "615px"
      }
     },
     "47818aeac6c94b62a0f71bbb887e2609": {
      "model_module": "@jupyter-widgets/base",
      "model_module_version": "2.0.0",
      "model_name": "LayoutModel",
      "state": {
       "grid_area": "widget007",
       "width": "150px"
      }
     },
     "478ddaba61bb4a1b91520e9b59a870d2": {
      "model_module": "@jupyter-widgets/base",
      "model_module_version": "2.0.0",
      "model_name": "LayoutModel",
      "state": {
       "grid_area": "widget009",
       "width": "150px"
      }
     },
     "4a24fb6da40a4c7d8e6d3eae583319a0": {
      "model_module": "@jupyter-widgets/controls",
      "model_module_version": "2.0.0",
      "model_name": "FloatTextModel",
      "state": {
       "layout": "IPY_MODEL_ccc3947b8505412a8e15e62799d688ee",
       "step": null,
       "style": "IPY_MODEL_3f80bfb787ee41dfa5f318a9d2140bce",
       "value": 0.7
      }
     },
     "4c074db1f0844db59142b4dca928ff1f": {
      "model_module": "@jupyter-widgets/controls",
      "model_module_version": "2.0.0",
      "model_name": "FloatTextModel",
      "state": {
       "layout": "IPY_MODEL_f6ea97a8de9d47519427012030052973",
       "step": null,
       "style": "IPY_MODEL_db92c85f6d764bba8f478a4e1f15083f",
       "value": 1
      }
     },
     "4f6868cdc40a45f49426404e42bc3626": {
      "model_module": "@jupyter-widgets/controls",
      "model_module_version": "2.0.0",
      "model_name": "ButtonModel",
      "state": {
       "description": "RUN OPTIMIZATION",
       "layout": "IPY_MODEL_5f148c4a0ffe4e5a820b469d65b55f70",
       "style": "IPY_MODEL_f92cd8d745e04f9d91850c3f3cd3303d",
       "tooltip": null
      }
     },
     "514e063fa91c4cddb8dd0611e42f1479": {
      "model_module": "@jupyter-widgets/controls",
      "model_module_version": "2.0.0",
      "model_name": "ButtonModel",
      "state": {
       "description": "APPLY VALUES TO MODEL",
       "layout": "IPY_MODEL_620a766a528947d1880a53d8a950147c",
       "style": "IPY_MODEL_b6b0dd265ba242099667d8be2df4a131",
       "tooltip": null
      }
     },
     "51981e6d4c2f42a1bda07db415d6a703": {
      "model_module": "@jupyter-widgets/controls",
      "model_module_version": "2.0.0",
      "model_name": "ButtonStyleModel",
      "state": {
       "font_family": null,
       "font_size": null,
       "font_style": null,
       "font_variant": null,
       "font_weight": null,
       "text_color": null,
       "text_decoration": null
      }
     },
     "568eb1f404684dd2869875fafb9b43ec": {
      "model_module": "@jupyter-widgets/controls",
      "model_module_version": "2.0.0",
      "model_name": "ToggleButtonsModel",
      "state": {
       "_options_labels": [
        "No",
        "MVC",
        "MD",
        "OARO"
       ],
       "button_style": "",
       "description": "Choose desalination technology for R01?",
       "icons": [],
       "index": 0,
       "layout": "IPY_MODEL_34ae1950578e409b8326fd82c5e881cf",
       "style": "IPY_MODEL_007a10beb7ca4fb8b1edf9b883e64cde",
       "tooltips": []
      }
     },
     "585bf2e127254ee8a9c6fbb381a53f58": {
      "model_module": "@jupyter-widgets/controls",
      "model_module_version": "2.0.0",
      "model_name": "ButtonStyleModel",
      "state": {
       "font_family": null,
       "font_size": null,
       "font_style": null,
       "font_variant": null,
       "font_weight": null,
       "text_color": null,
       "text_decoration": null
      }
     },
     "5b7a312fdd9c4da191ab0b21acd507b7": {
      "model_module": "@jupyter-widgets/controls",
      "model_module_version": "2.0.0",
      "model_name": "DescriptionStyleModel",
      "state": {
       "description_width": ""
      }
     },
     "5f148c4a0ffe4e5a820b469d65b55f70": {
      "model_module": "@jupyter-widgets/base",
      "model_module_version": "2.0.0",
      "model_name": "LayoutModel",
      "state": {
       "grid_area": "widget014",
       "height": "auto",
       "width": "auto"
      }
     },
     "5f1d1d2b35c343faad4e324d0199fc0a": {
      "model_module": "@jupyter-widgets/base",
      "model_module_version": "2.0.0",
      "model_name": "LayoutModel",
      "state": {
       "grid_area": "widget011",
       "width": "150px"
      }
     },
     "620a766a528947d1880a53d8a950147c": {
      "model_module": "@jupyter-widgets/base",
      "model_module_version": "2.0.0",
      "model_name": "LayoutModel",
      "state": {
       "grid_area": "widget013",
       "height": "auto",
       "width": "auto"
      }
     },
     "660db7eab5324fecac6c2ce54be12f43": {
      "model_module": "@jupyter-widgets/controls",
      "model_module_version": "2.0.0",
      "model_name": "ButtonModel",
      "state": {
       "button_style": "primary",
       "description": "MVC",
       "layout": "IPY_MODEL_98b81afe3e7148ef8919822571186e5f",
       "style": "IPY_MODEL_dc67aa8a3c6d437f8eb35ab6a4286c9b",
       "tooltip": null
      }
     },
     "6b3a8ae233024b618cc3bc0434e57565": {
      "model_module": "@jupyter-widgets/base",
      "model_module_version": "2.0.0",
      "model_name": "LayoutModel",
      "state": {
       "grid_area": "widget002"
      }
     },
     "6cec71305a274fcfadb87a1ac8fe3d97": {
      "model_module": "@jupyter-widgets/controls",
      "model_module_version": "2.0.0",
      "model_name": "ButtonStyleModel",
      "state": {
       "font_family": null,
       "font_size": null,
       "font_style": null,
       "font_variant": null,
       "font_weight": null,
       "text_color": null,
       "text_decoration": null
      }
     },
     "6e18e79708a94dc38baa58a98d2f25eb": {
      "model_module": "@jupyter-widgets/base",
      "model_module_version": "2.0.0",
      "model_name": "LayoutModel",
      "state": {
       "grid_area": "widget014",
       "height": "auto",
       "width": "auto"
      }
     },
     "6e56e14e2eb4465ea4db51546205d7b9": {
      "model_module": "@jupyter-widgets/controls",
      "model_module_version": "2.0.0",
      "model_name": "ButtonModel",
      "state": {
       "description": "APPLY VALUES TO MODEL",
       "layout": "IPY_MODEL_eff40f7ff2a34f0b9476073cde77d661",
       "style": "IPY_MODEL_d737224cc6d147f5ae6707425cb2161e",
       "tooltip": null
      }
     },
     "71a67da336c84d67a23ea75c1cdb4787": {
      "model_module": "@jupyter-widgets/controls",
      "model_module_version": "2.0.0",
      "model_name": "DescriptionStyleModel",
      "state": {
       "description_width": ""
      }
     },
     "744e2639e47e46dd9bfe691d0328e971": {
      "model_module": "@jupyter-widgets/controls",
      "model_module_version": "2.0.0",
      "model_name": "FloatTextModel",
      "state": {
       "layout": "IPY_MODEL_a2ed4c43eb7e4bdc942a6b09df50de33",
       "step": null,
       "style": "IPY_MODEL_3a66b221eef04ba6afd1603f2b913d08",
       "value": 800
      }
     },
     "7bfdd723d29c4f72983a846c2b8c4faa": {
      "model_module": "@jupyter-widgets/base",
      "model_module_version": "2.0.0",
      "model_name": "LayoutModel",
      "state": {
       "grid_area": "widget010",
       "width": "150px"
      }
     },
     "7c8ff97c43cb4ee0b9181970fbbd2c7e": {
      "model_module": "@jupyter-widgets/controls",
      "model_module_version": "2.0.0",
      "model_name": "ButtonStyleModel",
      "state": {
       "font_family": null,
       "font_size": null,
       "font_style": null,
       "font_variant": null,
       "font_weight": null,
       "text_color": null,
       "text_decoration": null
      }
     },
     "845bf412a2e24fbeabaf429f2ef4ddbf": {
      "model_module": "@jupyter-widgets/controls",
      "model_module_version": "2.0.0",
      "model_name": "FloatTextModel",
      "state": {
       "layout": "IPY_MODEL_1e3bb2e412c64778816ce2bf124f6a28",
       "step": null,
       "style": "IPY_MODEL_2b8668e5c0c4497599c291bc9b4faa91",
       "value": 0.5
      }
     },
     "8586227c07e344bea2e3584cb6122724": {
      "model_module": "@jupyter-widgets/controls",
      "model_module_version": "2.0.0",
      "model_name": "ButtonModel",
      "state": {
       "button_style": "primary",
       "description": "OPEX [$/bbl]",
       "layout": "IPY_MODEL_937c6772935642e5ba6e8582afe9dc21",
       "style": "IPY_MODEL_38cedb67994041f49ff50ab3b64d560b",
       "tooltip": null
      }
     },
     "8b8a6f5078a64b20b39312fbb91ed862": {
      "model_module": "@jupyter-widgets/base",
      "model_module_version": "2.0.0",
      "model_name": "LayoutModel",
      "state": {
       "grid_area": "widget015",
       "height": "auto",
       "width": "auto"
      }
     },
     "8e61da0fd5244c6ebfdbae9cce234373": {
      "model_module": "@jupyter-widgets/base",
      "model_module_version": "2.0.0",
      "model_name": "LayoutModel",
      "state": {
       "grid_area": "widget004"
      }
     },
     "8e63c69a7f17466d969ae77e4a45eb29": {
      "model_module": "@jupyter-widgets/controls",
      "model_module_version": "2.0.0",
      "model_name": "ButtonStyleModel",
      "state": {
       "font_family": null,
       "font_size": null,
       "font_style": null,
       "font_variant": null,
       "font_weight": null,
       "text_color": null,
       "text_decoration": null
      }
     },
     "902638a0482f484fa85c5104f8514283": {
      "model_module": "@jupyter-widgets/controls",
      "model_module_version": "2.0.0",
      "model_name": "ButtonModel",
      "state": {
       "button_style": "primary",
       "description": "OARO",
       "layout": "IPY_MODEL_3448b7c380114d5faa7881ebc8b84ed7",
       "style": "IPY_MODEL_19bbaf8b868d4bf08169d90f430fb411",
       "tooltip": null
      }
     },
     "937c6772935642e5ba6e8582afe9dc21": {
      "model_module": "@jupyter-widgets/base",
      "model_module_version": "2.0.0",
      "model_name": "LayoutModel",
      "state": {
       "grid_area": "widget004"
      }
     },
     "98b81afe3e7148ef8919822571186e5f": {
      "model_module": "@jupyter-widgets/base",
      "model_module_version": "2.0.0",
      "model_name": "LayoutModel",
      "state": {
       "grid_area": "widget001"
      }
     },
     "99bb3fdadc8c4807840c5f2768876a5c": {
      "model_module": "@jupyter-widgets/controls",
      "model_module_version": "2.0.0",
      "model_name": "ToggleButtonsModel",
      "state": {
       "_options_labels": [
        "No",
        "MVC",
        "MD",
        "OARO"
       ],
       "button_style": "",
       "description": "Choose desalination technology for R01?",
       "icons": [],
       "index": 2,
       "layout": "IPY_MODEL_a2bd6d1dc62248cda926f360c2e45817",
       "style": "IPY_MODEL_030c7fdd52f94dad868a4b5da96a5e58",
       "tooltips": []
      }
     },
     "9fa5c28771c245a49859fb8a47d7da7b": {
      "model_module": "@jupyter-widgets/controls",
      "model_module_version": "2.0.0",
      "model_name": "ButtonModel",
      "state": {
       "button_style": "primary",
       "description": "CAPEX [$/(bbl/day)]",
       "layout": "IPY_MODEL_2619dc4c7431423fa41ba51cddb3bd38",
       "style": "IPY_MODEL_ddc781ea803349f79ca4f7cb74fdde40",
       "tooltip": null
      }
     },
     "a2b7f07bc9744ad490252acd5fe02f1a": {
      "model_module": "@jupyter-widgets/controls",
      "model_module_version": "2.0.0",
      "model_name": "ButtonModel",
      "state": {
       "button_style": "primary",
       "description": "OARO",
       "layout": "IPY_MODEL_0b95d518597a4641a5ed3dafc89e48a1",
       "style": "IPY_MODEL_6cec71305a274fcfadb87a1ac8fe3d97",
       "tooltip": null
      }
     },
     "a2bd6d1dc62248cda926f360c2e45817": {
      "model_module": "@jupyter-widgets/base",
      "model_module_version": "2.0.0",
      "model_name": "LayoutModel",
      "state": {
       "grid_area": "widget012"
      }
     },
     "a2ed4c43eb7e4bdc942a6b09df50de33": {
      "model_module": "@jupyter-widgets/base",
      "model_module_version": "2.0.0",
      "model_name": "LayoutModel",
      "state": {
       "grid_area": "widget011",
       "width": "150px"
      }
     },
     "a91dc0ad196444dd8deb5c1fe3d32d28": {
      "model_module": "@jupyter-widgets/controls",
      "model_module_version": "2.0.0",
      "model_name": "ButtonModel",
      "state": {
       "button_style": "primary",
       "description": "CAPEX [$/(bbl/day)]",
       "layout": "IPY_MODEL_bc08fd87394747418f4fb0a3502d0833",
       "style": "IPY_MODEL_585bf2e127254ee8a9c6fbb381a53f58",
       "tooltip": null
      }
     },
     "ac5c000e83f14163b08b14616ea6086e": {
      "model_module": "@jupyter-widgets/controls",
      "model_module_version": "2.0.0",
      "model_name": "DescriptionStyleModel",
      "state": {
       "description_width": ""
      }
     },
     "af65d99673d547179b3b139782f799d3": {
      "model_module": "@jupyter-widgets/controls",
      "model_module_version": "2.0.0",
      "model_name": "FloatTextModel",
      "state": {
       "layout": "IPY_MODEL_5f1d1d2b35c343faad4e324d0199fc0a",
       "step": null,
       "style": "IPY_MODEL_d594196b5f4745b885835d941129879b",
       "value": 800
      }
     },
     "aff15f3951584eb28f4a42adb3b97d17": {
      "model_module": "@jupyter-widgets/controls",
      "model_module_version": "2.0.0",
      "model_name": "ButtonModel",
      "state": {
       "button_style": "primary",
       "description": "MD",
       "layout": "IPY_MODEL_0895ab50d62d42318ab8c5ee5759dd3b",
       "style": "IPY_MODEL_b718aa4e43b14781b26b56985d74216e",
       "tooltip": null
      }
     },
     "b6b0dd265ba242099667d8be2df4a131": {
      "model_module": "@jupyter-widgets/controls",
      "model_module_version": "2.0.0",
      "model_name": "ButtonStyleModel",
      "state": {
       "font_family": null,
       "font_size": null,
       "font_style": null,
       "font_variant": null,
       "font_weight": null,
       "text_color": null,
       "text_decoration": null
      }
     },
     "b718aa4e43b14781b26b56985d74216e": {
      "model_module": "@jupyter-widgets/controls",
      "model_module_version": "2.0.0",
      "model_name": "ButtonStyleModel",
      "state": {
       "font_family": null,
       "font_size": null,
       "font_style": null,
       "font_variant": null,
       "font_weight": null,
       "text_color": null,
       "text_decoration": null
      }
     },
     "ba82cca3e02b40c7b4e0ef38a1941df4": {
      "model_module": "@jupyter-widgets/base",
      "model_module_version": "2.0.0",
      "model_name": "LayoutModel",
      "state": {
       "grid_area": "widget009",
       "width": "150px"
      }
     },
     "bc08fd87394747418f4fb0a3502d0833": {
      "model_module": "@jupyter-widgets/base",
      "model_module_version": "2.0.0",
      "model_name": "LayoutModel",
      "state": {
       "grid_area": "widget005"
      }
     },
     "be15bb838bb64ef192a3054e6d2ff8fc": {
      "model_module": "@jupyter-widgets/controls",
      "model_module_version": "2.0.0",
      "model_name": "ButtonStyleModel",
      "state": {
       "font_family": null,
       "font_size": null,
       "font_style": null,
       "font_variant": null,
       "font_weight": null,
       "text_color": null,
       "text_decoration": null
      }
     },
     "c0c7c0d052614994bd937219cb764b52": {
      "model_module": "@jupyter-widgets/base",
      "model_module_version": "2.0.0",
      "model_name": "LayoutModel",
      "state": {
       "grid_area": "widget001"
      }
     },
     "c43d0525770c4347b78e16d5257d185d": {
      "model_module": "@jupyter-widgets/controls",
      "model_module_version": "2.0.0",
      "model_name": "FloatTextModel",
      "state": {
       "layout": "IPY_MODEL_eeaf48695db6421faeea4eea3e9d6bb6",
       "step": null,
       "style": "IPY_MODEL_f37995cdb7154b1e8ebb898368aae24a",
       "value": 0.7
      }
     },
     "ccc3947b8505412a8e15e62799d688ee": {
      "model_module": "@jupyter-widgets/base",
      "model_module_version": "2.0.0",
      "model_name": "LayoutModel",
      "state": {
       "grid_area": "widget008",
       "width": "150px"
      }
     },
     "cf81b393c43e4488afb992ac4d965f55": {
      "model_module": "@jupyter-widgets/controls",
      "model_module_version": "2.0.0",
      "model_name": "GridBoxModel",
      "state": {
       "children": [
        "IPY_MODEL_660db7eab5324fecac6c2ce54be12f43",
        "IPY_MODEL_aff15f3951584eb28f4a42adb3b97d17",
        "IPY_MODEL_a2b7f07bc9744ad490252acd5fe02f1a",
        "IPY_MODEL_8586227c07e344bea2e3584cb6122724",
        "IPY_MODEL_a91dc0ad196444dd8deb5c1fe3d32d28",
        "IPY_MODEL_daf7ccfc293a4cb4a806b81e5655677f",
        "IPY_MODEL_388152e3421740a383cd1961ade0aae7",
        "IPY_MODEL_4a24fb6da40a4c7d8e6d3eae583319a0",
        "IPY_MODEL_0f0a7e36b48c44f7bb4a29b3c40c9fef",
        "IPY_MODEL_375b182804cd4921844d0aebb79bc9dc",
        "IPY_MODEL_af65d99673d547179b3b139782f799d3",
        "IPY_MODEL_568eb1f404684dd2869875fafb9b43ec",
        "IPY_MODEL_6e56e14e2eb4465ea4db51546205d7b9",
        "IPY_MODEL_4f6868cdc40a45f49426404e42bc3626",
        "IPY_MODEL_2c6fd398e7c545cb99c513e61fdf71e2"
       ],
       "layout": "IPY_MODEL_2525702c758c4b7b9c708044463721af"
      }
     },
     "d594196b5f4745b885835d941129879b": {
      "model_module": "@jupyter-widgets/controls",
      "model_module_version": "2.0.0",
      "model_name": "DescriptionStyleModel",
      "state": {
       "description_width": ""
      }
     },
     "d6b7715630754054a9e227be77b43b5c": {
      "model_module": "@jupyter-widgets/controls",
      "model_module_version": "2.0.0",
      "model_name": "ButtonStyleModel",
      "state": {
       "font_family": null,
       "font_size": null,
       "font_style": null,
       "font_variant": null,
       "font_weight": null,
       "text_color": null,
       "text_decoration": null
      }
     },
     "d737224cc6d147f5ae6707425cb2161e": {
      "model_module": "@jupyter-widgets/controls",
      "model_module_version": "2.0.0",
      "model_name": "ButtonStyleModel",
      "state": {
       "font_family": null,
       "font_size": null,
       "font_style": null,
       "font_variant": null,
       "font_weight": null,
       "text_color": null,
       "text_decoration": null
      }
     },
     "daf7ccfc293a4cb4a806b81e5655677f": {
      "model_module": "@jupyter-widgets/controls",
      "model_module_version": "2.0.0",
      "model_name": "FloatTextModel",
      "state": {
       "layout": "IPY_MODEL_2b688eacace14b02874308f65e6badde",
       "step": null,
       "style": "IPY_MODEL_dd0a8c6c46c5461282527014e4765785",
       "value": 0.5
      }
     },
     "db92c85f6d764bba8f478a4e1f15083f": {
      "model_module": "@jupyter-widgets/controls",
      "model_module_version": "2.0.0",
      "model_name": "DescriptionStyleModel",
      "state": {
       "description_width": ""
      }
     },
     "dc67aa8a3c6d437f8eb35ab6a4286c9b": {
      "model_module": "@jupyter-widgets/controls",
      "model_module_version": "2.0.0",
      "model_name": "ButtonStyleModel",
      "state": {
       "font_family": null,
       "font_size": null,
       "font_style": null,
       "font_variant": null,
       "font_weight": null,
       "text_color": null,
       "text_decoration": null
      }
     },
     "dd0a8c6c46c5461282527014e4765785": {
      "model_module": "@jupyter-widgets/controls",
      "model_module_version": "2.0.0",
      "model_name": "DescriptionStyleModel",
      "state": {
       "description_width": ""
      }
     },
     "ddc781ea803349f79ca4f7cb74fdde40": {
      "model_module": "@jupyter-widgets/controls",
      "model_module_version": "2.0.0",
      "model_name": "ButtonStyleModel",
      "state": {
       "font_family": null,
       "font_size": null,
       "font_style": null,
       "font_variant": null,
       "font_weight": null,
       "text_color": null,
       "text_decoration": null
      }
     },
     "e9cfd6975d294b41be0a3ca8fc0316c4": {
      "model_module": "@jupyter-widgets/controls",
      "model_module_version": "2.0.0",
      "model_name": "ButtonModel",
      "state": {
       "button_style": "primary",
       "description": "OPEX [$/bbl]",
       "layout": "IPY_MODEL_8e61da0fd5244c6ebfdbae9cce234373",
       "style": "IPY_MODEL_be15bb838bb64ef192a3054e6d2ff8fc",
       "tooltip": null
      }
     },
     "eeaf48695db6421faeea4eea3e9d6bb6": {
      "model_module": "@jupyter-widgets/base",
      "model_module_version": "2.0.0",
      "model_name": "LayoutModel",
      "state": {
       "grid_area": "widget008",
       "width": "150px"
      }
     },
     "eff40f7ff2a34f0b9476073cde77d661": {
      "model_module": "@jupyter-widgets/base",
      "model_module_version": "2.0.0",
      "model_name": "LayoutModel",
      "state": {
       "grid_area": "widget013",
       "height": "auto",
       "width": "auto"
      }
     },
     "f37995cdb7154b1e8ebb898368aae24a": {
      "model_module": "@jupyter-widgets/controls",
      "model_module_version": "2.0.0",
      "model_name": "DescriptionStyleModel",
      "state": {
       "description_width": ""
      }
     },
     "f57223944c97492484ac4b93b9d49f71": {
      "model_module": "@jupyter-widgets/controls",
      "model_module_version": "2.0.0",
      "model_name": "FloatTextModel",
      "state": {
       "layout": "IPY_MODEL_7bfdd723d29c4f72983a846c2b8c4faa",
       "step": null,
       "style": "IPY_MODEL_17902b15d9fd4e388e2ac5c54aa82b15",
       "value": 500
      }
     },
     "f6cef56312de4d4da96533849ffbcf1b": {
      "model_module": "@jupyter-widgets/controls",
      "model_module_version": "2.0.0",
      "model_name": "ButtonModel",
      "state": {
       "button_style": "primary",
       "description": "MVC",
       "layout": "IPY_MODEL_c0c7c0d052614994bd937219cb764b52",
       "style": "IPY_MODEL_51981e6d4c2f42a1bda07db415d6a703",
       "tooltip": null
      }
     },
     "f6ea97a8de9d47519427012030052973": {
      "model_module": "@jupyter-widgets/base",
      "model_module_version": "2.0.0",
      "model_name": "LayoutModel",
      "state": {
       "grid_area": "widget007",
       "width": "150px"
      }
     },
     "f92cd8d745e04f9d91850c3f3cd3303d": {
      "model_module": "@jupyter-widgets/controls",
      "model_module_version": "2.0.0",
      "model_name": "ButtonStyleModel",
      "state": {
       "font_family": null,
       "font_size": null,
       "font_style": null,
       "font_variant": null,
       "font_weight": null,
       "text_color": null,
       "text_decoration": null
      }
     },
     "fb4d99b5edf8404ea7399a91e91eba22": {
      "model_module": "@jupyter-widgets/controls",
      "model_module_version": "2.0.0",
      "model_name": "ButtonModel",
      "state": {
       "description": "RUN OPTIMIZATION",
       "layout": "IPY_MODEL_6e18e79708a94dc38baa58a98d2f25eb",
       "style": "IPY_MODEL_7c8ff97c43cb4ee0b9181970fbbd2c7e",
       "tooltip": null
      }
     },
     "fbee85f0c8744fef91fb9578872f6a5e": {
      "model_module": "@jupyter-widgets/base",
      "model_module_version": "2.0.0",
      "model_name": "LayoutModel",
      "state": {
       "grid_area": "widget010",
       "width": "150px"
      }
     }
    },
    "version_major": 2,
    "version_minor": 0
   }
  }
 },
 "nbformat": 4,
 "nbformat_minor": 2
}
